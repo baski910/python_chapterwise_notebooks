{
 "cells": [
  {
   "cell_type": "code",
   "execution_count": 4,
   "metadata": {},
   "outputs": [
    {
     "name": "stdout",
     "output_type": "stream",
     "text": [
      "The temperature at Chennai is 28.87 celsius\n",
      "The temperature at Mumbai is 29.99 celsius\n",
      "The temperature at Bangalore is 27.80 celsius\n",
      "The temperature at Delhi is 33.05 celsius\n"
     ]
    }
   ],
   "source": [
    "# openweathermap.org\n",
    "# account - api key\n",
    "# rest end point to collection weather information of given city - https://api.openweathermap.org/data/2.5/weather?q={}&appid={}\".format(city_name,APIKEY)\n",
    "fh = open('api_key','r')\n",
    "APIKEY=fh.readline().strip() # replace API_KEY with your own api key\n",
    "fh.close()\n",
    "import requests\n",
    "import json\n",
    "#city_name=input(\"Enter your cityname\")\n",
    "#APIKEY=''\n",
    "cities = ['Chennai','Mumbai','Bangalore','Delhi']\n",
    "def getTemperature(city_name):\n",
    "    r = requests.get(\"https://api.openweathermap.org/data/2.5/weather?q={}&appid={}\".format(city_name,APIKEY))\n",
    "    #r = requests.get(\"https://api.openweathermap.org/data/2.5/weather?q=Chennai&appid=0d82c47a56a20ee1ea11d9d6fa1b2ff2)\n",
    "    if r.status_code==200:\n",
    "        d1 = json.loads(r.text) # r.text - text value returned from rest end point\n",
    "        #print(d1)\n",
    "        city_temp = d1.get('main').get('temp')-273.15\n",
    "        print(\"The temperature at %s is %.2f celsius\" %(city_name,city_temp))\n",
    "    else:\n",
    "        print(\"problem in getting weather information\")\n",
    "for city in cities:\n",
    "    getTemperature(city)"
   ]
  },
  {
   "cell_type": "code",
   "execution_count": null,
   "metadata": {},
   "outputs": [],
   "source": [
    "import threading\n",
    "import requests\n",
    "import json\n",
    "import time\n",
    "\n",
    "fh = open('api_key','r')\n",
    "\n",
    "APIKEY=fh.readline().strip()\n",
    "\n",
    "fh.close()\n",
    "\n",
    "\n",
    "def get_temperature(city_name,n):\n",
    "    r = requests.get(\"https://api.openweathermap.org/data/2.5/weather?q={}&appid={}\".format(city_name,APIKEY))\n",
    "    time.sleep(2)\n",
    "    if r.status_code==200:\n",
    "        d1 = json.loads(r.text)\n",
    "        #print(d1)\n",
    "        city_temp = d1.get('main').get('temp')-273.15\n",
    "        print(\"The temperature at %s is %.2f celsius\" %(city_name,city_temp))\n",
    "    else:\n",
    "        print(\"problem in getting weather information\")\n",
    "    \n",
    "    \n",
    "cities=['bangalore','mumbai','chennai']\n",
    "\n",
    "for i in range(len(cities)):\n",
    "    t1 = threading.Thread(target=get_temperature,args=(cities[i],i+2))\n",
    "    t1.start()"
   ]
  },
  {
   "cell_type": "code",
   "execution_count": null,
   "metadata": {},
   "outputs": [],
   "source": []
  }
 ],
 "metadata": {
  "kernelspec": {
   "display_name": "Python 3 (ipykernel)",
   "language": "python",
   "name": "python3"
  },
  "language_info": {
   "codemirror_mode": {
    "name": "ipython",
    "version": 3
   },
   "file_extension": ".py",
   "mimetype": "text/x-python",
   "name": "python",
   "nbconvert_exporter": "python",
   "pygments_lexer": "ipython3",
   "version": "3.10.12"
  }
 },
 "nbformat": 4,
 "nbformat_minor": 4
}
