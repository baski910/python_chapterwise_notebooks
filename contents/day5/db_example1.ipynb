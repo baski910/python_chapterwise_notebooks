{
 "cells": [
  {
   "cell_type": "code",
   "execution_count": 4,
   "id": "b0114a88-eb9b-4fb9-a68a-efb4eb1b0932",
   "metadata": {},
   "outputs": [
    {
     "name": "stdout",
     "output_type": "stream",
     "text": [
      "Collecting pymysql\n",
      "  Downloading PyMySQL-1.1.1-py3-none-any.whl.metadata (4.4 kB)\n",
      "Downloading PyMySQL-1.1.1-py3-none-any.whl (44 kB)\n",
      "Installing collected packages: pymysql\n",
      "Successfully installed pymysql-1.1.1\n",
      "Note: you may need to restart the kernel to use updated packages.\n"
     ]
    },
    {
     "name": "stderr",
     "output_type": "stream",
     "text": [
      "\n",
      "[notice] A new release of pip is available: 24.2 -> 24.3.1\n",
      "[notice] To update, run: python.exe -m pip install --upgrade pip\n"
     ]
    }
   ],
   "source": [
    "pip install pymysql"
   ]
  },
  {
   "cell_type": "code",
   "execution_count": 1,
   "id": "175b7e9b-dbf7-4d7c-9644-8db9cfdd4cdd",
   "metadata": {},
   "outputs": [],
   "source": [
    "import pymysql\n",
    "\n",
    "conn = pymysql.connect(host='localhost',user='root',password='Rps@123',db='demodb_1')"
   ]
  },
  {
   "cell_type": "code",
   "execution_count": 2,
   "id": "6d73e0b2-016d-4c9c-87ca-6739696460b8",
   "metadata": {},
   "outputs": [
    {
     "name": "stdout",
     "output_type": "stream",
     "text": [
      "record created\n"
     ]
    }
   ],
   "source": [
    "import sys\n",
    "if not conn:\n",
    "    sys.exit()\n",
    "cur = conn.cursor() # create a cursor\n",
    "# psycopg2\n",
    "# oracle_ca\n",
    "try:\n",
    "    #cur.execute(\"create table books(bookid int,booktitle varchar(50))\")\n",
    "    cur.execute(\"insert into books values(1,'programming in python')\")\n",
    "    conn.commit()\n",
    "except pymysql.Error:\n",
    "    print(\"error creating table\")\n",
    "else:\n",
    "    print(\"record created\")\n",
    "finally:\n",
    "    conn.close()"
   ]
  },
  {
   "cell_type": "code",
   "execution_count": null,
   "id": "533517c0-9494-4e18-b247-69b4f80ceb78",
   "metadata": {},
   "outputs": [],
   "source": []
  }
 ],
 "metadata": {
  "kernelspec": {
   "display_name": "Python 3 (ipykernel)",
   "language": "python",
   "name": "python3"
  },
  "language_info": {
   "codemirror_mode": {
    "name": "ipython",
    "version": 3
   },
   "file_extension": ".py",
   "mimetype": "text/x-python",
   "name": "python",
   "nbconvert_exporter": "python",
   "pygments_lexer": "ipython3",
   "version": "3.13.0"
  }
 },
 "nbformat": 4,
 "nbformat_minor": 5
}
