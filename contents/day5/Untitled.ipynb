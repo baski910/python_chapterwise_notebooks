{
 "cells": [
  {
   "cell_type": "code",
   "execution_count": 1,
   "id": "ab6ccdaa-481d-42a8-9c6b-017b4e1fc8d2",
   "metadata": {},
   "outputs": [
    {
     "name": "stdout",
     "output_type": "stream",
     "text": [
      "Unexpected exception formatting exception. Falling back to standard exception\n"
     ]
    },
    {
     "name": "stderr",
     "output_type": "stream",
     "text": [
      "Traceback (most recent call last):\n",
      "  File \"C:\\Program Files\\Python313\\Lib\\site-packages\\IPython\\core\\interactiveshell.py\", line 3577, in run_code\n",
      "  File \"C:\\Users\\Administrator\\AppData\\Local\\Temp\\ipykernel_5728\\3811857978.py\", line 3, in <module>\n",
      "    file_descriptors.append(open(f'test{x}.txt', 'w'))\n",
      "                            ~~~~^^^^^^^^^^^^^^^^^^^^^\n",
      "  File \"C:\\Program Files\\Python313\\Lib\\site-packages\\IPython\\core\\interactiveshell.py\", line 324, in _modified_open\n",
      "OSError: [Errno 24] Too many open files: 'test8189.txt'\n",
      "\n",
      "During handling of the above exception, another exception occurred:\n",
      "\n",
      "Traceback (most recent call last):\n",
      "  File \"C:\\Program Files\\Python313\\Lib\\site-packages\\IPython\\core\\interactiveshell.py\", line 2168, in showtraceback\n",
      "  File \"C:\\Program Files\\Python313\\Lib\\site-packages\\IPython\\core\\ultratb.py\", line 1457, in structured_traceback\n",
      "  File \"C:\\Program Files\\Python313\\Lib\\site-packages\\IPython\\core\\ultratb.py\", line 1348, in structured_traceback\n",
      "  File \"C:\\Program Files\\Python313\\Lib\\site-packages\\IPython\\core\\ultratb.py\", line 1195, in structured_traceback\n",
      "  File \"C:\\Program Files\\Python313\\Lib\\site-packages\\IPython\\core\\ultratb.py\", line 1085, in format_exception_as_a_whole\n",
      "  File \"C:\\Program Files\\Python313\\Lib\\site-packages\\IPython\\core\\ultratb.py\", line 1136, in get_records\n",
      "  File \"C:\\Program Files\\Python313\\Lib\\site-packages\\pygments\\styles\\__init__.py\", line 45, in get_style_by_name\n",
      "  File \"<frozen importlib._bootstrap>\", line 1360, in _find_and_load\n",
      "  File \"<frozen importlib._bootstrap>\", line 1331, in _find_and_load_unlocked\n",
      "  File \"<frozen importlib._bootstrap>\", line 935, in _load_unlocked\n",
      "  File \"<frozen importlib._bootstrap_external>\", line 1018, in exec_module\n",
      "  File \"<frozen importlib._bootstrap_external>\", line 1155, in get_code\n",
      "  File \"<frozen importlib._bootstrap_external>\", line 1213, in get_data\n",
      "OSError: [Errno 24] Too many open files: 'C:\\\\Program Files\\\\Python313\\\\Lib\\\\site-packages\\\\pygments\\\\styles\\\\default.py'\n"
     ]
    }
   ],
   "source": [
    "file_descriptors = []\n",
    "for x in range(10000):\n",
    "    file_descriptors.append(open(f'test{x}.txt', 'w'))"
   ]
  },
  {
   "cell_type": "code",
   "execution_count": 2,
   "id": "d82ee6cd-1b96-4ca5-8579-0595553d34a2",
   "metadata": {},
   "outputs": [
    {
     "ename": "TypeError",
     "evalue": "'tuple' object does not support the context manager protocol",
     "output_type": "error",
     "traceback": [
      "\u001b[1;31m---------------------------------------------------------------------------\u001b[0m",
      "\u001b[1;31mTypeError\u001b[0m                                 Traceback (most recent call last)",
      "Cell \u001b[1;32mIn[2], line 17\u001b[0m\n\u001b[0;32m     15\u001b[0m file_descriptors \u001b[38;5;241m=\u001b[39m []\n\u001b[0;32m     16\u001b[0m \u001b[38;5;28;01mfor\u001b[39;00m x \u001b[38;5;129;01min\u001b[39;00m \u001b[38;5;28mrange\u001b[39m(\u001b[38;5;241m10000\u001b[39m):\n\u001b[1;32m---> 17\u001b[0m     \u001b[38;5;28;01mwith\u001b[39;00m(\u001b[38;5;124mf\u001b[39m\u001b[38;5;124m'\u001b[39m\u001b[38;5;124mtest\u001b[39m\u001b[38;5;132;01m{\u001b[39;00mx\u001b[38;5;132;01m}\u001b[39;00m\u001b[38;5;124m.txt\u001b[39m\u001b[38;5;124m'\u001b[39m, \u001b[38;5;124m'\u001b[39m\u001b[38;5;124mw\u001b[39m\u001b[38;5;124m'\u001b[39m) \u001b[38;5;28;01mas\u001b[39;00m f:\n\u001b[0;32m     18\u001b[0m         file_descriptors\u001b[38;5;241m.\u001b[39mappend(f)\n",
      "\u001b[1;31mTypeError\u001b[0m: 'tuple' object does not support the context manager protocol"
     ]
    }
   ],
   "source": [
    "class FileManager():\n",
    "    def __init__(self, filename, mode):\n",
    "        self.filename = filename\n",
    "        self.mode = mode\n",
    "        self.file = None\n",
    "         \n",
    "    def __enter__(self):\n",
    "        self.file = open(self.filename, self.mode)\n",
    "        return self.file\n",
    "     \n",
    "    def __exit__(self, exc_type, exc_value, exc_traceback):\n",
    "        self.file.close()\n",
    " \n",
    "# loading a file\n",
    "file_descriptors = []\n",
    "for x in range(10000):\n",
    "    with(open(f'test{x}.txt', 'w')) as f:\n",
    "        file_descriptors.append(f)"
   ]
  },
  {
   "cell_type": "code",
   "execution_count": null,
   "id": "78bc127b-8cab-435a-a773-a98eefbefc0e",
   "metadata": {},
   "outputs": [],
   "source": [
    "# json - exchanging data between applications - javascript object notation\n",
    "import json\n",
    "d1 = {'name':'alice','age':6,'class':'second'}\n",
    "# dump - takes p"
   ]
  },
  {
   "cell_type": "code",
   "execution_count": null,
   "id": "c39515eb-e160-412a-8d72-6f975b826ae0",
   "metadata": {},
   "outputs": [],
   "source": []
  }
 ],
 "metadata": {
  "kernelspec": {
   "display_name": "Python 3 (ipykernel)",
   "language": "python",
   "name": "python3"
  },
  "language_info": {
   "codemirror_mode": {
    "name": "ipython",
    "version": 3
   },
   "file_extension": ".py",
   "mimetype": "text/x-python",
   "name": "python",
   "nbconvert_exporter": "python",
   "pygments_lexer": "ipython3",
   "version": "3.13.0"
  }
 },
 "nbformat": 4,
 "nbformat_minor": 5
}
