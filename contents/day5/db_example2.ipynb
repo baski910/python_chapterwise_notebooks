{
 "cells": [
  {
   "cell_type": "code",
   "execution_count": 1,
   "id": "c90d7ac1-e80c-4f30-92b0-58d862915208",
   "metadata": {},
   "outputs": [],
   "source": [
    "import pymysql\n",
    "\n",
    "conn = pymysql.connect(host='localhost',user='root',password='Rps@123',db='demodb_1')"
   ]
  },
  {
   "cell_type": "code",
   "execution_count": 2,
   "id": "d45d3a35-4327-4b2b-9454-0432615ffd9a",
   "metadata": {},
   "outputs": [
    {
     "name": "stdout",
     "output_type": "stream",
     "text": [
      "record created\n"
     ]
    }
   ],
   "source": [
    "import sys\n",
    "if not conn:\n",
    "    sys.exit()\n",
    "cur = conn.cursor() # create a cursor\n",
    "# psycopg2\n",
    "# oracle_ca\n",
    "try:\n",
    "    #cur.execute(\"create table books(bookid int,booktitle varchar(50))\")\n",
    "    cur.execute(\"insert into books values(2,'programming in cpp')\")\n",
    "    conn.commit()\n",
    "except pymysql.Error:\n",
    "    print(\"error creating table\")\n",
    "else:\n",
    "    print(\"record created\")\n",
    "finally:\n",
    "    conn.close()"
   ]
  },
  {
   "cell_type": "code",
   "execution_count": null,
   "id": "26513b31-50eb-46a2-b312-6da63c79d448",
   "metadata": {},
   "outputs": [],
   "source": []
  }
 ],
 "metadata": {
  "kernelspec": {
   "display_name": "Python 3 (ipykernel)",
   "language": "python",
   "name": "python3"
  },
  "language_info": {
   "codemirror_mode": {
    "name": "ipython",
    "version": 3
   },
   "file_extension": ".py",
   "mimetype": "text/x-python",
   "name": "python",
   "nbconvert_exporter": "python",
   "pygments_lexer": "ipython3",
   "version": "3.13.0"
  }
 },
 "nbformat": 4,
 "nbformat_minor": 5
}
