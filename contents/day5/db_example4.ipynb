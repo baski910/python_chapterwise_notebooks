{
 "cells": [
  {
   "cell_type": "code",
   "execution_count": 2,
   "id": "ea0e65ad-22f2-4054-9c23-dee235518b17",
   "metadata": {},
   "outputs": [],
   "source": [
    "import pymysql\n",
    "\n",
    "conn = pymysql.connect(host='localhost',user='root',password='Rps@123',db='demodb_1',cursorclass=pymysql.cursors.DictCursor)"
   ]
  },
  {
   "cell_type": "code",
   "execution_count": 3,
   "id": "e65c6a53-e675-46d4-a208-7b8e3aeffeaa",
   "metadata": {},
   "outputs": [
    {
     "name": "stdout",
     "output_type": "stream",
     "text": [
      "ID:1,Title:programming in python\n",
      "ID:2,Title:programming in cpp\n"
     ]
    }
   ],
   "source": [
    "import sys\n",
    "if not conn:\n",
    "    sys.exit()\n",
    "cur = conn.cursor() # create a cursor\n",
    "# psycopg2\n",
    "# oracle_ca\n",
    "try:\n",
    "    cur.execute(\"select * from books\")\n",
    "    #cur.execute(\"create table books(bookid int,booktitle varchar(50))\")\n",
    "    #cur.execute(\"insert into books values(2,'programming in cpp')\")\n",
    "    #conn.commit()\n",
    "except pymysql.Error:\n",
    "    print(\"error creating table\")\n",
    "else:\n",
    "    records = cur.fetchall() #  list of dictionaries\n",
    "    for row in records:\n",
    "        print(f\"ID:{row['bookid']},Title:{row['booktitle']}\")\n",
    "finally:\n",
    "    conn.close()"
   ]
  },
  {
   "cell_type": "code",
   "execution_count": null,
   "id": "29543272-dc29-4a7a-b637-378ed5ae8153",
   "metadata": {},
   "outputs": [],
   "source": []
  }
 ],
 "metadata": {
  "kernelspec": {
   "display_name": "Python 3 (ipykernel)",
   "language": "python",
   "name": "python3"
  },
  "language_info": {
   "codemirror_mode": {
    "name": "ipython",
    "version": 3
   },
   "file_extension": ".py",
   "mimetype": "text/x-python",
   "name": "python",
   "nbconvert_exporter": "python",
   "pygments_lexer": "ipython3",
   "version": "3.13.0"
  }
 },
 "nbformat": 4,
 "nbformat_minor": 5
}
