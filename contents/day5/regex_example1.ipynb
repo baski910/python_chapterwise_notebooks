{
 "cells": [
  {
   "cell_type": "code",
   "execution_count": 1,
   "id": "844ff5fb-ac9b-4339-9400-b241647efd81",
   "metadata": {},
   "outputs": [],
   "source": [
    "######################################################\n",
    "# regular expression - user defined expression to match\n",
    "#                      extract from the given input\n",
    "# metacharacters - . * + ? {} () [] \\w \\d \\b ^ $ \\s\n",
    "#\n",
    "# re - module used to work with regular expression\n",
    "# \n",
    "# match - takes 3 arguments. 3rd argument is optional\n",
    "#         1st param - regular expression\n",
    "#         2nd param - string to be matched\n",
    "#         3rd param - flags\n",
    "#         matches a single line.\n",
    "#         return match object on success or False on failure\n",
    "#\n",
    "# search - takes 3 arguments. 3rd argument is optional\n",
    "#         1st param - regular expression\n",
    "#         2nd param - string to be matched\n",
    "#         3rd param - flags\n",
    "#         matches a against multiple lines\n",
    "#         return match object on success or False on failure\n",
    "########################################################"
   ]
  },
  {
   "cell_type": "code",
   "execution_count": 3,
   "id": "d9f6cde0-9e96-4d39-ac67-81da764ba4ee",
   "metadata": {},
   "outputs": [
    {
     "name": "stdout",
     "output_type": "stream",
     "text": [
      "\n",
      "\n",
      "\n",
      "\n",
      "\n",
      "\n",
      "\n",
      "\n",
      "\n",
      "\n",
      "\n",
      "\n",
      "\n",
      "\n",
      "\n",
      "\n",
      "\n",
      "\n",
      "\n",
      "\n",
      "\n",
      "\n",
      "\n",
      "\n",
      "\n",
      "\n",
      "\n",
      "\n",
      "\n",
      "\n",
      "\n",
      "\n",
      "number of blank lines 16\n"
     ]
    }
   ],
   "source": [
    "import re\n",
    "count = 0\n",
    "with(open('readme.txt','r')) as fh:\n",
    "    for line in fh.readlines():\n",
    "        res = re.search(r'^\\s*$',line)\n",
    "        # ^ - search at the beginning of the line\n",
    "        # \\s - whitespace\n",
    "        # *  - quantifier (zero or more times)\n",
    "        # $ -  search at the end of the line\n",
    "        if res:\n",
    "            print(line)\n",
    "            count += 1\n",
    "print(f\"number of blank lines {count}\")"
   ]
  },
  {
   "cell_type": "code",
   "execution_count": 4,
   "id": "4f236b78-9747-4279-80d9-bfd54d7ad046",
   "metadata": {},
   "outputs": [
    {
     "name": "stdout",
     "output_type": "stream",
     "text": [
      "Vim for Debian\n",
      "\n",
      "---------------\n",
      "\n",
      "1. The current Debian Vim scripts policy can be found in the vim-doc package\n",
      "\n",
      "   under /usr/share/doc/vim-common and\n",
      "\n",
      "   <http://pkg-vim.alioth.debian.org/vim-policy.html/>.\n",
      "\n",
      "2. Before reporting bugs, check if the bug also exists if you run vim\n",
      "\n",
      "   with \"vim -u NONE -U NONE\". If not, make sure that the \"bug\" is not\n",
      "\n",
      "   a result of a setting in your ~/.vimrc before reporting it.\n",
      "\n",
      " -- Stefano Zacchiroli <zack@debian.org>   Mon, 10 Apr 2006 09:59:41 -0400\n",
      "\n",
      "MzScheme Vim variant\n",
      "\n",
      "--------------------\n",
      "\n",
      "As requested by the current MzScheme maintainer (Ari Pollak <ari@debian.org>),\n",
      "\n",
      "a vim-mzscheme variant is not being built.  The reasons stated are as follows:\n",
      "\n",
      "  1) MzScheme does not build on many of Debian's supported architectures.\n",
      "\n",
      "  2) The MzScheme package is not versioned based on the library.\n",
      "\n",
      "  3) The MzScheme ABI changes with every upstream version.\n",
      "\n",
      " -- James Vega <jamessan@debian.org> Mon, 10  Apr  2006  09:48:25  -0400\n",
      "\n",
      "Modeline support disabled by default\n",
      "\n",
      "------------------------------------\n",
      "\n",
      "Modelines have historically been a source of security/resource vulnerabilities\n",
      "\n",
      "and are therefore disabled by default in $VIMRUNTIME/debian.vim.\n",
      "\n",
      "You can enable them in ~/.vimrc or /etc/vim/vimrc with \"set modeline\".\n",
      "\n",
      "In order to mimic Vim's default setting (modelines disabled when root, enabled\n",
      "\n",
      "otherwise), you may instead want to use the following snippet:\n",
      "\n",
      "  if $USER != 'root'\n",
      "\n",
      "    set modeline\n",
      "\n",
      "  else\n",
      "\n",
      "    set nomodeline\n",
      "\n",
      "  endif\n",
      "\n",
      "The securemodelines script from vim.org (and in the vim-scripts package) may\n",
      "\n",
      "also be of interest as it provides a way to whitelist exactly which options\n",
      "\n",
      "may be set from a modeline.\n",
      "\n",
      " -- James Vega <jamessan@debian.org>  Sun, 04 May 2008 03:11:51 -0400\n",
      "\n",
      "number of non-blank lines 33\n"
     ]
    }
   ],
   "source": [
    "import re\n",
    "count = 0\n",
    "with(open('readme.txt','r')) as fh:\n",
    "    for line in fh.readlines():\n",
    "        res = re.search(r'^\\s*$',line)\n",
    "        # ^ - search at the beginning of the line\n",
    "        # \\s - whitespace\n",
    "        # *  - quantifier (zero or more times)\n",
    "        # $ -  search at the end of the line\n",
    "        if not res:   #    !res\n",
    "            print(line)\n",
    "            count += 1\n",
    "print(f\"number of non-blank lines {count}\")"
   ]
  },
  {
   "cell_type": "code",
   "execution_count": 5,
   "id": "035545fb-d4e1-4ca8-ad1f-d1ae5c7a9f82",
   "metadata": {},
   "outputs": [],
   "source": [
    "# * + ? {}\n",
    "# * - zero or more times\n",
    "# to*tal - ttal total tootal tooootal toooooooootal\n",
    "# + - one or more times\n",
    "# to+tal - total tootal tooootal toooooooootal\n",
    "# ? - either zero or one\n",
    "# https?://www.mydomain.com - https://www.mydomain.com http://www.mydomain.com\n",
    "# {} - {n} pattern should occur 'n' number of time\n",
    "# https://w{3}.mydomain.com"
   ]
  },
  {
   "cell_type": "code",
   "execution_count": 17,
   "id": "e82b3af0-22e4-4555-9b5c-92605d3803df",
   "metadata": {},
   "outputs": [
    {
     "name": "stdin",
     "output_type": "stream",
     "text": [
      "Enter a string https://www.mydomain.com\n"
     ]
    },
    {
     "name": "stdout",
     "output_type": "stream",
     "text": [
      "matched\n"
     ]
    }
   ],
   "source": [
    "s1 = input(\"Enter a string\")\n",
    "\n",
    "#res = re.search(r'to*tal',s1)\n",
    "#res = re.search(r'to+tal',s1)\n",
    "#res = re.search(r'https?://www.mydomain.com',s1)\n",
    "res = re.search(r'https://w{3}.mydomain.com',s1)\n",
    "if res:\n",
    "    print(\"matched\")\n",
    "else:\n",
    "    print(\"not matched\")"
   ]
  },
  {
   "cell_type": "code",
   "execution_count": 18,
   "id": "efcea078-bcf6-40c1-984c-8173fc9c1735",
   "metadata": {},
   "outputs": [],
   "source": [
    "######################################################\n",
    "# regular expression - user defined expression to match\n",
    "#                      extract from the given input\n",
    "# metacharacters - . * + ? {} () [] \\w \\d \\b ^ $\n",
    "#\n",
    "# re - module used to work with regular expression\n",
    "# www.mydomain.com - www.(....).com\n",
    "#                    .*\\.(.*)\\..*\n",
    "########################################################"
   ]
  },
  {
   "cell_type": "code",
   "execution_count": 24,
   "id": "b2ae6725-e0cc-4fb4-970c-6c4a0a130696",
   "metadata": {},
   "outputs": [
    {
     "name": "stdin",
     "output_type": "stream",
     "text": [
      "Enter a string\n",
      " www.mydomain.co.in\n"
     ]
    },
    {
     "name": "stdout",
     "output_type": "stream",
     "text": [
      "www.mydomain\n",
      "co\n"
     ]
    }
   ],
   "source": [
    "import re\n",
    "# www.mydomain.com\n",
    "s1 = input(\"Enter a string\\n\")\n",
    "# .*  - any character\n",
    "#sobj = re.search(r'.*\\.(.*)\\..*',s1)\n",
    "sobj = re.search('(.*)\\\\.(.*)\\\\..*',s1) # greedy match\n",
    "if sobj:\n",
    "    print(sobj.group(1)) \n",
    "    print(sobj.group(2)) # returns characters between 2 dot\n",
    "else:\n",
    "    print(\"not matched\")"
   ]
  },
  {
   "cell_type": "code",
   "execution_count": 25,
   "id": "1d7e3726-1272-4c7d-8ac9-046b79468e30",
   "metadata": {},
   "outputs": [
    {
     "name": "stdin",
     "output_type": "stream",
     "text": [
      "Enter a string\n",
      " www.mydomain.com\n"
     ]
    },
    {
     "name": "stdout",
     "output_type": "stream",
     "text": [
      "www\n",
      "mydomain\n"
     ]
    }
   ],
   "source": [
    "# non greedy\n",
    "import re\n",
    "# www.mydomain.com\n",
    "s1 = input(\"Enter a string\\n\")\n",
    "# .*  - any character\n",
    "#sobj = re.search(r'.*\\.(.*)\\..*',s1)\n",
    "sobj = re.search('(.*?)\\\\.(.*?)\\\\..*',s1) # non-greedy\n",
    "if sobj:\n",
    "    print(sobj.group(1)) \n",
    "    print(sobj.group(2)) # returns characters between 2 dot\n",
    "else:\n",
    "    print(\"not matched\")"
   ]
  },
  {
   "cell_type": "code",
   "execution_count": 31,
   "id": "24ca7085-294b-46cb-8515-d77c558b17bd",
   "metadata": {},
   "outputs": [
    {
     "name": "stdin",
     "output_type": "stream",
     "text": [
      "Enter a string\n",
      " hello #world\n"
     ]
    },
    {
     "name": "stdout",
     "output_type": "stream",
     "text": [
      "not matched\n"
     ]
    }
   ],
   "source": [
    "s1 = input(\"Enter a string\\n\")\n",
    "\n",
    "#sobj = re.search(r'hello\\s[abcdefghijklmn]',s1)\n",
    "#sobj = re.search(r'hello\\s[a-n]',s1)\n",
    "sobj = re.search(r'hello\\s[\\w]',s1)    # [a-zA-Z0-9_]\n",
    "\n",
    "if sobj:\n",
    "    print(\"matched\")\n",
    "else:\n",
    "    print(\"not matched\")"
   ]
  },
  {
   "cell_type": "code",
   "execution_count": 42,
   "id": "5a43841c-1b9a-49d2-a767-9e8ca00aac51",
   "metadata": {},
   "outputs": [
    {
     "name": "stdout",
     "output_type": "stream",
     "text": [
      "223415678\n",
      "345\n",
      "418735106\n",
      "None\n",
      "8942651087\n",
      "None\n"
     ]
    }
   ],
   "source": [
    "# \\d - digit\n",
    "with(open('numbers.txt','r')) as fh:\n",
    "    for line in fh.readlines():\n",
    "        res = re.search(r'.*#(\\d+)([a-z]*)(\\d+)?',line)\n",
    "        if res:\n",
    "            print(res.group(1))\n",
    "            print(res.group(3))"
   ]
  },
  {
   "cell_type": "code",
   "execution_count": 44,
   "id": "ceaf40d7-bb25-478b-a609-6bf69959fbd9",
   "metadata": {},
   "outputs": [
    {
     "name": "stdout",
     "output_type": "stream",
     "text": [
      "matched\n"
     ]
    }
   ],
   "source": [
    "# \\b - absolute match\n",
    "\n",
    "import re\n",
    "\n",
    "#s1 = \"helloworld\"\n",
    "s1 = \"hi hello python\"\n",
    "\n",
    "sobj = re.search(r'\\bhello\\b',s1)\n",
    "\n",
    "if sobj:\n",
    "    print(\"matched\")\n",
    "else:\n",
    "    print(\"not matched\")"
   ]
  },
  {
   "cell_type": "code",
   "execution_count": null,
   "id": "5c204d75-c950-413d-bf33-376b350eee55",
   "metadata": {},
   "outputs": [],
   "source": []
  }
 ],
 "metadata": {
  "kernelspec": {
   "display_name": "Python 3 (ipykernel)",
   "language": "python",
   "name": "python3"
  },
  "language_info": {
   "codemirror_mode": {
    "name": "ipython",
    "version": 3
   },
   "file_extension": ".py",
   "mimetype": "text/x-python",
   "name": "python",
   "nbconvert_exporter": "python",
   "pygments_lexer": "ipython3",
   "version": "3.13.0"
  }
 },
 "nbformat": 4,
 "nbformat_minor": 5
}
