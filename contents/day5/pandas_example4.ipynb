{
 "cells": [
  {
   "cell_type": "code",
   "execution_count": 1,
   "id": "3d32f344-9754-4e91-ae37-a6282cfac2b4",
   "metadata": {},
   "outputs": [
    {
     "name": "stdout",
     "output_type": "stream",
     "text": [
      "  name  age department\n",
      "0  pat   20        CSE\n",
      "1  tom   21        ECE\n",
      "2  sam   20         IT\n",
      "3  bob   21        EEE\n",
      "4  joe   21       MECH\n"
     ]
    }
   ],
   "source": [
    "# merge dataframe\n",
    "import pandas as pd\n",
    "\n",
    "df1 = pd.read_excel('names.xlsx',sheet_name='Sheet1')\n",
    "print(df1)"
   ]
  },
  {
   "cell_type": "code",
   "execution_count": 2,
   "id": "e3a07f34-ce15-4ed6-bc93-06a497c74d78",
   "metadata": {},
   "outputs": [
    {
     "name": "stdout",
     "output_type": "stream",
     "text": [
      "  department departmentname\n",
      "0        CSE        Cmputer\n",
      "1        ECE    Electronics\n",
      "2         IT    Infromation\n",
      "3        EEE     Electrical\n",
      "4       CHEM       Chemical\n"
     ]
    }
   ],
   "source": [
    "df2 = pd.read_excel('names.xlsx',sheet_name='Sheet2')\n",
    "print(df2)"
   ]
  },
  {
   "cell_type": "code",
   "execution_count": 3,
   "id": "d240343b-5a40-4393-87a8-b5b3682e2a87",
   "metadata": {},
   "outputs": [
    {
     "name": "stdout",
     "output_type": "stream",
     "text": [
      "  name  age department departmentname\n",
      "0  pat   20        CSE        Cmputer\n",
      "1  tom   21        ECE    Electronics\n",
      "2  sam   20         IT    Infromation\n",
      "3  bob   21        EEE     Electrical\n"
     ]
    }
   ],
   "source": [
    "df3 = pd.merge(df1,df2,on='department')\n",
    "print(df3)"
   ]
  },
  {
   "cell_type": "code",
   "execution_count": 4,
   "id": "4d6dd9ea-1b32-42de-a53f-ec53322facea",
   "metadata": {},
   "outputs": [
    {
     "name": "stdout",
     "output_type": "stream",
     "text": [
      "  name  age department departmentname\n",
      "0  pat   20        CSE        Cmputer\n",
      "1  tom   21        ECE    Electronics\n",
      "2  sam   20         IT    Infromation\n",
      "3  bob   21        EEE     Electrical\n",
      "4  joe   21       MECH            NaN\n"
     ]
    }
   ],
   "source": [
    "df3 = pd.merge(df1,df2,on='department',how='left')\n",
    "print(df3)"
   ]
  },
  {
   "cell_type": "code",
   "execution_count": 5,
   "id": "f0d90b69-d4f5-4dc0-aac6-72533413312c",
   "metadata": {},
   "outputs": [
    {
     "name": "stdout",
     "output_type": "stream",
     "text": [
      "  name   age department departmentname\n",
      "0  pat  20.0        CSE        Cmputer\n",
      "1  tom  21.0        ECE    Electronics\n",
      "2  sam  20.0         IT    Infromation\n",
      "3  bob  21.0        EEE     Electrical\n",
      "4  NaN   NaN       CHEM       Chemical\n"
     ]
    }
   ],
   "source": [
    "df3 = pd.merge(df1,df2,on='department',how='right')\n",
    "print(df3)"
   ]
  },
  {
   "cell_type": "code",
   "execution_count": 6,
   "id": "8bcdb36e-6679-475d-9568-9a5e474b52ac",
   "metadata": {},
   "outputs": [
    {
     "name": "stdout",
     "output_type": "stream",
     "text": [
      "  name   age department departmentname\n",
      "0  NaN   NaN       CHEM       Chemical\n",
      "1  pat  20.0        CSE        Cmputer\n",
      "2  tom  21.0        ECE    Electronics\n",
      "3  bob  21.0        EEE     Electrical\n",
      "4  sam  20.0         IT    Infromation\n",
      "5  joe  21.0       MECH            NaN\n"
     ]
    }
   ],
   "source": [
    "df3 = pd.merge(df1,df2,on='department',how='outer')\n",
    "print(df3)"
   ]
  },
  {
   "cell_type": "code",
   "execution_count": null,
   "id": "5ed75318-8bf4-4b48-9c70-6e73198a648b",
   "metadata": {},
   "outputs": [],
   "source": []
  }
 ],
 "metadata": {
  "kernelspec": {
   "display_name": "Python 3 (ipykernel)",
   "language": "python",
   "name": "python3"
  },
  "language_info": {
   "codemirror_mode": {
    "name": "ipython",
    "version": 3
   },
   "file_extension": ".py",
   "mimetype": "text/x-python",
   "name": "python",
   "nbconvert_exporter": "python",
   "pygments_lexer": "ipython3",
   "version": "3.13.0"
  }
 },
 "nbformat": 4,
 "nbformat_minor": 5
}
