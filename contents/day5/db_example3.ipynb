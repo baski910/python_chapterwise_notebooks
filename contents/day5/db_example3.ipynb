{
 "cells": [
  {
   "cell_type": "code",
   "execution_count": 3,
   "id": "a1cd94b5-87ee-496b-a5c6-5019bf963ca3",
   "metadata": {},
   "outputs": [],
   "source": [
    "import pymysql\n",
    "\n",
    "conn = pymysql.connect(host='localhost',user='root',password='Rps@123',db='demodb_1')"
   ]
  },
  {
   "cell_type": "code",
   "execution_count": 4,
   "id": "32057f01-72de-47a8-a0d1-8d833d224bb0",
   "metadata": {},
   "outputs": [
    {
     "name": "stdout",
     "output_type": "stream",
     "text": [
      "ID:1,Title:programming in python\n",
      "ID:2,Title:programming in cpp\n"
     ]
    }
   ],
   "source": [
    "import sys\n",
    "if not conn:\n",
    "    sys.exit()\n",
    "cur = conn.cursor() # create a cursor\n",
    "# psycopg2\n",
    "# oracle_ca\n",
    "try:\n",
    "    cur.execute(\"select * from books\")\n",
    "    #cur.execute(\"create table books(bookid int,booktitle varchar(50))\")\n",
    "    #cur.execute(\"insert into books values(2,'programming in cpp')\")\n",
    "    #conn.commit()\n",
    "except pymysql.Error:\n",
    "    print(\"error creating table\")\n",
    "else:\n",
    "    records = cur.fetchall() #  cur.fetchone()\n",
    "    for row in records:\n",
    "        print(f\"ID:{row[0]},Title:{row[1]}\")\n",
    "finally:\n",
    "    conn.close()"
   ]
  },
  {
   "cell_type": "code",
   "execution_count": null,
   "id": "7b18ba1f-a87e-49ca-a825-4a170908aadb",
   "metadata": {},
   "outputs": [],
   "source": []
  }
 ],
 "metadata": {
  "kernelspec": {
   "display_name": "Python 3 (ipykernel)",
   "language": "python",
   "name": "python3"
  },
  "language_info": {
   "codemirror_mode": {
    "name": "ipython",
    "version": 3
   },
   "file_extension": ".py",
   "mimetype": "text/x-python",
   "name": "python",
   "nbconvert_exporter": "python",
   "pygments_lexer": "ipython3",
   "version": "3.13.0"
  }
 },
 "nbformat": 4,
 "nbformat_minor": 5
}
