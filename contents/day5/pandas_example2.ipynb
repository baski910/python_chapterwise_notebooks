{
 "cells": [
  {
   "cell_type": "code",
   "execution_count": 2,
   "id": "8104a626-2dfc-443e-9ffa-f85485d93717",
   "metadata": {},
   "outputs": [
    {
     "name": "stdout",
     "output_type": "stream",
     "text": [
      "   index            date  duration  item    month   network network_type\n",
      "0      0  15/10/14 06:58    34.429  data  2014-11      data         data\n",
      "1      1  15/10/14 06:58    13.000  call  2014-11  Vodafone       mobile\n",
      "2      2  15/10/14 14:46    23.000  call  2014-11    Meteor       mobile\n",
      "3      3  15/10/14 14:48     4.000  call  2014-11     Tesco       mobile\n",
      "4      4  15/10/14 17:27     4.000  call  2014-11     Tesco       mobile\n"
     ]
    }
   ],
   "source": [
    "# aggregate function using pandas\n",
    "import pandas as pd\n",
    "import dateutil as du\n",
    "df = pd.read_csv('phone_data.csv')\n",
    "print(df.head())"
   ]
  },
  {
   "cell_type": "code",
   "execution_count": 4,
   "id": "e8bc33de-81b1-446a-a745-b3a13e039eaa",
   "metadata": {},
   "outputs": [],
   "source": [
    "# convert the string to date time object\n",
    "df['date']=df['date'].apply(lambda x: du.parser.parse(x))"
   ]
  },
  {
   "cell_type": "code",
   "execution_count": 5,
   "id": "d1951151-8888-4ebf-8722-8df42784bc0c",
   "metadata": {},
   "outputs": [
    {
     "name": "stdout",
     "output_type": "stream",
     "text": [
      "   index                date  duration  item    month   network network_type\n",
      "0      0 2014-10-15 06:58:00    34.429  data  2014-11      data         data\n",
      "1      1 2014-10-15 06:58:00    13.000  call  2014-11  Vodafone       mobile\n",
      "2      2 2014-10-15 14:46:00    23.000  call  2014-11    Meteor       mobile\n",
      "3      3 2014-10-15 14:48:00     4.000  call  2014-11     Tesco       mobile\n",
      "4      4 2014-10-15 17:27:00     4.000  call  2014-11     Tesco       mobile\n"
     ]
    }
   ],
   "source": [
    "print(df.head())"
   ]
  },
  {
   "cell_type": "code",
   "execution_count": 10,
   "id": "ac1e3f8e-28a3-4f7e-abec-79960039f15a",
   "metadata": {},
   "outputs": [
    {
     "name": "stdout",
     "output_type": "stream",
     "text": [
      "92321.0\n"
     ]
    }
   ],
   "source": [
    "print(df.loc[df['item']=='call','duration'].sum())"
   ]
  },
  {
   "cell_type": "code",
   "execution_count": 11,
   "id": "cd57a19f-734f-440e-a1b9-5dad86abc24e",
   "metadata": {},
   "outputs": [
    {
     "name": "stdout",
     "output_type": "stream",
     "text": [
      "item\n",
      "call    92321.00\n",
      "data     5164.35\n",
      "sms       292.00\n",
      "Name: duration, dtype: float64\n"
     ]
    }
   ],
   "source": [
    "print(df.groupby(['item'])['duration'].sum())"
   ]
  },
  {
   "cell_type": "code",
   "execution_count": 12,
   "id": "bee6f63c-9686-45fb-93bd-1960ddf8d6d3",
   "metadata": {},
   "outputs": [
    {
     "name": "stdout",
     "output_type": "stream",
     "text": [
      "month\n",
      "2014-11    25547.0\n",
      "2014-12    13561.0\n",
      "2015-01    17070.0\n",
      "2015-02    14416.0\n",
      "2015-03    21727.0\n",
      "Name: duration, dtype: float64\n"
     ]
    }
   ],
   "source": [
    "print(df[df['item']=='call'].groupby(['month'])['duration'].sum())"
   ]
  },
  {
   "cell_type": "code",
   "execution_count": 13,
   "id": "9e3a461c-c114-4328-8eab-c63c709959ce",
   "metadata": {},
   "outputs": [],
   "source": [
    "import numpy as np"
   ]
  },
  {
   "cell_type": "code",
   "execution_count": 14,
   "id": "c921079c-f2a9-4ae6-8ed9-ddb9666b4048",
   "metadata": {},
   "outputs": [
    {
     "name": "stdout",
     "output_type": "stream",
     "text": [
      "          duration            \n",
      "               sum        mean\n",
      "month                         \n",
      "2014-11  26639.441  115.823657\n",
      "2014-12  14641.870   93.260318\n",
      "2015-01  18223.299   88.894141\n",
      "2015-02  15522.299  113.301453\n",
      "2015-03  22750.441  225.251891\n"
     ]
    },
    {
     "name": "stderr",
     "output_type": "stream",
     "text": [
      "C:\\Users\\Administrator\\AppData\\Local\\Temp\\ipykernel_5352\\3584299823.py:1: FutureWarning: The provided callable <built-in function sum> is currently using SeriesGroupBy.sum. In a future version of pandas, the provided callable will be used directly. To keep current behavior pass the string \"sum\" instead.\n",
      "  print(df.groupby(['month']).aggregate({'duration':[sum,np.mean]}))\n",
      "C:\\Users\\Administrator\\AppData\\Local\\Temp\\ipykernel_5352\\3584299823.py:1: FutureWarning: The provided callable <function mean at 0x0000026C9DE86CA0> is currently using SeriesGroupBy.mean. In a future version of pandas, the provided callable will be used directly. To keep current behavior pass the string \"mean\" instead.\n",
      "  print(df.groupby(['month']).aggregate({'duration':[sum,np.mean]}))\n"
     ]
    }
   ],
   "source": [
    "print(df.groupby(['month']).aggregate({'duration':[sum,np.mean]}))"
   ]
  },
  {
   "cell_type": "code",
   "execution_count": 15,
   "id": "4c9f6d71-5d8c-4f9f-ab16-e8632d6c8278",
   "metadata": {},
   "outputs": [
    {
     "name": "stdout",
     "output_type": "stream",
     "text": [
      "    name  age  marks\n",
      "0    pat   21     69\n",
      "1    sam   20     71\n",
      "2    bob   20     87\n",
      "3    tom   21     91\n",
      "4    joe   20     58\n",
      "5   brad   20     78\n",
      "6  alice   21     63\n"
     ]
    }
   ],
   "source": [
    "# classigication or categorisation\n",
    "d1 = {\n",
    "    'name': ['pat','sam','bob','tom','joe','brad','alice'],\n",
    "    'age': [21,20,20,21,20,20,21],\n",
    "    'marks': [69,71,87,91,58,78,63]\n",
    "}\n",
    "\n",
    "df = pd.DataFrame(d1)\n",
    "print(df)"
   ]
  },
  {
   "cell_type": "code",
   "execution_count": 16,
   "id": "1842ab8b-66c1-449e-8b79-a05354408e64",
   "metadata": {},
   "outputs": [],
   "source": [
    "# cut - series, bins(range), lables\n",
    "df['grade'] = pd.cut(df['marks'],bins=[50,60,75,90,100],labels=['D','C','B','A'])"
   ]
  },
  {
   "cell_type": "code",
   "execution_count": 17,
   "id": "66921a7a-9a87-4017-bf73-3057932290a6",
   "metadata": {},
   "outputs": [
    {
     "name": "stdout",
     "output_type": "stream",
     "text": [
      "    name  age  marks grade\n",
      "0    pat   21     69     C\n",
      "1    sam   20     71     C\n",
      "2    bob   20     87     B\n",
      "3    tom   21     91     A\n",
      "4    joe   20     58     D\n",
      "5   brad   20     78     B\n",
      "6  alice   21     63     C\n"
     ]
    }
   ],
   "source": [
    "print(df)"
   ]
  },
  {
   "cell_type": "code",
   "execution_count": 18,
   "id": "74084a65-d7df-409f-bd66-a690ad24aaf7",
   "metadata": {},
   "outputs": [
    {
     "name": "stdout",
     "output_type": "stream",
     "text": [
      "<class 'pandas.core.frame.DataFrame'>\n",
      "RangeIndex: 7 entries, 0 to 6\n",
      "Data columns (total 4 columns):\n",
      " #   Column  Non-Null Count  Dtype   \n",
      "---  ------  --------------  -----   \n",
      " 0   name    7 non-null      object  \n",
      " 1   age     7 non-null      int64   \n",
      " 2   marks   7 non-null      int64   \n",
      " 3   grade   7 non-null      category\n",
      "dtypes: category(1), int64(2), object(1)\n",
      "memory usage: 511.0+ bytes\n"
     ]
    }
   ],
   "source": [
    "df.info()"
   ]
  },
  {
   "cell_type": "code",
   "execution_count": 19,
   "id": "fad3683b-a45d-4627-bfba-5f0001caff99",
   "metadata": {},
   "outputs": [
    {
     "data": {
      "text/plain": [
       "count     7.000000\n",
       "mean     73.857143\n",
       "std      12.143978\n",
       "min      58.000000\n",
       "25%      66.000000\n",
       "50%      71.000000\n",
       "75%      82.500000\n",
       "max      91.000000\n",
       "Name: marks, dtype: float64"
      ]
     },
     "execution_count": 19,
     "metadata": {},
     "output_type": "execute_result"
    }
   ],
   "source": [
    "df['marks'].describe()"
   ]
  },
  {
   "cell_type": "code",
   "execution_count": 20,
   "id": "b54a1cc1-58e6-4113-b8cf-36230cd2e286",
   "metadata": {},
   "outputs": [
    {
     "name": "stdout",
     "output_type": "stream",
     "text": [
      "Collecting statsmodels\n",
      "  Downloading statsmodels-0.14.4-cp313-cp313-win_amd64.whl.metadata (9.5 kB)\n",
      "Requirement already satisfied: numpy<3,>=1.22.3 in c:\\program files\\python313\\lib\\site-packages (from statsmodels) (2.2.2)\n",
      "Collecting scipy!=1.9.2,>=1.8 (from statsmodels)\n",
      "  Downloading scipy-1.15.1-cp313-cp313-win_amd64.whl.metadata (60 kB)\n",
      "Requirement already satisfied: pandas!=2.1.0,>=1.4 in c:\\program files\\python313\\lib\\site-packages (from statsmodels) (2.2.3)\n",
      "Collecting patsy>=0.5.6 (from statsmodels)\n",
      "  Downloading patsy-1.0.1-py2.py3-none-any.whl.metadata (3.3 kB)\n",
      "Requirement already satisfied: packaging>=21.3 in c:\\program files\\python313\\lib\\site-packages (from statsmodels) (24.2)\n",
      "Requirement already satisfied: python-dateutil>=2.8.2 in c:\\program files\\python313\\lib\\site-packages (from pandas!=2.1.0,>=1.4->statsmodels) (2.9.0.post0)\n",
      "Requirement already satisfied: pytz>=2020.1 in c:\\program files\\python313\\lib\\site-packages (from pandas!=2.1.0,>=1.4->statsmodels) (2024.2)\n",
      "Requirement already satisfied: tzdata>=2022.7 in c:\\program files\\python313\\lib\\site-packages (from pandas!=2.1.0,>=1.4->statsmodels) (2025.1)\n",
      "Requirement already satisfied: six>=1.5 in c:\\program files\\python313\\lib\\site-packages (from python-dateutil>=2.8.2->pandas!=2.1.0,>=1.4->statsmodels) (1.17.0)\n",
      "Downloading statsmodels-0.14.4-cp313-cp313-win_amd64.whl (9.8 MB)\n",
      "   ---------------------------------------- 0.0/9.8 MB ? eta -:--:--\n",
      "   ----------------- ---------------------- 4.2/9.8 MB 21.2 MB/s eta 0:00:01\n",
      "   ---------------------------------- ----- 8.4/9.8 MB 20.3 MB/s eta 0:00:01\n",
      "   ---------------------------------------  9.7/9.8 MB 20.7 MB/s eta 0:00:01\n",
      "   ---------------------------------------  9.7/9.8 MB 20.7 MB/s eta 0:00:01\n",
      "   ---------------------------------------- 9.8/9.8 MB 10.7 MB/s eta 0:00:00\n",
      "Downloading patsy-1.0.1-py2.py3-none-any.whl (232 kB)\n",
      "Downloading scipy-1.15.1-cp313-cp313-win_amd64.whl (43.6 MB)\n",
      "   ---------------------------------------- 0.0/43.6 MB ? eta -:--:--\n",
      "   ---- ----------------------------------- 5.0/43.6 MB 23.2 MB/s eta 0:00:02\n",
      "   --------- ------------------------------ 10.7/43.6 MB 25.7 MB/s eta 0:00:02\n",
      "   -------------- ------------------------- 15.5/43.6 MB 24.8 MB/s eta 0:00:02\n",
      "   ------------------- -------------------- 21.0/43.6 MB 25.1 MB/s eta 0:00:01\n",
      "   ----------------------- ---------------- 25.4/43.6 MB 24.5 MB/s eta 0:00:01\n",
      "   --------------------------- ------------ 30.1/43.6 MB 23.9 MB/s eta 0:00:01\n",
      "   ------------------------------ --------- 33.6/43.6 MB 22.9 MB/s eta 0:00:01\n",
      "   --------------------------------- ------ 36.7/43.6 MB 22.0 MB/s eta 0:00:01\n",
      "   ------------------------------------- -- 40.6/43.6 MB 21.7 MB/s eta 0:00:01\n",
      "   ---------------------------------------  43.5/43.6 MB 21.8 MB/s eta 0:00:01\n",
      "   ---------------------------------------  43.5/43.6 MB 21.8 MB/s eta 0:00:01\n",
      "   ---------------------------------------  43.5/43.6 MB 21.8 MB/s eta 0:00:01\n",
      "   ---------------------------------------  43.5/43.6 MB 21.8 MB/s eta 0:00:01\n",
      "   ---------------------------------------  43.5/43.6 MB 21.8 MB/s eta 0:00:01\n",
      "   ---------------------------------------  43.5/43.6 MB 21.8 MB/s eta 0:00:01\n",
      "   ---------------------------------------  43.5/43.6 MB 21.8 MB/s eta 0:00:01\n",
      "   ---------------------------------------  43.5/43.6 MB 21.8 MB/s eta 0:00:01\n",
      "   ---------------------------------------  43.5/43.6 MB 21.8 MB/s eta 0:00:01\n",
      "   ---------------------------------------  43.5/43.6 MB 21.8 MB/s eta 0:00:01\n",
      "   ---------------------------------------  43.5/43.6 MB 21.8 MB/s eta 0:00:01\n",
      "   ---------------------------------------  43.5/43.6 MB 21.8 MB/s eta 0:00:01\n",
      "   ---------------------------------------  43.5/43.6 MB 21.8 MB/s eta 0:00:01\n",
      "   ---------------------------------------  43.5/43.6 MB 21.8 MB/s eta 0:00:01\n",
      "   ---------------------------------------  43.5/43.6 MB 21.8 MB/s eta 0:00:01\n",
      "   ---------------------------------------  43.5/43.6 MB 21.8 MB/s eta 0:00:01\n",
      "   ---------------------------------------  43.5/43.6 MB 21.8 MB/s eta 0:00:01\n",
      "   ---------------------------------------  43.5/43.6 MB 21.8 MB/s eta 0:00:01\n",
      "   ---------------------------------------  43.5/43.6 MB 21.8 MB/s eta 0:00:01\n",
      "   ---------------------------------------  43.5/43.6 MB 21.8 MB/s eta 0:00:01\n",
      "   ---------------------------------------  43.5/43.6 MB 21.8 MB/s eta 0:00:01\n",
      "   ---------------------------------------  43.5/43.6 MB 21.8 MB/s eta 0:00:01\n",
      "   ---------------------------------------  43.5/43.6 MB 21.8 MB/s eta 0:00:01\n",
      "   ---------------------------------------  43.5/43.6 MB 21.8 MB/s eta 0:00:01\n",
      "   ---------------------------------------  43.5/43.6 MB 21.8 MB/s eta 0:00:01\n",
      "   ---------------------------------------- 43.6/43.6 MB 5.8 MB/s eta 0:00:00\n",
      "Installing collected packages: scipy, patsy, statsmodels\n",
      "Successfully installed patsy-1.0.1 scipy-1.15.1 statsmodels-0.14.4\n",
      "Note: you may need to restart the kernel to use updated packages.\n"
     ]
    },
    {
     "name": "stderr",
     "output_type": "stream",
     "text": [
      "\n",
      "[notice] A new release of pip is available: 24.2 -> 24.3.1\n",
      "[notice] To update, run: python.exe -m pip install --upgrade pip\n"
     ]
    }
   ],
   "source": [
    "pip install statsmodels"
   ]
  },
  {
   "cell_type": "code",
   "execution_count": null,
   "id": "0f08dfa4-b097-41ec-a8bf-f58df558511b",
   "metadata": {},
   "outputs": [],
   "source": []
  }
 ],
 "metadata": {
  "kernelspec": {
   "display_name": "Python 3 (ipykernel)",
   "language": "python",
   "name": "python3"
  },
  "language_info": {
   "codemirror_mode": {
    "name": "ipython",
    "version": 3
   },
   "file_extension": ".py",
   "mimetype": "text/x-python",
   "name": "python",
   "nbconvert_exporter": "python",
   "pygments_lexer": "ipython3",
   "version": "3.13.0"
  }
 },
 "nbformat": 4,
 "nbformat_minor": 5
}
