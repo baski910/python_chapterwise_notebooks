{
 "cells": [
  {
   "cell_type": "code",
   "execution_count": 2,
   "id": "3522e84c-74cc-4c90-b691-9151c6e2a3b4",
   "metadata": {},
   "outputs": [
    {
     "name": "stdout",
     "output_type": "stream",
     "text": [
      "Collecting flask\n",
      "  Downloading flask-3.1.0-py3-none-any.whl.metadata (2.7 kB)\n",
      "Collecting Werkzeug>=3.1 (from flask)\n",
      "  Downloading werkzeug-3.1.3-py3-none-any.whl.metadata (3.7 kB)\n",
      "Requirement already satisfied: Jinja2>=3.1.2 in c:\\program files\\python313\\lib\\site-packages (from flask) (3.1.5)\n",
      "Collecting itsdangerous>=2.2 (from flask)\n",
      "  Downloading itsdangerous-2.2.0-py3-none-any.whl.metadata (1.9 kB)\n",
      "Collecting click>=8.1.3 (from flask)\n",
      "  Downloading click-8.1.8-py3-none-any.whl.metadata (2.3 kB)\n",
      "Collecting blinker>=1.9 (from flask)\n",
      "  Downloading blinker-1.9.0-py3-none-any.whl.metadata (1.6 kB)\n",
      "Requirement already satisfied: colorama in c:\\program files\\python313\\lib\\site-packages (from click>=8.1.3->flask) (0.4.6)\n",
      "Requirement already satisfied: MarkupSafe>=2.0 in c:\\program files\\python313\\lib\\site-packages (from Jinja2>=3.1.2->flask) (3.0.2)\n",
      "Downloading flask-3.1.0-py3-none-any.whl (102 kB)\n",
      "Downloading blinker-1.9.0-py3-none-any.whl (8.5 kB)\n",
      "Downloading click-8.1.8-py3-none-any.whl (98 kB)\n",
      "Downloading itsdangerous-2.2.0-py3-none-any.whl (16 kB)\n",
      "Downloading werkzeug-3.1.3-py3-none-any.whl (224 kB)\n",
      "Installing collected packages: Werkzeug, itsdangerous, click, blinker, flask\n",
      "Successfully installed Werkzeug-3.1.3 blinker-1.9.0 click-8.1.8 flask-3.1.0 itsdangerous-2.2.0\n",
      "Note: you may need to restart the kernel to use updated packages.\n"
     ]
    },
    {
     "name": "stderr",
     "output_type": "stream",
     "text": [
      "\n",
      "[notice] A new release of pip is available: 24.2 -> 24.3.1\n",
      "[notice] To update, run: python.exe -m pip install --upgrade pip\n"
     ]
    }
   ],
   "source": [
    "# flask is a web framework\n",
    "# used for developing mircoservice architecture\n",
    "# install flask by executing the following command\n",
    "# pip install flask\n",
    "pip install flask"
   ]
  },
  {
   "cell_type": "code",
   "execution_count": 12,
   "id": "f60a0b4f-fd06-441e-bcdc-33dac1a7b54b",
   "metadata": {},
   "outputs": [
    {
     "name": "stdout",
     "output_type": "stream",
     "text": [
      " * Serving Flask app '__main__'\n",
      " * Debug mode: off\n"
     ]
    },
    {
     "name": "stderr",
     "output_type": "stream",
     "text": [
      "WARNING: This is a development server. Do not use it in a production deployment. Use a production WSGI server instead.\n",
      " * Running on http://127.0.0.1:5000\n",
      "Press CTRL+C to quit\n",
      "127.0.0.1 - - [24/Jan/2025 11:37:13] \"GET / HTTP/1.1\" 200 -\n",
      "127.0.0.1 - - [24/Jan/2025 11:37:32] \"POST /greet HTTP/1.1\" 200 -\n"
     ]
    },
    {
     "name": "stdout",
     "output_type": "stream",
     "text": [
      "ImmutableMultiDict([('username', 'bob'), ('email', 'bob@example.com')])\n"
     ]
    }
   ],
   "source": [
    "from flask import Flask, render_template,request\n",
    "app = Flask(__name__)\n",
    "\n",
    "\n",
    "@app.route('/') # '/'   -  http://127.0.0.1:5000\n",
    "def hello():\n",
    "    return render_template('index.html')\n",
    "    #list_of_names = [\"bob\",\"pat\",\"sam\"]\n",
    "    #return render_template('welcome.html',names=list_of_names)\n",
    "    #name = \"bob\"\n",
    "    #return render_template('welcome.html',name=name)\n",
    "    #return \"<h1>Welcome to flask</h1>\"\n",
    "\n",
    "@app.route('/greet',methods=['GET','POST'])  #  http://127.0.0.1:5000/greet\n",
    "def greet():\n",
    "    print(request.form)\n",
    "    return \"<h1>Greetings from flask</h1>\"\n",
    "\n",
    "if __name__ == \"__main__\":\n",
    "    app.run()"
   ]
  },
  {
   "cell_type": "code",
   "execution_count": null,
   "id": "f67884aa-6426-4e00-bed3-1589f495c64d",
   "metadata": {},
   "outputs": [],
   "source": []
  }
 ],
 "metadata": {
  "kernelspec": {
   "display_name": "Python 3 (ipykernel)",
   "language": "python",
   "name": "python3"
  },
  "language_info": {
   "codemirror_mode": {
    "name": "ipython",
    "version": 3
   },
   "file_extension": ".py",
   "mimetype": "text/x-python",
   "name": "python",
   "nbconvert_exporter": "python",
   "pygments_lexer": "ipython3",
   "version": "3.13.0"
  }
 },
 "nbformat": 4,
 "nbformat_minor": 5
}
