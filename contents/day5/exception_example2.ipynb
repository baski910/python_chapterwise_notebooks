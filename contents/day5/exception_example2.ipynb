{
 "cells": [
  {
   "cell_type": "code",
   "execution_count": 1,
   "id": "5d989985-8ad9-424e-9d6c-4e4098522238",
   "metadata": {},
   "outputs": [],
   "source": [
    "# try:\n",
    "#   TODO\n",
    "# except ErrorClass:\n",
    "#   TODO\n",
    "# else:\n",
    "#   TODO\n",
    "# finally:\n",
    "#   TODO"
   ]
  },
  {
   "cell_type": "code",
   "execution_count": 3,
   "id": "3183a09f-2089-432c-ab2c-894d3c511221",
   "metadata": {},
   "outputs": [
    {
     "name": "stdout",
     "output_type": "stream",
     "text": [
      "100\n",
      "excuted when try succeds\n"
     ]
    }
   ],
   "source": [
    "try:\n",
    "    f = open('myfile.txt','r')\n",
    "    s = f.readline().strip()\n",
    "    num = int(s)\n",
    "except IOError as e:\n",
    "    print(e.errno,e.strerror)\n",
    "except ValueError:\n",
    "    print(\"error in conversion\")\n",
    "except:\n",
    "    print(\"some unknow error\")\n",
    "else:\n",
    "    print(num)\n",
    "    print(\"excuted when try succeds\")"
   ]
  },
  {
   "cell_type": "code",
   "execution_count": 4,
   "id": "55dc82ff-9d93-423b-bb02-b02b0eadd858",
   "metadata": {},
   "outputs": [],
   "source": [
    "# raise - used for converting custom condition to exception\n",
    "def calculateinterest(p,n,r):\n",
    "    if r<0:\n",
    "        raise ValueError\n",
    "    if n<0:\n",
    "        raise ValueError\n",
    "    return p*n*r/100"
   ]
  },
  {
   "cell_type": "code",
   "execution_count": 6,
   "id": "70be6970-e710-4f6f-89a2-71a7d0bf0f34",
   "metadata": {},
   "outputs": [
    {
     "name": "stdout",
     "output_type": "stream",
     "text": [
      "negative value not accepted\n"
     ]
    }
   ],
   "source": [
    "try:\n",
    "    calculateinterest(1000,2,-8)\n",
    "except ValueError:\n",
    "    print(\"negative value not accepted\")"
   ]
  },
  {
   "cell_type": "code",
   "execution_count": 7,
   "id": "602ec6e3-5edf-4681-b328-9e6f4b52c1b4",
   "metadata": {},
   "outputs": [],
   "source": [
    "# custom exception class takes Exception as base class\n",
    "class CustomException(Exception):\n",
    "    def __init__(self,msg):\n",
    "        self.msg = msg\n",
    "    def __str__(self):\n",
    "        return self.msg"
   ]
  },
  {
   "cell_type": "code",
   "execution_count": 9,
   "id": "69fdf2a8-7742-4deb-89da-bc48dd1f9188",
   "metadata": {},
   "outputs": [],
   "source": [
    "def calculateinterest(p,n,r):\n",
    "    if r<0:\n",
    "        raise CustomException(\"rate of int -ive\")\n",
    "    if n<0:\n",
    "        raise CustomException(\"number of yrs -ive\")\n",
    "    return p*n*r/100"
   ]
  },
  {
   "cell_type": "code",
   "execution_count": 11,
   "id": "15e805e9-85ac-4f74-916a-97b721fce5dd",
   "metadata": {},
   "outputs": [
    {
     "name": "stdout",
     "output_type": "stream",
     "text": [
      "number of yrs -ive\n"
     ]
    }
   ],
   "source": [
    "try:\n",
    "    calculateinterest(1000,-2,8)\n",
    "except CustomException as e:\n",
    "    print(e)"
   ]
  },
  {
   "cell_type": "code",
   "execution_count": 17,
   "id": "1fe66637-2baf-4523-80ab-a52ce0de0bee",
   "metadata": {},
   "outputs": [
    {
     "name": "stdout",
     "output_type": "stream",
     "text": [
      "division by zero\n",
      "executed always\n"
     ]
    }
   ],
   "source": [
    "# finally - executed always - used for freeing up resources\n",
    "import time\n",
    "try:\n",
    "    # db\n",
    "    count = 0\n",
    "    s = 12/count\n",
    "    while True:\n",
    "        count += 1\n",
    "        print(\"hello\")\n",
    "        if count==5:\n",
    "            break\n",
    "        else:\n",
    "            time.sleep(2)\n",
    "    \n",
    "except Exception as e:\n",
    "    print(e)\n",
    "finally:\n",
    "    print(\"executed always\")"
   ]
  },
  {
   "cell_type": "code",
   "execution_count": null,
   "id": "706a07c2-331b-4775-895a-ff6636557e48",
   "metadata": {},
   "outputs": [],
   "source": []
  }
 ],
 "metadata": {
  "kernelspec": {
   "display_name": "Python 3 (ipykernel)",
   "language": "python",
   "name": "python3"
  },
  "language_info": {
   "codemirror_mode": {
    "name": "ipython",
    "version": 3
   },
   "file_extension": ".py",
   "mimetype": "text/x-python",
   "name": "python",
   "nbconvert_exporter": "python",
   "pygments_lexer": "ipython3",
   "version": "3.13.0"
  }
 },
 "nbformat": 4,
 "nbformat_minor": 5
}
