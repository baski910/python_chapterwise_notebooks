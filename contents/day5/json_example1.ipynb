{
 "cells": [
  {
   "cell_type": "code",
   "execution_count": 1,
   "id": "c70fe271-c01c-49d2-96d1-f23081603112",
   "metadata": {},
   "outputs": [],
   "source": [
    "# json - exchanging data between applications - javascript object notation\n",
    "import json\n",
    "d1 = {'name':'alice','age':6,'class':'second'}\n",
    "# dump - takes python object and file descriptor\n",
    "with(open('d1.json','w')) as fh:\n",
    "    json.dump(d1,fh)"
   ]
  },
  {
   "cell_type": "code",
   "execution_count": 2,
   "id": "92aafd02-72c5-4761-b680-51f1b316f413",
   "metadata": {},
   "outputs": [
    {
     "name": "stdout",
     "output_type": "stream",
     "text": [
      "{'name': 'alice', 'age': 6, 'class': 'second'}\n"
     ]
    }
   ],
   "source": [
    "# load  - returns python object from a file descriptor\n",
    "with(open('d1.json','r')) as fh:\n",
    "    d2 = json.load(fh)\n",
    "    print(d2)"
   ]
  },
  {
   "cell_type": "code",
   "execution_count": 3,
   "id": "46f13718-0a84-4191-bee3-2cf5dfc75b31",
   "metadata": {},
   "outputs": [],
   "source": [
    "import requests\n",
    "import json\n",
    "# json.loads()"
   ]
  },
  {
   "cell_type": "code",
   "execution_count": 6,
   "id": "25d2a97c-ca68-400d-a1d2-f0f07e1257e4",
   "metadata": {},
   "outputs": [
    {
     "name": "stdout",
     "output_type": "stream",
     "text": [
      "sunt aut facere repellat provident occaecati excepturi optio reprehenderit\n",
      "qui est esse\n",
      "ea molestias quasi exercitationem repellat qui ipsa sit aut\n",
      "eum et est occaecati\n",
      "nesciunt quas odio\n",
      "dolorem eum magni eos aperiam quia\n",
      "magnam facilis autem\n",
      "dolorem dolore est ipsam\n",
      "nesciunt iure omnis dolorem tempora et accusantium\n",
      "optio molestias id quia eum\n",
      "et ea vero quia laudantium autem\n",
      "in quibusdam tempore odit est dolorem\n",
      "dolorum ut in voluptas mollitia et saepe quo animi\n",
      "voluptatem eligendi optio\n",
      "eveniet quod temporibus\n",
      "sint suscipit perspiciatis velit dolorum rerum ipsa laboriosam odio\n",
      "fugit voluptas sed molestias voluptatem provident\n",
      "voluptate et itaque vero tempora molestiae\n",
      "adipisci placeat illum aut reiciendis qui\n",
      "doloribus ad provident suscipit at\n",
      "asperiores ea ipsam voluptatibus modi minima quia sint\n",
      "dolor sint quo a velit explicabo quia nam\n",
      "maxime id vitae nihil numquam\n",
      "autem hic labore sunt dolores incidunt\n",
      "rem alias distinctio quo quis\n",
      "est et quae odit qui non\n",
      "quasi id et eos tenetur aut quo autem\n",
      "delectus ullam et corporis nulla voluptas sequi\n",
      "iusto eius quod necessitatibus culpa ea\n",
      "a quo magni similique perferendis\n",
      "ullam ut quidem id aut vel consequuntur\n",
      "doloremque illum aliquid sunt\n",
      "qui explicabo molestiae dolorem\n",
      "magnam ut rerum iure\n",
      "id nihil consequatur molestias animi provident\n",
      "fuga nam accusamus voluptas reiciendis itaque\n",
      "provident vel ut sit ratione est\n",
      "explicabo et eos deleniti nostrum ab id repellendus\n",
      "eos dolorem iste accusantium est eaque quam\n",
      "enim quo cumque\n",
      "non est facere\n",
      "commodi ullam sint et excepturi error explicabo praesentium voluptas\n",
      "eligendi iste nostrum consequuntur adipisci praesentium sit beatae perferendis\n",
      "optio dolor molestias sit\n",
      "ut numquam possimus omnis eius suscipit laudantium iure\n",
      "aut quo modi neque nostrum ducimus\n",
      "quibusdam cumque rem aut deserunt\n",
      "ut voluptatem illum ea doloribus itaque eos\n",
      "laborum non sunt aut ut assumenda perspiciatis voluptas\n",
      "repellendus qui recusandae incidunt voluptates tenetur qui omnis exercitationem\n",
      "soluta aliquam aperiam consequatur illo quis voluptas\n",
      "qui enim et consequuntur quia animi quis voluptate quibusdam\n",
      "ut quo aut ducimus alias\n",
      "sit asperiores ipsam eveniet odio non quia\n",
      "sit vel voluptatem et non libero\n",
      "qui et at rerum necessitatibus\n",
      "sed ab est est\n",
      "voluptatum itaque dolores nisi et quasi\n",
      "qui commodi dolor at maiores et quis id accusantium\n",
      "consequatur placeat omnis quisquam quia reprehenderit fugit veritatis facere\n",
      "voluptatem doloribus consectetur est ut ducimus\n",
      "beatae enim quia vel\n",
      "voluptas blanditiis repellendus animi ducimus error sapiente et suscipit\n",
      "et fugit quas eum in in aperiam quod\n",
      "consequatur id enim sunt et et\n",
      "repudiandae ea animi iusto\n",
      "aliquid eos sed fuga est maxime repellendus\n",
      "odio quis facere architecto reiciendis optio\n",
      "fugiat quod pariatur odit minima\n",
      "voluptatem laborum magni\n",
      "et iusto veniam et illum aut fuga\n",
      "sint hic doloribus consequatur eos non id\n",
      "consequuntur deleniti eos quia temporibus ab aliquid at\n",
      "enim unde ratione doloribus quas enim ut sit sapiente\n",
      "dignissimos eum dolor ut enim et delectus in\n",
      "doloremque officiis ad et non perferendis\n",
      "necessitatibus quasi exercitationem odio\n",
      "quam voluptatibus rerum veritatis\n",
      "pariatur consequatur quia magnam autem omnis non amet\n",
      "labore in ex et explicabo corporis aut quas\n",
      "tempora rem veritatis voluptas quo dolores vero\n",
      "laudantium voluptate suscipit sunt enim enim\n",
      "odit et voluptates doloribus alias odio et\n",
      "optio ipsam molestias necessitatibus occaecati facilis veritatis dolores aut\n",
      "dolore veritatis porro provident adipisci blanditiis et sunt\n",
      "placeat quia et porro iste\n",
      "nostrum quis quasi placeat\n",
      "sapiente omnis fugit eos\n",
      "sint soluta et vel magnam aut ut sed qui\n",
      "ad iusto omnis odit dolor voluptatibus\n",
      "aut amet sed\n",
      "ratione ex tenetur perferendis\n",
      "beatae soluta recusandae\n",
      "qui qui voluptates illo iste minima\n",
      "id minus libero illum nam ad officiis\n",
      "quaerat velit veniam amet cupiditate aut numquam ut sequi\n",
      "quas fugiat ut perspiciatis vero provident\n",
      "laboriosam dolor voluptates\n",
      "temporibus sit alias delectus eligendi possimus magni\n",
      "at nam consequatur ea labore ea harum\n"
     ]
    }
   ],
   "source": [
    "#h = {'Authorization': 'Bearer: {}'.format(jwt),'Content-type':'application/json'}\n",
    "\n",
    "r = requests.get(\"https://jsonplaceholder.typicode.com/posts\")\n",
    "if r.status_code == 200:\n",
    "    #print(r.text)\n",
    "    results = json.loads(r.text)\n",
    "    for result in results:\n",
    "        print(result.get('title'))"
   ]
  },
  {
   "cell_type": "code",
   "execution_count": null,
   "id": "04765614-3fb9-4668-9d93-17be91b617e3",
   "metadata": {},
   "outputs": [],
   "source": []
  }
 ],
 "metadata": {
  "kernelspec": {
   "display_name": "Python 3 (ipykernel)",
   "language": "python",
   "name": "python3"
  },
  "language_info": {
   "codemirror_mode": {
    "name": "ipython",
    "version": 3
   },
   "file_extension": ".py",
   "mimetype": "text/x-python",
   "name": "python",
   "nbconvert_exporter": "python",
   "pygments_lexer": "ipython3",
   "version": "3.13.0"
  }
 },
 "nbformat": 4,
 "nbformat_minor": 5
}
