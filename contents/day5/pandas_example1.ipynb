{
 "cells": [
  {
   "cell_type": "code",
   "execution_count": 1,
   "id": "9e50676b-4f4a-4bf5-bbb7-ff813e5c7a50",
   "metadata": {},
   "outputs": [
    {
     "name": "stdout",
     "output_type": "stream",
     "text": [
      "Requirement already satisfied: pandas in c:\\program files\\python313\\lib\\site-packages (2.2.3)\n",
      "Requirement already satisfied: numpy>=1.26.0 in c:\\program files\\python313\\lib\\site-packages (from pandas) (2.2.2)\n",
      "Requirement already satisfied: python-dateutil>=2.8.2 in c:\\program files\\python313\\lib\\site-packages (from pandas) (2.9.0.post0)\n",
      "Requirement already satisfied: pytz>=2020.1 in c:\\program files\\python313\\lib\\site-packages (from pandas) (2024.2)\n",
      "Requirement already satisfied: tzdata>=2022.7 in c:\\program files\\python313\\lib\\site-packages (from pandas) (2025.1)\n",
      "Requirement already satisfied: six>=1.5 in c:\\program files\\python313\\lib\\site-packages (from python-dateutil>=2.8.2->pandas) (1.17.0)\n",
      "Note: you may need to restart the kernel to use updated packages.\n"
     ]
    },
    {
     "name": "stderr",
     "output_type": "stream",
     "text": [
      "\n",
      "[notice] A new release of pip is available: 24.2 -> 24.3.1\n",
      "[notice] To update, run: python.exe -m pip install --upgrade pip\n"
     ]
    }
   ],
   "source": [
    "# to install pandas execute the following command from jupyter or cmd\n",
    "pip install pandas"
   ]
  },
  {
   "cell_type": "code",
   "execution_count": 2,
   "id": "df74acb6-6ed8-4432-920d-d6a32b221643",
   "metadata": {},
   "outputs": [
    {
     "name": "stdout",
     "output_type": "stream",
     "text": [
      "0        81\n",
      "1        46\n",
      "2        73\n",
      "3    python\n",
      "4        38\n",
      "5        91\n",
      "6       c++\n",
      "dtype: object\n"
     ]
    }
   ],
   "source": [
    "import pandas as pd\n",
    "s1 = pd.Series([81,46,73,'python',38,91,'c++'])\n",
    "\n",
    "print(s1)"
   ]
  },
  {
   "cell_type": "code",
   "execution_count": 3,
   "id": "acf31403-092b-4285-b629-58ea81fd09a0",
   "metadata": {},
   "outputs": [
    {
     "name": "stdout",
     "output_type": "stream",
     "text": [
      "A        81\n",
      "B        46\n",
      "C        73\n",
      "D    python\n",
      "E        38\n",
      "F        91\n",
      "G       c++\n",
      "dtype: object\n"
     ]
    }
   ],
   "source": [
    "# series with custom index\n",
    "s1 = pd.Series([81,46,73,'python',38,91,'c++'],index=['A','B','C','D','E','F','G'])\n",
    "\n",
    "# series can displayed using print function\n",
    "print(s1)"
   ]
  },
  {
   "cell_type": "code",
   "execution_count": 6,
   "id": "5df7d96c-1c17-4671-8023-196e84c35511",
   "metadata": {},
   "outputs": [
    {
     "data": {
      "image/png": "[encoded data removed]",
      "text/plain": [
       "<Figure size 640x480 with 1 Axes>"
      ]
     },
     "metadata": {},
     "output_type": "display_data"
    }
   ],
   "source": [
    "#pip install matplotlib  # package needed for plotting from pandas\n",
    "import matplotlib.pyplot as plt\n",
    "s1 = pd.Series([81,46,73,95,38,91,68],index=['A','B','C','D','E','F','G'])\n",
    "s1.plot(kind='bar')\n",
    "plt.show()"
   ]
  },
  {
   "cell_type": "code",
   "execution_count": 7,
   "id": "150456f4-a68c-4061-a634-aec8b9ef5219",
   "metadata": {},
   "outputs": [
    {
     "name": "stdout",
     "output_type": "stream",
     "text": [
      "            0    1    2   3\n",
      "0     ABC LLC  150  200  50\n",
      "1     Beta Co  200  210  90\n",
      "2  Yellow Inc  140  215  95\n"
     ]
    }
   ],
   "source": [
    "# creating dataframe\n",
    "sales = [('ABC LLC', 150, 200, 50),\n",
    "         ('Beta Co', 200, 210, 90),\n",
    "         ('Yellow Inc', 140, 215, 95)]\n",
    "df = pd.DataFrame(sales)\n",
    "\n",
    "# dataframe can be displayed using print function\n",
    "print(df)"
   ]
  },
  {
   "cell_type": "code",
   "execution_count": 9,
   "id": "7dfcc9fe-1788-4ef4-9c30-15775d24a8c0",
   "metadata": {},
   "outputs": [
    {
     "name": "stdout",
     "output_type": "stream",
     "text": [
      "      account  apr  may  jun\n",
      "0     ABC LLC  150  200   50\n",
      "1     Beta Co  200  210   90\n",
      "2  Yellow Inc  140  215   95\n"
     ]
    }
   ],
   "source": [
    "# create dataframe with custom column header\n",
    "sales = [('ABC LLC', 150, 200, 50),\n",
    "         ('Beta Co', 200, 210, 90),\n",
    "         ('Yellow Inc', 140, 215, 95)]\n",
    "\n",
    "headers = ['account','apr','may','jun'] # column headers as list\n",
    "# dataframe can be created custom column headers by passing a list to 'columns' parameter of DataFrame function\n",
    "df = pd.DataFrame(sales,columns=headers)\n",
    "print(df)"
   ]
  },
  {
   "cell_type": "code",
   "execution_count": 10,
   "id": "3daf5c62-269e-4596-83f6-7bccbd9ba27f",
   "metadata": {},
   "outputs": [
    {
     "name": "stdout",
     "output_type": "stream",
     "text": [
      "            0    1    2   3\n",
      "0     ABC LLC  150  200  50\n",
      "1     Beta Co  200  210  90\n",
      "2  Yellow Inc  140  215  95\n"
     ]
    }
   ],
   "source": [
    "# create dataframe with custom column header\n",
    "sales = [('ABC LLC', 150, 200, 50),\n",
    "         ('Beta Co', 200, 210, 90),\n",
    "         ('Yellow Inc', 140, 215, 95)]\n",
    "\n",
    "headers = ['account','apr','may','jun'] # column headers as list\n",
    "# dataframe can be created custom column headers by passing a list to 'columns' parameter of DataFrame function\n",
    "df = pd.DataFrame(sales)\n",
    "print(df)"
   ]
  },
  {
   "cell_type": "code",
   "execution_count": 11,
   "id": "d6f5331f-b894-4b8f-a0f2-960105c4a8af",
   "metadata": {},
   "outputs": [
    {
     "name": "stdout",
     "output_type": "stream",
     "text": [
      "      account  apr  may  jun\n",
      "0     ABC LLC  150  200   50\n",
      "1     Beta Co  200  210   90\n",
      "2  Yellow Inc  140  215   95\n"
     ]
    }
   ],
   "source": [
    "df.columns = headers\n",
    "print(df)"
   ]
  },
  {
   "cell_type": "code",
   "execution_count": 12,
   "id": "c17e67d5-73d1-46b7-9235-cf8acc63b520",
   "metadata": {},
   "outputs": [
    {
     "name": "stdout",
     "output_type": "stream",
     "text": [
      "      account  apr  may  jun\n",
      "0     ABC LLC  150  200   50\n",
      "1     Beta Co  200  210   90\n",
      "2  Yellow Inc  140  215   95\n"
     ]
    }
   ],
   "source": [
    "# reset the row index by account\n",
    "df.set_index('account') # will return a new datafroame\n",
    "print(df)"
   ]
  },
  {
   "cell_type": "code",
   "execution_count": 14,
   "id": "ca3c2f08-5190-4c8b-aa88-0f0e08c1c347",
   "metadata": {},
   "outputs": [
    {
     "name": "stdout",
     "output_type": "stream",
     "text": [
      "            apr  may  jun\n",
      "account                  \n",
      "ABC LLC     150  200   50\n",
      "Beta Co     200  210   90\n",
      "Yellow Inc  140  215   95\n"
     ]
    }
   ],
   "source": [
    "# to modify the datafram use 'inplace=True'\n",
    "df.set_index('account',inplace=True) # will return a new datafroame\n",
    "print(df)"
   ]
  },
  {
   "cell_type": "code",
   "execution_count": 15,
   "id": "46f8a40e-8810-4f1d-875d-686abb93d033",
   "metadata": {},
   "outputs": [
    {
     "data": {
      "image/png": "[encoded data removed]",
      "text/plain": [
       "<Figure size 640x480 with 1 Axes>"
      ]
     },
     "metadata": {},
     "output_type": "display_data"
    }
   ],
   "source": [
    "df.plot(kind='bar')\n",
    "plt.show()"
   ]
  },
  {
   "cell_type": "code",
   "execution_count": 16,
   "id": "306f4357-6968-4445-8833-b35b2a76305c",
   "metadata": {},
   "outputs": [
    {
     "name": "stdout",
     "output_type": "stream",
     "text": [
      "Index(['id', 'first_name', 'last_name', 'company_name', 'address', 'city',\n",
      "       'county', 'postal', 'phone1', 'phone2', 'email', 'web', 'in', 'out'],\n",
      "      dtype='object')\n"
     ]
    }
   ],
   "source": [
    "# convert a csv to dataframe\n",
    "df = pd.read_csv('uk-500.csv')\n",
    "print(df.columns)"
   ]
  },
  {
   "cell_type": "code",
   "execution_count": 17,
   "id": "d48783ed-82b2-4418-bce8-4006799f2465",
   "metadata": {},
   "outputs": [
    {
     "name": "stdout",
     "output_type": "stream",
     "text": [
      "    id first_name   last_name             company_name            address  \\\n",
      "0  1.0    Aleshia  Tomkiewicz  Alan D Rosenburg Cpa Pc       14 Taylor St   \n",
      "1  2.0       Evan   Zigomalas       Cap Gemini America        5 Binney St   \n",
      "2  3.0     France     Andrade      Elliott, John W Esq       8 Moor Place   \n",
      "3  4.0    Ulysses   Mcwalters           Mcmahan, Ben L      505 Exeter Rd   \n",
      "4  5.0     Tyisha      Veness           Champagne Room  5396 Forth Street   \n",
      "\n",
      "                             city           county    postal        phone1  \\\n",
      "0               St. Stephens Ward             Kent   CT2 7PP  01835-703597   \n",
      "1                      Abbey Ward  Buckinghamshire  HP11 2AX  01937-864715   \n",
      "2  East Southbourne and Tuckton W      Bournemouth   BH6 3BE  01347-368222   \n",
      "3              Hawerby cum Beesby     Lincolnshire  DN36 5RP  01912-771311   \n",
      "4      Greets Green and Lyng Ward    West Midlands   B70 9DT  01547-429341   \n",
      "\n",
      "         phone2                       email  \\\n",
      "0  01944-369967     atomkiewicz@hotmail.com   \n",
      "1  01714-737668    evan.zigomalas@gmail.com   \n",
      "2  01935-821636  france.andrade@hotmail.com   \n",
      "3  01302-601380         ulysses@hotmail.com   \n",
      "4  01290-367248   tyisha.veness@hotmail.com   \n",
      "\n",
      "                                    web    in  out  \n",
      "0  http://www.alandrosenburgcpapc.co.uk   9:3  NaN  \n",
      "1     http://www.capgeminiamerica.co.uk  9:13  NaN  \n",
      "2      http://www.elliottjohnwesq.co.uk  9:46  NaN  \n",
      "3          http://www.mcmahanbenl.co.uk   9:4  NaN  \n",
      "4        http://www.champagneroom.co.uk   8:1  NaN  \n"
     ]
    }
   ],
   "source": [
    "print(df.head()) # returns the 1st five rows   df.head(10) - returns first 10 rows"
   ]
  },
  {
   "cell_type": "code",
   "execution_count": 18,
   "id": "dc25cee2-65a5-41b7-ab6e-40fec2909783",
   "metadata": {},
   "outputs": [
    {
     "ename": "ModuleNotFoundError",
     "evalue": "No module named 'openpyxl'",
     "output_type": "error",
     "traceback": [
      "\u001b[1;31m---------------------------------------------------------------------------\u001b[0m",
      "\u001b[1;31mModuleNotFoundError\u001b[0m                       Traceback (most recent call last)",
      "Cell \u001b[1;32mIn[18], line 2\u001b[0m\n\u001b[0;32m      1\u001b[0m \u001b[38;5;66;03m# writing the data frome to a excel file\u001b[39;00m\n\u001b[1;32m----> 2\u001b[0m \u001b[43mdf\u001b[49m\u001b[38;5;241;43m.\u001b[39;49m\u001b[43mto_excel\u001b[49m\u001b[43m(\u001b[49m\u001b[38;5;124;43m'\u001b[39;49m\u001b[38;5;124;43mtest1.xlsx\u001b[39;49m\u001b[38;5;124;43m'\u001b[39;49m\u001b[43m,\u001b[49m\u001b[43mindex\u001b[49m\u001b[38;5;241;43m=\u001b[39;49m\u001b[38;5;28;43;01mFalse\u001b[39;49;00m\u001b[43m)\u001b[49m\n",
      "File \u001b[1;32mC:\\Program Files\\Python313\\Lib\\site-packages\\pandas\\util\\_decorators.py:333\u001b[0m, in \u001b[0;36mdeprecate_nonkeyword_arguments.<locals>.decorate.<locals>.wrapper\u001b[1;34m(*args, **kwargs)\u001b[0m\n\u001b[0;32m    327\u001b[0m \u001b[38;5;28;01mif\u001b[39;00m \u001b[38;5;28mlen\u001b[39m(args) \u001b[38;5;241m>\u001b[39m num_allow_args:\n\u001b[0;32m    328\u001b[0m     warnings\u001b[38;5;241m.\u001b[39mwarn(\n\u001b[0;32m    329\u001b[0m         msg\u001b[38;5;241m.\u001b[39mformat(arguments\u001b[38;5;241m=\u001b[39m_format_argument_list(allow_args)),\n\u001b[0;32m    330\u001b[0m         \u001b[38;5;167;01mFutureWarning\u001b[39;00m,\n\u001b[0;32m    331\u001b[0m         stacklevel\u001b[38;5;241m=\u001b[39mfind_stack_level(),\n\u001b[0;32m    332\u001b[0m     )\n\u001b[1;32m--> 333\u001b[0m \u001b[38;5;28;01mreturn\u001b[39;00m \u001b[43mfunc\u001b[49m\u001b[43m(\u001b[49m\u001b[38;5;241;43m*\u001b[39;49m\u001b[43margs\u001b[49m\u001b[43m,\u001b[49m\u001b[43m \u001b[49m\u001b[38;5;241;43m*\u001b[39;49m\u001b[38;5;241;43m*\u001b[39;49m\u001b[43mkwargs\u001b[49m\u001b[43m)\u001b[49m\n",
      "File \u001b[1;32mC:\\Program Files\\Python313\\Lib\\site-packages\\pandas\\core\\generic.py:2417\u001b[0m, in \u001b[0;36mNDFrame.to_excel\u001b[1;34m(self, excel_writer, sheet_name, na_rep, float_format, columns, header, index, index_label, startrow, startcol, engine, merge_cells, inf_rep, freeze_panes, storage_options, engine_kwargs)\u001b[0m\n\u001b[0;32m   2404\u001b[0m \u001b[38;5;28;01mfrom\u001b[39;00m\u001b[38;5;250m \u001b[39m\u001b[38;5;21;01mpandas\u001b[39;00m\u001b[38;5;21;01m.\u001b[39;00m\u001b[38;5;21;01mio\u001b[39;00m\u001b[38;5;21;01m.\u001b[39;00m\u001b[38;5;21;01mformats\u001b[39;00m\u001b[38;5;21;01m.\u001b[39;00m\u001b[38;5;21;01mexcel\u001b[39;00m\u001b[38;5;250m \u001b[39m\u001b[38;5;28;01mimport\u001b[39;00m ExcelFormatter\n\u001b[0;32m   2406\u001b[0m formatter \u001b[38;5;241m=\u001b[39m ExcelFormatter(\n\u001b[0;32m   2407\u001b[0m     df,\n\u001b[0;32m   2408\u001b[0m     na_rep\u001b[38;5;241m=\u001b[39mna_rep,\n\u001b[1;32m   (...)\u001b[0m\n\u001b[0;32m   2415\u001b[0m     inf_rep\u001b[38;5;241m=\u001b[39minf_rep,\n\u001b[0;32m   2416\u001b[0m )\n\u001b[1;32m-> 2417\u001b[0m \u001b[43mformatter\u001b[49m\u001b[38;5;241;43m.\u001b[39;49m\u001b[43mwrite\u001b[49m\u001b[43m(\u001b[49m\n\u001b[0;32m   2418\u001b[0m \u001b[43m    \u001b[49m\u001b[43mexcel_writer\u001b[49m\u001b[43m,\u001b[49m\n\u001b[0;32m   2419\u001b[0m \u001b[43m    \u001b[49m\u001b[43msheet_name\u001b[49m\u001b[38;5;241;43m=\u001b[39;49m\u001b[43msheet_name\u001b[49m\u001b[43m,\u001b[49m\n\u001b[0;32m   2420\u001b[0m \u001b[43m    \u001b[49m\u001b[43mstartrow\u001b[49m\u001b[38;5;241;43m=\u001b[39;49m\u001b[43mstartrow\u001b[49m\u001b[43m,\u001b[49m\n\u001b[0;32m   2421\u001b[0m \u001b[43m    \u001b[49m\u001b[43mstartcol\u001b[49m\u001b[38;5;241;43m=\u001b[39;49m\u001b[43mstartcol\u001b[49m\u001b[43m,\u001b[49m\n\u001b[0;32m   2422\u001b[0m \u001b[43m    \u001b[49m\u001b[43mfreeze_panes\u001b[49m\u001b[38;5;241;43m=\u001b[39;49m\u001b[43mfreeze_panes\u001b[49m\u001b[43m,\u001b[49m\n\u001b[0;32m   2423\u001b[0m \u001b[43m    \u001b[49m\u001b[43mengine\u001b[49m\u001b[38;5;241;43m=\u001b[39;49m\u001b[43mengine\u001b[49m\u001b[43m,\u001b[49m\n\u001b[0;32m   2424\u001b[0m \u001b[43m    \u001b[49m\u001b[43mstorage_options\u001b[49m\u001b[38;5;241;43m=\u001b[39;49m\u001b[43mstorage_options\u001b[49m\u001b[43m,\u001b[49m\n\u001b[0;32m   2425\u001b[0m \u001b[43m    \u001b[49m\u001b[43mengine_kwargs\u001b[49m\u001b[38;5;241;43m=\u001b[39;49m\u001b[43mengine_kwargs\u001b[49m\u001b[43m,\u001b[49m\n\u001b[0;32m   2426\u001b[0m \u001b[43m\u001b[49m\u001b[43m)\u001b[49m\n",
      "File \u001b[1;32mC:\\Program Files\\Python313\\Lib\\site-packages\\pandas\\io\\formats\\excel.py:943\u001b[0m, in \u001b[0;36mExcelFormatter.write\u001b[1;34m(self, writer, sheet_name, startrow, startcol, freeze_panes, engine, storage_options, engine_kwargs)\u001b[0m\n\u001b[0;32m    941\u001b[0m     need_save \u001b[38;5;241m=\u001b[39m \u001b[38;5;28;01mFalse\u001b[39;00m\n\u001b[0;32m    942\u001b[0m \u001b[38;5;28;01melse\u001b[39;00m:\n\u001b[1;32m--> 943\u001b[0m     writer \u001b[38;5;241m=\u001b[39m \u001b[43mExcelWriter\u001b[49m\u001b[43m(\u001b[49m\n\u001b[0;32m    944\u001b[0m \u001b[43m        \u001b[49m\u001b[43mwriter\u001b[49m\u001b[43m,\u001b[49m\n\u001b[0;32m    945\u001b[0m \u001b[43m        \u001b[49m\u001b[43mengine\u001b[49m\u001b[38;5;241;43m=\u001b[39;49m\u001b[43mengine\u001b[49m\u001b[43m,\u001b[49m\n\u001b[0;32m    946\u001b[0m \u001b[43m        \u001b[49m\u001b[43mstorage_options\u001b[49m\u001b[38;5;241;43m=\u001b[39;49m\u001b[43mstorage_options\u001b[49m\u001b[43m,\u001b[49m\n\u001b[0;32m    947\u001b[0m \u001b[43m        \u001b[49m\u001b[43mengine_kwargs\u001b[49m\u001b[38;5;241;43m=\u001b[39;49m\u001b[43mengine_kwargs\u001b[49m\u001b[43m,\u001b[49m\n\u001b[0;32m    948\u001b[0m \u001b[43m    \u001b[49m\u001b[43m)\u001b[49m\n\u001b[0;32m    949\u001b[0m     need_save \u001b[38;5;241m=\u001b[39m \u001b[38;5;28;01mTrue\u001b[39;00m\n\u001b[0;32m    951\u001b[0m \u001b[38;5;28;01mtry\u001b[39;00m:\n",
      "File \u001b[1;32mC:\\Program Files\\Python313\\Lib\\site-packages\\pandas\\io\\excel\\_openpyxl.py:57\u001b[0m, in \u001b[0;36mOpenpyxlWriter.__init__\u001b[1;34m(self, path, engine, date_format, datetime_format, mode, storage_options, if_sheet_exists, engine_kwargs, **kwargs)\u001b[0m\n\u001b[0;32m     44\u001b[0m \u001b[38;5;28;01mdef\u001b[39;00m\u001b[38;5;250m \u001b[39m\u001b[38;5;21m__init__\u001b[39m(\n\u001b[0;32m     45\u001b[0m     \u001b[38;5;28mself\u001b[39m,\n\u001b[0;32m     46\u001b[0m     path: FilePath \u001b[38;5;241m|\u001b[39m WriteExcelBuffer \u001b[38;5;241m|\u001b[39m ExcelWriter,\n\u001b[1;32m   (...)\u001b[0m\n\u001b[0;32m     55\u001b[0m ) \u001b[38;5;241m-\u001b[39m\u001b[38;5;241m>\u001b[39m \u001b[38;5;28;01mNone\u001b[39;00m:\n\u001b[0;32m     56\u001b[0m     \u001b[38;5;66;03m# Use the openpyxl module as the Excel writer.\u001b[39;00m\n\u001b[1;32m---> 57\u001b[0m     \u001b[38;5;28;01mfrom\u001b[39;00m\u001b[38;5;250m \u001b[39m\u001b[38;5;21;01mopenpyxl\u001b[39;00m\u001b[38;5;21;01m.\u001b[39;00m\u001b[38;5;21;01mworkbook\u001b[39;00m\u001b[38;5;250m \u001b[39m\u001b[38;5;28;01mimport\u001b[39;00m Workbook\n\u001b[0;32m     59\u001b[0m     engine_kwargs \u001b[38;5;241m=\u001b[39m combine_kwargs(engine_kwargs, kwargs)\n\u001b[0;32m     61\u001b[0m     \u001b[38;5;28msuper\u001b[39m()\u001b[38;5;241m.\u001b[39m\u001b[38;5;21m__init__\u001b[39m(\n\u001b[0;32m     62\u001b[0m         path,\n\u001b[0;32m     63\u001b[0m         mode\u001b[38;5;241m=\u001b[39mmode,\n\u001b[1;32m   (...)\u001b[0m\n\u001b[0;32m     66\u001b[0m         engine_kwargs\u001b[38;5;241m=\u001b[39mengine_kwargs,\n\u001b[0;32m     67\u001b[0m     )\n",
      "\u001b[1;31mModuleNotFoundError\u001b[0m: No module named 'openpyxl'"
     ]
    }
   ],
   "source": [
    "# writing the data frome to a excel file\n",
    "df.to_excel('test1.xlsx',index=False)"
   ]
  },
  {
   "cell_type": "code",
   "execution_count": 19,
   "id": "5c1711c2-4437-4ae1-a232-13784e67858d",
   "metadata": {},
   "outputs": [
    {
     "name": "stdout",
     "output_type": "stream",
     "text": [
      "Collecting openpyxlNote: you may need to restart the kernel to use updated packages.\n",
      "\n",
      "  Downloading openpyxl-3.1.5-py2.py3-none-any.whl.metadata (2.5 kB)\n",
      "Collecting et-xmlfile (from openpyxl)\n",
      "  Downloading et_xmlfile-2.0.0-py3-none-any.whl.metadata (2.7 kB)\n",
      "Downloading openpyxl-3.1.5-py2.py3-none-any.whl (250 kB)\n",
      "Downloading et_xmlfile-2.0.0-py3-none-any.whl (18 kB)\n",
      "Installing collected packages: et-xmlfile, openpyxl\n",
      "Successfully installed et-xmlfile-2.0.0 openpyxl-3.1.5\n"
     ]
    },
    {
     "name": "stderr",
     "output_type": "stream",
     "text": [
      "\n",
      "[notice] A new release of pip is available: 24.2 -> 24.3.1\n",
      "[notice] To update, run: python.exe -m pip install --upgrade pip\n"
     ]
    }
   ],
   "source": [
    "pip install openpyxl"
   ]
  },
  {
   "cell_type": "code",
   "execution_count": 20,
   "id": "fc312be1-a8c0-4f62-9de2-ce7ce91fa910",
   "metadata": {},
   "outputs": [],
   "source": [
    "df.to_excel('test1.xlsx',index=False)"
   ]
  },
  {
   "cell_type": "code",
   "execution_count": 21,
   "id": "212cb3f4-12b9-4e40-907f-27735b8140a9",
   "metadata": {},
   "outputs": [],
   "source": [
    "# how to apply filter\n",
    "# iloc - filter using row index or column index or both\n",
    "# loc - filter using row value"
   ]
  },
  {
   "cell_type": "code",
   "execution_count": 22,
   "id": "7784cfa0-7e3c-451b-baed-9611b62756ce",
   "metadata": {},
   "outputs": [
    {
     "name": "stdout",
     "output_type": "stream",
     "text": [
      "id                                               1.0\n",
      "first_name                                   Aleshia\n",
      "last_name                                 Tomkiewicz\n",
      "company_name                 Alan D Rosenburg Cpa Pc\n",
      "address                                 14 Taylor St\n",
      "city                               St. Stephens Ward\n",
      "county                                          Kent\n",
      "postal                                       CT2 7PP\n",
      "phone1                                  01835-703597\n",
      "phone2                                  01944-369967\n",
      "email                        atomkiewicz@hotmail.com\n",
      "web             http://www.alandrosenburgcpapc.co.uk\n",
      "in                                               9:3\n",
      "out                                              NaN\n",
      "Name: 0, dtype: object\n"
     ]
    }
   ],
   "source": [
    "print(df.iloc[0])"
   ]
  },
  {
   "cell_type": "code",
   "execution_count": 23,
   "id": "e2fe029c-f8da-42fa-86f5-f42c84b072cb",
   "metadata": {},
   "outputs": [
    {
     "name": "stdout",
     "output_type": "stream",
     "text": [
      "      id   first_name  last_name                   company_name  \\\n",
      "10  11.0     Fernanda     Writer           K & R Associates Inc   \n",
      "11  12.0  Charlesetta        Erm               Cain, John M Esq   \n",
      "12  13.0     Corrinne      Jaret              Sound Vision Corp   \n",
      "13  14.0       Niesha      Bruch         Rowley/hansell Petetin   \n",
      "14  15.0       Rueben  Gastellum  Industrial Engineering Assocs   \n",
      "\n",
      "               address                            city                 county  \\\n",
      "10  620 Northampton St                      Wilmington                   Kent   \n",
      "11         5 Hygeia St            Loundsley Green Ward             Derbyshire   \n",
      "12      2150 Morley St                        Dee Ward  Dumfries and Galloway   \n",
      "13        24 Bolton St  Broxburn, Uphall and Winchburg           West Lothian   \n",
      "14        4 Forrest St               Weston-Super-Mare         North Somerset   \n",
      "\n",
      "      postal        phone1        phone2                             email  \\\n",
      "10   DA2 7PP  01630-202053  01687-879391             fernanda@writer.co.uk   \n",
      "11   S40 4LY  01276-816806  01517-624517         charlesetta_erm@gmail.com   \n",
      "12   DG8 7DE  01625-932209  01642-322954          corrinne_jaret@gmail.com   \n",
      "13  EH52 5TL  01874-856950  01342-793603            niesha.bruch@yahoo.com   \n",
      "14  BS23 3HG  01976-755279  01956-535511  rueben_gastellum@gastellum.co.uk   \n",
      "\n",
      "                                             web    in  out  \n",
      "10              http://www.krassociatesinc.co.uk  8:18  NaN  \n",
      "11                 http://www.cainjohnmesq.co.uk  8:50  NaN  \n",
      "12              http://www.soundvisioncorp.co.uk  9:55  NaN  \n",
      "13         http://www.rowleyhansellpetetin.co.uk  9:37  NaN  \n",
      "14  http://www.industrialengineeringassocs.co.uk  8:38  NaN  \n"
     ]
    }
   ],
   "source": [
    "print(df.iloc[10:15])"
   ]
  },
  {
   "cell_type": "code",
   "execution_count": 25,
   "id": "e878990e-9236-43d7-82ed-4fbbcfa31e5d",
   "metadata": {},
   "outputs": [
    {
     "name": "stdout",
     "output_type": "stream",
     "text": [
      "        id first_name last_name                   company_name  \\\n",
      "25    26.0    Leonard    Kufner   Arctic Star Distributing Inc   \n",
      "58    59.0    Chantay    Kamens      Brewster Wallcoverings Co   \n",
      "73    74.0        Yun   Paletta             Goe, Douglas E Esq   \n",
      "102  103.0     Graham  Stanwick  Tiburon Pen Chmbr Commrce Inc   \n",
      "\n",
      "                address                            city          county  \\\n",
      "25        41 Canning St        Steornabhagh a Deas Ward   Western Isles   \n",
      "58     763 Parkfield Rd                    Norton Canes   Staffordshire   \n",
      "73   9205 Upper Hill St           City and Hunslet Ward  West Yorkshire   \n",
      "102     73 Hawkstone St  Renfrew South & Gallowhill War  Dunbartonshire   \n",
      "\n",
      "       postal        phone1        phone2                      email  \\\n",
      "25    HS1 2PZ  01230-623547  01604-718601       lkufner@kufner.co.uk   \n",
      "58   WS11 9RH  01823-383806  01245-146126        ckamens@hotmail.com   \n",
      "73    LS1 5QE  01350-332706  01374-255198  yun_paletta@paletta.co.uk   \n",
      "102   G52 4YG  01860-191930  01409-786106        gstanwick@gmail.com   \n",
      "\n",
      "                                            web    in  out  \n",
      "25   http://www.arcticstardistributinginc.co.uk   8:9  NaN  \n",
      "58     http://www.brewsterwallcoveringsco.co.uk  8:14  NaN  \n",
      "73              http://www.goedouglaseesq.co.uk  8:36  NaN  \n",
      "102  http://www.tiburonpenchmbrcommrceinc.co.uk   8:3  NaN  \n"
     ]
    }
   ],
   "source": [
    "print(df.iloc[[25,58,73,102]])"
   ]
  },
  {
   "cell_type": "code",
   "execution_count": 26,
   "id": "8a8278c7-730c-49ca-9da3-67d6220337f7",
   "metadata": {},
   "outputs": [
    {
     "name": "stdout",
     "output_type": "stream",
     "text": [
      "    first_name   last_name                    company_name\n",
      "0      Aleshia  Tomkiewicz         Alan D Rosenburg Cpa Pc\n",
      "1         Evan   Zigomalas              Cap Gemini America\n",
      "2       France     Andrade             Elliott, John W Esq\n",
      "3      Ulysses   Mcwalters                  Mcmahan, Ben L\n",
      "4       Tyisha      Veness                  Champagne Room\n",
      "..         ...         ...                             ...\n",
      "495      Avery        Veit      Plaza Gourmet Delicatessen\n",
      "496       Reid     Euresti            Fitzgerald, Edward J\n",
      "497  Charlette    Brenning              Furey & Associates\n",
      "498  Celestina       Keeny        Bfg Federal Credit Union\n",
      "499         Mi      Richan  Nelson Wright Haworth Golf Crs\n",
      "\n",
      "[500 rows x 3 columns]\n"
     ]
    }
   ],
   "source": [
    "print(df.iloc[:,1:4])"
   ]
  },
  {
   "cell_type": "code",
   "execution_count": 28,
   "id": "92b710b7-4454-42da-b008-2d087eee9067",
   "metadata": {},
   "outputs": [
    {
     "name": "stdout",
     "output_type": "stream",
     "text": [
      "    first_name   last_name                       email\n",
      "0      Aleshia  Tomkiewicz     atomkiewicz@hotmail.com\n",
      "1         Evan   Zigomalas    evan.zigomalas@gmail.com\n",
      "2       France     Andrade  france.andrade@hotmail.com\n",
      "3      Ulysses   Mcwalters         ulysses@hotmail.com\n",
      "4       Tyisha      Veness   tyisha.veness@hotmail.com\n",
      "..         ...         ...                         ...\n",
      "495      Avery        Veit            avery@veit.co.uk\n",
      "496       Reid     Euresti      reuresti@euresti.co.uk\n",
      "497  Charlette    Brenning    cbrenning@brenning.co.uk\n",
      "498  Celestina       Keeny   celestina_keeny@gmail.com\n",
      "499         Mi      Richan              mi@hotmail.com\n",
      "\n",
      "[500 rows x 3 columns]\n"
     ]
    }
   ],
   "source": [
    "print(df.iloc[:,[1,2,10]])"
   ]
  },
  {
   "cell_type": "code",
   "execution_count": 31,
   "id": "a2a96129-1894-48e6-8d81-5f0b11ca61fa",
   "metadata": {},
   "outputs": [
    {
     "name": "stdout",
     "output_type": "stream",
     "text": [
      "      first_name  last_name                       email\n",
      "1           Evan  Zigomalas    evan.zigomalas@gmail.com\n",
      "11   Charlesetta        Erm   charlesetta_erm@gmail.com\n",
      "12      Corrinne      Jaret    corrinne_jaret@gmail.com\n",
      "29         Karma     Quarto           kquarto@gmail.com\n",
      "32         Milly    Savidge             milly@gmail.com\n",
      "..           ...        ...                         ...\n",
      "472          Mel   Picciuto      mel.picciuto@gmail.com\n",
      "480      Tijuana   Machalek  tijuana.machalek@gmail.com\n",
      "483      Derrick    Dolloff   derrick_dolloff@gmail.com\n",
      "494       Alesia      Katie      alesia_katie@gmail.com\n",
      "498    Celestina      Keeny   celestina_keeny@gmail.com\n",
      "\n",
      "[130 rows x 3 columns]\n"
     ]
    }
   ],
   "source": [
    "# filter records with email ending with gmail.com\n",
    "#print(df.loc[df['email'].str.endswith('gmail.com')])\n",
    "print(df.loc[df['email'].str.endswith('gmail.com'),['first_name','last_name','email']])"
   ]
  },
  {
   "cell_type": "code",
   "execution_count": 32,
   "id": "97a5d2e6-eebe-46fa-ad5b-e5276f148ec7",
   "metadata": {},
   "outputs": [
    {
     "data": {
      "text/html": [
       "<div>\n",
       "<style scoped>\n",
       "    .dataframe tbody tr th:only-of-type {\n",
       "        vertical-align: middle;\n",
       "    }\n",
       "\n",
       "    .dataframe tbody tr th {\n",
       "        vertical-align: top;\n",
       "    }\n",
       "\n",
       "    .dataframe thead th {\n",
       "        text-align: right;\n",
       "    }\n",
       "</style>\n",
       "<table border=\"1\" class=\"dataframe\">\n",
       "  <thead>\n",
       "    <tr style=\"text-align: right;\">\n",
       "      <th></th>\n",
       "      <th>id</th>\n",
       "      <th>first_name</th>\n",
       "      <th>last_name</th>\n",
       "      <th>company_name</th>\n",
       "      <th>address</th>\n",
       "      <th>city</th>\n",
       "      <th>county</th>\n",
       "      <th>postal</th>\n",
       "      <th>phone1</th>\n",
       "      <th>phone2</th>\n",
       "      <th>email</th>\n",
       "      <th>web</th>\n",
       "      <th>in</th>\n",
       "      <th>out</th>\n",
       "    </tr>\n",
       "  </thead>\n",
       "  <tbody>\n",
       "    <tr>\n",
       "      <th>2</th>\n",
       "      <td>3.0</td>\n",
       "      <td>France</td>\n",
       "      <td>Andrade</td>\n",
       "      <td>Elliott, John W Esq</td>\n",
       "      <td>8 Moor Place</td>\n",
       "      <td>East Southbourne and Tuckton W</td>\n",
       "      <td>Bournemouth</td>\n",
       "      <td>BH6 3BE</td>\n",
       "      <td>01347-368222</td>\n",
       "      <td>01935-821636</td>\n",
       "      <td>france.andrade@hotmail.com</td>\n",
       "      <td>http://www.elliottjohnwesq.co.uk</td>\n",
       "      <td>9:46</td>\n",
       "      <td>NaN</td>\n",
       "    </tr>\n",
       "  </tbody>\n",
       "</table>\n",
       "</div>"
      ],
      "text/plain": [
       "    id first_name last_name         company_name       address  \\\n",
       "2  3.0     France   Andrade  Elliott, John W Esq  8 Moor Place   \n",
       "\n",
       "                             city       county   postal        phone1  \\\n",
       "2  East Southbourne and Tuckton W  Bournemouth  BH6 3BE  01347-368222   \n",
       "\n",
       "         phone2                       email                               web  \\\n",
       "2  01935-821636  france.andrade@hotmail.com  http://www.elliottjohnwesq.co.uk   \n",
       "\n",
       "     in  out  \n",
       "2  9:46  NaN  "
      ]
     },
     "execution_count": 32,
     "metadata": {},
     "output_type": "execute_result"
    }
   ],
   "source": [
    "df.loc[df['first_name']=='France']"
   ]
  },
  {
   "cell_type": "code",
   "execution_count": 33,
   "id": "8bd0ca38-a394-49c7-94df-0ca2c6935a82",
   "metadata": {},
   "outputs": [],
   "source": [
    "df.loc[df['first_name']=='France','last_name'] = 'Andrew'"
   ]
  },
  {
   "cell_type": "code",
   "execution_count": 34,
   "id": "5f1ce2c0-3439-48d1-9ac2-ddae85610fba",
   "metadata": {},
   "outputs": [
    {
     "data": {
      "text/html": [
       "<div>\n",
       "<style scoped>\n",
       "    .dataframe tbody tr th:only-of-type {\n",
       "        vertical-align: middle;\n",
       "    }\n",
       "\n",
       "    .dataframe tbody tr th {\n",
       "        vertical-align: top;\n",
       "    }\n",
       "\n",
       "    .dataframe thead th {\n",
       "        text-align: right;\n",
       "    }\n",
       "</style>\n",
       "<table border=\"1\" class=\"dataframe\">\n",
       "  <thead>\n",
       "    <tr style=\"text-align: right;\">\n",
       "      <th></th>\n",
       "      <th>id</th>\n",
       "      <th>first_name</th>\n",
       "      <th>last_name</th>\n",
       "      <th>company_name</th>\n",
       "      <th>address</th>\n",
       "      <th>city</th>\n",
       "      <th>county</th>\n",
       "      <th>postal</th>\n",
       "      <th>phone1</th>\n",
       "      <th>phone2</th>\n",
       "      <th>email</th>\n",
       "      <th>web</th>\n",
       "      <th>in</th>\n",
       "      <th>out</th>\n",
       "    </tr>\n",
       "  </thead>\n",
       "  <tbody>\n",
       "    <tr>\n",
       "      <th>2</th>\n",
       "      <td>3.0</td>\n",
       "      <td>France</td>\n",
       "      <td>Andrew</td>\n",
       "      <td>Elliott, John W Esq</td>\n",
       "      <td>8 Moor Place</td>\n",
       "      <td>East Southbourne and Tuckton W</td>\n",
       "      <td>Bournemouth</td>\n",
       "      <td>BH6 3BE</td>\n",
       "      <td>01347-368222</td>\n",
       "      <td>01935-821636</td>\n",
       "      <td>france.andrade@hotmail.com</td>\n",
       "      <td>http://www.elliottjohnwesq.co.uk</td>\n",
       "      <td>9:46</td>\n",
       "      <td>NaN</td>\n",
       "    </tr>\n",
       "  </tbody>\n",
       "</table>\n",
       "</div>"
      ],
      "text/plain": [
       "    id first_name last_name         company_name       address  \\\n",
       "2  3.0     France    Andrew  Elliott, John W Esq  8 Moor Place   \n",
       "\n",
       "                             city       county   postal        phone1  \\\n",
       "2  East Southbourne and Tuckton W  Bournemouth  BH6 3BE  01347-368222   \n",
       "\n",
       "         phone2                       email                               web  \\\n",
       "2  01935-821636  france.andrade@hotmail.com  http://www.elliottjohnwesq.co.uk   \n",
       "\n",
       "     in  out  \n",
       "2  9:46  NaN  "
      ]
     },
     "execution_count": 34,
     "metadata": {},
     "output_type": "execute_result"
    }
   ],
   "source": [
    "df.loc[df['first_name']=='France']"
   ]
  },
  {
   "cell_type": "code",
   "execution_count": null,
   "id": "689f76a7-73b3-4a4d-ab03-19b55dba3910",
   "metadata": {},
   "outputs": [],
   "source": []
  }
 ],
 "metadata": {
  "kernelspec": {
   "display_name": "Python 3 (ipykernel)",
   "language": "python",
   "name": "python3"
  },
  "language_info": {
   "codemirror_mode": {
    "name": "ipython",
    "version": 3
   },
   "file_extension": ".py",
   "mimetype": "text/x-python",
   "name": "python",
   "nbconvert_exporter": "python",
   "pygments_lexer": "ipython3",
   "version": "3.13.0"
  }
 },
 "nbformat": 4,
 "nbformat_minor": 5
}
