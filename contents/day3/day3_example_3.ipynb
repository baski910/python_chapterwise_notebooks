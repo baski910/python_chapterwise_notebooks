{
 "cells": [
  {
   "cell_type": "code",
   "execution_count": 1,
   "id": "ca1e156d-129e-4bd6-b3db-251693f12845",
   "metadata": {},
   "outputs": [
    {
     "name": "stdout",
     "output_type": "stream",
     "text": [
      "inside function: 15\n",
      "outside function: 20\n"
     ]
    }
   ],
   "source": [
    "x=20 # has a global scope\n",
    "\n",
    "def f():\n",
    "    x=15\n",
    "    print(\"inside function:\",x) # accessing the local variable, as 'x' got redefined inside the function    \n",
    "\n",
    "f()\n",
    "\n",
    "print(\"outside function:\",x) "
   ]
  },
  {
   "cell_type": "code",
   "execution_count": null,
   "id": "5f9a0ad3-efdd-4337-80d7-42c48341914d",
   "metadata": {},
   "outputs": [],
   "source": []
  }
 ],
 "metadata": {
  "kernelspec": {
   "display_name": "Python 3 (ipykernel)",
   "language": "python",
   "name": "python3"
  },
  "language_info": {
   "codemirror_mode": {
    "name": "ipython",
    "version": 3
   },
   "file_extension": ".py",
   "mimetype": "text/x-python",
   "name": "python",
   "nbconvert_exporter": "python",
   "pygments_lexer": "ipython3",
   "version": "3.13.0"
  }
 },
 "nbformat": 4,
 "nbformat_minor": 5
}
