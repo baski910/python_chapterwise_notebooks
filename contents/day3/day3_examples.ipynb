{
 "cells": [
  {
   "cell_type": "code",
   "execution_count": 2,
   "id": "46d84cdb-750a-4ef8-bba3-8fb74ea6ba4c",
   "metadata": {},
   "outputs": [
    {
     "name": "stdout",
     "output_type": "stream",
     "text": [
      "['apple', 'banana', 'mango']\n"
     ]
    }
   ],
   "source": [
    "fruits = [\"apple\", \"banana\", \"cherry\", \"kiwi\", \"mango\"]\n",
    "\n",
    "newlist = [x for x in fruits if \"a\" in x]\n",
    "print(newlist)"
   ]
  },
  {
   "cell_type": "code",
   "execution_count": 3,
   "id": "f942b299-1a96-4de3-865a-c98c316c36c9",
   "metadata": {},
   "outputs": [
    {
     "name": "stdout",
     "output_type": "stream",
     "text": [
      "[5, 5, 5]\n"
     ]
    }
   ],
   "source": [
    "y = 5\n",
    "fruits = [\"apple\", \"banana\", \"cherry\", \"kiwi\", \"mango\"]\n",
    "\n",
    "newlist = [y for x in fruits if \"a\" in x]  # for x in fruits:  if 'a' in x: newlist.append(y)\n",
    "print(newlist)"
   ]
  },
  {
   "cell_type": "code",
   "execution_count": 4,
   "id": "5980e190-ef91-438b-a861-577d7707d27f",
   "metadata": {},
   "outputs": [
    {
     "name": "stdout",
     "output_type": "stream",
     "text": [
      "['banana', 'cherry', 'kiwi', 'mango']\n"
     ]
    }
   ],
   "source": [
    "\"\"\"Example for list comprehension\"\"\"\n",
    "newlist = [x for x in fruits if x != \"apple\"]\n",
    "print(newlist)"
   ]
  },
  {
   "cell_type": "code",
   "execution_count": 5,
   "id": "ec30890c-599a-4f55-bdcc-5ff546a19f0a",
   "metadata": {},
   "outputs": [
    {
     "name": "stdout",
     "output_type": "stream",
     "text": [
      "[0, 1, 2, 3, 4, 5, 6, 7, 8, 9, 10, 11, 12, 13, 14, 15, 16, 17, 18, 19, 20, 21, 22, 23, 24, 25, 26, 27, 28, 29, 30, 31, 32, 33, 34, 35, 36, 37, 38, 39, 40, 41, 42, 43, 44, 45, 46, 47, 48, 49]\n"
     ]
    }
   ],
   "source": [
    "numbers = [x for x in range(50)]\n",
    "\n",
    "print(numbers)"
   ]
  },
  {
   "cell_type": "code",
   "execution_count": 6,
   "id": "eb4be176-2b08-4e8b-b5f0-390393f23bd6",
   "metadata": {},
   "outputs": [
    {
     "name": "stdout",
     "output_type": "stream",
     "text": [
      "[0, 1, 8, 27, 64, 125, 216, 343, 512, 729, 1000, 1331, 1728, 2197, 2744, 3375, 4096, 4913, 5832, 6859, 8000, 9261, 10648, 12167, 13824, 15625, 17576, 19683, 21952, 24389, 27000, 29791, 32768, 35937, 39304, 42875, 46656, 50653, 54872, 59319, 64000, 68921, 74088, 79507, 85184, 91125, 97336, 103823, 110592, 117649]\n"
     ]
    }
   ],
   "source": [
    "cube = [x**3 for x in range(50)]\n",
    "\n",
    "print(cube)"
   ]
  },
  {
   "cell_type": "code",
   "execution_count": 7,
   "id": "06c3790b-3218-46aa-84b2-da209580c7ea",
   "metadata": {},
   "outputs": [
    {
     "name": "stdout",
     "output_type": "stream",
     "text": [
      "['e', 'o', 'o']\n"
     ]
    }
   ],
   "source": [
    "vowels = ['a','e','i','o','u']\n",
    "\n",
    "s1 = 'helloworld'\n",
    "\n",
    "result = [x for x in s1 if x in vowels]\n",
    "\n",
    "print(result)"
   ]
  },
  {
   "cell_type": "code",
   "execution_count": 8,
   "id": "c3c1c096-7ce0-4973-b964-346b97d0ae5f",
   "metadata": {},
   "outputs": [
    {
     "name": "stdout",
     "output_type": "stream",
     "text": [
      "{'w', 'l', 'h', 'o', 'd', 'r', 'e'}\n"
     ]
    }
   ],
   "source": [
    "# set comperhension\n",
    "s2 = {x for x in s1}\n",
    "print(s2) # set is unordered and unique"
   ]
  },
  {
   "cell_type": "code",
   "execution_count": 1,
   "id": "4cbf8ab3-e3bc-42a7-961c-b845e46a9067",
   "metadata": {},
   "outputs": [
    {
     "name": "stdout",
     "output_type": "stream",
     "text": [
      "0 eat\n",
      "1 sleep\n",
      "2 repeat\n"
     ]
    }
   ],
   "source": [
    "# Python program to illustrate\n",
    "# enumerate function in loops\n",
    "list1 = [\"eat\", \"sleep\", \"repeat\"]\n",
    "  \n",
    "# printing the tuple elements directly\n",
    "for idx,ele in enumerate(list1):\n",
    "    print (idx,ele)"
   ]
  },
  {
   "cell_type": "code",
   "execution_count": 4,
   "id": "9814bb4a-f835-4cc9-a45f-58ef2ca17857",
   "metadata": {},
   "outputs": [
    {
     "name": "stdout",
     "output_type": "stream",
     "text": [
      "10    a result of a setting in your ~/.vimrc before reporting it.\n",
      "11 \n",
      "12  -- Stefano Zacchiroli <zack@debian.org>   Mon, 10 Apr 2006 09:59:41 -0400\n",
      "13 \n",
      "14 MzScheme Vim variant\n",
      "15 --------------------\n",
      "16 \n",
      "17 As requested by the current MzScheme maintainer (Ari Pollak <ari@debian.org>),\n",
      "18 a vim-mzscheme variant is not being built.  The reasons stated are as follows:\n",
      "19 \n",
      "20   1) MzScheme does not build on many of Debian's supported architectures.\n"
     ]
    }
   ],
   "source": [
    "fh = open('readme.txt','r')\n",
    "# fh.readlines()\n",
    "for num,line in enumerate(fh.readlines(),1):\n",
    "    if num>=10 and num<=20:\n",
    "        print(num,line,end=\"\")"
   ]
  },
  {
   "cell_type": "code",
   "execution_count": 5,
   "id": "bfe803fb-92c4-4d67-ac96-02dc5ea83315",
   "metadata": {},
   "outputs": [
    {
     "name": "stdout",
     "output_type": "stream",
     "text": [
      "100 eat\n",
      "101 sleep\n",
      "102 repeat\n"
     ]
    }
   ],
   "source": [
    "list1 = [\"eat\", \"sleep\", \"repeat\"]\n",
    "  \n",
    "# printing the tuple elements directly\n",
    "for idx,ele in enumerate(list1,100):\n",
    "    print (idx,ele)"
   ]
  },
  {
   "cell_type": "code",
   "execution_count": 6,
   "id": "1be66d59-041b-46d5-9f24-b253392f5fd1",
   "metadata": {},
   "outputs": [
    {
     "ename": "TypeError",
     "evalue": "'tuple' object does not support item assignment",
     "output_type": "error",
     "traceback": [
      "\u001b[1;31m---------------------------------------------------------------------------\u001b[0m",
      "\u001b[1;31mTypeError\u001b[0m                                 Traceback (most recent call last)",
      "Cell \u001b[1;32mIn[6], line 8\u001b[0m\n\u001b[0;32m      5\u001b[0m t1 \u001b[38;5;241m=\u001b[39m (\u001b[38;5;241m10\u001b[39m,\u001b[38;5;241m20\u001b[39m,\u001b[38;5;124m'\u001b[39m\u001b[38;5;124mpython\u001b[39m\u001b[38;5;124m'\u001b[39m,\u001b[38;5;241m30.5\u001b[39m) \u001b[38;5;66;03m# tuple elements can be of different data type\u001b[39;00m\n\u001b[0;32m      7\u001b[0m \u001b[38;5;66;03m# modifying tuple element leads to error \u001b[39;00m\n\u001b[1;32m----> 8\u001b[0m \u001b[43mt1\u001b[49m\u001b[43m[\u001b[49m\u001b[38;5;241;43m1\u001b[39;49m\u001b[43m]\u001b[49m\u001b[38;5;241m=\u001b[39m\u001b[38;5;241m30\u001b[39m\n\u001b[0;32m     10\u001b[0m \u001b[38;5;28mprint\u001b[39m(t1)\n",
      "\u001b[1;31mTypeError\u001b[0m: 'tuple' object does not support item assignment"
     ]
    }
   ],
   "source": [
    "# tuple examples\n",
    "\"\"\"Example for tuples\"\"\"\n",
    "\n",
    "# creating a tuple\n",
    "t1 = (10,20,'python',30.5) # tuple elements can be of different data type\n",
    "\n",
    "# modifying tuple element leads to error \n",
    "t1[1]=30\n",
    "\n",
    "print(t1)"
   ]
  },
  {
   "cell_type": "code",
   "execution_count": 7,
   "id": "0b11b46a-5aac-4af7-abde-37509aa7673e",
   "metadata": {},
   "outputs": [
    {
     "name": "stdout",
     "output_type": "stream",
     "text": [
      "(40, 50, 'ruby', 21.5, 60)\n"
     ]
    }
   ],
   "source": [
    "# overwrite a tuple with different set of values\n",
    "t1 = (40,50,'ruby',21.5,60)\n",
    "\n",
    "print(t1)"
   ]
  },
  {
   "cell_type": "code",
   "execution_count": 9,
   "id": "dae8a884-5703-4f51-960d-f798c695ae6a",
   "metadata": {},
   "outputs": [
    {
     "name": "stdout",
     "output_type": "stream",
     "text": [
      "<class 'tuple'>\n",
      "(120, 50, 'ruby', 21.5, 73)\n"
     ]
    }
   ],
   "source": [
    "t2 = 120,50,'ruby',21.5,73\n",
    "print(type(t2))\n",
    "print(t2)"
   ]
  },
  {
   "cell_type": "code",
   "execution_count": 10,
   "id": "e27629ea-53ee-4e32-ae6a-24e1a03e88ca",
   "metadata": {},
   "outputs": [
    {
     "name": "stdout",
     "output_type": "stream",
     "text": [
      "100\n",
      "40\n",
      "10\n",
      "2\n"
     ]
    }
   ],
   "source": [
    "# apply built-in functions on tuple\n",
    "t2 = (10,20,30,40)\n",
    "\n",
    "print(sum(t2))\n",
    "\n",
    "print(max(t2))\n",
    "\n",
    "print(min(t2))\n",
    "\n",
    "print(t2.index(30))"
   ]
  },
  {
   "cell_type": "code",
   "execution_count": 11,
   "id": "273ced67-bb64-4567-ac75-84b299615572",
   "metadata": {},
   "outputs": [
    {
     "name": "stdout",
     "output_type": "stream",
     "text": [
      "<class 'int'>\n",
      "10\n"
     ]
    }
   ],
   "source": [
    "# example for single element tuple\n",
    "\n",
    "t3 = (10)\n",
    "print(type(t3))\n",
    "print(t3)"
   ]
  },
  {
   "cell_type": "code",
   "execution_count": 14,
   "id": "9627e754-e1a2-4035-adae-6700066750be",
   "metadata": {},
   "outputs": [
    {
     "name": "stdout",
     "output_type": "stream",
     "text": [
      "<class 'tuple'>\n",
      "(10,)\n"
     ]
    }
   ],
   "source": [
    "t3 = 10,\n",
    "print(type(t3))\n",
    "print(t3)"
   ]
  },
  {
   "cell_type": "code",
   "execution_count": 15,
   "id": "8201c56d-1fc0-4dd2-b3f8-3f85e437d05e",
   "metadata": {},
   "outputs": [
    {
     "name": "stdout",
     "output_type": "stream",
     "text": [
      "{'name': 'alice', 'age': 7, 'class': 'first'}\n"
     ]
    }
   ],
   "source": [
    "d1 = {'name':'alice','age':7,'class':'first'}\n",
    "\n",
    "# print all items in a dictionary\n",
    "print(d1)"
   ]
  },
  {
   "cell_type": "code",
   "execution_count": 16,
   "id": "bcd8ae3d-6aad-439c-92ee-e3357aa1e310",
   "metadata": {},
   "outputs": [
    {
     "name": "stdout",
     "output_type": "stream",
     "text": [
      "7\n"
     ]
    }
   ],
   "source": [
    "# access a value against a specific key.\n",
    "print(d1['age']) # the output will be 7"
   ]
  },
  {
   "cell_type": "code",
   "execution_count": 17,
   "id": "13765aae-eb34-4f6c-b7d8-4f156a6a5f8c",
   "metadata": {},
   "outputs": [
    {
     "name": "stdout",
     "output_type": "stream",
     "text": [
      "{'name': 'alice', 'age': 10, 'class': 'first'}\n"
     ]
    }
   ],
   "source": [
    "#dictionary values can be updated by simple assignment\n",
    "d1['age']=10 # updates the value against the key, if key is present otherwise the key is created\n",
    "print(d1)"
   ]
  },
  {
   "cell_type": "code",
   "execution_count": 18,
   "id": "7286bf42-ffe1-4234-b169-c10e2fc806ff",
   "metadata": {},
   "outputs": [
    {
     "name": "stdout",
     "output_type": "stream",
     "text": [
      "{'name': 'alice', 'age': 10, 'class': 'first', 'lname': 'joe'}\n"
     ]
    }
   ],
   "source": [
    "d1['lname']='joe'\n",
    "print(d1)"
   ]
  },
  {
   "cell_type": "code",
   "execution_count": 19,
   "id": "61e131a2-9315-415d-b0c8-a8926e457b4d",
   "metadata": {},
   "outputs": [
    {
     "name": "stdout",
     "output_type": "stream",
     "text": [
      "{'name': 'alice', 'class': 'first', 'lname': 'joe'}\n"
     ]
    }
   ],
   "source": [
    "d1.pop('age') # age and 10\n",
    "print(d1)"
   ]
  },
  {
   "cell_type": "code",
   "execution_count": 20,
   "id": "c2844b94-c26c-4498-bdf9-64361c8bc6c5",
   "metadata": {},
   "outputs": [
    {
     "name": "stdout",
     "output_type": "stream",
     "text": [
      "before update: {'name': 'alice', 'age': 7, 'class': 'first'}\n",
      "after update: {'name': 'alice', 'age': 7, 'class': 'first', 'school': 'cps school', 'rank': 'second'}\n"
     ]
    }
   ],
   "source": [
    "d1 = {'name':'alice','age':7,'class':'first'} \n",
    "\n",
    "d2 = {'school': 'cps school','rank':'second'}\n",
    "\n",
    "print(\"before update:\",d1)\n",
    "\n",
    "d1.update(d2) # updates d1 with items of d2\n",
    "\n",
    "print(\"after update:\",d1)"
   ]
  },
  {
   "cell_type": "code",
   "execution_count": 21,
   "id": "3eb1cd17-d782-4659-9031-017ed55c23bc",
   "metadata": {},
   "outputs": [
    {
     "name": "stdout",
     "output_type": "stream",
     "text": [
      "{'name': 'alice', 'age': 7, 'class': 'first', 'school': 'cps school', 'rank': 'second'}\n"
     ]
    }
   ],
   "source": [
    "d3 = {**d1,**d2}\n",
    "print(d3)"
   ]
  },
  {
   "cell_type": "code",
   "execution_count": 22,
   "id": "63bde655-e4b2-4a55-8af7-9921a553910c",
   "metadata": {},
   "outputs": [
    {
     "name": "stdout",
     "output_type": "stream",
     "text": [
      "{}\n"
     ]
    }
   ],
   "source": [
    "d1.clear() # returns empty dictionary\n",
    "print(d1)"
   ]
  },
  {
   "cell_type": "code",
   "execution_count": 23,
   "id": "292789a9-bc8f-43d7-8959-dad7f53db6af",
   "metadata": {},
   "outputs": [
    {
     "name": "stdout",
     "output_type": "stream",
     "text": [
      "name alice\n",
      "age 7\n",
      "class first\n"
     ]
    }
   ],
   "source": [
    "\"\"\"Iterating over dictionaries\"\"\"\n",
    "\n",
    "d1 = {'name':'alice','age':7,'class':'first'}\n",
    "\n",
    "for key,val in d1.items(): # returns 2 elements tuple each iteration\n",
    "    print(key,val)"
   ]
  },
  {
   "cell_type": "code",
   "execution_count": 24,
   "id": "26063271-f5b0-4525-909a-3bc2c9c5fa23",
   "metadata": {},
   "outputs": [
    {
     "name": "stdout",
     "output_type": "stream",
     "text": [
      "name alice\n",
      "age 7\n",
      "class first\n"
     ]
    }
   ],
   "source": [
    "for key in d1.keys():\n",
    "    print(key,d1[key])"
   ]
  },
  {
   "cell_type": "code",
   "execution_count": 25,
   "id": "156accf7-9802-4600-b8db-13a92a23b00c",
   "metadata": {},
   "outputs": [
    {
     "name": "stdout",
     "output_type": "stream",
     "text": [
      "{'name': 'bob', 'age': 7, 'class': 'first'}\n"
     ]
    }
   ],
   "source": [
    "d1 = {'name':'alice','age':7,'class':'first','name':'bob'}\n",
    "\n",
    "print(d1)"
   ]
  },
  {
   "cell_type": "code",
   "execution_count": 26,
   "id": "3914194c-665b-4d6d-989f-4aa357d17f49",
   "metadata": {},
   "outputs": [
    {
     "name": "stdout",
     "output_type": "stream",
     "text": [
      "alice\n"
     ]
    },
    {
     "ename": "KeyError",
     "evalue": "'lname'",
     "output_type": "error",
     "traceback": [
      "\u001b[1;31m---------------------------------------------------------------------------\u001b[0m",
      "\u001b[1;31mKeyError\u001b[0m                                  Traceback (most recent call last)",
      "Cell \u001b[1;32mIn[26], line 5\u001b[0m\n\u001b[0;32m      1\u001b[0m d1 \u001b[38;5;241m=\u001b[39m {\u001b[38;5;124m'\u001b[39m\u001b[38;5;124mname\u001b[39m\u001b[38;5;124m'\u001b[39m:\u001b[38;5;124m'\u001b[39m\u001b[38;5;124malice\u001b[39m\u001b[38;5;124m'\u001b[39m,\u001b[38;5;124m'\u001b[39m\u001b[38;5;124mage\u001b[39m\u001b[38;5;124m'\u001b[39m:\u001b[38;5;241m7\u001b[39m,\u001b[38;5;124m'\u001b[39m\u001b[38;5;124mclass\u001b[39m\u001b[38;5;124m'\u001b[39m:\u001b[38;5;124m'\u001b[39m\u001b[38;5;124mfirst\u001b[39m\u001b[38;5;124m'\u001b[39m}\n\u001b[0;32m      3\u001b[0m \u001b[38;5;28mprint\u001b[39m(d1[\u001b[38;5;124m'\u001b[39m\u001b[38;5;124mname\u001b[39m\u001b[38;5;124m'\u001b[39m]) \u001b[38;5;66;03m# output will be alice\u001b[39;00m\n\u001b[1;32m----> 5\u001b[0m \u001b[38;5;28mprint\u001b[39m(\u001b[43md1\u001b[49m\u001b[43m[\u001b[49m\u001b[38;5;124;43m'\u001b[39;49m\u001b[38;5;124;43mlname\u001b[39;49m\u001b[38;5;124;43m'\u001b[39;49m\u001b[43m]\u001b[49m) \u001b[38;5;66;03m# throws error as the key 'lname' is not existing\u001b[39;00m\n",
      "\u001b[1;31mKeyError\u001b[0m: 'lname'"
     ]
    }
   ],
   "source": [
    "d1 = {'name':'alice','age':7,'class':'first'}\n",
    "\n",
    "print(d1['name']) # output will be alice\n",
    "\n",
    "print(d1['lname']) # throws error as the key 'lname' is not existing"
   ]
  },
  {
   "cell_type": "code",
   "execution_count": 27,
   "id": "17a0b89b-01a3-4c30-a280-41c848fe11ba",
   "metadata": {},
   "outputs": [
    {
     "name": "stdout",
     "output_type": "stream",
     "text": [
      "None\n"
     ]
    }
   ],
   "source": [
    "# by using get function we could avoid error\n",
    "\n",
    "print(d1.get('lname')) # output will be None as the key is not existing"
   ]
  },
  {
   "cell_type": "code",
   "execution_count": 28,
   "id": "145effd3-660c-4337-9a7b-9d53244eeca3",
   "metadata": {},
   "outputs": [],
   "source": [
    "d1 = {'names': ['bob','','tom'],'marks':[10,20,30]}"
   ]
  },
  {
   "cell_type": "code",
   "execution_count": null,
   "id": "60ac5dec-76b7-484e-bbc6-24b968580244",
   "metadata": {},
   "outputs": [],
   "source": [
    "pip install pandas # module search path sys.path"
   ]
  },
  {
   "cell_type": "code",
   "execution_count": 30,
   "id": "a263996e-b6c8-47df-8380-eca80f8f9db9",
   "metadata": {},
   "outputs": [
    {
     "name": "stdout",
     "output_type": "stream",
     "text": [
      "  names  marks\n",
      "0   bob     10\n",
      "1           20\n",
      "2   tom     30\n"
     ]
    }
   ],
   "source": [
    "import pandas as pd\n",
    "\n",
    "df = pd.DataFrame(d1)\n",
    "print(df)"
   ]
  },
  {
   "cell_type": "code",
   "execution_count": 31,
   "id": "7a081db8-7c40-406e-8e14-a942cdcb98f9",
   "metadata": {},
   "outputs": [
    {
     "name": "stdout",
     "output_type": "stream",
     "text": [
      "100\n"
     ]
    }
   ],
   "source": [
    "num = int(\"100\")\n",
    "print(num)"
   ]
  },
  {
   "cell_type": "code",
   "execution_count": 32,
   "id": "a9c4706a-ab34-4d15-886e-be4b30f526a0",
   "metadata": {},
   "outputs": [
    {
     "name": "stdout",
     "output_type": "stream",
     "text": [
      "alice\n"
     ]
    },
    {
     "ename": "KeyError",
     "evalue": "'lname'",
     "output_type": "error",
     "traceback": [
      "\u001b[1;31m---------------------------------------------------------------------------\u001b[0m",
      "\u001b[1;31mKeyError\u001b[0m                                  Traceback (most recent call last)",
      "Cell \u001b[1;32mIn[32], line 5\u001b[0m\n\u001b[0;32m      1\u001b[0m d1 \u001b[38;5;241m=\u001b[39m {\u001b[38;5;124m'\u001b[39m\u001b[38;5;124mname\u001b[39m\u001b[38;5;124m'\u001b[39m:\u001b[38;5;124m'\u001b[39m\u001b[38;5;124malice\u001b[39m\u001b[38;5;124m'\u001b[39m,\u001b[38;5;124m'\u001b[39m\u001b[38;5;124mage\u001b[39m\u001b[38;5;124m'\u001b[39m:\u001b[38;5;241m7\u001b[39m,\u001b[38;5;124m'\u001b[39m\u001b[38;5;124mclass\u001b[39m\u001b[38;5;124m'\u001b[39m:\u001b[38;5;124m'\u001b[39m\u001b[38;5;124mfirst\u001b[39m\u001b[38;5;124m'\u001b[39m}\n\u001b[0;32m      3\u001b[0m \u001b[38;5;28mprint\u001b[39m(d1[\u001b[38;5;124m'\u001b[39m\u001b[38;5;124mname\u001b[39m\u001b[38;5;124m'\u001b[39m]) \u001b[38;5;66;03m# output will be alice\u001b[39;00m\n\u001b[1;32m----> 5\u001b[0m \u001b[38;5;28mprint\u001b[39m(\u001b[43md1\u001b[49m\u001b[43m[\u001b[49m\u001b[38;5;124;43m'\u001b[39;49m\u001b[38;5;124;43mlname\u001b[39;49m\u001b[38;5;124;43m'\u001b[39;49m\u001b[43m]\u001b[49m) \u001b[38;5;66;03m# throws error as the key 'lname' is not existing\u001b[39;00m\n",
      "\u001b[1;31mKeyError\u001b[0m: 'lname'"
     ]
    }
   ],
   "source": [
    "d1 = {'name':'alice','age':7,'class':'first'}\n",
    "\n",
    "print(d1['name']) # output will be alice\n",
    "\n",
    "print(d1['lname']) # throws error as the key 'lname' is not existing"
   ]
  },
  {
   "cell_type": "code",
   "execution_count": 33,
   "id": "a6363f82-93c3-4e50-a211-f21810ea7c81",
   "metadata": {},
   "outputs": [
    {
     "name": "stdout",
     "output_type": "stream",
     "text": [
      "None\n"
     ]
    }
   ],
   "source": [
    "print(d1.get('lname'))"
   ]
  },
  {
   "cell_type": "code",
   "execution_count": 34,
   "id": "074aea23-9262-4577-a8f6-510ccfeeaed7",
   "metadata": {},
   "outputs": [
    {
     "name": "stdout",
     "output_type": "stream",
     "text": [
      "alice\n"
     ]
    }
   ],
   "source": [
    "print(d1.get('name'))"
   ]
  },
  {
   "cell_type": "code",
   "execution_count": 35,
   "id": "921c9db8-9a0f-434d-8b3a-f66e9a9b871f",
   "metadata": {},
   "outputs": [
    {
     "name": "stdout",
     "output_type": "stream",
     "text": [
      "Not found\n"
     ]
    }
   ],
   "source": [
    "print(d1.get('lname','Not found'))"
   ]
  },
  {
   "cell_type": "code",
   "execution_count": 36,
   "id": "73981a3f-2aa4-41f9-8fee-f9d539dd2a25",
   "metadata": {},
   "outputs": [
    {
     "name": "stdout",
     "output_type": "stream",
     "text": [
      "alice\n"
     ]
    }
   ],
   "source": [
    "print(d1.get('name','Not found'))"
   ]
  },
  {
   "cell_type": "code",
   "execution_count": 37,
   "id": "c0d20ee6-6e7a-4123-a40b-94d565bc263d",
   "metadata": {},
   "outputs": [
    {
     "name": "stdout",
     "output_type": "stream",
     "text": [
      "{'name': 'alice', 'age': 7, 'class': 'first', 'rank': 'second'}\n"
     ]
    }
   ],
   "source": [
    "\n",
    "d1 = {'name':'alice','age':7,'class':'first'}\n",
    "\n",
    "d1.setdefault('rank','second') # creates a key named 'rank' and sets the value as 'second'\n",
    "\n",
    "print(d1) "
   ]
  },
  {
   "cell_type": "code",
   "execution_count": 38,
   "id": "056b5eeb-12fe-44af-87cb-7030ba78a7cf",
   "metadata": {},
   "outputs": [
    {
     "name": "stdout",
     "output_type": "stream",
     "text": [
      "alice\n"
     ]
    }
   ],
   "source": [
    "print(d1.setdefault('name','bob'))"
   ]
  },
  {
   "cell_type": "code",
   "execution_count": 39,
   "id": "58046a66-8262-4fb0-a69a-4ac2246759e1",
   "metadata": {},
   "outputs": [
    {
     "name": "stdout",
     "output_type": "stream",
     "text": [
      "{'name': 'alice', 'age': 7, 'class': 'first', 'rank': 'second'}\n"
     ]
    }
   ],
   "source": [
    "print(d1)"
   ]
  },
  {
   "cell_type": "code",
   "execution_count": 40,
   "id": "47296f81-304d-4ea8-a213-125415059b4f",
   "metadata": {},
   "outputs": [
    {
     "name": "stdout",
     "output_type": "stream",
     "text": [
      "{'name': 'alice', 'age': 7, 'class': 'first'}\n"
     ]
    }
   ],
   "source": [
    "\"\"\"Example for dict\"\"\"\n",
    "\n",
    "list1=[('name','alice'),('age',7),('class','first')]\n",
    "\n",
    "d1 = dict(list1)\n",
    "\n",
    "print(d1)"
   ]
  },
  {
   "cell_type": "code",
   "execution_count": 41,
   "id": "627e65bc-df59-422e-be48-e38838d14606",
   "metadata": {},
   "outputs": [
    {
     "name": "stdout",
     "output_type": "stream",
     "text": [
      "[('name', 'alice'), ('age', 7), ('class', 'first')]\n"
     ]
    }
   ],
   "source": [
    "\"\"\"using zip function to form list of tuples\"\"\"\n",
    "\n",
    "list2 = ['name','age','class']\n",
    "list3 = ['alice',7,'first']\n",
    "\n",
    "list4 = list(zip(list2,list3))\n",
    "print(list4)"
   ]
  },
  {
   "cell_type": "code",
   "execution_count": 42,
   "id": "8c0862e4-489e-4d65-8330-ae98bbb40f80",
   "metadata": {},
   "outputs": [],
   "source": [
    "d2 = dict(zip(list2,list3))"
   ]
  },
  {
   "cell_type": "code",
   "execution_count": 43,
   "id": "2bd6d394-b29d-4eee-93d4-87beb4587472",
   "metadata": {},
   "outputs": [
    {
     "name": "stdout",
     "output_type": "stream",
     "text": [
      "{'name': 'alice', 'age': 7, 'class': 'first'}\n"
     ]
    }
   ],
   "source": [
    "print(d2)"
   ]
  },
  {
   "cell_type": "code",
   "execution_count": 44,
   "id": "002a6a90-1890-4d08-b1ca-ac7edc3b4f1c",
   "metadata": {},
   "outputs": [
    {
     "name": "stdout",
     "output_type": "stream",
     "text": [
      "{'name': 'alice', 'age': 7, 'class': 'first', 'rank': 'second'}\n"
     ]
    }
   ],
   "source": [
    "d1 = {'name':'alice','age':7,'class':'first'}\n",
    "\n",
    "d1.setdefault('rank','second') # creates a key named 'rank' and sets the value as 'second'\n",
    "\n",
    "print(d1) "
   ]
  },
  {
   "cell_type": "code",
   "execution_count": 45,
   "id": "de9b53d3-4338-409e-9763-3d172a259427",
   "metadata": {},
   "outputs": [
    {
     "name": "stdout",
     "output_type": "stream",
     "text": [
      "alice\n",
      "{'name': 'alice', 'age': 7, 'class': 'first', 'rank': 'second'}\n"
     ]
    }
   ],
   "source": [
    "print(d1.setdefault('name','bob'))\n",
    "print(d1)"
   ]
  },
  {
   "cell_type": "code",
   "execution_count": 51,
   "id": "aafb11ba-2802-4478-b281-d64bcccc4776",
   "metadata": {},
   "outputs": [],
   "source": [
    "s1 = \"name,mark,subject\\njoe,68,maths\\ntom,59,english\\nalice,63,science\"\n",
    "# d1 = {\n",
    "#  's1': {'name':'joe','mark':'68','subject':'maths'}\n",
    "#  's2': {'name':'tom','mark':'59','subject':'english'}\n",
    "#  's3': {'name':'joe','mark':'63','subject':'science'}\n",
    "# }"
   ]
  },
  {
   "cell_type": "code",
   "execution_count": 52,
   "id": "b07817d8-7b40-4564-8e4b-4f86f336b5ba",
   "metadata": {},
   "outputs": [
    {
     "name": "stdout",
     "output_type": "stream",
     "text": [
      "['name', 'mark', 'subject'] joe,68,maths\n",
      "{'name': 'joe', 'mark': '68', 'subject': 'maths'}\n"
     ]
    }
   ],
   "source": [
    "data = s1.split('\\n')\n",
    "print(list(data[0].split(',')),data[1])\n",
    "s2=dict(zip(list(data[0].split(',')),list(data[1].split(','))))\n",
    "s3=dict(zip(list(data[0].split(',')),list(data[2].split(','))))\n",
    "s4=dict(zip(list(data[0].split(',')),list(data[3].split(','))))\n",
    "print(s2)"
   ]
  },
  {
   "cell_type": "code",
   "execution_count": 53,
   "id": "05da2032-af35-4b3b-97a2-abede087c25d",
   "metadata": {},
   "outputs": [
    {
     "name": "stdout",
     "output_type": "stream",
     "text": [
      "['name,mark,subject', 'joe,68,maths', 'tom,59,english', 'alice,63,science']\n"
     ]
    }
   ],
   "source": [
    "s1 = \"name,mark,subject\\njoe,68,maths\\ntom,59,english\\nalice,63,science\"\n",
    "# d1 = {\n",
    "#  's1': {'name':'joe','mark':'68','subject':'maths'}\n",
    "#  's2': {'name':'tom','mark':'59','subject':'english'}\n",
    "#  's3': {'name':'joe','mark':'63','subject':'science'}\n",
    "# }\n",
    "d1 = {} # master dictionary for holding information on all students\n",
    "\n",
    "data = s1.split('\\n')\n",
    "\n",
    "print(data)"
   ]
  },
  {
   "cell_type": "code",
   "execution_count": 55,
   "id": "f02a0afa-472e-423d-bd52-56c7c8bbbda0",
   "metadata": {},
   "outputs": [
    {
     "name": "stdout",
     "output_type": "stream",
     "text": [
      "['name', 'mark', 'subject']\n"
     ]
    }
   ],
   "source": [
    "header = data[0].split(\",\")\n",
    "print(header)"
   ]
  },
  {
   "cell_type": "code",
   "execution_count": 63,
   "id": "f230ac6a-4fc2-4a93-afb1-67e34e33e020",
   "metadata": {},
   "outputs": [],
   "source": [
    "for n,v in enumerate(data[1:],1):\n",
    "    d2= dict(zip(header,v.split(\",\")))\n",
    "    #print(n)\n",
    "    key = f\"s{n}\"  #  name  mark subject   f\"{name} has scored {mark} marks in {subject}\"\n",
    "    d1.setdefault(key,d2)"
   ]
  },
  {
   "cell_type": "code",
   "execution_count": 64,
   "id": "73ee3dfa-c050-4e97-9094-131e765db96a",
   "metadata": {},
   "outputs": [
    {
     "name": "stdout",
     "output_type": "stream",
     "text": [
      "{'s1': {'name': 'joe', 'mark': '68', 'subject': 'maths'}, 's2': {'name': 'tom', 'mark': '59', 'subject': 'english'}, 's3': {'name': 'alice', 'mark': '63', 'subject': 'science'}}\n"
     ]
    }
   ],
   "source": [
    "print(d1)"
   ]
  },
  {
   "cell_type": "code",
   "execution_count": 67,
   "id": "0800e46b-dcbc-4bdc-80ae-b4f44b769479",
   "metadata": {},
   "outputs": [
    {
     "name": "stdout",
     "output_type": "stream",
     "text": [
      "{'s1': {'name': 'joe', 'mark': '68', 'subject': 'maths'}, 's2': {'name': 'tom', 'mark': '59', 'subject': 'english'}, 's3': {'name': 'alice', 'mark': '63', 'subject': 'science'}}\n"
     ]
    }
   ],
   "source": [
    "s1 = \"name,mark,subject\\njoe,68,maths\\ntom,59,english\\nalice,63,science\"\n",
    "TEXT = s1.split(\"\\n\")\n",
    "\n",
    "d1 = {}\n",
    "\n",
    "for i, text in enumerate(TEXT[1:]):\n",
    "\n",
    "    t2 = text.split(\",\")\n",
    "\n",
    "    d1[f's{i+1}'] = {'name': t2[0], 'mark': t2[1], 'subject': t2[2]}  \n",
    "\n",
    "print(d1)"
   ]
  },
  {
   "cell_type": "code",
   "execution_count": 69,
   "id": "98558b8a-a719-45bb-b42b-a25cb421cd9b",
   "metadata": {},
   "outputs": [
    {
     "name": "stdout",
     "output_type": "stream",
     "text": [
      "<class 'set'>\n"
     ]
    }
   ],
   "source": [
    "# empty set \n",
    "x = set()\n",
    "print(type(x))"
   ]
  },
  {
   "cell_type": "code",
   "execution_count": 70,
   "id": "259bad49-c3df-4906-b9c0-e6cb77321fcf",
   "metadata": {},
   "outputs": [
    {
     "name": "stdout",
     "output_type": "stream",
     "text": [
      "<class 'dict'>\n"
     ]
    }
   ],
   "source": [
    "x = {}\n",
    "print(type(x))"
   ]
  },
  {
   "cell_type": "code",
   "execution_count": 71,
   "id": "5d70f857-de2b-490c-899d-5420252d51b4",
   "metadata": {},
   "outputs": [
    {
     "name": "stdout",
     "output_type": "stream",
     "text": [
      "{40, 10, 50, 20, 60, 30}\n"
     ]
    }
   ],
   "source": [
    "# create a set from a listt\n",
    "\n",
    "list1 = [10,20,30,40,20,50,10,60,20]\n",
    "x = set(list1)\n",
    "print(x)"
   ]
  },
  {
   "cell_type": "code",
   "execution_count": 72,
   "id": "4652b65d-8384-4da7-8dff-29870571eb2a",
   "metadata": {},
   "outputs": [
    {
     "ename": "TypeError",
     "evalue": "'set' object is not subscriptable",
     "output_type": "error",
     "traceback": [
      "\u001b[1;31m---------------------------------------------------------------------------\u001b[0m",
      "\u001b[1;31mTypeError\u001b[0m                                 Traceback (most recent call last)",
      "Cell \u001b[1;32mIn[72], line 2\u001b[0m\n\u001b[0;32m      1\u001b[0m \u001b[38;5;66;03m# can not use index to access element\u001b[39;00m\n\u001b[1;32m----> 2\u001b[0m \u001b[38;5;28mprint\u001b[39m(\u001b[43mx\u001b[49m\u001b[43m[\u001b[49m\u001b[38;5;241;43m1\u001b[39;49m\u001b[43m]\u001b[49m)\n",
      "\u001b[1;31mTypeError\u001b[0m: 'set' object is not subscriptable"
     ]
    }
   ],
   "source": [
    "# can not use index to access element\n",
    "print(x[1])"
   ]
  },
  {
   "cell_type": "code",
   "execution_count": 73,
   "id": "d772bc65-a1e2-4118-8f2a-1c3d648a3b6b",
   "metadata": {},
   "outputs": [
    {
     "name": "stdout",
     "output_type": "stream",
     "text": [
      "40\n",
      "10\n",
      "50\n",
      "20\n",
      "60\n",
      "30\n"
     ]
    }
   ],
   "source": [
    "for element in x:\n",
    "    print(element)"
   ]
  },
  {
   "cell_type": "code",
   "execution_count": 74,
   "id": "adb4155c-970e-4c79-b911-45413cc733ec",
   "metadata": {},
   "outputs": [
    {
     "name": "stdout",
     "output_type": "stream",
     "text": [
      "{40, 10, 80, 50, 20, 60, 30}\n"
     ]
    }
   ],
   "source": [
    "# add can eb used to add elements\n",
    "x.add(80)\n",
    "print(x)"
   ]
  },
  {
   "cell_type": "code",
   "execution_count": 75,
   "id": "0c389621-0fa3-44d2-b2bb-702d00de7aeb",
   "metadata": {},
   "outputs": [
    {
     "name": "stdout",
     "output_type": "stream",
     "text": [
      "40\n",
      "{10, 80, 50, 20, 60, 30}\n"
     ]
    }
   ],
   "source": [
    "e = x.pop()\n",
    "print(e)\n",
    "print(x)"
   ]
  },
  {
   "cell_type": "code",
   "execution_count": 76,
   "id": "a0fcb700-ce8f-425a-8c8b-05158c4cd349",
   "metadata": {},
   "outputs": [
    {
     "name": "stdout",
     "output_type": "stream",
     "text": [
      "{10, 80, 50, 60, 30}\n"
     ]
    }
   ],
   "source": [
    "x.remove(20)\n",
    "print(x)"
   ]
  },
  {
   "cell_type": "code",
   "execution_count": 77,
   "id": "cea7b968-b84f-4483-98b6-59a1f362bf7b",
   "metadata": {},
   "outputs": [
    {
     "name": "stdout",
     "output_type": "stream",
     "text": [
      "{70, 10, 80, 50, 60, 30}\n"
     ]
    }
   ],
   "source": [
    "x.add(70)\n",
    "print(x)"
   ]
  },
  {
   "cell_type": "code",
   "execution_count": 78,
   "id": "6b831c19-3edf-417f-9148-6b0bfd6cc67c",
   "metadata": {},
   "outputs": [
    {
     "name": "stdout",
     "output_type": "stream",
     "text": [
      "10\n",
      "{70, 80, 50, 60, 30}\n"
     ]
    }
   ],
   "source": [
    "e = x.pop()\n",
    "print(e)\n",
    "print(x)"
   ]
  },
  {
   "cell_type": "code",
   "execution_count": 79,
   "id": "c8951836-1511-477e-a96d-8a41215275e0",
   "metadata": {},
   "outputs": [
    {
     "name": "stdout",
     "output_type": "stream",
     "text": [
      "{70, 80, 60, 30}\n"
     ]
    }
   ],
   "source": [
    "x.discard(50)\n",
    "print(x)"
   ]
  },
  {
   "cell_type": "code",
   "execution_count": 80,
   "id": "e7a24c09-e15f-417d-8753-1e9584657dd9",
   "metadata": {},
   "outputs": [
    {
     "name": "stdout",
     "output_type": "stream",
     "text": [
      "{6}\n"
     ]
    }
   ],
   "source": [
    "s1={1,2,5,6,8}\n",
    "s2 = {3,6,7,10}\n",
    "print(s1.intersection(s2))"
   ]
  },
  {
   "cell_type": "code",
   "execution_count": 81,
   "id": "3147971b-d689-4b8a-8f69-5913234809c9",
   "metadata": {},
   "outputs": [
    {
     "name": "stdout",
     "output_type": "stream",
     "text": [
      "{6}\n"
     ]
    }
   ],
   "source": [
    "print(s1 & s2)"
   ]
  },
  {
   "cell_type": "code",
   "execution_count": 82,
   "id": "133c9cb3-4aa0-44c4-8b24-2107420d69aa",
   "metadata": {},
   "outputs": [
    {
     "name": "stdout",
     "output_type": "stream",
     "text": [
      "{1, 2, 3, 5, 6, 7, 8, 10}\n"
     ]
    }
   ],
   "source": [
    "print(s1.union(s2))"
   ]
  },
  {
   "cell_type": "code",
   "execution_count": 83,
   "id": "6e788e74-dfd0-4dbc-bdfb-79f75011bbf6",
   "metadata": {},
   "outputs": [
    {
     "name": "stdout",
     "output_type": "stream",
     "text": [
      "{1, 2, 3, 5, 6, 7, 8, 10}\n"
     ]
    }
   ],
   "source": [
    "print(s1 | s2)"
   ]
  },
  {
   "cell_type": "code",
   "execution_count": 84,
   "id": "8f734b36-72a9-4eab-abe5-564d6f0612ee",
   "metadata": {},
   "outputs": [
    {
     "name": "stdout",
     "output_type": "stream",
     "text": [
      "a line outside the function\n",
      "helloworld\n",
      "this line is part of the function\n",
      "helloworld\n",
      "this line is part of the function\n"
     ]
    }
   ],
   "source": [
    "\"\"\"Examples for functions\"\"\"\n",
    "# function definition\n",
    "def sayHello():\n",
    "    \"\"\"this is an example function\"\"\"\n",
    "    print(\"helloworld\")\n",
    "    print(\"this line is part of the function\")\n",
    "print(\"a line outside the function\")\n",
    "\n",
    "sayHello() # function call\n",
    "sayHello()"
   ]
  },
  {
   "cell_type": "code",
   "execution_count": 85,
   "id": "374ee301-f31c-4f59-9399-8e156c1039b3",
   "metadata": {},
   "outputs": [
    {
     "name": "stdout",
     "output_type": "stream",
     "text": [
      "this is an example function\n"
     ]
    }
   ],
   "source": [
    "# get the documentation string of the function\n",
    "print(sayHello.__doc__)"
   ]
  },
  {
   "cell_type": "code",
   "execution_count": 87,
   "id": "faedf8d0-2c39-4346-8576-5e4ac88db2aa",
   "metadata": {},
   "outputs": [
    {
     "ename": "TypeError",
     "evalue": "list.append() takes exactly one argument (0 given)",
     "output_type": "error",
     "traceback": [
      "\u001b[1;31m---------------------------------------------------------------------------\u001b[0m",
      "\u001b[1;31mTypeError\u001b[0m                                 Traceback (most recent call last)",
      "Cell \u001b[1;32mIn[87], line 3\u001b[0m\n\u001b[0;32m      1\u001b[0m list1 \u001b[38;5;241m=\u001b[39m [\u001b[38;5;241m10\u001b[39m,\u001b[38;5;241m20\u001b[39m,\u001b[38;5;241m30\u001b[39m,\u001b[38;5;241m40\u001b[39m]\n\u001b[1;32m----> 3\u001b[0m \u001b[43mlist1\u001b[49m\u001b[38;5;241;43m.\u001b[39;49m\u001b[43mappend\u001b[49m\u001b[43m(\u001b[49m\u001b[43m)\u001b[49m\n\u001b[0;32m      5\u001b[0m \u001b[38;5;28mprint\u001b[39m(list1)\n",
      "\u001b[1;31mTypeError\u001b[0m: list.append() takes exactly one argument (0 given)"
     ]
    }
   ],
   "source": [
    "list1 = [10,20,30,40]\n",
    "\n",
    "list1.append() # parameter is required\n",
    "\n",
    "print(list1)"
   ]
  },
  {
   "cell_type": "code",
   "execution_count": null,
   "id": "b810cf17-53ce-42f0-b0b0-fed1abc9ba6f",
   "metadata": {},
   "outputs": [],
   "source": [
    "list1.pop() # parameter is optional"
   ]
  },
  {
   "cell_type": "code",
   "execution_count": 88,
   "id": "3c6466a9-7f11-4bb3-aa4b-d40d534ffa5d",
   "metadata": {},
   "outputs": [],
   "source": [
    "def echo(n): # 'n' is a required parameter\n",
    "    print(n)"
   ]
  },
  {
   "cell_type": "code",
   "execution_count": 89,
   "id": "51a63c63-76ad-4333-a4ea-edafc92000bb",
   "metadata": {},
   "outputs": [
    {
     "ename": "TypeError",
     "evalue": "echo() missing 1 required positional argument: 'n'",
     "output_type": "error",
     "traceback": [
      "\u001b[1;31m---------------------------------------------------------------------------\u001b[0m",
      "\u001b[1;31mTypeError\u001b[0m                                 Traceback (most recent call last)",
      "Cell \u001b[1;32mIn[89], line 1\u001b[0m\n\u001b[1;32m----> 1\u001b[0m \u001b[43mecho\u001b[49m\u001b[43m(\u001b[49m\u001b[43m)\u001b[49m \u001b[38;5;66;03m# calling the function without parameter leads to error\u001b[39;00m\n",
      "\u001b[1;31mTypeError\u001b[0m: echo() missing 1 required positional argument: 'n'"
     ]
    }
   ],
   "source": [
    "echo() # calling the function without parameter leads to error"
   ]
  },
  {
   "cell_type": "code",
   "execution_count": 90,
   "id": "9e71541a-c8cb-4c20-8ea6-df7094f56195",
   "metadata": {},
   "outputs": [
    {
     "name": "stdout",
     "output_type": "stream",
     "text": [
      "10\n"
     ]
    }
   ],
   "source": [
    "echo(10)"
   ]
  },
  {
   "cell_type": "code",
   "execution_count": 91,
   "id": "868ff115-f732-4342-867a-6d9b880f4434",
   "metadata": {},
   "outputs": [
    {
     "ename": "NameError",
     "evalue": "name 'age' is not defined",
     "output_type": "error",
     "traceback": [
      "\u001b[1;31m---------------------------------------------------------------------------\u001b[0m",
      "\u001b[1;31mNameError\u001b[0m                                 Traceback (most recent call last)",
      "Cell \u001b[1;32mIn[91], line 1\u001b[0m\n\u001b[1;32m----> 1\u001b[0m \u001b[38;5;28mprint\u001b[39m(\u001b[43mage\u001b[49m)\n",
      "\u001b[1;31mNameError\u001b[0m: name 'age' is not defined"
     ]
    }
   ],
   "source": [
    "print(age)"
   ]
  },
  {
   "cell_type": "code",
   "execution_count": 92,
   "id": "3aeb3a23-c006-41ad-8fde-691c3b5c28df",
   "metadata": {},
   "outputs": [
    {
     "name": "stdout",
     "output_type": "stream",
     "text": [
      "Name: krish\n",
      "Age: 7\n"
     ]
    }
   ],
   "source": [
    "def display(name,age):\n",
    "    \n",
    "    print(f\"Name : {name}\")\n",
    "    print(f\"Age: {age}\")\n",
    "\n",
    "# The parameters can be treated as keyword in function call\n",
    "# and passing order can be modified\n",
    "\n",
    "display(age=7,name='krish')"
   ]
  },
  {
   "cell_type": "code",
   "execution_count": 94,
   "id": "d319660a-9f41-412f-bdef-241dea8bf012",
   "metadata": {},
   "outputs": [
    {
     "name": "stdout",
     "output_type": "stream",
     "text": [
      "Name: 7\n",
      "Age: krish\n"
     ]
    }
   ],
   "source": [
    "display(7,'krish')"
   ]
  },
  {
   "cell_type": "code",
   "execution_count": 98,
   "id": "846bd7fe-5a22-4249-820b-1312aaaae595",
   "metadata": {},
   "outputs": [
    {
     "ename": "SyntaxError",
     "evalue": "parameter without a default follows parameter with a default (2611865321.py, line 4)",
     "output_type": "error",
     "traceback": [
      "\u001b[1;36m  Cell \u001b[1;32mIn[98], line 4\u001b[1;36m\u001b[0m\n\u001b[1;33m    def calculateinterest(p,r=12,n):\u001b[0m\n\u001b[1;37m                                 ^\u001b[0m\n\u001b[1;31mSyntaxError\u001b[0m\u001b[1;31m:\u001b[0m parameter without a default follows parameter with a default\n"
     ]
    }
   ],
   "source": [
    "# in the below function parameter 'r' is assgined value in the function definition and is\n",
    "# called as default argument.\n",
    "#def calculateinterest(p,n,r=12):\n",
    "def calculateinterest(p,r=12,n):\n",
    "    return p*n*r/100"
   ]
  },
  {
   "cell_type": "code",
   "execution_count": 99,
   "id": "3386afaf-4d14-4a2a-8d71-69e81f8594df",
   "metadata": {},
   "outputs": [],
   "source": [
    "#def calculateinterest(p,n,r=12):\n",
    "def calculateinterest(p,n,r=12):\n",
    "    return p*n*r/100"
   ]
  },
  {
   "cell_type": "code",
   "execution_count": 96,
   "id": "080179d1-69cb-4642-9d21-2fc513c77ff6",
   "metadata": {},
   "outputs": [
    {
     "name": "stdout",
     "output_type": "stream",
     "text": [
      "360.0\n"
     ]
    }
   ],
   "source": [
    "# no need of including default argument in the function call\n",
    "total = calculateinterest(1000,3) # the value for 'r' is 12\n",
    "print(total)"
   ]
  },
  {
   "cell_type": "code",
   "execution_count": 97,
   "id": "40460d58-ec74-4ac7-8548-99280f1c55ca",
   "metadata": {},
   "outputs": [
    {
     "name": "stdout",
     "output_type": "stream",
     "text": [
      "240.0\n"
     ]
    }
   ],
   "source": [
    "# The value provided for default argument is considered in function call (or) default value is overwritten\n",
    "total = calculateinterest(1000,3,8) # the value for 'r' is 8\n",
    "print(total)"
   ]
  },
  {
   "cell_type": "code",
   "execution_count": 100,
   "id": "9ce703fb-873c-4ff4-b5c1-24aedac5dc27",
   "metadata": {},
   "outputs": [
    {
     "name": "stdout",
     "output_type": "stream",
     "text": [
      "10\n",
      "20\n"
     ]
    }
   ],
   "source": [
    "# multiple assignments \n",
    "a,b = 10,20\n",
    "print(a)\n",
    "print(b)"
   ]
  },
  {
   "cell_type": "code",
   "execution_count": 101,
   "id": "b39eea08-c81e-4c64-80e2-374a2c217b03",
   "metadata": {},
   "outputs": [
    {
     "ename": "ValueError",
     "evalue": "too many values to unpack (expected 2)",
     "output_type": "error",
     "traceback": [
      "\u001b[1;31m---------------------------------------------------------------------------\u001b[0m",
      "\u001b[1;31mValueError\u001b[0m                                Traceback (most recent call last)",
      "Cell \u001b[1;32mIn[101], line 1\u001b[0m\n\u001b[1;32m----> 1\u001b[0m a,b \u001b[38;5;241m=\u001b[39m \u001b[38;5;241m10\u001b[39m,\u001b[38;5;241m20\u001b[39m,\u001b[38;5;241m30\u001b[39m,\u001b[38;5;241m40\u001b[39m,\u001b[38;5;241m50\u001b[39m,\u001b[38;5;241m60\u001b[39m\n\u001b[0;32m      2\u001b[0m \u001b[38;5;28mprint\u001b[39m(a)\n\u001b[0;32m      3\u001b[0m \u001b[38;5;28mprint\u001b[39m(b)\n",
      "\u001b[1;31mValueError\u001b[0m: too many values to unpack (expected 2)"
     ]
    }
   ],
   "source": [
    "a,b = 10,20,30,40,50,60\n",
    "print(a)\n",
    "print(b)"
   ]
  },
  {
   "cell_type": "code",
   "execution_count": 102,
   "id": "4093fe7b-bb74-4292-835f-589ffa149f44",
   "metadata": {},
   "outputs": [
    {
     "name": "stdout",
     "output_type": "stream",
     "text": [
      "10\n",
      "20\n",
      "[30, 40, 50, 60]\n"
     ]
    }
   ],
   "source": [
    "a,b,*c = 10,20,30,40,50,60\n",
    "print(a)\n",
    "print(b)\n",
    "print(c)"
   ]
  },
  {
   "cell_type": "code",
   "execution_count": 105,
   "id": "034827d9-be3c-4270-9918-0a977a856dde",
   "metadata": {},
   "outputs": [],
   "source": [
    "def find_max(*args):\n",
    "    # args inside the function is treated as tuple\n",
    "    print(type(args))\n",
    "    m = args[0]\n",
    "    \n",
    "    for v in args:\n",
    "        if m<v: m=v\n",
    "    return m"
   ]
  },
  {
   "cell_type": "code",
   "execution_count": 106,
   "id": "3e0a745b-5d99-44d4-bb90-ea4d4aed1544",
   "metadata": {},
   "outputs": [
    {
     "name": "stdout",
     "output_type": "stream",
     "text": [
      "<class 'tuple'>\n",
      "548\n"
     ]
    }
   ],
   "source": [
    "maxval = find_max(83,405,91,372,548)\n",
    "print(maxval)"
   ]
  },
  {
   "cell_type": "code",
   "execution_count": 107,
   "id": "1cf2e4d1-e71a-4a5b-bbf3-12c8b40f12f4",
   "metadata": {},
   "outputs": [
    {
     "name": "stdout",
     "output_type": "stream",
     "text": [
      "<class 'tuple'>\n",
      "915\n"
     ]
    }
   ],
   "source": [
    "maxval = find_max(83,405,91,372,548,68,230,915,29,165)\n",
    "print(maxval)"
   ]
  },
  {
   "cell_type": "code",
   "execution_count": 108,
   "id": "6511bb03-f5c3-4562-acdd-d5e1d72bde1f",
   "metadata": {},
   "outputs": [],
   "source": [
    "\n",
    "def multipleParams(**kwargs):\n",
    "    # kwargs inside the function is treated as dictionary\n",
    "    print(kwargs)"
   ]
  },
  {
   "cell_type": "code",
   "execution_count": 109,
   "id": "011c505e-a12b-42e8-8030-00fbe13db604",
   "metadata": {},
   "outputs": [
    {
     "name": "stdout",
     "output_type": "stream",
     "text": [
      "{'name': 'alice', 'age': 10, 'school': 'cps'}\n"
     ]
    }
   ],
   "source": [
    "multipleParams(name='alice',age=10,school='cps')"
   ]
  },
  {
   "cell_type": "code",
   "execution_count": 110,
   "id": "7dce8f3b-85f8-4955-a69a-cf49e9b03040",
   "metadata": {},
   "outputs": [
    {
     "name": "stdout",
     "output_type": "stream",
     "text": [
      "Value inside function:  [10, 20, 30, [21, 56, 70]]\n",
      "Value outside function:  [10, 20, 30, [21, 56, 70]]\n"
     ]
    }
   ],
   "source": [
    "\"\"\"Examples for mutable object - reference is not modified\"\"\"\n",
    "def changeval(thelist):\n",
    "    thelist.append([21,56,70])\n",
    "    print(\"Value inside function: \", thelist) \n",
    "    \n",
    "mylist = [10,20,30 ]\n",
    "\n",
    "changeval(mylist)  # thelist = mylist\n",
    "\n",
    "print(\"Value outside function: \", mylist)"
   ]
  },
  {
   "cell_type": "code",
   "execution_count": 112,
   "id": "d646503d-7906-45fc-a25c-c210eda79e23",
   "metadata": {},
   "outputs": [
    {
     "name": "stdout",
     "output_type": "stream",
     "text": [
      "reference of mylist: 2207582921920\n",
      "reference of thelist: 2207583147328\n",
      "Value outside function:  [21, 56, 70]\n",
      "Value outside function:  [10, 20, 30]\n"
     ]
    }
   ],
   "source": [
    "\"\"\"Examples for mutable object - reference modified\"\"\"\n",
    "def changeval(thelist):\n",
    "    thelist = [21,56,70]\n",
    "    print(\"reference of thelist:\",id(thelist))\n",
    "    print(\"Value outside function: \", thelist) \n",
    "\n",
    "mylist = [10,20,30 ]\n",
    "print(\"reference of mylist:\",id(mylist))\n",
    "changeval(mylist)\n",
    "\n",
    "print(\"Value outside function: \", mylist)"
   ]
  },
  {
   "cell_type": "code",
   "execution_count": 117,
   "id": "6dc329a4-b0ce-451c-9763-13a04ec9fa44",
   "metadata": {},
   "outputs": [
    {
     "name": "stdout",
     "output_type": "stream",
     "text": [
      "Value inside function:  welcome to python\n",
      "Value outside function:  hello python\n"
     ]
    }
   ],
   "source": [
    "\"\"\"Examples for immutable object\"\"\"\n",
    "def changeval(s1):\n",
    "    s1 = \"welcome to python\"\n",
    "    print(\"Value inside function: \", s1)\n",
    "\n",
    "s1 = \"hello python\"\n",
    "\n",
    "changeval(s1)  # somestring = s1\n",
    "\n",
    "print(\"Value outside function: \", s1)"
   ]
  },
  {
   "cell_type": "code",
   "execution_count": 118,
   "id": "7ba546e6-55bd-4b46-a79f-6145ce34f5f8",
   "metadata": {},
   "outputs": [
    {
     "name": "stdout",
     "output_type": "stream",
     "text": [
      "64\n"
     ]
    }
   ],
   "source": [
    "\"\"\"Example for first class function\"\"\"\n",
    "\n",
    "def square(x):\n",
    "    return x*x\n",
    "\n",
    "print(square(8)) # output will be 64"
   ]
  },
  {
   "cell_type": "code",
   "execution_count": 120,
   "id": "5ce15bfa-4c63-4006-a1f0-ff12c026842f",
   "metadata": {},
   "outputs": [
    {
     "name": "stdout",
     "output_type": "stream",
     "text": [
      "<function square at 0x00000201FE4653A0>\n"
     ]
    }
   ],
   "source": [
    "# print the function reference using function name\n",
    "print(square) # function reference in hexadecimal form"
   ]
  },
  {
   "cell_type": "code",
   "execution_count": 121,
   "id": "1926afac-961b-40b7-b314-f13a8c623ef3",
   "metadata": {},
   "outputs": [],
   "source": [
    "# assign the function reference to a variable\n",
    "ref1 = square"
   ]
  },
  {
   "cell_type": "code",
   "execution_count": 122,
   "id": "d82c194e-9d7f-4a21-aa0d-50e49f8878df",
   "metadata": {},
   "outputs": [
    {
     "name": "stdout",
     "output_type": "stream",
     "text": [
      "<function square at 0x00000201FE4653A0>\n"
     ]
    }
   ],
   "source": [
    "print(ref1)"
   ]
  },
  {
   "cell_type": "code",
   "execution_count": 123,
   "id": "d0ac153f-fbbd-4b8d-abeb-f33fa091937d",
   "metadata": {},
   "outputs": [
    {
     "name": "stdout",
     "output_type": "stream",
     "text": [
      "100\n"
     ]
    }
   ],
   "source": [
    "print(ref1(10))"
   ]
  },
  {
   "cell_type": "code",
   "execution_count": 124,
   "id": "360eda6d-5b27-4765-b129-566204e67233",
   "metadata": {},
   "outputs": [],
   "source": [
    "\"\"\"Examples for lambda function\"\"\"\n",
    "\n",
    "# defining a lambda function\n",
    "ref2 = lambda x: x*x"
   ]
  },
  {
   "cell_type": "code",
   "execution_count": 125,
   "id": "a7f5c587-b0fe-4e68-9f83-037a11679f57",
   "metadata": {},
   "outputs": [
    {
     "name": "stdout",
     "output_type": "stream",
     "text": [
      "<function <lambda> at 0x00000201FE464FE0>\n"
     ]
    }
   ],
   "source": [
    "print(ref2)"
   ]
  },
  {
   "cell_type": "code",
   "execution_count": 126,
   "id": "7b8bca73-c97c-47d2-8c4b-035c25f5d420",
   "metadata": {},
   "outputs": [
    {
     "name": "stdout",
     "output_type": "stream",
     "text": [
      "169\n"
     ]
    }
   ],
   "source": [
    "print(ref2(13))"
   ]
  },
  {
   "cell_type": "code",
   "execution_count": 132,
   "id": "296f5d07-2359-4a7b-8c67-32c255e9282c",
   "metadata": {},
   "outputs": [
    {
     "name": "stdout",
     "output_type": "stream",
     "text": [
      "[0, 1, 2, 3, 4, 5, 6, 7, 8, 9, 10, 11, 12, 13, 14, 15, 16, 17, 18, 19, 20, 21, 22, 23, 24, 25, 26, 27, 28, 29, 30, 31, 32, 33, 34, 35, 36, 37, 38, 39, 40, 41, 42, 43, 44, 45, 46, 47, 48, 49]\n",
      "[0, 6, 12, 18, 24, 30, 36, 42, 48]\n"
     ]
    }
   ],
   "source": [
    "\"\"\"Example for filter\"\"\"\n",
    "\n",
    "numbers = [x for x in range(50)]\n",
    "print(numbers)\n",
    "def sort_fn(x):\n",
    "    return x%6==0\n",
    "\n",
    "# filter using custom function\n",
    "even_numbers = list(filter(sort_fn,numbers))\n",
    "\n",
    "print(even_numbers)"
   ]
  },
  {
   "cell_type": "code",
   "execution_count": 140,
   "id": "752b9d96-2051-4478-8953-8fe83baa8abb",
   "metadata": {},
   "outputs": [
    {
     "name": "stdout",
     "output_type": "stream",
     "text": [
      "[0, 1, 2, 3, 4, 5, 6, 7, 8, 9, 10, 11, 12, 13, 14, 15, 16, 17, 18, 19, 20, 21, 22, 23, 24, 25, 26, 27, 28, 29, 30, 31, 32, 33, 34, 35, 36, 37, 38, 39, 40, 41, 42, 43, 44, 45, 46, 47, 48, 49]\n",
      "[0, 8, 16, 24, 32, 40, 48]\n"
     ]
    }
   ],
   "source": [
    "\"\"\"Example for filter\"\"\"\n",
    "\n",
    "numbers = [x for x in range(50)]\n",
    "print(numbers)\n",
    "\n",
    "\n",
    "# filter using custom function\n",
    "even_numbers = list(filter(lambda x: x%8==0,numbers))\n",
    "\n",
    "print(even_numbers)"
   ]
  },
  {
   "cell_type": "code",
   "execution_count": 134,
   "id": "82280d75-a70e-4c81-ab52-541edd4c060f",
   "metadata": {},
   "outputs": [
    {
     "name": "stdout",
     "output_type": "stream",
     "text": [
      "[0, 1, 2, 3, 4, 5, 6, 7, 8, 9, 10, 11, 12, 13, 14, 15, 16, 17, 18, 19, 20, 21, 22, 23, 24, 25, 26, 27, 28, 29, 30, 31, 32, 33, 34, 35, 36, 37, 38, 39, 40, 41, 42, 43, 44, 45, 46, 47, 48, 49]\n",
      "[0, 1, 4, 9, 16, 25, 36, 49, 64, 81, 100, 121, 144, 169, 196, 225, 256, 289, 324, 361, 400, 441, 484, 529, 576, 625, 676, 729, 784, 841, 900, 961, 1024, 1089, 1156, 1225, 1296, 1369, 1444, 1521, 1600, 1681, 1764, 1849, 1936, 2025, 2116, 2209, 2304, 2401]\n"
     ]
    }
   ],
   "source": [
    "\"\"\"Example for map\"\"\"\n",
    "\n",
    "numbers = [x for x in range(50)]\n",
    "print(numbers)\n",
    "\n",
    "def square(x):\n",
    "    return x*x\n",
    "\n",
    "# filter using custom function\n",
    "square_numbers = list(map(square,numbers))\n",
    "\n",
    "print(square_numbers)"
   ]
  },
  {
   "cell_type": "code",
   "execution_count": 138,
   "id": "2ddd263f-cebb-4cdc-9102-21c0c3942476",
   "metadata": {},
   "outputs": [
    {
     "name": "stdout",
     "output_type": "stream",
     "text": [
      "[0, 1, 2, 3, 4, 5, 6, 7, 8, 9, 10, 11, 12, 13, 14, 15, 16, 17, 18, 19, 20, 21, 22, 23, 24, 25, 26, 27, 28, 29, 30, 31, 32, 33, 34, 35, 36, 37, 38, 39, 40, 41, 42, 43, 44, 45, 46, 47, 48, 49, 50, 51, 52, 53, 54, 55, 56, 57, 58, 59, 60, 61, 62, 63, 64, 65, 66, 67, 68, 69, 70, 71, 72, 73, 74, 75, 76, 77, 78, 79, 80, 81, 82, 83, 84, 85, 86, 87, 88, 89, 90, 91, 92, 93, 94, 95, 96, 97, 98, 99]\n",
      "[0, 1, 4, 9, 16, 25, 36, 49, 64, 81, 100, 121, 144, 169, 196, 225, 256, 289, 324, 361, 400, 441, 484, 529, 576, 625, 676, 729, 784, 841, 900, 961, 1024, 1089, 1156, 1225, 1296, 1369, 1444, 1521, 1600, 1681, 1764, 1849, 1936, 2025, 2116, 2209, 2304, 2401, 2500, 2601, 2704, 2809, 2916, 3025, 3136, 3249, 3364, 3481, 3600, 3721, 3844, 3969, 4096, 4225, 4356, 4489, 4624, 4761, 4900, 5041, 5184, 5329, 5476, 5625, 5776, 5929, 6084, 6241, 6400, 6561, 6724, 6889, 7056, 7225, 7396, 7569, 7744, 7921, 8100, 8281, 8464, 8649, 8836, 9025, 9216, 9409, 9604, 9801]\n"
     ]
    }
   ],
   "source": [
    "\"\"\"Example for map\"\"\"\n",
    "\n",
    "numbers = [x for x in range(100)]\n",
    "print(numbers)\n",
    "\n",
    "\n",
    "# filter using custom function\n",
    "square_numbers = list(map(lambda x:x *x,numbers))\n",
    "\n",
    "print(square_numbers)"
   ]
  },
  {
   "cell_type": "code",
   "execution_count": 142,
   "id": "05fb4a61-0698-4b51-b196-7891078fa688",
   "metadata": {},
   "outputs": [
    {
     "name": "stdout",
     "output_type": "stream",
     "text": [
      "10\n",
      "20\n",
      "30\n",
      "40\n",
      "50\n"
     ]
    }
   ],
   "source": [
    "list1 = [10,20,30,40,50]\n",
    "\n",
    "for element in list1:\n",
    "    print(element)"
   ]
  },
  {
   "cell_type": "code",
   "execution_count": 150,
   "id": "356ce102-260a-40c6-999e-8e2a1523c762",
   "metadata": {},
   "outputs": [
    {
     "name": "stdout",
     "output_type": "stream",
     "text": [
      "10\n",
      "20\n",
      "30\n",
      "40\n",
      "50\n"
     ]
    }
   ],
   "source": [
    "# iter - built-in function to create iterator\n",
    "ia = iter(list1)\n",
    "#print(next(ia)) # print(ia.__next__())\n",
    "for _ in range(len(list1)):\n",
    "    print(next(ia))"
   ]
  },
  {
   "cell_type": "code",
   "execution_count": 144,
   "id": "53bac564-12b3-47d1-8890-0483ca557451",
   "metadata": {},
   "outputs": [
    {
     "name": "stdout",
     "output_type": "stream",
     "text": [
      "20\n"
     ]
    }
   ],
   "source": [
    "print(next(ia))"
   ]
  },
  {
   "cell_type": "code",
   "execution_count": 145,
   "id": "440e6f6e-ca65-421e-a44f-77b91aae57c4",
   "metadata": {},
   "outputs": [
    {
     "name": "stdout",
     "output_type": "stream",
     "text": [
      "30\n"
     ]
    }
   ],
   "source": [
    "print(next(ia))"
   ]
  },
  {
   "cell_type": "code",
   "execution_count": 146,
   "id": "2b9d060a-7219-4017-aabe-5ae0ff0099ca",
   "metadata": {},
   "outputs": [
    {
     "name": "stdout",
     "output_type": "stream",
     "text": [
      "40\n"
     ]
    }
   ],
   "source": [
    "print(next(ia))"
   ]
  },
  {
   "cell_type": "code",
   "execution_count": 147,
   "id": "e8024605-c012-4560-a724-fe824f0a88cf",
   "metadata": {},
   "outputs": [
    {
     "name": "stdout",
     "output_type": "stream",
     "text": [
      "50\n"
     ]
    }
   ],
   "source": [
    "print(next(ia))"
   ]
  },
  {
   "cell_type": "code",
   "execution_count": 148,
   "id": "865f8733-dc24-450f-8edf-e11976fd12d0",
   "metadata": {},
   "outputs": [
    {
     "ename": "StopIteration",
     "evalue": "",
     "output_type": "error",
     "traceback": [
      "\u001b[1;31m---------------------------------------------------------------------------\u001b[0m",
      "\u001b[1;31mStopIteration\u001b[0m                             Traceback (most recent call last)",
      "Cell \u001b[1;32mIn[148], line 1\u001b[0m\n\u001b[1;32m----> 1\u001b[0m \u001b[38;5;28mprint\u001b[39m(\u001b[38;5;28;43mnext\u001b[39;49m\u001b[43m(\u001b[49m\u001b[43mia\u001b[49m\u001b[43m)\u001b[49m)\n",
      "\u001b[1;31mStopIteration\u001b[0m: "
     ]
    }
   ],
   "source": [
    "print(next(ia))"
   ]
  },
  {
   "cell_type": "code",
   "execution_count": 151,
   "id": "74eecda5-51cf-47e7-9f54-dbc80092186e",
   "metadata": {},
   "outputs": [],
   "source": [
    "def genseq():\n",
    "    return 1\n",
    "    return 2\n",
    "    return 3"
   ]
  },
  {
   "cell_type": "code",
   "execution_count": 153,
   "id": "5a33b727-e649-4f58-ae2c-363a18a12c12",
   "metadata": {},
   "outputs": [
    {
     "ename": "TypeError",
     "evalue": "'int' object is not iterable",
     "output_type": "error",
     "traceback": [
      "\u001b[1;31m---------------------------------------------------------------------------\u001b[0m",
      "\u001b[1;31mTypeError\u001b[0m                                 Traceback (most recent call last)",
      "Cell \u001b[1;32mIn[153], line 1\u001b[0m\n\u001b[1;32m----> 1\u001b[0m \u001b[38;5;28;43;01mfor\u001b[39;49;00m\u001b[43m \u001b[49m\u001b[43mnum\u001b[49m\u001b[43m \u001b[49m\u001b[38;5;129;43;01min\u001b[39;49;00m\u001b[43m \u001b[49m\u001b[43mgenseq\u001b[49m\u001b[43m(\u001b[49m\u001b[43m)\u001b[49m\u001b[43m:\u001b[49m\n\u001b[0;32m      2\u001b[0m \u001b[43m    \u001b[49m\u001b[38;5;28;43mprint\u001b[39;49m\u001b[43m(\u001b[49m\u001b[43mnum\u001b[49m\u001b[43m)\u001b[49m\n",
      "\u001b[1;31mTypeError\u001b[0m: 'int' object is not iterable"
     ]
    }
   ],
   "source": [
    "for num in genseq():\n",
    "    print(num)"
   ]
  },
  {
   "cell_type": "code",
   "execution_count": 154,
   "id": "f261b362-ec64-4e53-8c03-a1422f498e21",
   "metadata": {},
   "outputs": [],
   "source": [
    "def genseq():\n",
    "    yield 1\n",
    "    yield 2\n",
    "    yield 3"
   ]
  },
  {
   "cell_type": "code",
   "execution_count": 155,
   "id": "f85df7db-3c93-4ac6-9c78-f8726b06046e",
   "metadata": {},
   "outputs": [
    {
     "name": "stdout",
     "output_type": "stream",
     "text": [
      "1\n",
      "2\n",
      "3\n"
     ]
    }
   ],
   "source": [
    "for num in genseq():\n",
    "    print(num)"
   ]
  },
  {
   "cell_type": "code",
   "execution_count": null,
   "id": "a9ebad38-80a3-4a12-b843-b3369c6bc282",
   "metadata": {},
   "outputs": [],
   "source": []
  }
 ],
 "metadata": {
  "kernelspec": {
   "display_name": "Python 3 (ipykernel)",
   "language": "python",
   "name": "python3"
  },
  "language_info": {
   "codemirror_mode": {
    "name": "ipython",
    "version": 3
   },
   "file_extension": ".py",
   "mimetype": "text/x-python",
   "name": "python",
   "nbconvert_exporter": "python",
   "pygments_lexer": "ipython3",
   "version": "3.13.0"
  }
 },
 "nbformat": 4,
 "nbformat_minor": 5
}
