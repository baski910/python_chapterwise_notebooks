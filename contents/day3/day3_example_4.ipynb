{
 "cells": [
  {
   "cell_type": "code",
   "execution_count": 5,
   "id": "65ddd714-6222-4153-81c3-c98db57202dc",
   "metadata": {},
   "outputs": [
    {
     "name": "stdout",
     "output_type": "stream",
     "text": [
      "before: 20\n",
      "inside function: 15\n",
      "outside function: 15\n"
     ]
    }
   ],
   "source": [
    "x=20 # has a global scope\n",
    "\n",
    "print(\"before:\",x)\n",
    "\n",
    "def f():\n",
    "    global x\n",
    "    x=15\n",
    "    print(\"inside function:\",x) # accessing the local variable, as 'x' got redefined inside the function    \n",
    "\n",
    "f()\n",
    "\n",
    "print(\"outside function:\",x) "
   ]
  },
  {
   "cell_type": "code",
   "execution_count": null,
   "id": "184db56e-71dd-4822-8e10-423889908474",
   "metadata": {},
   "outputs": [],
   "source": []
  }
 ],
 "metadata": {
  "kernelspec": {
   "display_name": "Python 3 (ipykernel)",
   "language": "python",
   "name": "python3"
  },
  "language_info": {
   "codemirror_mode": {
    "name": "ipython",
    "version": 3
   },
   "file_extension": ".py",
   "mimetype": "text/x-python",
   "name": "python",
   "nbconvert_exporter": "python",
   "pygments_lexer": "ipython3",
   "version": "3.13.0"
  }
 },
 "nbformat": 4,
 "nbformat_minor": 5
}
