{
 "cells": [
  {
   "cell_type": "code",
   "execution_count": 2,
   "id": "ef8cd679-f923-495d-ac43-22b845eb48fb",
   "metadata": {},
   "outputs": [
    {
     "name": "stdout",
     "output_type": "stream",
     "text": [
      "inside function: 25\n",
      "inside function: 20\n",
      "outside function: 20\n"
     ]
    },
    {
     "ename": "NameError",
     "evalue": "name 'y' is not defined",
     "output_type": "error",
     "traceback": [
      "\u001b[1;31m---------------------------------------------------------------------------\u001b[0m",
      "\u001b[1;31mNameError\u001b[0m                                 Traceback (most recent call last)",
      "Cell \u001b[1;32mIn[2], line 13\u001b[0m\n\u001b[0;32m     10\u001b[0m f()\n\u001b[0;32m     12\u001b[0m \u001b[38;5;28mprint\u001b[39m(\u001b[38;5;124m\"\u001b[39m\u001b[38;5;124moutside function:\u001b[39m\u001b[38;5;124m\"\u001b[39m,x)\n\u001b[1;32m---> 13\u001b[0m \u001b[38;5;28mprint\u001b[39m(\u001b[38;5;124m\"\u001b[39m\u001b[38;5;124moutside function:\u001b[39m\u001b[38;5;124m\"\u001b[39m,\u001b[43my\u001b[49m) \u001b[38;5;66;03m# leads to error\u001b[39;00m\n",
      "\u001b[1;31mNameError\u001b[0m: name 'y' is not defined"
     ]
    }
   ],
   "source": [
    "\"\"\"Examples for variable with global scope\"\"\"\n",
    "\n",
    "x=20 # has a global scope\n",
    "\n",
    "def f():\n",
    "    y=25\n",
    "    print(\"inside function:\",y)\n",
    "    print(\"inside function:\",x) # accessing the global variable, as 'x' not redefined inside the function\n",
    "\n",
    "f()\n",
    "\n",
    "print(\"outside function:\",x)\n",
    "print(\"outside function:\",y) # leads to error"
   ]
  },
  {
   "cell_type": "code",
   "execution_count": null,
   "id": "8274831d-2882-46a0-9825-57e67aa5bf6a",
   "metadata": {},
   "outputs": [],
   "source": []
  }
 ],
 "metadata": {
  "kernelspec": {
   "display_name": "Python 3 (ipykernel)",
   "language": "python",
   "name": "python3"
  },
  "language_info": {
   "codemirror_mode": {
    "name": "ipython",
    "version": 3
   },
   "file_extension": ".py",
   "mimetype": "text/x-python",
   "name": "python",
   "nbconvert_exporter": "python",
   "pygments_lexer": "ipython3",
   "version": "3.13.0"
  }
 },
 "nbformat": 4,
 "nbformat_minor": 5
}
