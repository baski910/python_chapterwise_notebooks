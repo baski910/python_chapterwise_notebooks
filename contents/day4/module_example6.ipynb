{
 "cells": [
  {
   "cell_type": "code",
   "execution_count": 1,
   "id": "6058b2bb-d8ac-45cb-9adf-cf5f62604079",
   "metadata": {},
   "outputs": [
    {
     "name": "stdout",
     "output_type": "stream",
     "text": [
      "35\n",
      "6.0\n"
     ]
    }
   ],
   "source": [
    "import hello\n",
    "\n",
    "print(hello.addnum(30,5))\n",
    "print(hello.divnum(30,5))"
   ]
  },
  {
   "cell_type": "code",
   "execution_count": null,
   "id": "6021c962-bda5-4000-99c0-79a54a173ac7",
   "metadata": {},
   "outputs": [],
   "source": []
  }
 ],
 "metadata": {
  "kernelspec": {
   "display_name": "Python 3 (ipykernel)",
   "language": "python",
   "name": "python3"
  },
  "language_info": {
   "codemirror_mode": {
    "name": "ipython",
    "version": 3
   },
   "file_extension": ".py",
   "mimetype": "text/x-python",
   "name": "python",
   "nbconvert_exporter": "python",
   "pygments_lexer": "ipython3",
   "version": "3.13.0"
  }
 },
 "nbformat": 4,
 "nbformat_minor": 5
}
