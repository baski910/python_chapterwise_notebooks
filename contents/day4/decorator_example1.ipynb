{
 "cells": [
  {
   "cell_type": "code",
   "execution_count": 1,
   "id": "81ea58d5-9be9-41c5-bd6b-7d8f9fe6eb28",
   "metadata": {},
   "outputs": [],
   "source": [
    "# decorator - modify behaviour of a function without modifying the code inside it\n",
    "# nested function\n",
    "# closure\n",
    "def f(x):\n",
    "    def g(y):\n",
    "        return y*y\n",
    "    return x+g(x)"
   ]
  },
  {
   "cell_type": "code",
   "execution_count": 2,
   "id": "9eb812ee-131a-47ac-8afa-ea67c0d3aa54",
   "metadata": {},
   "outputs": [
    {
     "name": "stdout",
     "output_type": "stream",
     "text": [
      "110\n"
     ]
    }
   ],
   "source": [
    "print(f(10))"
   ]
  },
  {
   "cell_type": "code",
   "execution_count": 3,
   "id": "9583c2db-2920-4930-8e85-9dda8387a774",
   "metadata": {},
   "outputs": [],
   "source": [
    "# closure - if the outer function returns the reference of inner function\n",
    "def f(x):\n",
    "    def g(): # for the inner function the parameter of outer function will work like global variable\n",
    "        return x*x\n",
    "    return g"
   ]
  },
  {
   "cell_type": "code",
   "execution_count": 4,
   "id": "277b9b0b-cb59-4eb5-8c1f-303b38ffdcf7",
   "metadata": {},
   "outputs": [
    {
     "name": "stdout",
     "output_type": "stream",
     "text": [
      "<function f.<locals>.g at 0x000002368ED1E340>\n"
     ]
    }
   ],
   "source": [
    "m = f(10)\n",
    "print(m)"
   ]
  },
  {
   "cell_type": "code",
   "execution_count": 5,
   "id": "99bce6b9-a0f8-444b-bef3-f078331ea5e1",
   "metadata": {},
   "outputs": [
    {
     "name": "stdout",
     "output_type": "stream",
     "text": [
      "100\n"
     ]
    }
   ],
   "source": [
    "print(m()) # this will inturn call g"
   ]
  },
  {
   "cell_type": "code",
   "execution_count": 6,
   "id": "00d36401-0f49-4080-bdfb-0ffb2e17533f",
   "metadata": {},
   "outputs": [],
   "source": [
    "def display(name):\n",
    "    return f\"welcome {name} to python\""
   ]
  },
  {
   "cell_type": "code",
   "execution_count": 7,
   "id": "5702a7eb-2316-4553-82b0-7aaebdc1c59e",
   "metadata": {},
   "outputs": [
    {
     "name": "stdout",
     "output_type": "stream",
     "text": [
      "welcome bob to python\n"
     ]
    }
   ],
   "source": [
    "print(display(\"bob\"))"
   ]
  },
  {
   "cell_type": "code",
   "execution_count": 8,
   "id": "01e35325-b152-49c0-9a28-e2c17453810e",
   "metadata": {},
   "outputs": [],
   "source": [
    "# <s>welcome bob to python</s>\n",
    "def s_decorator(d): # d is the reference of function to be modified\n",
    "    def inner_wrapper(name):\n",
    "        return \"<s>{}</s>\".format(d(name))\n",
    "    return inner_wrapper"
   ]
  },
  {
   "cell_type": "code",
   "execution_count": 9,
   "id": "a3e3bed5-a6cd-4f18-9f6c-2ce27c5fb008",
   "metadata": {},
   "outputs": [],
   "source": [
    "display = s_decorator(display)"
   ]
  },
  {
   "cell_type": "code",
   "execution_count": 10,
   "id": "b62b495d-627a-4d46-8284-dc0b4f98737d",
   "metadata": {},
   "outputs": [
    {
     "name": "stdout",
     "output_type": "stream",
     "text": [
      "<s>welcome bob to python</s>\n"
     ]
    }
   ],
   "source": [
    "print(display(\"bob\"))"
   ]
  },
  {
   "cell_type": "code",
   "execution_count": null,
   "id": "6590fed2-cd57-4e59-9341-774598405218",
   "metadata": {},
   "outputs": [],
   "source": []
  }
 ],
 "metadata": {
  "kernelspec": {
   "display_name": "Python 3 (ipykernel)",
   "language": "python",
   "name": "python3"
  },
  "language_info": {
   "codemirror_mode": {
    "name": "ipython",
    "version": 3
   },
   "file_extension": ".py",
   "mimetype": "text/x-python",
   "name": "python",
   "nbconvert_exporter": "python",
   "pygments_lexer": "ipython3",
   "version": "3.13.0"
  }
 },
 "nbformat": 4,
 "nbformat_minor": 5
}
