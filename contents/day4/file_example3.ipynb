{
 "cells": [
  {
   "cell_type": "code",
   "execution_count": 1,
   "id": "2252c7fa-296c-4738-89d5-92077fcbe977",
   "metadata": {},
   "outputs": [],
   "source": [
    "####################################################################\n",
    "# fileobject = open(filepath,filemode,buffering)\n",
    "# write - writes the content passed as argument to the filed pointed to by file object\n",
    "#\n",
    "# writelines - takes a list as argument and writes the list element to the file pointed to by the file object\n",
    "###########################################################################"
   ]
  },
  {
   "cell_type": "code",
   "execution_count": 2,
   "id": "b178790d-d7d9-485a-8434-3c546f2a49ef",
   "metadata": {},
   "outputs": [],
   "source": [
    "fh = open('file1.txt','w')\n",
    "\n",
    "fh.write(\"programming in python is fun\\n\")\n",
    "fh.write(\"python is a simple language to learn\\n\")\n",
    "\n",
    "fh.close()"
   ]
  },
  {
   "cell_type": "code",
   "execution_count": 3,
   "id": "635437b0-353a-4975-8408-afd5c9898836",
   "metadata": {},
   "outputs": [],
   "source": [
    "# overwrite the file\n",
    "fh = open('file1.txt','w')\n",
    "\n",
    "fh.write(\"i like programming\\n\")\n",
    "fh.write(\"python is portable\\n\")\n",
    "\n",
    "fh.close()"
   ]
  },
  {
   "cell_type": "code",
   "execution_count": 4,
   "id": "ec421922-53e7-48eb-8bf9-bf1aee77a9c7",
   "metadata": {},
   "outputs": [],
   "source": [
    "# using writelines\n",
    "fh = open('file2.txt','w')\n",
    "\n",
    "fh.writelines([\"i like programming\\n\",\"python is portable\\n\"])\n",
    "\n",
    "fh.close()"
   ]
  },
  {
   "cell_type": "code",
   "execution_count": 7,
   "id": "5aee9dc7-607a-41f5-ba55-5184a42f90d1",
   "metadata": {},
   "outputs": [
    {
     "name": "stdout",
     "output_type": "stream",
     "text": [
      "i like programming\n",
      "python is portable\n",
      "i like programming\n",
      "python is portable\n",
      "i like programming\n",
      "python is portable\n",
      "i like programming\n",
      "python is portable\n",
      "\n"
     ]
    }
   ],
   "source": [
    "fh = open('file2.txt','a+')\n",
    "\n",
    "fh.writelines([\"i like programming\\n\",\"python is portable\\n\"])\n",
    "\n",
    "fh.seek(0)\n",
    "print(fh.read())\n",
    "\n",
    "fh.close()"
   ]
  },
  {
   "cell_type": "code",
   "execution_count": null,
   "id": "586ed25b-69d9-4a22-8457-36c9e18fff32",
   "metadata": {},
   "outputs": [],
   "source": []
  }
 ],
 "metadata": {
  "kernelspec": {
   "display_name": "Python 3 (ipykernel)",
   "language": "python",
   "name": "python3"
  },
  "language_info": {
   "codemirror_mode": {
    "name": "ipython",
    "version": 3
   },
   "file_extension": ".py",
   "mimetype": "text/x-python",
   "name": "python",
   "nbconvert_exporter": "python",
   "pygments_lexer": "ipython3",
   "version": "3.13.0"
  }
 },
 "nbformat": 4,
 "nbformat_minor": 5
}
