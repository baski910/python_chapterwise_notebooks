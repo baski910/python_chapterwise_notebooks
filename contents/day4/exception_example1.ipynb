{
 "cells": [
  {
   "cell_type": "code",
   "execution_count": 1,
   "id": "7e32d81d-02a7-4a34-8f48-be0f50f82f6e",
   "metadata": {},
   "outputs": [],
   "source": [
    "# try\n",
    "# TODO\n",
    "# except ErrorClass\n",
    "#  TODO\n",
    "# else\n",
    "#  TODO\n",
    "# finally\n",
    "#  TODO"
   ]
  },
  {
   "cell_type": "code",
   "execution_count": 2,
   "id": "d10a8f97-4b77-4099-a5a1-3ba7e1244bf4",
   "metadata": {},
   "outputs": [
    {
     "name": "stdin",
     "output_type": "stream",
     "text": [
      "Enter a number hello\n"
     ]
    },
    {
     "name": "stdout",
     "output_type": "stream",
     "text": [
      "Not a vlid entry\n"
     ]
    },
    {
     "name": "stdin",
     "output_type": "stream",
     "text": [
      "Enter a number world\n"
     ]
    },
    {
     "name": "stdout",
     "output_type": "stream",
     "text": [
      "Not a vlid entry\n"
     ]
    },
    {
     "name": "stdin",
     "output_type": "stream",
     "text": [
      "Enter a number 100\n"
     ]
    },
    {
     "name": "stdout",
     "output_type": "stream",
     "text": [
      "100\n"
     ]
    }
   ],
   "source": [
    "while True:\n",
    "    try:\n",
    "        num = int(input(\"Enter a number\"))\n",
    "        print(num)\n",
    "        break\n",
    "    except:\n",
    "        print(\"Not a vlid entry\")"
   ]
  },
  {
   "cell_type": "code",
   "execution_count": 3,
   "id": "cef9f542-8add-47c3-9449-a625c9733de7",
   "metadata": {},
   "outputs": [
    {
     "name": "stdin",
     "output_type": "stream",
     "text": [
      "Enter a number hello\n"
     ]
    },
    {
     "name": "stdout",
     "output_type": "stream",
     "text": [
      "Not a vlid entry (<class 'ValueError'>, ValueError(\"invalid literal for int() with base 10: 'hello'\"), <traceback object at 0x000001F6DC2FB7C0>)\n"
     ]
    }
   ],
   "source": [
    "import sys\n",
    "try:\n",
    "    num = int(input(\"Enter a number\"))\n",
    "    print(num)\n",
    "    #break\n",
    "except:\n",
    "        print(\"Not a vlid entry\",sys.exc_info())"
   ]
  },
  {
   "cell_type": "code",
   "execution_count": 5,
   "id": "ca4e4a6c-331a-4aac-8f92-da779d8fc35a",
   "metadata": {},
   "outputs": [
    {
     "name": "stdin",
     "output_type": "stream",
     "text": [
      "Enter a number 100\n"
     ]
    },
    {
     "name": "stdout",
     "output_type": "stream",
     "text": [
      "100\n"
     ]
    }
   ],
   "source": [
    "import sys\n",
    "try:\n",
    "    num = int(input(\"Enter a number\"))\n",
    "    print(num)\n",
    "    #break\n",
    "except ValueError:\n",
    "        print(\"Not a vlid entry\",sys.exc_info())"
   ]
  },
  {
   "cell_type": "code",
   "execution_count": 9,
   "id": "a0b65c9b-524b-4e52-9649-1c346851b9c7",
   "metadata": {},
   "outputs": [
    {
     "name": "stdout",
     "output_type": "stream",
     "text": [
      "100\n"
     ]
    }
   ],
   "source": [
    "import sys\n",
    "try:\n",
    "    fh = open(\"myfile.txt\",\"r\")\n",
    "    s = fh.readline().strip()\n",
    "    num = int(s)\n",
    "    print(num)\n",
    "except IOError as e:\n",
    "    print(e.errno,e.strerror)\n",
    "except ValueError:\n",
    "    print(\"error in converting to number\")\n",
    "except:\n",
    "    print(\"unknown error\",sys.exc_info())"
   ]
  },
  {
   "cell_type": "code",
   "execution_count": null,
   "id": "7bf66dce-5b29-44f0-a0b9-9db0f4d459e8",
   "metadata": {},
   "outputs": [],
   "source": []
  }
 ],
 "metadata": {
  "kernelspec": {
   "display_name": "Python 3 (ipykernel)",
   "language": "python",
   "name": "python3"
  },
  "language_info": {
   "codemirror_mode": {
    "name": "ipython",
    "version": 3
   },
   "file_extension": ".py",
   "mimetype": "text/x-python",
   "name": "python",
   "nbconvert_exporter": "python",
   "pygments_lexer": "ipython3",
   "version": "3.13.0"
  }
 },
 "nbformat": 4,
 "nbformat_minor": 5
}
