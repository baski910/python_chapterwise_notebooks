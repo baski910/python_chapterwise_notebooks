{
 "cells": [
  {
   "cell_type": "code",
   "execution_count": 1,
   "id": "0e38f22e-b5c5-4c38-9f76-882eb5890bd4",
   "metadata": {},
   "outputs": [],
   "source": [
    "# single inheritance\n",
    "class A:\n",
    "    def printString(self):\n",
    "        print(\"from A\")\n",
    "\n",
    "class B(A):\n",
    "    pass"
   ]
  },
  {
   "cell_type": "code",
   "execution_count": 2,
   "id": "b6e12474-8501-488f-8d36-01a481f1dbdf",
   "metadata": {},
   "outputs": [
    {
     "name": "stdout",
     "output_type": "stream",
     "text": [
      "from A\n"
     ]
    }
   ],
   "source": [
    "obj = B()\n",
    "obj.printString()"
   ]
  },
  {
   "cell_type": "code",
   "execution_count": 3,
   "id": "45bbf0ba-e3da-4df2-b083-fbb137709df2",
   "metadata": {},
   "outputs": [],
   "source": [
    "class A:\n",
    "    def printString(self):\n",
    "        print(\"from A\")\n",
    "\n",
    "class B(A):\n",
    "    def displayString(self):\n",
    "        print(\"b's instance method\")"
   ]
  },
  {
   "cell_type": "code",
   "execution_count": 4,
   "id": "022b7dc7-247b-4803-8567-4d2b31dc8211",
   "metadata": {},
   "outputs": [
    {
     "name": "stdout",
     "output_type": "stream",
     "text": [
      "from A\n",
      "b's instance method\n"
     ]
    }
   ],
   "source": [
    "obj = B()\n",
    "obj.printString()\n",
    "obj.displayString()"
   ]
  },
  {
   "cell_type": "code",
   "execution_count": 5,
   "id": "9ca30873-1fad-42ef-a304-d71e4c12a8d5",
   "metadata": {},
   "outputs": [],
   "source": [
    "# method overriding - re implementing parent class method in child class\n",
    "class A:\n",
    "    def printString(self):\n",
    "        print(\"from A\")\n",
    "\n",
    "class B(A):\n",
    "    def printString(self):\n",
    "        print(\"from B\")"
   ]
  },
  {
   "cell_type": "code",
   "execution_count": 6,
   "id": "5f5ad3ae-000a-4aa2-91b9-211abefdcb4f",
   "metadata": {},
   "outputs": [
    {
     "name": "stdout",
     "output_type": "stream",
     "text": [
      "from B\n"
     ]
    }
   ],
   "source": [
    "obj = B()\n",
    "obj.printString() # only child class version is invoked"
   ]
  },
  {
   "cell_type": "code",
   "execution_count": 7,
   "id": "809e5e5f-f9d6-4659-956f-17a247332cef",
   "metadata": {},
   "outputs": [],
   "source": [
    "# super - method to invoked parent class definition in method overriding\n",
    "class A:\n",
    "    def printString(self):\n",
    "        print(\"from A\")\n",
    "\n",
    "class B(A,C):\n",
    "    def printString(self):\n",
    "        super().printString()  # calls parent class definintion,\n",
    "        print(\"from B\")"
   ]
  },
  {
   "cell_type": "code",
   "execution_count": 8,
   "id": "2dd00edc-0d61-4072-a4e5-c661ade21147",
   "metadata": {},
   "outputs": [
    {
     "name": "stdout",
     "output_type": "stream",
     "text": [
      "from A\n",
      "from B\n"
     ]
    }
   ],
   "source": [
    "obj = B()\n",
    "obj.printString() # only child class version is invoked"
   ]
  },
  {
   "cell_type": "code",
   "execution_count": 10,
   "id": "0a5dfcb5-838d-4737-8cc5-3e3d54a77465",
   "metadata": {},
   "outputs": [],
   "source": [
    "# mro - method resolution order. A class attribute which determines the order of searching method\n",
    "class A:\n",
    "    def printString(self):\n",
    "        print(\"from A\")\n",
    "\n",
    "class C:\n",
    "    def printString(self):\n",
    "        print(\"from C\")\n",
    "\n",
    "class B(A,C):\n",
    "   pass"
   ]
  },
  {
   "cell_type": "code",
   "execution_count": 11,
   "id": "7405e34e-5884-4330-b335-cde2fe177225",
   "metadata": {},
   "outputs": [
    {
     "name": "stdout",
     "output_type": "stream",
     "text": [
      "from A\n"
     ]
    }
   ],
   "source": [
    "obj = B()\n",
    "obj.printString()"
   ]
  },
  {
   "cell_type": "code",
   "execution_count": 12,
   "id": "955803a2-ecd7-4b44-8a8a-b5dd5fd77f2b",
   "metadata": {},
   "outputs": [],
   "source": [
    "class A:\n",
    "    def printString(self):\n",
    "        print(\"from A\")\n",
    "\n",
    "class C:\n",
    "    def printString(self):\n",
    "        print(\"from C\")\n",
    "\n",
    "class B(C,A):\n",
    "   pass"
   ]
  },
  {
   "cell_type": "code",
   "execution_count": 13,
   "id": "70e83884-2428-4194-94ed-91c6f9718607",
   "metadata": {},
   "outputs": [
    {
     "name": "stdout",
     "output_type": "stream",
     "text": [
      "from C\n"
     ]
    }
   ],
   "source": [
    "obj = B()\n",
    "obj.printString()"
   ]
  },
  {
   "cell_type": "code",
   "execution_count": 14,
   "id": "e4636c54-16d1-42c6-a032-82e58ae0a785",
   "metadata": {},
   "outputs": [],
   "source": [
    "class E:\n",
    "    def printString(self):\n",
    "        print(\"from E\")\n",
    "\n",
    "class A:\n",
    "    def printString(self):\n",
    "        print(\"from A\")\n",
    "\n",
    "class C(E):\n",
    "    pass\n",
    "\n",
    "class B(C,A):\n",
    "   pass"
   ]
  },
  {
   "cell_type": "code",
   "execution_count": 16,
   "id": "66914adf-86cf-4147-9cfe-71c084674abc",
   "metadata": {},
   "outputs": [
    {
     "name": "stdout",
     "output_type": "stream",
     "text": [
      "(<class '__main__.B'>, <class '__main__.C'>, <class '__main__.E'>, <class '__main__.A'>, <class 'object'>)\n",
      "from E\n"
     ]
    }
   ],
   "source": [
    "obj = B()\n",
    "print(B.__mro__) # return method resolution order\n",
    "obj.printString()"
   ]
  },
  {
   "cell_type": "code",
   "execution_count": 22,
   "id": "82cc38e6-84fd-4f60-a288-ec8f537f1505",
   "metadata": {},
   "outputs": [],
   "source": [
    "# private members\n",
    "class P:\n",
    "    def __init__(self,x):\n",
    "        self._x = x\n",
    "\n",
    "    @property\n",
    "    def x(self):\n",
    "        return self._x\n",
    "\n",
    "    @x.setter\n",
    "    def x(self,x):\n",
    "        if x >1000:\n",
    "            self._x = 1000\n",
    "        elif x<0:\n",
    "            self._x=0\n",
    "        else:\n",
    "            self._x = x"
   ]
  },
  {
   "cell_type": "code",
   "execution_count": 23,
   "id": "2c588f59-5582-4ede-ab96-acfa36377858",
   "metadata": {},
   "outputs": [
    {
     "name": "stdout",
     "output_type": "stream",
     "text": [
      "30\n"
     ]
    }
   ],
   "source": [
    "obj = P(30)\n",
    "print(obj.x)"
   ]
  },
  {
   "cell_type": "code",
   "execution_count": 24,
   "id": "24f1b02b-e780-463f-b639-78d5a20d727c",
   "metadata": {},
   "outputs": [
    {
     "name": "stdout",
     "output_type": "stream",
     "text": [
      "1000\n"
     ]
    }
   ],
   "source": [
    "obj.x=1200\n",
    "print(obj.x)"
   ]
  },
  {
   "cell_type": "code",
   "execution_count": 25,
   "id": "685e8b4e-c7e0-4c6e-96fa-2280567ca660",
   "metadata": {},
   "outputs": [
    {
     "name": "stdout",
     "output_type": "stream",
     "text": [
      "0\n"
     ]
    }
   ],
   "source": [
    "obj.x = -10\n",
    "print(obj.x)"
   ]
  },
  {
   "cell_type": "code",
   "execution_count": null,
   "id": "f766ffe8-7fc8-4092-92d8-56d184ab2c19",
   "metadata": {},
   "outputs": [],
   "source": []
  }
 ],
 "metadata": {
  "kernelspec": {
   "display_name": "Python 3 (ipykernel)",
   "language": "python",
   "name": "python3"
  },
  "language_info": {
   "codemirror_mode": {
    "name": "ipython",
    "version": 3
   },
   "file_extension": ".py",
   "mimetype": "text/x-python",
   "name": "python",
   "nbconvert_exporter": "python",
   "pygments_lexer": "ipython3",
   "version": "3.13.0"
  }
 },
 "nbformat": 4,
 "nbformat_minor": 5
}
