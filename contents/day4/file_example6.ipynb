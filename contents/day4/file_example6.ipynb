{
 "cells": [
  {
   "cell_type": "code",
   "execution_count": 16,
   "id": "e93653a4-69e7-4d71-89e1-a987741bee44",
   "metadata": {},
   "outputs": [
    {
     "name": "stdout",
     "output_type": "stream",
     "text": [
      "b'Vim f'\n",
      "5\n"
     ]
    }
   ],
   "source": [
    "#fh = open('readme.txt','r')\n",
    "fh = open('readme.txt','rb')\n",
    "\n",
    "print(fh.read(5)) \n",
    "\n",
    "print(fh.tell()) # return current cursor position"
   ]
  },
  {
   "cell_type": "code",
   "execution_count": 10,
   "id": "321f69dd-ee56-4ba0-a298-b65e1e888e3a",
   "metadata": {},
   "outputs": [
    {
     "ename": "UnsupportedOperation",
     "evalue": "can't do nonzero cur-relative seeks",
     "output_type": "error",
     "traceback": [
      "\u001b[1;31m---------------------------------------------------------------------------\u001b[0m",
      "\u001b[1;31mUnsupportedOperation\u001b[0m                      Traceback (most recent call last)",
      "Cell \u001b[1;32mIn[10], line 3\u001b[0m\n\u001b[0;32m      1\u001b[0m \u001b[38;5;66;03m# move to the 10th byte from beginning of the file\u001b[39;00m\n\u001b[0;32m      2\u001b[0m \u001b[38;5;66;03m#fh.seek(10,0)\u001b[39;00m\n\u001b[1;32m----> 3\u001b[0m \u001b[43mfh\u001b[49m\u001b[38;5;241;43m.\u001b[39;49m\u001b[43mseek\u001b[49m\u001b[43m(\u001b[49m\u001b[38;5;241;43m5\u001b[39;49m\u001b[43m,\u001b[49m\u001b[38;5;241;43m1\u001b[39;49m\u001b[43m)\u001b[49m  \u001b[38;5;66;03m# move to 10th from current cursor position\u001b[39;00m\n\u001b[0;32m      4\u001b[0m \u001b[38;5;28mprint\u001b[39m(fh\u001b[38;5;241m.\u001b[39mtell())\n",
      "\u001b[1;31mUnsupportedOperation\u001b[0m: can't do nonzero cur-relative seeks"
     ]
    }
   ],
   "source": [
    "# move to the 10th byte from beginning of the file\n",
    "#fh.seek(10,0)\n",
    "fh.seek(5,1)  # move to 10th from current cursor position leads if the file not opened in binary mode\n",
    "print(fh.tell())"
   ]
  },
  {
   "cell_type": "code",
   "execution_count": 17,
   "id": "80000c6a-d98d-4acd-82ec-89beb06033ae",
   "metadata": {},
   "outputs": [
    {
     "name": "stdout",
     "output_type": "stream",
     "text": [
      "10\n"
     ]
    }
   ],
   "source": [
    "fh.seek(5,1)  # move to 10th from current cursor position\n",
    "print(fh.tell())"
   ]
  },
  {
   "cell_type": "code",
   "execution_count": 18,
   "id": "3efa56ba-51db-4de9-9951-e8667db1e95c",
   "metadata": {},
   "outputs": [
    {
     "name": "stdout",
     "output_type": "stream",
     "text": [
      "bian\n",
      "\n"
     ]
    }
   ],
   "source": [
    "print(fh.read(5).decode('utf-8'))"
   ]
  },
  {
   "cell_type": "code",
   "execution_count": null,
   "id": "aae89eb3-48b6-47fc-a257-b0bd54ebf91b",
   "metadata": {},
   "outputs": [],
   "source": []
  }
 ],
 "metadata": {
  "kernelspec": {
   "display_name": "Python 3 (ipykernel)",
   "language": "python",
   "name": "python3"
  },
  "language_info": {
   "codemirror_mode": {
    "name": "ipython",
    "version": 3
   },
   "file_extension": ".py",
   "mimetype": "text/x-python",
   "name": "python",
   "nbconvert_exporter": "python",
   "pygments_lexer": "ipython3",
   "version": "3.13.0"
  }
 },
 "nbformat": 4,
 "nbformat_minor": 5
}
