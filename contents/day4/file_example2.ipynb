{
 "cells": [
  {
   "cell_type": "code",
   "execution_count": 1,
   "id": "6a59487e-db11-460f-93a3-1cb238245f71",
   "metadata": {},
   "outputs": [],
   "source": [
    "####################################################################\n",
    "# fileobject = open(filepath,filemode,buffering)\n",
    "# read - returns the entire file content without argument\n",
    "#        returns the bytes specified by argument, if argument is provided\n",
    "#\n",
    "# readline - return 1 line from current cursor position\n",
    "#\n",
    "# readlines - returns the file as list.\n",
    "###########################################################################"
   ]
  },
  {
   "cell_type": "code",
   "execution_count": 9,
   "id": "37f19df4-a0de-413e-8f8a-6c4ee054c8cf",
   "metadata": {},
   "outputs": [],
   "source": [
    "fh = open(r'C:\\Users\\Administrator\\Desktop\\pythonexamples\\day4\\readme.txt','r')"
   ]
  },
  {
   "cell_type": "code",
   "execution_count": null,
   "id": "4343b901-df4b-464c-8946-34bb25cba344",
   "metadata": {},
   "outputs": [],
   "source": [
    "# get entire content\n",
    "#print(fh.read())"
   ]
  },
  {
   "cell_type": "code",
   "execution_count": 5,
   "id": "3de1f8f4-9e55-4f0c-bac9-1dc48f228ea1",
   "metadata": {},
   "outputs": [
    {
     "name": "stdout",
     "output_type": "stream",
     "text": [
      "Vim for Debian\n",
      "---------------\n",
      "\n",
      "1. The current Debian Vim scripts policy can be found in the vim-doc\n"
     ]
    }
   ],
   "source": [
    "# get some number of bytes\n",
    "#print(fh.read(100)) # return 1st 100 bytes"
   ]
  },
  {
   "cell_type": "code",
   "execution_count": 7,
   "id": "eb995b7f-001d-45a3-9a52-5b64ef5f3277",
   "metadata": {},
   "outputs": [
    {
     "name": "stdout",
     "output_type": "stream",
     "text": [
      "Vim for Debian\n",
      "\n"
     ]
    }
   ],
   "source": [
    "# fetch one line at a time\n",
    "print(fh.readline())"
   ]
  },
  {
   "cell_type": "code",
   "execution_count": 8,
   "id": "13c49a6c-fc39-4c49-a3a7-d204ef60aa80",
   "metadata": {},
   "outputs": [
    {
     "name": "stdout",
     "output_type": "stream",
     "text": [
      "---------------\n",
      "\n"
     ]
    }
   ],
   "source": [
    "print(fh.readline())"
   ]
  },
  {
   "cell_type": "code",
   "execution_count": 10,
   "id": "f7a4a88b-ba01-4cdb-939d-336bb1b8b1be",
   "metadata": {},
   "outputs": [
    {
     "name": "stdout",
     "output_type": "stream",
     "text": [
      "['Vim for Debian\\n', '---------------\\n', '\\n', '1. The current Debian Vim scripts policy can be found in the vim-doc package\\n', '   under /usr/share/doc/vim-common and\\n', '   <http://pkg-vim.alioth.debian.org/vim-policy.html/>.\\n', '\\n', '2. Before reporting bugs, check if the bug also exists if you run vim\\n', '   with \"vim -u NONE -U NONE\". If not, make sure that the \"bug\" is not\\n', '   a result of a setting in your ~/.vimrc before reporting it.\\n', '\\n', ' -- Stefano Zacchiroli <zack@debian.org>   Mon, 10 Apr 2006 09:59:41 -0400\\n', '\\n', 'MzScheme Vim variant\\n', '--------------------\\n', '\\n', 'As requested by the current MzScheme maintainer (Ari Pollak <ari@debian.org>),\\n', 'a vim-mzscheme variant is not being built.  The reasons stated are as follows:\\n', '\\n', \"  1) MzScheme does not build on many of Debian's supported architectures.\\n\", '\\n', '  2) The MzScheme package is not versioned based on the library.\\n', '\\n', '  3) The MzScheme ABI changes with every upstream version.\\n', '\\n', ' -- James Vega <jamessan@debian.org> Mon, 10  Apr  2006  09:48:25  -0400\\n', '\\n', 'Modeline support disabled by default\\n', '------------------------------------\\n', '\\n', 'Modelines have historically been a source of security/resource vulnerabilities\\n', 'and are therefore disabled by default in $VIMRUNTIME/debian.vim.\\n', '\\n', 'You can enable them in ~/.vimrc or /etc/vim/vimrc with \"set modeline\".\\n', '\\n', \"In order to mimic Vim's default setting (modelines disabled when root, enabled\\n\", 'otherwise), you may instead want to use the following snippet:\\n', '\\n', \"  if $USER != 'root'\\n\", '    set modeline\\n', '  else\\n', '    set nomodeline\\n', '  endif\\n', '\\n', 'The securemodelines script from vim.org (and in the vim-scripts package) may\\n', 'also be of interest as it provides a way to whitelist exactly which options\\n', 'may be set from a modeline.\\n', '\\n', ' -- James Vega <jamessan@debian.org>  Sun, 04 May 2008 03:11:51 -0400\\n']\n"
     ]
    }
   ],
   "source": [
    "# get the content as a list\n",
    "contents = fh.readlines()\n",
    "print(contents)"
   ]
  },
  {
   "cell_type": "code",
   "execution_count": null,
   "id": "8215ada7-d8bd-48e4-bde2-8af97ca9bbfc",
   "metadata": {},
   "outputs": [],
   "source": []
  }
 ],
 "metadata": {
  "kernelspec": {
   "display_name": "Python 3 (ipykernel)",
   "language": "python",
   "name": "python3"
  },
  "language_info": {
   "codemirror_mode": {
    "name": "ipython",
    "version": 3
   },
   "file_extension": ".py",
   "mimetype": "text/x-python",
   "name": "python",
   "nbconvert_exporter": "python",
   "pygments_lexer": "ipython3",
   "version": "3.13.0"
  }
 },
 "nbformat": 4,
 "nbformat_minor": 5
}
