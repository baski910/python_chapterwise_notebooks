{
 "cells": [
  {
   "cell_type": "code",
   "execution_count": 10,
   "id": "4253f507-33c6-4c29-8b8f-60c6f35c2263",
   "metadata": {},
   "outputs": [],
   "source": [
    "# read and write binary content\n",
    "fh = open('demo_2.jpg','rb')\n",
    "oh = open('newimage_1.jpg','wb')\n",
    "# read the content of the image\n",
    "content = fh.read()\n",
    "oh.write(content)  # oh.write(fh.read())\n",
    "oh.close()\n",
    "fh.close()"
   ]
  },
  {
   "cell_type": "code",
   "execution_count": 8,
   "id": "396432ae-583b-4f15-9cdf-0068beb10cd6",
   "metadata": {},
   "outputs": [],
   "source": [
    "fh = open('demo_2.jpg','r')"
   ]
  },
  {
   "cell_type": "code",
   "execution_count": 9,
   "id": "119320a5-a7a3-4722-9ae6-7016eb726053",
   "metadata": {},
   "outputs": [
    {
     "ename": "UnicodeDecodeError",
     "evalue": "'charmap' codec can't decode byte 0x90 in position 297: character maps to <undefined>",
     "output_type": "error",
     "traceback": [
      "\u001b[1;31m---------------------------------------------------------------------------\u001b[0m",
      "\u001b[1;31mUnicodeDecodeError\u001b[0m                        Traceback (most recent call last)",
      "Cell \u001b[1;32mIn[9], line 1\u001b[0m\n\u001b[1;32m----> 1\u001b[0m content \u001b[38;5;241m=\u001b[39m \u001b[43mfh\u001b[49m\u001b[38;5;241;43m.\u001b[39;49m\u001b[43mread\u001b[49m\u001b[43m(\u001b[49m\u001b[43m)\u001b[49m\n",
      "File \u001b[1;32mC:\\Program Files\\Python313\\Lib\\encodings\\cp1252.py:23\u001b[0m, in \u001b[0;36mIncrementalDecoder.decode\u001b[1;34m(self, input, final)\u001b[0m\n\u001b[0;32m     22\u001b[0m \u001b[38;5;28;01mdef\u001b[39;00m\u001b[38;5;250m \u001b[39m\u001b[38;5;21mdecode\u001b[39m(\u001b[38;5;28mself\u001b[39m, \u001b[38;5;28minput\u001b[39m, final\u001b[38;5;241m=\u001b[39m\u001b[38;5;28;01mFalse\u001b[39;00m):\n\u001b[1;32m---> 23\u001b[0m     \u001b[38;5;28;01mreturn\u001b[39;00m \u001b[43mcodecs\u001b[49m\u001b[38;5;241;43m.\u001b[39;49m\u001b[43mcharmap_decode\u001b[49m\u001b[43m(\u001b[49m\u001b[38;5;28;43minput\u001b[39;49m\u001b[43m,\u001b[49m\u001b[38;5;28;43mself\u001b[39;49m\u001b[38;5;241;43m.\u001b[39;49m\u001b[43merrors\u001b[49m\u001b[43m,\u001b[49m\u001b[43mdecoding_table\u001b[49m\u001b[43m)\u001b[49m[\u001b[38;5;241m0\u001b[39m]\n",
      "\u001b[1;31mUnicodeDecodeError\u001b[0m: 'charmap' codec can't decode byte 0x90 in position 297: character maps to <undefined>"
     ]
    }
   ],
   "source": [
    "content = fh.read()"
   ]
  },
  {
   "cell_type": "code",
   "execution_count": null,
   "id": "434b859f-2a29-4bb5-82de-ff4843f4cd16",
   "metadata": {},
   "outputs": [],
   "source": []
  }
 ],
 "metadata": {
  "kernelspec": {
   "display_name": "Python 3 (ipykernel)",
   "language": "python",
   "name": "python3"
  },
  "language_info": {
   "codemirror_mode": {
    "name": "ipython",
    "version": 3
   },
   "file_extension": ".py",
   "mimetype": "text/x-python",
   "name": "python",
   "nbconvert_exporter": "python",
   "pygments_lexer": "ipython3",
   "version": "3.13.0"
  }
 },
 "nbformat": 4,
 "nbformat_minor": 5
}
