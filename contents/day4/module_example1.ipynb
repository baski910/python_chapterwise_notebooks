{
 "cells": [
  {
   "cell_type": "code",
   "execution_count": 1,
   "id": "c790029b-1478-4a4c-b31e-361dba1ba646",
   "metadata": {},
   "outputs": [
    {
     "name": "stdout",
     "output_type": "stream",
     "text": [
      "12\n",
      "5.0\n"
     ]
    }
   ],
   "source": [
    "import hello\n",
    "\n",
    "print(hello.addnum(10,2))\n",
    "print(hello.divnum(10,2))"
   ]
  },
  {
   "cell_type": "code",
   "execution_count": 2,
   "id": "aa94b5be-f2b9-4a22-b33a-e88ad72695c4",
   "metadata": {},
   "outputs": [
    {
     "name": "stdout",
     "output_type": "stream",
     "text": [
      "['C:\\\\Program Files\\\\Python313\\\\python313.zip', 'C:\\\\Program Files\\\\Python313\\\\DLLs', 'C:\\\\Program Files\\\\Python313\\\\Lib', 'C:\\\\Program Files\\\\Python313', '', 'C:\\\\Program Files\\\\Python313\\\\Lib\\\\site-packages', 'C:\\\\Program Files\\\\Python313\\\\Lib\\\\site-packages\\\\win32', 'C:\\\\Program Files\\\\Python313\\\\Lib\\\\site-packages\\\\win32\\\\lib', 'C:\\\\Program Files\\\\Python313\\\\Lib\\\\site-packages\\\\Pythonwin']\n"
     ]
    }
   ],
   "source": [
    "# module search path for python\n",
    "import sys\n",
    "print(sys.path)"
   ]
  },
  {
   "cell_type": "code",
   "execution_count": 4,
   "id": "27503172-c7bd-4c2d-a9fb-87712e45c89d",
   "metadata": {},
   "outputs": [
    {
     "name": "stdout",
     "output_type": "stream",
     "text": [
      "C:\\Program Files\\Python313\\Scripts\\;C:\\Program Files\\Python313\\;C:\\Windows\\system32;C:\\Windows;C:\\Windows\\System32\\Wbem;C:\\Windows\\System32\\WindowsPowerShell\\v1.0\\;C:\\Windows\\System32\\OpenSSH\\;C:\\Program Files\\PuTTY\\;C:\\Program Files\\MySQL\\MySQL Shell 8.0\\bin\\;C:\\Users\\Administrator\\AppData\\Local\\Microsoft\\WindowsApps;\n"
     ]
    }
   ],
   "source": [
    "import os\n",
    "\n",
    "print(os.environ.get('path'))"
   ]
  },
  {
   "cell_type": "code",
   "execution_count": null,
   "id": "85ab10bc-84f2-4cb7-8161-4a41c8ab27ba",
   "metadata": {},
   "outputs": [],
   "source": []
  }
 ],
 "metadata": {
  "kernelspec": {
   "display_name": "Python 3 (ipykernel)",
   "language": "python",
   "name": "python3"
  },
  "language_info": {
   "codemirror_mode": {
    "name": "ipython",
    "version": 3
   },
   "file_extension": ".py",
   "mimetype": "text/x-python",
   "name": "python",
   "nbconvert_exporter": "python",
   "pygments_lexer": "ipython3",
   "version": "3.13.0"
  }
 },
 "nbformat": 4,
 "nbformat_minor": 5
}
