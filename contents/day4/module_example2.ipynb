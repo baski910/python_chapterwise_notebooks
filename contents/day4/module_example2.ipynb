{
 "cells": [
  {
   "cell_type": "code",
   "execution_count": 1,
   "id": "912cb1b9-93f4-455b-9527-f0ae46c2338a",
   "metadata": {},
   "outputs": [
    {
     "ename": "ModuleNotFoundError",
     "evalue": "No module named 'hello'",
     "output_type": "error",
     "traceback": [
      "\u001b[1;31m---------------------------------------------------------------------------\u001b[0m",
      "\u001b[1;31mModuleNotFoundError\u001b[0m                       Traceback (most recent call last)",
      "Cell \u001b[1;32mIn[1], line 2\u001b[0m\n\u001b[0;32m      1\u001b[0m \u001b[38;5;66;03m# load a module from custom location\u001b[39;00m\n\u001b[1;32m----> 2\u001b[0m \u001b[38;5;28;01mimport\u001b[39;00m\u001b[38;5;250m \u001b[39m\u001b[38;5;21;01mhello\u001b[39;00m\n",
      "\u001b[1;31mModuleNotFoundError\u001b[0m: No module named 'hello'"
     ]
    }
   ],
   "source": [
    "# load a module from custom location\n",
    "import hello"
   ]
  },
  {
   "cell_type": "code",
   "execution_count": 3,
   "id": "48139494-561e-44fc-b792-ab37e63ba978",
   "metadata": {},
   "outputs": [
    {
     "name": "stdout",
     "output_type": "stream",
     "text": [
      "['C:\\\\Program Files\\\\Python313\\\\python313.zip', 'C:\\\\Program Files\\\\Python313\\\\DLLs', 'C:\\\\Program Files\\\\Python313\\\\Lib', 'C:\\\\Program Files\\\\Python313', '', 'C:\\\\Program Files\\\\Python313\\\\Lib\\\\site-packages', 'C:\\\\Program Files\\\\Python313\\\\Lib\\\\site-packages\\\\win32', 'C:\\\\Program Files\\\\Python313\\\\Lib\\\\site-packages\\\\win32\\\\lib', 'C:\\\\Program Files\\\\Python313\\\\Lib\\\\site-packages\\\\Pythonwin', 'C:\\\\Users\\\\Administrator\\\\Desktop\\\\pythonexamples\\\\day3']\n"
     ]
    }
   ],
   "source": [
    "import sys\n",
    "sys.path.append(r'C:\\Users\\Administrator\\Desktop\\pythonexamples\\day3')\n",
    "print(sys.path)"
   ]
  },
  {
   "cell_type": "code",
   "execution_count": 4,
   "id": "406b110d-6cd3-42e5-9346-0ea17f93be7b",
   "metadata": {},
   "outputs": [
    {
     "name": "stdout",
     "output_type": "stream",
     "text": [
      "16\n"
     ]
    }
   ],
   "source": [
    "import abcd\n",
    "print(abcd.addnum(12,4))"
   ]
  },
  {
   "cell_type": "code",
   "execution_count": null,
   "id": "37e5cc21-a985-4d1c-8378-2952af8050bf",
   "metadata": {},
   "outputs": [],
   "source": []
  }
 ],
 "metadata": {
  "kernelspec": {
   "display_name": "Python 3 (ipykernel)",
   "language": "python",
   "name": "python3"
  },
  "language_info": {
   "codemirror_mode": {
    "name": "ipython",
    "version": 3
   },
   "file_extension": ".py",
   "mimetype": "text/x-python",
   "name": "python",
   "nbconvert_exporter": "python",
   "pygments_lexer": "ipython3",
   "version": "3.13.0"
  }
 },
 "nbformat": 4,
 "nbformat_minor": 5
}
