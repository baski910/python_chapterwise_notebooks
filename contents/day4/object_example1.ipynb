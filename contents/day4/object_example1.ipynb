{
 "cells": [
  {
   "cell_type": "code",
   "execution_count": 1,
   "id": "0a94ce90-5d7c-4e2a-bcd3-b1a680c8bd84",
   "metadata": {},
   "outputs": [],
   "source": [
    "class Point:\n",
    "    \"\"\"this is an example class\"\"\"\n",
    "    # example for instance method (bound method)\n",
    "    def showValues(self):\n",
    "        print(\"this is an instance method\")"
   ]
  },
  {
   "cell_type": "code",
   "execution_count": 2,
   "id": "dc1ceac1-0f2b-4cd3-b196-512999714103",
   "metadata": {},
   "outputs": [
    {
     "name": "stdout",
     "output_type": "stream",
     "text": [
      "this is an example class\n",
      "this is an instance method\n"
     ]
    }
   ],
   "source": [
    "p1 = Point()  \n",
    "print(p1.__doc__)\n",
    "p1.showValues()   # p1.showValues(p1) implicitly"
   ]
  },
  {
   "cell_type": "code",
   "execution_count": 3,
   "id": "51299b9a-ce69-420a-8537-ddca2e5c9f83",
   "metadata": {},
   "outputs": [],
   "source": [
    "class Point:\n",
    "    \"\"\"this is an example class\"\"\"\n",
    "    # example for instance method (bound method)\n",
    "    def showValues(self):\n",
    "        print(\"from instance method:\",self)\n",
    "        print(\"this is an instance method\")"
   ]
  },
  {
   "cell_type": "code",
   "execution_count": 5,
   "id": "3eec45b0-8063-49af-abf4-f924a3437be1",
   "metadata": {},
   "outputs": [
    {
     "name": "stdout",
     "output_type": "stream",
     "text": [
      "from main: <__main__.Point object at 0x000002269ABA6C10>\n",
      "from instance method: <__main__.Point object at 0x000002269ABA6C10>\n",
      "this is an instance method\n"
     ]
    }
   ],
   "source": [
    "p1 = Point()  \n",
    "print(\"from main:\",p1)\n",
    "p1.showValues() "
   ]
  },
  {
   "cell_type": "code",
   "execution_count": 6,
   "id": "14a59487-b333-43d7-a789-2f461eca016c",
   "metadata": {},
   "outputs": [],
   "source": [
    "class Point:\n",
    "    \"\"\"this is an example class\"\"\"\n",
    "    # example for instance method (bound method)\n",
    "    def showValues(self,x1,y1):\n",
    "        print(\"from instance method:\",self)\n",
    "        print(f\"parameters: {x1}:{y1}\")"
   ]
  },
  {
   "cell_type": "code",
   "execution_count": 7,
   "id": "2eb396f4-f178-4876-bd1a-10a88d4da637",
   "metadata": {},
   "outputs": [
    {
     "name": "stdout",
     "output_type": "stream",
     "text": [
      "from instance method: <__main__.Point object at 0x000002269AD88050>\n",
      "parameters: 15:20\n"
     ]
    }
   ],
   "source": [
    "p1 = Point()  \n",
    "p1.showValues(15,20) "
   ]
  },
  {
   "cell_type": "code",
   "execution_count": 25,
   "id": "56edccbd-89b9-4c97-977a-bb320f68e6a0",
   "metadata": {},
   "outputs": [],
   "source": [
    "# instance attributes - can be accessed with in the class across method\n",
    "# instance attributes - created using object reference\n",
    "class Point:\n",
    "    \"\"\"this is an example class\"\"\"\n",
    "    # example for instance method (bound method)\n",
    "   \n",
    "    def showValues(self):\n",
    "        self.x = 8\n",
    "        self.y = 10\n",
    "        print(f\"x-val:{self.x}:y-val:{self.y}\")\n",
    "\n",
    "    def anotherMethod(self):\n",
    "        print(\"from another method\")\n",
    "        print(f\"x-val:{self.x}:y-val:{self.y}\")"
   ]
  },
  {
   "cell_type": "code",
   "execution_count": 26,
   "id": "32e1726e-c589-4a35-a54c-0913eed5ebd4",
   "metadata": {},
   "outputs": [
    {
     "name": "stdout",
     "output_type": "stream",
     "text": [
      "x-val:8:y-val:10\n",
      "from another method\n",
      "x-val:8:y-val:10\n"
     ]
    }
   ],
   "source": [
    "p1 = Point()  \n",
    "p1.showValues()  # for now instance attribues are created only in showValues\n",
    "p1.anotherMethod()"
   ]
  },
  {
   "cell_type": "code",
   "execution_count": 27,
   "id": "554cb58f-95a0-4d53-90ca-20ecca9ad1c7",
   "metadata": {},
   "outputs": [
    {
     "name": "stdout",
     "output_type": "stream",
     "text": [
      "from another method\n"
     ]
    },
    {
     "ename": "AttributeError",
     "evalue": "'Point' object has no attribute 'x'",
     "output_type": "error",
     "traceback": [
      "\u001b[1;31m---------------------------------------------------------------------------\u001b[0m",
      "\u001b[1;31mAttributeError\u001b[0m                            Traceback (most recent call last)",
      "Cell \u001b[1;32mIn[27], line 3\u001b[0m\n\u001b[0;32m      1\u001b[0m p1 \u001b[38;5;241m=\u001b[39m Point()  \n\u001b[0;32m      2\u001b[0m \u001b[38;5;66;03m#p1.showValues()  # for now instance attribues are created only in showValues\u001b[39;00m\n\u001b[1;32m----> 3\u001b[0m \u001b[43mp1\u001b[49m\u001b[38;5;241;43m.\u001b[39;49m\u001b[43manotherMethod\u001b[49m\u001b[43m(\u001b[49m\u001b[43m)\u001b[49m\n",
      "Cell \u001b[1;32mIn[25], line 14\u001b[0m, in \u001b[0;36mPoint.anotherMethod\u001b[1;34m(self)\u001b[0m\n\u001b[0;32m     12\u001b[0m \u001b[38;5;28;01mdef\u001b[39;00m\u001b[38;5;250m \u001b[39m\u001b[38;5;21manotherMethod\u001b[39m(\u001b[38;5;28mself\u001b[39m):\n\u001b[0;32m     13\u001b[0m     \u001b[38;5;28mprint\u001b[39m(\u001b[38;5;124m\"\u001b[39m\u001b[38;5;124mfrom another method\u001b[39m\u001b[38;5;124m\"\u001b[39m)\n\u001b[1;32m---> 14\u001b[0m     \u001b[38;5;28mprint\u001b[39m(\u001b[38;5;124mf\u001b[39m\u001b[38;5;124m\"\u001b[39m\u001b[38;5;124mx-val:\u001b[39m\u001b[38;5;132;01m{\u001b[39;00m\u001b[38;5;28;43mself\u001b[39;49m\u001b[38;5;241;43m.\u001b[39;49m\u001b[43mx\u001b[49m\u001b[38;5;132;01m}\u001b[39;00m\u001b[38;5;124m:y-val:\u001b[39m\u001b[38;5;132;01m{\u001b[39;00m\u001b[38;5;28mself\u001b[39m\u001b[38;5;241m.\u001b[39my\u001b[38;5;132;01m}\u001b[39;00m\u001b[38;5;124m\"\u001b[39m)\n",
      "\u001b[1;31mAttributeError\u001b[0m: 'Point' object has no attribute 'x'"
     ]
    }
   ],
   "source": [
    "p1 = Point()  \n",
    "#p1.showValues()  # for now instance attribues are created only in showValues\n",
    "p1.anotherMethod()"
   ]
  },
  {
   "cell_type": "code",
   "execution_count": 23,
   "id": "8ed64179-3f15-4021-b570-14ac7fdaff38",
   "metadata": {},
   "outputs": [],
   "source": [
    "# instance attributes - can be accessed with in the class across method\n",
    "# instance attributes - created using object reference\n",
    "class Point:\n",
    "    \"\"\"this is an example class\"\"\"\n",
    "    # example for instance method (bound method)\n",
    "    x=8\n",
    "    y=10\n",
    "    def showValues(self):\n",
    "        print(self.x,self.y)\n",
    "    def anotherMethod(self):\n",
    "        print(\"from another method\")\n",
    "        print(f\"x-val:{self.x}:y-val:{self.y}\")"
   ]
  },
  {
   "cell_type": "code",
   "execution_count": 24,
   "id": "4ab75363-0943-4e1c-8d3d-31c569c05a15",
   "metadata": {},
   "outputs": [
    {
     "name": "stdout",
     "output_type": "stream",
     "text": [
      "8 10\n"
     ]
    }
   ],
   "source": [
    "p1 = Point()  \n",
    "p1.showValues()"
   ]
  },
  {
   "cell_type": "code",
   "execution_count": 28,
   "id": "a401f50e-f6c0-4cd2-97dc-23f5cad38590",
   "metadata": {},
   "outputs": [],
   "source": [
    "# constructor - called at the time of creating instance\n",
    "class Point:\n",
    "    \"\"\"this is an example class\"\"\"\n",
    "    def __init__(self): # called at the time of creating instance\n",
    "        self.x = 8\n",
    "        self.y = 10\n",
    "    def showValues(self):\n",
    "        print(\"from show values\")\n",
    "        print(f\"x-val:{self.x}:y-val:{self.y}\")\n",
    "    def anotherMethod(self):\n",
    "        print(\"from another method\")\n",
    "        print(f\"x-val:{self.x}:y-val:{self.y}\")"
   ]
  },
  {
   "cell_type": "code",
   "execution_count": 29,
   "id": "45f14078-8818-47b2-b56c-0ccd8da9737b",
   "metadata": {},
   "outputs": [
    {
     "name": "stdout",
     "output_type": "stream",
     "text": [
      "from show values\n",
      "x-val:8:y-val:10\n",
      "from another method\n",
      "x-val:8:y-val:10\n"
     ]
    }
   ],
   "source": [
    "p1 = Point()  \n",
    "p1.showValues()\n",
    "p1.anotherMethod()"
   ]
  },
  {
   "cell_type": "code",
   "execution_count": 30,
   "id": "5eb52c9f-7bb5-4007-bd62-e76c493ca911",
   "metadata": {},
   "outputs": [
    {
     "name": "stdout",
     "output_type": "stream",
     "text": [
      "from show values\n",
      "x-val:8:y-val:10\n",
      "from show values\n",
      "x-val:8:y-val:10\n"
     ]
    }
   ],
   "source": [
    "# passing parameters to constructoor\n",
    "p1 = Point()  \n",
    "p1.showValues()\n",
    "p2 = Point()\n",
    "p2.showValues()"
   ]
  },
  {
   "cell_type": "code",
   "execution_count": 31,
   "id": "6571426a-91e8-43fe-8580-03e8ccd1c4aa",
   "metadata": {},
   "outputs": [],
   "source": [
    "class Point:\n",
    "    \"\"\"this is an example class\"\"\"\n",
    "    \n",
    "    def __init__(self,xval,yval): # called at the time of creating instance\n",
    "        self.x = xval\n",
    "        self.y = yval\n",
    "       \n",
    "    def showValues(self):\n",
    "        print(\"from show values\")\n",
    "        print(f\"x-val:{self.x}:y-val:{self.y}\")\n",
    "    def anotherMethod(self):\n",
    "        print(\"from another method\")\n",
    "        print(f\"x-val:{self.x}:y-val:{self.y}\")"
   ]
  },
  {
   "cell_type": "code",
   "execution_count": 32,
   "id": "4b2a133a-14f3-488b-b6ca-decff4608774",
   "metadata": {},
   "outputs": [
    {
     "name": "stdout",
     "output_type": "stream",
     "text": [
      "from show values\n",
      "x-val:10:y-val:15\n",
      "from show values\n",
      "x-val:20:y-val:25\n"
     ]
    }
   ],
   "source": [
    "p1 = Point(10,15)  \n",
    "p1.showValues()\n",
    "p2 = Point(20,25)\n",
    "p2.showValues()"
   ]
  },
  {
   "cell_type": "code",
   "execution_count": 34,
   "id": "10dc16a5-b2e9-4acf-8f59-1ea53901350c",
   "metadata": {},
   "outputs": [],
   "source": [
    "# class attribute \n",
    "# class attribute is usually created above the constructor\n",
    "class Point:\n",
    "    \"\"\"this is an example class\"\"\"\n",
    "    num_of_points = 0\n",
    "    def __init__(self,xval,yval): # called at the time of creating instance\n",
    "        self.x = xval\n",
    "        self.y = yval\n",
    "        Point.num_of_points += 1\n",
    "    def showValues(self):\n",
    "        print(\"from show values\")\n",
    "        print(f\"x-val:{self.x}:y-val:{self.y}\")\n",
    "    def anotherMethod(self):\n",
    "        print(\"from another method\")\n",
    "        print(f\"x-val:{self.x}:y-val:{self.y}\")\n",
    "    def showCount(self):\n",
    "        print(f\"Number of points {Point.num_of_points}\")"
   ]
  },
  {
   "cell_type": "code",
   "execution_count": 35,
   "id": "b9e5fc84-54e7-44a5-9b1f-05122f6f35a5",
   "metadata": {},
   "outputs": [
    {
     "name": "stdout",
     "output_type": "stream",
     "text": [
      "from show values\n",
      "x-val:10:y-val:15\n",
      "Number of points 1\n",
      "from show values\n",
      "x-val:20:y-val:25\n",
      "Number of points 2\n"
     ]
    }
   ],
   "source": [
    "p1 = Point(10,15)  \n",
    "p1.showValues()\n",
    "p1.showCount()\n",
    "p2 = Point(20,25)\n",
    "p2.showValues()\n",
    "p2.showCount()"
   ]
  },
  {
   "cell_type": "code",
   "execution_count": 36,
   "id": "cfbeb250-6b63-4ca2-97ac-72597e1440b0",
   "metadata": {},
   "outputs": [],
   "source": [
    "# __del__ - desctructor caled when object is removed\n",
    "class Point:\n",
    "   \n",
    "    def __init__(self,xval,yval): # called at the time of creating instance\n",
    "        self.x = xval\n",
    "        self.y = yval\n",
    "       \n",
    "    def showValues(self):\n",
    "        print(f\"x-val:{self.x}:y-val:{self.y}\")\n",
    "\n",
    "    def __del__(self):\n",
    "        print(f\"{self.__class__.__name__} destroyed\")"
   ]
  },
  {
   "cell_type": "code",
   "execution_count": 40,
   "id": "9f04e728-141c-4c44-9fb2-2aca34f0238b",
   "metadata": {},
   "outputs": [
    {
     "name": "stdout",
     "output_type": "stream",
     "text": [
      "Point destroyed\n",
      "Point destroyed\n"
     ]
    }
   ],
   "source": [
    "p1 = Point(10,15)  \n",
    "p2 = Point(20,25)\n",
    "del p1,p2"
   ]
  },
  {
   "cell_type": "code",
   "execution_count": 43,
   "id": "66d806a9-74cf-478a-acd3-ec4edd563e16",
   "metadata": {},
   "outputs": [],
   "source": [
    "# magic method __str__\n",
    "class Point:\n",
    "   \n",
    "    def __init__(self,xval,yval): # called at the time of creating instance\n",
    "        self.x = xval\n",
    "        self.y = yval\n",
    "       \n",
    "    def showValues(self):\n",
    "        print(f\"x-val:{self.x}:y-val:{self.y}\")\n",
    "\n",
    "    def __str__(self): # caled when object is printed. has to return a string\n",
    "        return f\"x-val:{self.x}:y-val:{self.y}\""
   ]
  },
  {
   "cell_type": "code",
   "execution_count": 42,
   "id": "1c8fa6ef-0804-43a0-9eaf-445c55cd5ce2",
   "metadata": {},
   "outputs": [
    {
     "name": "stdout",
     "output_type": "stream",
     "text": [
      "<__main__.Point object at 0x000002269AD89FD0>\n"
     ]
    }
   ],
   "source": [
    "p1 = Point(10,15)\n",
    "print(p1)"
   ]
  },
  {
   "cell_type": "code",
   "execution_count": 44,
   "id": "f6f14321-1d9e-46b6-a3f6-d9b3a04239bc",
   "metadata": {},
   "outputs": [
    {
     "name": "stdout",
     "output_type": "stream",
     "text": [
      "x-val:10:y-val:15\n"
     ]
    }
   ],
   "source": [
    "p1 = Point(10,15)\n",
    "print(p1)"
   ]
  },
  {
   "cell_type": "code",
   "execution_count": 45,
   "id": "20674b3c-559c-431e-9868-d695fe83c216",
   "metadata": {},
   "outputs": [],
   "source": [
    "class Point:\n",
    "   \n",
    "    def __init__(self,xval,yval): # called at the time of creating instance\n",
    "        self.x = xval\n",
    "        self.y = yval\n",
    "       \n",
    "    def showValues(self):\n",
    "        print(f\"x-val:{self.x}:y-val:{self.y}\")\n",
    "\n",
    "    def __repr__(self): # caled when object is printed. has to return a string\n",
    "        return f\"x-val:{self.x}:y-val:{self.y}\""
   ]
  },
  {
   "cell_type": "code",
   "execution_count": 46,
   "id": "c63295d9-835f-4789-9c9b-5c355a3f910d",
   "metadata": {},
   "outputs": [
    {
     "name": "stdout",
     "output_type": "stream",
     "text": [
      "x-val:10:y-val:15\n"
     ]
    }
   ],
   "source": [
    "p1 = Point(10,15)\n",
    "print(p1)"
   ]
  },
  {
   "cell_type": "code",
   "execution_count": null,
   "id": "0d2c82c7-6c85-479c-b22d-322d48db526d",
   "metadata": {},
   "outputs": [],
   "source": []
  }
 ],
 "metadata": {
  "kernelspec": {
   "display_name": "Python 3 (ipykernel)",
   "language": "python",
   "name": "python3"
  },
  "language_info": {
   "codemirror_mode": {
    "name": "ipython",
    "version": 3
   },
   "file_extension": ".py",
   "mimetype": "text/x-python",
   "name": "python",
   "nbconvert_exporter": "python",
   "pygments_lexer": "ipython3",
   "version": "3.13.0"
  }
 },
 "nbformat": 4,
 "nbformat_minor": 5
}
