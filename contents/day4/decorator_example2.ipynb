{
 "cells": [
  {
   "cell_type": "code",
   "execution_count": 1,
   "id": "af234130-261d-43cd-b5ce-de9714a5fc44",
   "metadata": {},
   "outputs": [],
   "source": [
    "def s_decorator(d): # d is the reference of function to be modified\n",
    "    def inner_wrapper(name):\n",
    "        return \"<s>{}</s>\".format(d(name))\n",
    "    return inner_wrapper"
   ]
  },
  {
   "cell_type": "code",
   "execution_count": 2,
   "id": "a5e403b3-8c5a-4f4f-8f18-829795f6120d",
   "metadata": {},
   "outputs": [],
   "source": [
    "@s_decorator  # display = s_decorator(display)\n",
    "def display(name):\n",
    "    return f\"welcome {name} to python\""
   ]
  },
  {
   "cell_type": "code",
   "execution_count": 3,
   "id": "aedd40b5-62b8-48da-8e21-d38f0456e989",
   "metadata": {},
   "outputs": [
    {
     "name": "stdout",
     "output_type": "stream",
     "text": [
      "<s>welcome sam to python</s>\n"
     ]
    }
   ],
   "source": [
    "print(display(\"sam\"))"
   ]
  },
  {
   "cell_type": "code",
   "execution_count": null,
   "id": "223a3d8e-56e2-48b2-9f11-fda82d846a5e",
   "metadata": {},
   "outputs": [],
   "source": []
  }
 ],
 "metadata": {
  "kernelspec": {
   "display_name": "Python 3 (ipykernel)",
   "language": "python",
   "name": "python3"
  },
  "language_info": {
   "codemirror_mode": {
    "name": "ipython",
    "version": 3
   },
   "file_extension": ".py",
   "mimetype": "text/x-python",
   "name": "python",
   "nbconvert_exporter": "python",
   "pygments_lexer": "ipython3",
   "version": "3.13.0"
  }
 },
 "nbformat": 4,
 "nbformat_minor": 5
}
