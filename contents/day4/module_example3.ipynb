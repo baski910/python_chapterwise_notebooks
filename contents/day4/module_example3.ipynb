{
 "cells": [
  {
   "cell_type": "code",
   "execution_count": 2,
   "id": "1537e946-02b6-48fd-9b61-174c410837b1",
   "metadata": {},
   "outputs": [],
   "source": [
    "from hello import addnum,divnum # definitions of addnum and divnum will be added to current script"
   ]
  },
  {
   "cell_type": "code",
   "execution_count": 3,
   "id": "4929dcf7-6c7a-446e-9cc5-6e76ac5c067e",
   "metadata": {},
   "outputs": [
    {
     "name": "stdout",
     "output_type": "stream",
     "text": [
      "24\n",
      "5.0\n"
     ]
    }
   ],
   "source": [
    "print(addnum(20,4))\n",
    "print(divnum(20,4))"
   ]
  },
  {
   "cell_type": "code",
   "execution_count": 5,
   "id": "72525abd-2c00-4291-809f-4b8901f4306f",
   "metadata": {},
   "outputs": [
    {
     "data": {
      "text/plain": [
       "['__builtins__',\n",
       " '__cached__',\n",
       " '__doc__',\n",
       " '__file__',\n",
       " '__loader__',\n",
       " '__name__',\n",
       " '__package__',\n",
       " '__spec__',\n",
       " 'addnum',\n",
       " 'divnum']"
      ]
     },
     "execution_count": 5,
     "metadata": {},
     "output_type": "execute_result"
    }
   ],
   "source": [
    "import hello\n",
    "dir(hello)"
   ]
  },
  {
   "cell_type": "code",
   "execution_count": 1,
   "id": "669c220f-c078-4ad7-818e-89d6e6449397",
   "metadata": {},
   "outputs": [
    {
     "name": "stdout",
     "output_type": "stream",
     "text": [
      "30\n",
      "5.0\n"
     ]
    },
    {
     "ename": "NameError",
     "evalue": "name 'sayHello' is not defined",
     "output_type": "error",
     "traceback": [
      "\u001b[1;31m---------------------------------------------------------------------------\u001b[0m",
      "\u001b[1;31mNameError\u001b[0m                                 Traceback (most recent call last)",
      "Cell \u001b[1;32mIn[1], line 4\u001b[0m\n\u001b[0;32m      2\u001b[0m \u001b[38;5;28mprint\u001b[39m(addnum(\u001b[38;5;241m25\u001b[39m,\u001b[38;5;241m5\u001b[39m))\n\u001b[0;32m      3\u001b[0m \u001b[38;5;28mprint\u001b[39m(divnum(\u001b[38;5;241m25\u001b[39m,\u001b[38;5;241m5\u001b[39m))\n\u001b[1;32m----> 4\u001b[0m \u001b[43msayHello\u001b[49m()\n",
      "\u001b[1;31mNameError\u001b[0m: name 'sayHello' is not defined"
     ]
    }
   ],
   "source": [
    "# toString()   __str__  \n",
    "from hello import *\n",
    "print(addnum(25,5))\n",
    "print(divnum(25,5))\n",
    "sayHello()"
   ]
  },
  {
   "cell_type": "code",
   "execution_count": 2,
   "id": "0ced6002-c39b-4819-91c7-536e4a048047",
   "metadata": {},
   "outputs": [
    {
     "name": "stdout",
     "output_type": "stream",
     "text": [
      "hello\n"
     ]
    }
   ],
   "source": [
    "from hello import sayHello\n",
    "sayHello()"
   ]
  },
  {
   "cell_type": "code",
   "execution_count": null,
   "id": "31f60073-298b-49fa-8522-c8b5fc7d16d1",
   "metadata": {},
   "outputs": [],
   "source": []
  }
 ],
 "metadata": {
  "kernelspec": {
   "display_name": "Python 3 (ipykernel)",
   "language": "python",
   "name": "python3"
  },
  "language_info": {
   "codemirror_mode": {
    "name": "ipython",
    "version": 3
   },
   "file_extension": ".py",
   "mimetype": "text/x-python",
   "name": "python",
   "nbconvert_exporter": "python",
   "pygments_lexer": "ipython3",
   "version": "3.13.0"
  }
 },
 "nbformat": 4,
 "nbformat_minor": 5
}
