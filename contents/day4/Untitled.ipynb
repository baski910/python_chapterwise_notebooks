{
 "cells": [
  {
   "cell_type": "code",
   "execution_count": 1,
   "id": "25499057-c7d9-45bc-aefb-2f3019c7e4d6",
   "metadata": {},
   "outputs": [
    {
     "name": "stdout",
     "output_type": "stream",
     "text": [
      "from example1\n",
      "from example2\n"
     ]
    }
   ],
   "source": [
    "import mypackage1\n",
    "\n",
    "mypackage1.f()\n",
    "mypackage1.g()"
   ]
  },
  {
   "cell_type": "code",
   "execution_count": null,
   "id": "fb8101c1-4cb5-4b64-95d3-15e3dc6e27b2",
   "metadata": {},
   "outputs": [],
   "source": [
    "#  python 3.13\n",
    "# python 3.12"
   ]
  }
 ],
 "metadata": {
  "kernelspec": {
   "display_name": "Python 3 (ipykernel)",
   "language": "python",
   "name": "python3"
  },
  "language_info": {
   "codemirror_mode": {
    "name": "ipython",
    "version": 3
   },
   "file_extension": ".py",
   "mimetype": "text/x-python",
   "name": "python",
   "nbconvert_exporter": "python",
   "pygments_lexer": "ipython3",
   "version": "3.13.0"
  }
 },
 "nbformat": 4,
 "nbformat_minor": 5
}
