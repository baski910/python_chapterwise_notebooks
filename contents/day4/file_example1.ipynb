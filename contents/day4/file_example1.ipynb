{
 "cells": [
  {
   "cell_type": "code",
   "execution_count": 3,
   "id": "92f91a52-c89a-4749-b183-8ab5b492fdb8",
   "metadata": {},
   "outputs": [
    {
     "ename": "SyntaxError",
     "evalue": "(unicode error) 'unicodeescape' codec can't decode bytes in position 2-3: truncated \\UXXXXXXXX escape (273321325.py, line 1)",
     "output_type": "error",
     "traceback": [
      "\u001b[1;36m  Cell \u001b[1;32mIn[3], line 1\u001b[1;36m\u001b[0m\n\u001b[1;33m    fh = open('C:\\Users\\Administrator\\Desktop\\pythonexamples\\day4\\readme.xt','r') # leads to without the leading 'r' in file path\u001b[0m\n\u001b[1;37m              ^\u001b[0m\n\u001b[1;31mSyntaxError\u001b[0m\u001b[1;31m:\u001b[0m (unicode error) 'unicodeescape' codec can't decode bytes in position 2-3: truncated \\UXXXXXXXX escape\n"
     ]
    }
   ],
   "source": [
    "fh = open('C:\\Users\\Administrator\\Desktop\\pythonexamples\\day4\\readme.xt','r') # leads to without the leading 'r' in file path"
   ]
  },
  {
   "cell_type": "code",
   "execution_count": 5,
   "id": "a2b229b3-a083-40b4-85ae-cd7f80f513dc",
   "metadata": {},
   "outputs": [],
   "source": [
    "fh = open(r'C:\\Users\\Administrator\\Desktop\\pythonexamples\\day4\\readme.txt','r')\n",
    "#fh = open('C:\\\\Users\\\\Administrator\\\\Desktop\\\\pythonexamples\\\\day4\\\\readme.txt','r')"
   ]
  },
  {
   "cell_type": "code",
   "execution_count": 6,
   "id": "ca37c325-e85b-47a3-b52c-b8c1d5a8a50a",
   "metadata": {},
   "outputs": [
    {
     "name": "stdout",
     "output_type": "stream",
     "text": [
      "C:\\Users\\Administrator\\Desktop\\pythonexamples\\day4\\readme.txt\n"
     ]
    }
   ],
   "source": [
    "print(fh.name)"
   ]
  },
  {
   "cell_type": "code",
   "execution_count": 7,
   "id": "47b7da48-99ec-4d44-ac09-14fed0adf9aa",
   "metadata": {},
   "outputs": [
    {
     "name": "stdout",
     "output_type": "stream",
     "text": [
      "r\n"
     ]
    }
   ],
   "source": [
    "print(fh.mode)"
   ]
  },
  {
   "cell_type": "code",
   "execution_count": 8,
   "id": "bbe57cfe-9c3c-4c31-98d8-3f2be537dba1",
   "metadata": {},
   "outputs": [
    {
     "name": "stdout",
     "output_type": "stream",
     "text": [
      "False\n"
     ]
    }
   ],
   "source": [
    "print(fh.closed) # open status"
   ]
  },
  {
   "cell_type": "code",
   "execution_count": 9,
   "id": "6957d9ac-14a3-4921-baf6-927044024b73",
   "metadata": {},
   "outputs": [],
   "source": [
    "# to close the file handler call 'close' method\n",
    "fh.close()"
   ]
  },
  {
   "cell_type": "code",
   "execution_count": 10,
   "id": "e50e0a64-baeb-4455-963f-2625070e341b",
   "metadata": {},
   "outputs": [
    {
     "name": "stdout",
     "output_type": "stream",
     "text": [
      "True\n"
     ]
    }
   ],
   "source": [
    "print(fh.closed)"
   ]
  },
  {
   "cell_type": "code",
   "execution_count": null,
   "id": "f2e8a2a3-fd2a-4ec8-9103-da1a4ea3689c",
   "metadata": {},
   "outputs": [],
   "source": []
  }
 ],
 "metadata": {
  "kernelspec": {
   "display_name": "Python 3 (ipykernel)",
   "language": "python",
   "name": "python3"
  },
  "language_info": {
   "codemirror_mode": {
    "name": "ipython",
    "version": 3
   },
   "file_extension": ".py",
   "mimetype": "text/x-python",
   "name": "python",
   "nbconvert_exporter": "python",
   "pygments_lexer": "ipython3",
   "version": "3.13.0"
  }
 },
 "nbformat": 4,
 "nbformat_minor": 5
}
