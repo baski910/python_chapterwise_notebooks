{
 "cells": [
  {
   "cell_type": "code",
   "execution_count": 1,
   "id": "7009d635-ceca-4dfc-b1e6-cf0ac54a47da",
   "metadata": {},
   "outputs": [],
   "source": [
    "# pip install django_rest_framework\n",
    "\n",
    "# create a project\n",
    "\n",
    "# django-admin startproject restproject1\n",
    "\n",
    "# update settings.py abd add 'rest_framework' to INSTALLED_APPS variable"
   ]
  },
  {
   "cell_type": "code",
   "execution_count": 2,
   "id": "7408a1b8-6787-4776-aa33-ebb389aa708b",
   "metadata": {},
   "outputs": [],
   "source": [
    "# cd restproject1\n",
    "# create the application\n",
    "# python manage.py startapp restapp1\n",
    "\n",
    "#  update settings.py abd add 'restapp1' to INSTALLED_APPS variable"
   ]
  },
  {
   "cell_type": "code",
   "execution_count": 3,
   "id": "51dc5264-cf6a-45fd-9032-46de57e6eb6e",
   "metadata": {},
   "outputs": [],
   "source": [
    "# create database and user\n",
    "# create database demodb_3\n",
    "# create user demodbuser_3 with encrypted password 'password'\n",
    "# grant all privileges on database demodb_3 to demodbuser_3"
   ]
  },
  {
   "cell_type": "code",
   "execution_count": 4,
   "id": "5b0a4c86-3ad3-4445-9fd1-1c39f2d97ce1",
   "metadata": {},
   "outputs": [],
   "source": [
    "# update settings.py in project directory with database information\n",
    "# DATABASES = {\n",
    "#    'default': {\n",
    "#        'ENGINE': 'django.db.backends.postgresql',\n",
    "#        'NAME': 'demodb_3',\n",
    "#        'HOST': 'localhost',\n",
    "#        'USER': 'demodbuser_3',\n",
    "#        'PASSWORD': 'password',\n",
    "#        'PORT': 5432\n",
    "#    }\n",
    "# }"
   ]
  },
  {
   "cell_type": "code",
   "execution_count": null,
   "id": "090da9dc-4d17-4339-ad9c-705851aeb070",
   "metadata": {},
   "outputs": [],
   "source": [
    "# update restapp1/models.py with the following content\n",
    "#from django.db import models\n",
    "\n",
    "\n",
    "#class Book(models.Model): \n",
    "#    booktitle = models.CharField(max_length=50) \n",
    "#    bookauthor = models.CharField(max_length=50)\n",
    "#\n",
    "#    def __repr__(self):\n",
    "#        return f\"{self.booktitle},{self.bookauthor}\"\n"
   ]
  },
  {
   "cell_type": "code",
   "execution_count": 5,
   "id": "8ba53afc-ce69-40bb-8147-ca98af279e0b",
   "metadata": {},
   "outputs": [],
   "source": [
    "# execute the migration by running the following commands\n",
    "# python manage.py makemigrations\n",
    "# ptyhon manage.py migrate"
   ]
  },
  {
   "cell_type": "code",
   "execution_count": null,
   "id": "c2062110-39c9-4db9-a742-26076ada05da",
   "metadata": {},
   "outputs": [],
   "source": [
    "# create a file named 'serializers.py' below restapp1 and add the following content\n",
    "from dataclasses import fields\n",
    "from rest_framework import serializers\n",
    "from .models import Book\n",
    "\n",
    "class BookSerializer(serializers.ModelSerializer): \n",
    "    booktitle = serializers.CharField(max_length=50) \n",
    "    bookauthor = serializers.CharField(max_length=50) \n",
    "    class Meta: \n",
    "        model = Book\n",
    "        fields = ('__all__')"
   ]
  },
  {
   "cell_type": "code",
   "execution_count": null,
   "id": "03ba6ae0-062b-4caa-8037-4c6767376af6",
   "metadata": {},
   "outputs": [],
   "source": [
    "from rest_framework.views import APIView \n",
    "from rest_framework.response import Response \n",
    "from rest_framework import status \n",
    "from .models import Book \n",
    "from .serializers import BookSerializer\n",
    "\n",
    "class BookViews(APIView): \n",
    "    def get(self, request, id=None): \n",
    "        if id: \n",
    "            item = Book.objects.get(id=id) \n",
    "            serializer = BookSerializer(item) \n",
    "            return Response({\"status\": \"success\", \"data\": serializer.data}, status=status.HTTP_200_OK)\n",
    "        \n",
    "        items = Book.objects.all()\n",
    "        serializer = BookSerializer(items, many=True)\n",
    "        return Response({\"status\": \"success\", \"data\": serializer.data}, status=status.HTTP_200_OK)\n",
    "\n",
    "    def post(self,request):\n",
    "        print(request.data)\n",
    "        serializer = BookSerializer(data=request.data)\n",
    "        if serializer.is_valid():\n",
    "            serializer.save()\n",
    "            return Response({\"status\":\"success\",\"data\":request.data},status=status.HTTP_200_OK)\n",
    "        else:\n",
    "            return Response({\"status\": \"error\", \"data\": serializer.errors}, status=status.HTTP_400_BAD_REQUEST)\n",
    "\n",
    "\n",
    "    "
   ]
  },
  {
   "cell_type": "code",
   "execution_count": null,
   "id": "c95082a9-5c90-4c1c-bf60-6c740111f419",
   "metadata": {},
   "outputs": [],
   "source": [
    "# update restapp1/urls.py with the following content\n",
    "from django.urls import path\n",
    "from .views import BookViews\n",
    "\n",
    "urlpatterns = [\n",
    "    path('books',BookViews.as_view(),name='books'),\n",
    "    path('books/<int:id>',BookViews.as_view(),name='getbook')\n",
    "]"
   ]
  }
 ],
 "metadata": {
  "kernelspec": {
   "display_name": "Python 3 (ipykernel)",
   "language": "python",
   "name": "python3"
  },
  "language_info": {
   "codemirror_mode": {
    "name": "ipython",
    "version": 3
   },
   "file_extension": ".py",
   "mimetype": "text/x-python",
   "name": "python",
   "nbconvert_exporter": "python",
   "pygments_lexer": "ipython3",
   "version": "3.10.12"
  }
 },
 "nbformat": 4,
 "nbformat_minor": 5
}
