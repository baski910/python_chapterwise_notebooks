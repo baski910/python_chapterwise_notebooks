{
 "cells": [
  {
   "cell_type": "markdown",
   "id": "a0aff3e5",
   "metadata": {},
   "source": [
    "<h2>Modules</h2>\n",
    "<p>Modules are used for creating namespace in python</p>\n",
    "<p>Modules work as container for functions,classess and variables.</p>\n",
    "<p>Function,classes etc., can be conveniently organised below a name using modules</p>\n",
    "<p>import (or) from module import directive is used for including module definitions</p>\n",
    "<p>A python script can be imported as module</p>\n",
    "<p>Modules are searched in current directory or in modules search path</p>\n",
    "<p>Modules search path are given by sys.path variable</p>"
   ]
  },
  {
   "cell_type": "code",
   "execution_count": null,
   "id": "be0c8f4e",
   "metadata": {},
   "outputs": [],
   "source": [
    "\"\"\"Example for modules\"\"\"\n",
    "\n",
    "\"\"\"the following functions are written in a file named hello.py\"\"\"\n",
    "\n",
    "def addnum(a,b):\n",
    "    return a+b\n",
    "\n",
    "def divnum(a,b):\n",
    "    return a/b\n",
    "\n",
    "\"\"\"hello.py can be imported in another script in current directory\"\"\"\n",
    "import hello\n",
    "\n",
    "print(addnum(20,5)) # output will be 25\n",
    "print(addnum(20,5)) # output will be 4.0"
   ]
  },
  {
   "cell_type": "code",
   "execution_count": null,
   "id": "8deed888",
   "metadata": {},
   "outputs": [],
   "source": [
    "\"\"\"Working with module search path\"\"\"\n",
    "import sys\n",
    "\n",
    "# display module search path\n",
    "print(sys.path)\n",
    "\n",
    "# adding custom locations to sys.path\n",
    "# assuming module is present in C:\\Users\\username\\Desktop\\mymodules\n",
    "\n",
    "sys.path.append(r'C:\\Users\\username\\Desktop\\mymodules')\n",
    "\n",
    "# now the moduls in custom location can be imported"
   ]
  },
  {
   "cell_type": "code",
   "execution_count": null,
   "id": "c3c883cf",
   "metadata": {},
   "outputs": [],
   "source": [
    "\"\"\"using from module import \"\"\"\n",
    "\n",
    "# import specific functions/classes/variable from given module\n",
    "from hello import addnum,divnum\n",
    "\n",
    "# the functions definition are included in the current script\n",
    "# imported functions can be called as if they were defined in the current script\n",
    "\n",
    "print(addnum(20,5)) # output will be 25\n",
    "print(divnum(20,5)) # output will be 4.0"
   ]
  },
  {
   "cell_type": "code",
   "execution_count": null,
   "id": "f2fc1d79",
   "metadata": {},
   "outputs": [],
   "source": [
    "\"\"\"import all functions/classes/variable from given module\"\"\"\n",
    "\n",
    "# the below directive imports all unctions/classes/variable from given module.\n",
    "# the below usage is discourage as it may increase the size of current script\n",
    "from hello import * \n",
    "\n",
    "# continue using the functions/classes/variables"
   ]
  },
  {
   "cell_type": "code",
   "execution_count": null,
   "id": "959cc1ab",
   "metadata": {},
   "outputs": [],
   "source": [
    "\"\"\"restricting automatic import of functions in case of from module import *\"\"\"\n",
    "\n",
    "\"\"\" redefining the existing module\"\"\"\n",
    "\n",
    "# __all__ variable restricts functions to be imported using the directive\n",
    "# from module import * \n",
    "\n",
    "# only addnum and divnum can be imported in the calling script by using from module import *\n",
    "__all__ = ['addnum','divnum'] \n",
    "\n",
    "def addnum(a,b):\n",
    "    return a+b\n",
    "\n",
    "def divnum(a,b):\n",
    "    return a/b\n",
    "\n",
    "def sayhello():\n",
    "    print(\"helloworld\")"
   ]
  },
  {
   "cell_type": "markdown",
   "id": "5bf3e315",
   "metadata": {},
   "source": [
    "<p>Function call inside modules and __name__ for rescue</p>\n",
    "<p>__name__ is a built-in variable and returns the current namespace</p>\n",
    "<p>including function calls in modules leads to redundant function calls in calling script</p>\n",
    "\n",
    "<p> modifying the module definition with function calls</p>\n",
    "\n",
    "<p>def addnum(a,b):</p>\n",
    "<p>    return a+b</p>\n",
    "\n",
    "<p>def divnum(a,b):</p>\n",
    "<p>    return a/b</p>\n",
    "<p>print(\"calling from module:\",__name__</p>\n",
    "<p>print(\"calling from module:\",addnum(28,4))</p>\n",
    "<p>print(\"calling from module:\",divnum(28,4))</p>\n",
    "\n",
    "<p>import in another module</p>\n",
    "<p>import hello</p>\n",
    "<p>#call the functions</p>\n",
    "<p>print(addnum(20,5))</p>\n",
    "<p>print(divnum(20,5))</p>\n",
    "\n",
    "<p>#output will be as shown below</p>\n",
    "<p>\"calling from module:\" hello</p>\n",
    "<p>\"calling from module:\" 32</p>\n",
    "<p>\"calling from module:\" 7.0</p>\n",
    "<p>25</p>\n",
    "<p>4.0</p>\n",
    "\n",
    "<p># out when module is executed as a stand alone script</p>\n",
    "\n",
    "<p>#output will be as shown below</p>\n",
    "<p>\"calling from module:\" __main__</p>\n",
    "<p>\"calling from module:\" 32</p>\n",
    "<p>\"calling from module:\" 7.0</p>\n",
    "\n",
    "\n",
    "<p># redundant function call can be avoided by modifying the module as below</p>\n",
    "<p>#function calls to be included in the below if directive</p>\n",
    "<p> if __name__ == '__main__': </p>\n",
    "<p>print(\"calling from module:\",__name__</p>\n",
    "<p>print(\"calling from module:\",addnum(28,4))</p>\n",
    "<p>print(\"calling from module:\",divnum(28,4))</p>"
   ]
  },
  {
   "cell_type": "markdown",
   "id": "1167f878",
   "metadata": {},
   "source": [
    "<p>Packages are collection of modules</p>\n",
    "<p>Package is a directory containing multiple modules</p>\n",
    "<p>The directory should have a file name __init__.py</p>"
   ]
  },
  {
   "cell_type": "code",
   "execution_count": null,
   "id": "306572f0",
   "metadata": {},
   "outputs": [],
   "source": [
    "# create all the three files below a new directory say mypackage1\n",
    "\"\"\"Example __init__.py\"\"\"\n",
    "\n",
    "from .example1 import f\n",
    "from .example2 import g\n",
    "\n",
    "\"\"\"module example1\"\"\"\n",
    "def f():\n",
    "    print(\"from example1\")\n",
    "    \n",
    "\"\"\"module example2\"\"\"\n",
    "def f():\n",
    "    print(\"from example2\")\n",
    "    \n",
    "# importing package\n",
    "import mypackage1\n",
    "\n",
    "mypackage1.f()\n",
    "mypackage1.g()"
   ]
  }
 ],
 "metadata": {
  "kernelspec": {
   "display_name": "Python 3",
   "language": "python",
   "name": "python3"
  },
  "language_info": {
   "codemirror_mode": {
    "name": "ipython",
    "version": 3
   },
   "file_extension": ".py",
   "mimetype": "text/x-python",
   "name": "python",
   "nbconvert_exporter": "python",
   "pygments_lexer": "ipython3",
   "version": "3.7.9"
  }
 },
 "nbformat": 4,
 "nbformat_minor": 5
}
