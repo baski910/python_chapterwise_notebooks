{
 "cells": [
  {
   "cell_type": "code",
   "execution_count": 24,
   "id": "ec420d2a-6be0-4c6d-8e18-00164e0aae14",
   "metadata": {},
   "outputs": [],
   "source": [
    "import numpy as np\n",
    "import pandas as pd\n",
    "\n",
    "# implementation of kmeans\n",
    "# d1 = { 0: m1, 1: m2,2: m3 }\n",
    "# m1 = [0.227680, 0.858204]\n",
    "# m2 = [0.979188, 0.077151]\n",
    "# m3 = [0.504577, 0.553114]\n",
    "\n",
    "# distance = [m1-0th element, m2-oth element, m3-oth element]\n",
    "# distance.index(min(distance))\n",
    "\n",
    "# d2 = { 0: [],1: [],2:[] }\n",
    "\n",
    "class kmeans:\n",
    "    def __init__(self,k=3,tolerance=0.0001,max_iterations=500):\n",
    "        self.k = k\n",
    "        self.tolerance = tolerance\n",
    "        self.max_iterations = max_iterations\n",
    "    def fit(self, data):\n",
    "        self.centroids = {}\n",
    "        #initialize the centroids, the first 'k' elements in the dataset will be our initial centroids\n",
    "        for i in range(self.k):\n",
    "            self.centroids[i] = data[i]\n",
    "\n",
    "        for i in range(self.max_iterations):\n",
    "            self.classes = {}\n",
    "            for i in range(self.k):\n",
    "                self.classes[i] = []\n",
    "\n",
    "\t\t\t#find the distance between the point and cluster; choose the nearest centroid\n",
    "            for features in data:\n",
    "                distances = [np.linalg.norm(features - self.centroids[centroid]) for centroid in self.centroids]\n",
    "\t\t\t\t#print(distances)\n",
    "                classification = distances.index(min(distances))\n",
    "\t\t\t\t#print(classification)\n",
    "                self.classes[classification].append(features)\n",
    "\t\t\t\n",
    "            previous = dict(self.centroids)\n",
    "\n",
    "\t\t\t#average the cluster datapoints to re-calculate the centroids\n",
    "            for classification in self.classes:\n",
    "                self.centroids[classification] = np.average(self.classes[classification], axis = 0)\n",
    "\n",
    "            isOptimal = True\n",
    "\n",
    "\t\t\t#for centroid in self.centroids:\n",
    "            #    original_centroid = previous[centroid]\n",
    "            #    curr = self.centroids[centroid]\n",
    "            for centroid in self.centroids:\n",
    "                original_centroid = previous[centroid]\n",
    "                curr = self.centroids[centroid]\n",
    "                if np.sum((curr - original_centroid)/original_centroid * 100.0) > self.tolerance:\n",
    "                    isOptimal = False\n",
    "\n",
    "\t\t\t#break out of the main loop if the results are optimal, ie. the centroids don't change their positions much(more than our tolerance)\n",
    "            if isOptimal:\n",
    "                break\n"
   ]
  },
  {
   "cell_type": "code",
   "execution_count": 27,
   "id": "f0dbd815-6573-4e7a-be9f-dbf56ce996fe",
   "metadata": {},
   "outputs": [
    {
     "data": {
      "image/png": "[encoded data removed]",
      "text/plain": [
       "<Figure size 640x480 with 1 Axes>"
      ]
     },
     "metadata": {},
     "output_type": "display_data"
    }
   ],
   "source": [
    "import matplotlib.pyplot as plt\n",
    "def main():\n",
    "\t\n",
    "\tdf = pd.read_csv(r\"ipl.csv\")\n",
    "\tdf = df[['one', 'two']]\n",
    "\t#dataset = df.astype(float).values.tolist()\n",
    "\n",
    "\tX = df.values #returns a numpy array\n",
    "\t#X = X[:10]\n",
    "\t#print(X)\n",
    "\t\n",
    "\tkm = kmeans(3)\n",
    "\tkm.fit(X)\n",
    "\t\n",
    "\t# Plotting starts here\n",
    "\tcolors = 10*[\"r\", \"g\", \"c\", \"b\", \"k\"]\n",
    "\n",
    "\tfor centroid in km.centroids:\n",
    "\t\tplt.scatter(km.centroids[centroid][0], km.centroids[centroid][1], s = 130, marker = \"x\")\n",
    "\n",
    "\tfor classification in km.classes:\n",
    "\t\tcolor = colors[classification]\n",
    "\t\tfor features in km.classes[classification]:\n",
    "\t\t\tplt.scatter(features[0], features[1], color = color,s = 30)\n",
    "\t\n",
    "\tplt.show()\n",
    "\t#mpld3.show()\n",
    "\t\n",
    "if __name__ == \"__main__\":\n",
    "\tmain()"
   ]
  },
  {
   "cell_type": "code",
   "execution_count": 11,
   "id": "0b21722c-9a8e-4240-88b5-760457e35890",
   "metadata": {},
   "outputs": [
    {
     "name": "stdout",
     "output_type": "stream",
     "text": [
      "1\n"
     ]
    }
   ],
   "source": [
    "print(distances.index(min(distances)))"
   ]
  },
  {
   "cell_type": "code",
   "execution_count": null,
   "id": "4cb3d6f8-64dc-4e55-bd57-4aaf5d562c85",
   "metadata": {},
   "outputs": [],
   "source": []
  }
 ],
 "metadata": {
  "kernelspec": {
   "display_name": "Python 3 (ipykernel)",
   "language": "python",
   "name": "python3"
  },
  "language_info": {
   "codemirror_mode": {
    "name": "ipython",
    "version": 3
   },
   "file_extension": ".py",
   "mimetype": "text/x-python",
   "name": "python",
   "nbconvert_exporter": "python",
   "pygments_lexer": "ipython3",
   "version": "3.10.12"
  }
 },
 "nbformat": 4,
 "nbformat_minor": 5
}
