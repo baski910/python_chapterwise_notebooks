{
 "cells": [
  {
   "cell_type": "markdown",
   "metadata": {},
   "source": [
    "<h1>Iterating Over Dictionary</h1>\n",
    "<ul>\n",
    "    <li>items - is a dictionary function returns key and value as a tuple in each iteration</li>\n",
    "    <li>keys - is a dictionary function returns all keys in a dictionary as a sequence</li>\n",
    "    <li>values - is a dictionary function returs all values in a dictionary as a sequence</li>\n",
    "</ul>"
   ]
  },
  {
   "cell_type": "code",
   "execution_count": null,
   "metadata": {},
   "outputs": [],
   "source": [
    "\"\"\"Iterating over dictionaries\"\"\"\n",
    "\n",
    "d1 = {'name':'alice','age':7,'class':'first'}\n",
    "\n",
    "for key,val in d1.items(): # returns 2 elements tuple each iteration\n",
    "    print(key,val)\n",
    "    \n",
    "for key in d1.keys():\n",
    "    print(key,d1[key])"
   ]
  }
 ],
 "metadata": {
  "kernelspec": {
   "display_name": "Python 3 (ipykernel)",
   "language": "python",
   "name": "python3"
  },
  "language_info": {
   "codemirror_mode": {
    "name": "ipython",
    "version": 3
   },
   "file_extension": ".py",
   "mimetype": "text/x-python",
   "name": "python",
   "nbconvert_exporter": "python",
   "pygments_lexer": "ipython3",
   "version": "3.7.3"
  }
 },
 "nbformat": 4,
 "nbformat_minor": 4
}
