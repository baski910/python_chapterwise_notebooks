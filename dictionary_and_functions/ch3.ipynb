{
 "cells": [
  {
   "cell_type": "markdown",
   "metadata": {},
   "source": [
    "<h1>Dictionary Functions</h1>\n",
    "<ul>\n",
    "    <li>get - takes key name as argument, optionally takes default value as second argument.<br>\n",
    "        Returns the value against the key if the key is present, otherwise returns the second argument<br>\n",
    "        or None</li>\n",
    "    <li>setdefault - takes 2 arguments. 1st parameter is the key and 2nd parameter is the value<br>\n",
    "        Create a new key and value pair, if the key is not existing. No action taken if the key\n",
    "        is already existing</li>\n",
    "    <li>dict - takes a list as argument and converts it to dictionary. The list should conform to<br>\n",
    "        some format. Each element of the list should be a tuple with only 2 elements. The 1st element<br>\n",
    "        of each tuple will be treated as dictionary key and the 2nd element treated as value</li>\n",
    "    <li>zip - takes 2 lists as argument and a returns a zip object with each element as tuple, <br>\n",
    "        which can be type casted to a list or dictionary. It takes the elements using corresponding index <br>\n",
    "        and forms the resulting zip object</li> \n",
    "</ul>        "
   ]
  },
  {
   "cell_type": "code",
   "execution_count": null,
   "metadata": {},
   "outputs": [],
   "source": [
    "\"\"\"Examples for get\"\"\"\n",
    "\n",
    "d1 = {'name':'alice','age':7,'class':'first'}\n",
    "\n",
    "print(d1['name']) # output will be alice\n",
    "\n",
    "print(d1['lname']) # throws error as the key 'lname' is not existing\n",
    "\n",
    "# by using get function we could avoid error\n",
    "\n",
    "print(d1.get('lname')) # output will be None as the key is not existing\n",
    "\n",
    "# return some default when the key is existing\n",
    "print(d1.get('lname','key is not found')) # output will be 'key is not found'\n",
    "\n",
    "print(d1.get('name','key is not found')) # output will be alice\n"
   ]
  },
  {
   "cell_type": "code",
   "execution_count": null,
   "metadata": {},
   "outputs": [],
   "source": [
    "\"\"\"Example for setdefault\"\"\"\n",
    "\n",
    "d1 = {'name':'alice','age':7,'class':'first'}\n",
    "\n",
    "d1.setdefault('rank','second') # creates a key named 'rank' and sets the value as 'second'\n",
    "\n",
    "print(d1) \n",
    "\n",
    "d1.setdefault('name','bob') # as the key is already existing no action will be taken\n",
    "\n",
    "print(d1) \n"
   ]
  },
  {
   "cell_type": "code",
   "execution_count": null,
   "metadata": {},
   "outputs": [],
   "source": [
    "\"\"\"Example for dict\"\"\"\n",
    "\n",
    "list1=[('name','alice'),('age',7),('class','first')]\n",
    "\n",
    "d1 = dict(list1)\n",
    "\n",
    "print(d1)\n",
    "\n",
    "\"\"\"using zip function to form list of tuples\"\"\"\n",
    "\n",
    "list2 = ['name','age','class']\n",
    "list3 = ['alice',7,'first']\n",
    "\n",
    "list4 = list(zip(list2,list3))\n",
    "\n",
    "print(list4)\n",
    "\n",
    "d2 = dict(list4) \n",
    "\n",
    "print(d2)\n",
    "\n",
    "# more simply dictionary can be formed by directly type casting zip object using dict\n",
    "\n",
    "d3 = dict(zip(list2,list3))\n"
   ]
  }
 ],
 "metadata": {
  "kernelspec": {
   "display_name": "Python 3 (ipykernel)",
   "language": "python",
   "name": "python3"
  },
  "language_info": {
   "codemirror_mode": {
    "name": "ipython",
    "version": 3
   },
   "file_extension": ".py",
   "mimetype": "text/x-python",
   "name": "python",
   "nbconvert_exporter": "python",
   "pygments_lexer": "ipython3",
   "version": "3.7.3"
  }
 },
 "nbformat": 4,
 "nbformat_minor": 4
}
