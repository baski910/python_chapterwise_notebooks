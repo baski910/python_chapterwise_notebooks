{
 "cells": [
  {
   "cell_type": "code",
   "execution_count": 8,
   "id": "0a18249b",
   "metadata": {},
   "outputs": [
    {
     "name": "stdout",
     "output_type": "stream",
     "text": [
      "['name,mark,subject', 'joe,68,maths', 'tom,59,english', 'alice,63,science']\n",
      "['name', 'mark', 'subject']\n",
      "{'s1': {'name': 'joe', 'mark': '68', 'subject': 'maths'}, 's2': {'name': 'tom', 'mark': '59', 'subject': 'english'}, 's3': {'name': 'alice', 'mark': '63', 'subject': 'science'}}\n"
     ]
    }
   ],
   "source": [
    "string = \"name,mark,subject\\njoe,68,maths\\ntom,59,english\\nalice,63,science\"\n",
    "s1 = string.split(\"\\n\")\n",
    "print(s1)\n",
    "dict2 = {}\n",
    "dict1 = {}\n",
    "for i,string1 in enumerate(s1):\n",
    "    if i == 0:\n",
    "        keys = string1.split(\",\")\n",
    "        print(keys)\n",
    "    else:\n",
    "        values = string1.split(\",\")\n",
    "        #print(values)\n",
    "        dict1 = dict(zip(keys,values))\n",
    "        k='s{}'.format(i)\n",
    "        dict2.setdefault(k,dict1)\n",
    "        \n",
    "print(dict2)"
   ]
  },
  {
   "cell_type": "code",
   "execution_count": null,
   "id": "dd97c847",
   "metadata": {},
   "outputs": [],
   "source": []
  }
 ],
 "metadata": {
  "kernelspec": {
   "display_name": "Python 3",
   "language": "python",
   "name": "python3"
  },
  "language_info": {
   "codemirror_mode": {
    "name": "ipython",
    "version": 3
   },
   "file_extension": ".py",
   "mimetype": "text/x-python",
   "name": "python",
   "nbconvert_exporter": "python",
   "pygments_lexer": "ipython3",
   "version": "3.7.9"
  }
 },
 "nbformat": 4,
 "nbformat_minor": 5
}
