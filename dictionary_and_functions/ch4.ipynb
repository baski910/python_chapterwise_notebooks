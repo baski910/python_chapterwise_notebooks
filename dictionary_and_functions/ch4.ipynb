{
 "cells": [
  {
   "cell_type": "code",
   "execution_count": null,
   "id": "0a18249b",
   "metadata": {},
   "outputs": [],
   "source": [
    "s1 = \"name,mark,subject\\njoe,68,maths\\ntom,59,english\\nalice,63,science\"\n",
    "# d1 = {\n",
    "#  's1': {'name':'joe','mark':'68','subject':'maths'}\n",
    "#  's2': {'name':'tom','mark':'59','subject':'english'}\n",
    "#  's3': {'name':'joe','mark':'63','subject':'science'}\n",
    "# }\n",
    "d1 = {} # master dictionary for holding information on all students\n",
    "\n",
    "data = s1.split('\\n')\n",
    "\n",
    "print(data)"
   ]
  },
  {
   "cell_type": "code",
   "execution_count": null,
   "id": "dd97c847",
   "metadata": {},
   "outputs": [],
   "source": [
    "# get the keys for each dictionary by assigning 1st element of data to a list named 'headers'\n",
    "\n",
    "headers = data.pop(0)\n",
    "\n",
    "print(headers)"
   ]
  },
  {
   "cell_type": "code",
   "execution_count": null,
   "id": "5c9ace22",
   "metadata": {},
   "outputs": [],
   "source": [
    "# create list on information about each student using a for loop\n",
    "# combine headers and students to form a dictionary for each student\n",
    "# key for master dictionary is created by concatenating 's' with 'index'(i.e. 1,2,3 ...)\n",
    "# update master dictionary with appropriate key and student dictionary\n",
    "\n",
    "for num, val in enumerate(data,1):\n",
    "    students = val.split(',')\n",
    "    d2 = dict(zip(headers,students))\n",
    "    key = \"s{}\".format(num)\n",
    "    d1.setdefault(key,d2) "
   ]
  },
  {
   "cell_type": "code",
   "execution_count": null,
   "id": "5eae1613",
   "metadata": {},
   "outputs": [],
   "source": [
    "print(d1) # display the master dictionary"
   ]
  }
 ],
 "metadata": {
  "kernelspec": {
   "display_name": "Python 3 (ipykernel)",
   "language": "python",
   "name": "python3"
  },
  "language_info": {
   "codemirror_mode": {
    "name": "ipython",
    "version": 3
   },
   "file_extension": ".py",
   "mimetype": "text/x-python",
   "name": "python",
   "nbconvert_exporter": "python",
   "pygments_lexer": "ipython3",
   "version": "3.7.3"
  }
 },
 "nbformat": 4,
 "nbformat_minor": 5
}
