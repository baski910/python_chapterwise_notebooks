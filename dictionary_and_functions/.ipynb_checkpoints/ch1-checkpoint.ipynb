{
 "cells": [
  {
   "cell_type": "markdown",
   "metadata": {},
   "source": [
    "<h1>Dictionary</h1>\n",
    "<ul>\n",
    "    <li>Python's dictionaries are kind of hash table type</li>\n",
    "    <li>They work like associative arrays or hashes found in Perl and consist of key-value pairs</li>\n",
    "    <li>A dictionary key should be unique can be of any immutable type, but are usually numbers or strings<br>\n",
    "        Values, on the other hand, can be any arbitrary Python object</li>\n",
    "    <li>Dictionaries are enclosed by curly braces ( { } ) and values can be assigned and accessed using square braces ( [] )</li>"
   ]
  },
  {
   "cell_type": "code",
   "execution_count": null,
   "metadata": {},
   "outputs": [],
   "source": [
    "\"\"\"Dictionary examples\"\"\"\n",
    "\n",
    "d1 = {} # creating an empty dictionary\n",
    "\n",
    "d1 = {'name':'alice','age':7,'class':'first'}\n",
    "\n",
    "# access a value against a specific key.\n",
    "print(d1['age']) # the output will be 7\n",
    "\n",
    "# repeating a key is not an error, the last pair of key and value will overwrite the previous one\n",
    "d1 = {'name':'alice','age':7,'class':'first','name':'bob'} # the value for the key 'name' will be bob\n",
    "print(d1)\n",
    "\n",
    "#dictionary values can be updated by simple assignment\n",
    "d1['age']=10 # updates the value against the key, if key is present otherwise the key is created\n",
    "print(d1)\n",
    "\n",
    "d1['lname'] = 'joe' # creates a new key 'lname' with value 'joe'\n",
    "print(d1)\n",
    "\n"
   ]
  },
  {
   "cell_type": "markdown",
   "metadata": {},
   "source": [
    "<h2>Merge Dictionaries</h2>\n",
    "<p>update - is a dictionary function, used for merging two dictionaries<br>\n",
    "&nbsp;&nbsp;&nbsp;&nbsp;&nbsp;&nbsp;&nbsp;takes another dictionary as argument, and updates the orginal<br>\n",
    "&nbsp;&nbsp;&nbsp;&nbsp;&nbsp;&nbsp;&nbsp;dictionary with key and value pairs in the dictionary passed as argument</p>\n",
    "<h2>Clear Dictionary</h2>\n",
    "<p>clear - is a dictionary function, makes the dictionary empty</p>"
   ]
  },
  {
   "cell_type": "code",
   "execution_count": null,
   "metadata": {},
   "outputs": [],
   "source": [
    "\"\"\"merge dictionary\"\"\"\n",
    "\n",
    "d1 = {'name':'alice','age':7,'class':'first','name':'bob'} \n",
    "\n",
    "d2 = {'school': 'cps school','rank':'second'}\n",
    "\n",
    "print(\"before update:\",d1)\n",
    "\n",
    "d1.update(d2)\n",
    "\n",
    "print(\"after update:\",d2)\n",
    "\n",
    "# make the dictionary empty using 'clear'\n",
    "\n",
    "# remove an item using key\n",
    "\n",
    "d1.pop('school') # removes the item with key 'school'\n",
    "\n",
    "\n",
    "d1.clear()\n",
    "\n",
    "print(d1) # output will be '{}'"
   ]
  }
 ],
 "metadata": {
  "kernelspec": {
   "display_name": "Python 3",
   "language": "python",
   "name": "python3"
  },
  "language_info": {
   "codemirror_mode": {
    "name": "ipython",
    "version": 3
   },
   "file_extension": ".py",
   "mimetype": "text/x-python",
   "name": "python",
   "nbconvert_exporter": "python",
   "pygments_lexer": "ipython3",
   "version": "3.5.3"
  }
 },
 "nbformat": 4,
 "nbformat_minor": 4
}
