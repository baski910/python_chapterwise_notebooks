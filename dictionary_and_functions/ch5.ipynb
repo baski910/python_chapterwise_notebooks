{
 "cells": [
  {
   "cell_type": "code",
   "execution_count": null,
   "id": "0a96750d",
   "metadata": {},
   "outputs": [],
   "source": [
    "# consuming rest api and get a dictionary from a json object\n",
    "import requests\n",
    "import json\n",
    "\n",
    "r = requests.get(\"https://reqres.in/api/users?page=2\")\n",
    "\n",
    "if r.status_code == 200:\n",
    "    d1 = json.loads(r.text)\n",
    "    print(d1)\n",
    "else:\n",
    "    print(\"could not get result from rest end point\")"
   ]
  }
 ],
 "metadata": {
  "kernelspec": {
   "display_name": "Python 3 (ipykernel)",
   "language": "python",
   "name": "python3"
  },
  "language_info": {
   "codemirror_mode": {
    "name": "ipython",
    "version": 3
   },
   "file_extension": ".py",
   "mimetype": "text/x-python",
   "name": "python",
   "nbconvert_exporter": "python",
   "pygments_lexer": "ipython3",
   "version": "3.7.3"
  }
 },
 "nbformat": 4,
 "nbformat_minor": 5
}
