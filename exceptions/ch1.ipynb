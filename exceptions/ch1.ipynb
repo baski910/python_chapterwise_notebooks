{
 "cells": [
  {
   "cell_type": "markdown",
   "id": "d598be18",
   "metadata": {},
   "source": [
    "An exception is an event, which occurs during the execution of a program, that disrupts the normal flow of the program's instructions. \n",
    "In general, when a Python script encounters a situation that it can't cope with, it raises an exception. \n",
    "An exception is a Python object that represents an error.\n",
    "\n",
    "<h1>Run Time Error</h1>\n",
    "Raised when an error is detected that doesn’t fall in any of the other categories. The associated value is a string indicating what precisely went wrong."
   ]
  },
  {
   "cell_type": "code",
   "execution_count": null,
   "id": "1281b585",
   "metadata": {},
   "outputs": [],
   "source": [
    "while True:\n",
    "     try:\n",
    "        x=int(input(\"Enter a number\"))\n",
    "        break\n",
    "     except ValueError:\n",
    "         print \"Not a valid number\""
   ]
  },
  {
   "cell_type": "markdown",
   "id": "934acfcd",
   "metadata": {},
   "source": [
    "A try statement may have more than one except clause, to specify handlers for different exceptions. \n",
    "At most one handler will be executed. \n",
    "Handlers only handle exceptions that occur in the corresponding try clause, not in other handlers of the same try statement. "
   ]
  },
  {
   "cell_type": "code",
   "execution_count": null,
   "id": "94d8ed84",
   "metadata": {},
   "outputs": [],
   "source": [
    "import sys\n",
    "try:\n",
    "    f = open('myfile.txt','r')\n",
    "    s = f.readline()\n",
    "    i = int(s.strip())\n",
    "except IOError as e:\n",
    "    print(\"I/O error({0}): {1}\".format(e.errno, e.strerror))\n",
    "except ValueError:\n",
    "    print(\"Could not convert data to an integer.\") \n",
    "except:\n",
    "    print(\"Unexpected error:\", sys.exc_info()[0]) "
   ]
  },
  {
   "cell_type": "code",
   "execution_count": null,
   "id": "0a69eb49",
   "metadata": {},
   "outputs": [],
   "source": [
    "import sys\n",
    "try:\n",
    "    f=open('/tmp/a.txt','r')\n",
    "except IOError:\n",
    "    print \"cannot open the file:\"\n",
    "else:\n",
    "    print \"The file successfully opened\"\n",
    "    f.close()"
   ]
  },
  {
   "cell_type": "markdown",
   "id": "fc05e665",
   "metadata": {},
   "source": [
    "'raise' statements allows the programmer to force an exception\n",
    "Delegate the responsible handling exception to calling function"
   ]
  },
  {
   "cell_type": "code",
   "execution_count": null,
   "id": "9749bdd3",
   "metadata": {},
   "outputs": [],
   "source": [
    "def calculateinterest(p,n,r):\n",
    "    if r<=0:\n",
    "        raise ValueError\n",
    "    if n<=0:\n",
    "        raise ValueError\n",
    "    \n",
    "    return p*n*r/100\n",
    "\n",
    "try:\n",
    "    calculateinterest(1000,2,-8)\n",
    "except valueError:\n",
    "    print(\"negative value not accepted\")"
   ]
  },
  {
   "cell_type": "code",
   "execution_count": null,
   "id": "4573633d",
   "metadata": {},
   "outputs": [],
   "source": [
    "class MyError(Exception):\n",
    "     def __init__(self,value):\n",
    "         self.value=value\n",
    "     def __repr__(self):\n",
    "         return self.value\n",
    "try:\n",
    "     raise MyError(\"this is test exception\")\n",
    "except MyError as e:\n",
    "     print \"Error occured\", e.value"
   ]
  },
  {
   "cell_type": "markdown",
   "id": "71403ea5",
   "metadata": {},
   "source": [
    "'finally' is executed always. \n",
    "It gurantees execution of block. \n",
    "Usually used for freeing up resources"
   ]
  },
  {
   "cell_type": "code",
   "execution_count": null,
   "id": "9fd2a817",
   "metadata": {},
   "outputs": [],
   "source": [
    "import time\n",
    "\n",
    "try:\n",
    "    count = 0\n",
    "    while True:\n",
    "        count += 1\n",
    "        print(\"hello\")\n",
    "        if count==5:\n",
    "            break\n",
    "        else:\n",
    "            time.sleep(2)\n",
    "except KeyboardInterrupt:\n",
    "    print(\"ctrl and c pressed\")\n",
    "finally:\n",
    "    print(\"executed always\")"
   ]
  }
 ],
 "metadata": {
  "kernelspec": {
   "display_name": "Python 3 (ipykernel)",
   "language": "python",
   "name": "python3"
  },
  "language_info": {
   "codemirror_mode": {
    "name": "ipython",
    "version": 3
   },
   "file_extension": ".py",
   "mimetype": "text/x-python",
   "name": "python",
   "nbconvert_exporter": "python",
   "pygments_lexer": "ipython3",
   "version": "3.7.3"
  }
 },
 "nbformat": 4,
 "nbformat_minor": 5
}
