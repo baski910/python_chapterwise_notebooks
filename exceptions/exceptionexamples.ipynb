{
 "cells": [
  {
   "cell_type": "code",
   "execution_count": 1,
   "metadata": {},
   "outputs": [
    {
     "name": "stdout",
     "output_type": "stream",
     "text": [
      "Enter a numberhello\n",
      "Enter a valid number\n",
      "Enter a numberworld\n",
      "Enter a valid number\n",
      "Enter a number23\n",
      "23\n"
     ]
    }
   ],
   "source": [
    "# example 1\n",
    "while True:\n",
    "    try:\n",
    "        x=int(input(\"Enter a number\"))\n",
    "        print(x)\n",
    "        break\n",
    "    except:\n",
    "        print(\"Enter a valid number\")"
   ]
  },
  {
   "cell_type": "code",
   "execution_count": 4,
   "metadata": {},
   "outputs": [
    {
     "name": "stdout",
     "output_type": "stream",
     "text": [
      "Enter a numberhello\n",
      "Enter a valid number (<class 'ValueError'>, ValueError(\"invalid literal for int() with base 10: 'hello'\",), <traceback object at 0x7f88f864d748>)\n"
     ]
    }
   ],
   "source": [
    "# to identify the error class associted with the error\n",
    "import sys\n",
    "try:\n",
    "    x=int(input(\"Enter a number\"))\n",
    "    print(x)\n",
    "except ValueError:\n",
    "    print(\"Enter a valid number\",sys.exc_info())"
   ]
  },
  {
   "cell_type": "code",
   "execution_count": 6,
   "metadata": {},
   "outputs": [
    {
     "name": "stdout",
     "output_type": "stream",
     "text": [
      "hello\n",
      "hello\n",
      "ctrl and c pressed\n",
      "executed always\n"
     ]
    }
   ],
   "source": [
    "#'finally' is executed always. It gurantees execution of block. Usually used for freeing up resources\n",
    "# \n",
    "import time\n",
    "\n",
    "try:\n",
    "    count = 0\n",
    "    while True:\n",
    "        count += 1\n",
    "        print(\"hello\")\n",
    "        if count==5:\n",
    "            break\n",
    "        else:\n",
    "            time.sleep(2)\n",
    "except KeyboardInterrupt:\n",
    "    print(\"ctrl and c pressed\")\n",
    "finally:\n",
    "    print(\"executed always\")"
   ]
  },
  {
   "cell_type": "code",
   "execution_count": null,
   "metadata": {},
   "outputs": [],
   "source": []
  }
 ],
 "metadata": {
  "kernelspec": {
   "display_name": "Python 3",
   "language": "python",
   "name": "python3"
  },
  "language_info": {
   "codemirror_mode": {
    "name": "ipython",
    "version": 3
   },
   "file_extension": ".py",
   "mimetype": "text/x-python",
   "name": "python",
   "nbconvert_exporter": "python",
   "pygments_lexer": "ipython3",
   "version": "3.5.3"
  }
 },
 "nbformat": 4,
 "nbformat_minor": 4
}
