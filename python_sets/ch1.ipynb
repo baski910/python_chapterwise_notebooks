{
 "cells": [
  {
   "cell_type": "markdown",
   "id": "84f94adf",
   "metadata": {},
   "source": [
    "<p>Python’s built-in set type has the following characteristics:</p>\n",
    "\n",
    "<p>Sets are unordered.</p>\n",
    "<p>Set elements are unique. Duplicate elements are not allowed.</p>\n",
    "<p>A set itself may be modified, but the elements contained in the set must be of an immutable type.</p>"
   ]
  },
  {
   "cell_type": "markdown",
   "id": "623dc600",
   "metadata": {},
   "source": [
    "<p>x = set(<iter>)</p>\n",
    "<p>x = set(['foo', 'bar', 'baz', 'foo', 'qux'])</p>"
   ]
  },
  {
   "cell_type": "markdown",
   "id": "14e276ee",
   "metadata": {},
   "source": [
    "<p>Alternately, a set can be defined with curly braces ({}):</p>"
   ]
  },
  {
   "cell_type": "markdown",
   "id": "5fe307dd",
   "metadata": {},
   "source": [
    "<p>x = {<obj>, <obj>, ..., <obj>}</p>"
   ]
  },
  {
   "cell_type": "markdown",
   "id": "480c9664",
   "metadata": {},
   "source": [
    "<p>When a set is defined this way, each <obj> becomes a distinct element of the set,</p>\n",
    "<p>even if it is an iterable. </p>"
   ]
  },
  {
   "cell_type": "markdown",
   "id": "1e2f7d13",
   "metadata": {},
   "source": [
    "<p>A set can be empty. However, recall that Python interprets empty curly braces ({}) as an empty dictionary, so the only way to define an empty set is with the set() function:</p>"
   ]
  },
  {
   "cell_type": "markdown",
   "id": "03480eb0",
   "metadata": {},
   "source": [
    "<p>x = set()</p>\n",
    "<p>type(x)</p>\n",
    "<p>x = {}</p>\n",
    "<p>type(x)</p>"
   ]
  },
  {
   "cell_type": "markdown",
   "id": "8d8b7ca8",
   "metadata": {},
   "source": [
    "<p>Set Operations</p>\n",
    "<p>union or | </p>\n",
    "<p>intersection or & </p>"
   ]
  },
  {
   "cell_type": "markdown",
   "id": "a77c521d",
   "metadata": {},
   "source": [
    "<p>x1 = {'foo', 'bar', 'baz'}</p>\n",
    "<p>x2 = {'baz', 'qux', 'quux'}</p>\n",
    "\n",
    "<p>print(x1 | x2)</p>\n",
    "<p>print(x1.union(x2)</p>\n",
    "\n",
    "<p>print(x1 & x2)</p>\n",
    "<p>print(x1.intersection(x2)</p>"
   ]
  }
 ],
 "metadata": {
  "kernelspec": {
   "display_name": "Python 3 (ipykernel)",
   "language": "python",
   "name": "python3"
  },
  "language_info": {
   "codemirror_mode": {
    "name": "ipython",
    "version": 3
   },
   "file_extension": ".py",
   "mimetype": "text/x-python",
   "name": "python",
   "nbconvert_exporter": "python",
   "pygments_lexer": "ipython3",
   "version": "3.7.3"
  }
 },
 "nbformat": 4,
 "nbformat_minor": 5
}
