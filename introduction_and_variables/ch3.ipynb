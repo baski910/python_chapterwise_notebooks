{
 "cells": [
  {
   "cell_type": "markdown",
   "metadata": {},
   "source": [
    "<h1>Distributed under Creative Common License (CC - BY SA 4.0)</h1>\n",
    "<h1>You are free to:</h1>\n",
    "<p><h2>Share</h2> — copy and redistribute the material in any medium or format</p>\n",
    "<p><h2>Adapt</h2> — remix, transform, and build upon the material\n",
    "for any purpose, even commercially.</p>\n",
    "<p>This license is acceptable for Free Cultural Works.</p>\n",
    "<p>The licensor cannot revoke these freedoms as long as you follow the license terms.</p>\n",
    "<h1>Under the following terms:</h1>\n",
    "<p valign=\"justify\"><h2>Attribution</h2> — You must give appropriate credit, provide a link to the license, and indicate if changes were made. You may do so in any reasonable manner, but not in any way that suggests the licensor endorses you or your use.</p>\n",
    "<p valign=\"justify\"><h2>ShareAlike</h2> — If you remix, transform, or build upon the material, you must distribute your contributions under the same license as the original.</p>\n",
    "<p><h2>No additional restrictions</h2> — You may not apply legal terms or technological measures that legally restrict others from doing anything the license permits.</p>\n",
    "<p><h1>Notices:</h1></p>\n",
    "<p>You do not have to comply with the license for elements of the material in the public domain or where your use is permitted by an applicable exception or limitation.</p>\n",
    "<p>No warranties are given. The license may not give you all of the permissions necessary for your intended use. For example, other rights such as publicity, privacy, or moral rights may limit how you use the material.</p>"
   ]
  },
  {
   "cell_type": "markdown",
   "metadata": {},
   "source": [
    "<h1>Python Variables</h1>\n",
    "<p>Python variables are references to python objects</p>\n",
    "<p>In languages like 'C' when a variable is created, a portion in memory is allocated, and<br>\n",
    "    the value is stored at that location. when the variable is assigned a new value the memory<br>\n",
    "is overwritten with the new value</p>\n",
    "<p>int a=1</p>\n",
    "<p><img src=\"variable1.jpg\" width=\"50\" height=\"20\" /></p>\n",
    "<p><br>Subsequently a=2 will overwrite the same location</p>\n",
    "<p><img src=\"variable2.jpg\" width=\"50\" height=\"20\"></p>\n",
    "<p>A statement like shown below will another memory location and copy the value of variable a to the<br>\n",
    "    newly created variable</p>\n",
    "<p>int b=a</p>\n",
    "<p><img src=\"variable3.jpg\" width=\"50\" height=\"20\"><img src=\"variable2.jpg\" width=\"50\" height=\"20\"></p>"
   ]
  },
  {
   "cell_type": "markdown",
   "metadata": {},
   "source": [
    "<p>In python, a statement given below, in turn creates an Integer Object with value 1 and the<br>\n",
    "    reference of the object is assigned to the varible a. Instance is given a tag named 'a'</p>\n",
    "    <p>a=1</p>\n",
    "    <p><img src=\"variable4.jpg\" width=\"50\" height=\"20\"></p>\n",
    "    <p>and a statment given below, in turn creates another integer object with value 2 and the<br>\n",
    "    ref reference of the object is assigned to the varible a. The previous integer object with<br>\n",
    "    value 1 is still there in the memory, may or may not be deleted immediately</p>\n",
    "    <p>a=2</p>\n",
    "    <p><img src=\"variable5.jpg\" width=\"50\" height=\"20\"></p>\n",
    "    "
   ]
  },
  {
   "cell_type": "markdown",
   "metadata": {},
   "source": [
    "<p>A statement given below, in turn assigns the reference of integer object with value 2<br>\n",
    "    to both the variables 'a' and 'b'</p>\n",
    "    <p>b=a</p>\n",
    "    <p>this assignment will not create another, as how it happens in other languages like C and c++</p>\n",
    "<p>Essentially, variables are only references to python objects</p>"
   ]
  },
  {
   "cell_type": "code",
   "execution_count": 2,
   "metadata": {},
   "outputs": [
    {
     "name": "stdout",
     "output_type": "stream",
     "text": [
      "the decimal form of reference of a with value 1: 93861191520640\n",
      "the decimal form of reference of a with value 2: 93861191520672\n",
      "the decimal form of reference of b: 93861191520672\n",
      "the decimal form of reference of c: 93861191520640\n"
     ]
    }
   ],
   "source": [
    "\"\"\"Let us understand the above concepts. Python has a built-in function called 'id' which\n",
    "returns the reference of an object in decimal form\"\"\"\n",
    "a=1\n",
    "print(\"the decimal form of reference of a with value 1:\",id(a))\n",
    "a=2\n",
    "print(\"the decimal form of reference of a with value 2:\",id(a))\n",
    "b=a\n",
    "print(\"the decimal form of reference of b:\",id(b)) # references of id of a and b are same. which means they point to the same object\n",
    "c=1\n",
    "print(\"the decimal form of reference of c:\",id(c)) # this show the integer object with value '1' is still there in the memory"
   ]
  },
  {
   "cell_type": "markdown",
   "metadata": {},
   "source": [
    "<h1>Types of python objects</h1>\n",
    "<ul>\n",
    "    <li>Immutable objects</li>\n",
    "    <li>Mutable objects</li>\n",
    "</ul>\n",
    "<p><h2>Immutable Objects</h2></p>\n",
    "<p>Python objects, for which the reference changes on modification</p>\n",
    "<p>Integer,Float,String, tuple fall under immutable objects</p>\n",
    "<p><h2>Mutable Objects</h2></p>\n",
    "<p>List, Dictionary etc., fall under mutable objects</p>\n",
    "<p>Python objects, for which the reference does not change on modification</p>"
   ]
  },
  {
   "cell_type": "code",
   "execution_count": null,
   "metadata": {},
   "outputs": [],
   "source": [
    "\"\"\"Examples to explain the above concepts\"\"\"\n",
    "a = 5\n",
    "\n",
    "print(\"value of a:\",a)\n",
    "print(\"reference of a before modification:\",id(a))\n",
    "\n",
    "a += 1\n",
    "\n",
    "print(\"value of a:\",a)\n",
    "print(\"reference of a after modification:\",id(a)) # a gets a new reference. changing the value of a create a new object\n",
    "\n",
    "\"\"\"observe the changes made to list object\"\"\"\n",
    "list1 = ['a','b','c','d']\n",
    "\n",
    "print(\"value of list:\",list1)\n",
    "print(\"reference of list1 before modification:\",id(list1))\n",
    "\n",
    "list1[3]='g'\n",
    "\n",
    "print(\"value of list:\",list1)\n",
    "print(\"reference of list1 after modification:\",id(list1)) # list reference remains same, even after modification of list elements"
   ]
  }
 ],
 "metadata": {
  "kernelspec": {
   "display_name": "Python 3 (ipykernel)",
   "language": "python",
   "name": "python3"
  },
  "language_info": {
   "codemirror_mode": {
    "name": "ipython",
    "version": 3
   },
   "file_extension": ".py",
   "mimetype": "text/x-python",
   "name": "python",
   "nbconvert_exporter": "python",
   "pygments_lexer": "ipython3",
   "version": "3.7.3"
  }
 },
 "nbformat": 4,
 "nbformat_minor": 4
}
