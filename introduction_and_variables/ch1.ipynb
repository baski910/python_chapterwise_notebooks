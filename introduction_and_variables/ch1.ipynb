{
 "cells": [
  {
   "cell_type": "markdown",
   "metadata": {},
   "source": [
    "<h1>Distributed under Creative Common License (CC - BY SA 4.0)</h1>\n",
    "<h1>You are free to:</h1>\n",
    "<p><h2>Share</h2> — copy and redistribute the material in any medium or format</p>\n",
    "<p><h2>Adapt</h2> — remix, transform, and build upon the material\n",
    "for any purpose, even commercially.</p>\n",
    "<p>This license is acceptable for Free Cultural Works.</p>\n",
    "<p>The licensor cannot revoke these freedoms as long as you follow the license terms.</p>\n",
    "<h1>Under the following terms:</h1>\n",
    "<p valign=\"justify\"><h2>Attribution</h2> — You must give appropriate credit, provide a link to the license, and indicate if changes were made. You may do so in any reasonable manner, but not in any way that suggests the licensor endorses you or your use.</p>\n",
    "<p valign=\"justify\"><h2>ShareAlike</h2> — If you remix, transform, or build upon the material, you must distribute your contributions under the same license as the original.</p>\n",
    "<p><h2>No additional restrictions</h2> — You may not apply legal terms or technological measures that legally restrict others from doing anything the license permits.</p>\n",
    "<p><h1>Notices:</h1></p>\n",
    "<p>You do not have to comply with the license for elements of the material in the public domain or where your use is permitted by an applicable exception or limitation.</p>\n",
    "<p>No warranties are given. The license may not give you all of the permissions necessary for your intended use. For example, other rights such as publicity, privacy, or moral rights may limit how you use the material.</p>"
   ]
  },
  {
   "cell_type": "markdown",
   "metadata": {},
   "source": [
    "<h2>History of Python</h2>\n",
    "<ul>\n",
    "    <li>Developed by Guido Van Rossum</li>\n",
    "    <li>Maintained by - Python Software Foundation</li>\n",
    "    <li>Stable Release - 2.7 and 3.9 (as of this writing) </li>\n",
    " </ul>"
   ]
  },
  {
   "cell_type": "markdown",
   "metadata": {},
   "source": [
    "<h2>Features of Python</h2>\n",
    "<ul>\n",
    "    <li>Simple</li>\n",
    "    <li>Easy to Learn</li>\n",
    "    <li>Free and Open Source</li>\n",
    "    <li>High-level Language</li>\n",
    "    <li>Portable</li>\n",
    "    <li>Extendable</li>\n",
    "    <li>Embeddable</li>\n",
    "</ul>"
   ]
  },
  {
   "cell_type": "markdown",
   "metadata": {},
   "source": [
    "<h2>Simple</h2>\n",
    "<ul>\n",
    "    <li>Python is a simple and minimalistic language</li>\n",
    "    <li>Reading a good Python program feels almost like reading English, although very strict English!</li>\n",
    "    <li>This pseudo-code nature of Python is one of its greatest strengths</li>\n",
    "    <li>It allows you to concentrate on the solution to the problem rather than the language itself</li>\n",
    "</ul>"
   ]
  },
  {
   "cell_type": "code",
   "execution_count": 1,
   "metadata": {},
   "outputs": [
    {
     "name": "stdout",
     "output_type": "stream",
     "text": [
      "0\n",
      "1\n",
      "2\n",
      "3\n",
      "4\n",
      "5\n",
      "6\n",
      "7\n",
      "8\n",
      "9\n"
     ]
    }
   ],
   "source": [
    "\"\"\"here is an example python code to display range of numbers. It sounds as if it were to pick numbers from a container \n",
    "and display it here. it's verbatim\"\"\"\n",
    "for i in range(10):\n",
    "    print(i)"
   ]
  },
  {
   "cell_type": "code",
   "execution_count": 2,
   "metadata": {},
   "outputs": [
    {
     "name": "stdout",
     "output_type": "stream",
     "text": [
      "120\n",
      "helloworld\n"
     ]
    }
   ],
   "source": [
    "\"\"\"it is said that python allows you to concentrate on the solutions to the problem than the language. As an example, \n",
    "we need not worry about memory management, everything is take care of by the interpretor. Examples here\"\"\"\n",
    "\"\"\"variables can be defined without mention on data type\"\"\"\n",
    "var1 = 120\n",
    "print(var1)\n",
    "\"\"\"same varaible can be assigned with a value of different type\"\"\"\n",
    "var1 = \"helloworld\"\n",
    "print(var1)"
   ]
  },
  {
   "cell_type": "markdown",
   "metadata": {},
   "source": [
    "<h2>Easy to learn</h2>\n",
    "<ul>\n",
    "    <li>As you will see, Python is extremely easy to get started with</li>\n",
    "    <li>Python has an extraordinarily simple syntax, as already mentioned</li>\n",
    "</ul>"
   ]
  },
  {
   "cell_type": "markdown",
   "metadata": {},
   "source": [
    "<h1>Free and Open Source</h1>\n",
    "<ul>\n",
    "    <li>Python is an example of a FLOSS (Free/Libre and Open Source Software). </li>\n",
    "    <li>In simple terms, you can freely distribute copies of this software, read it's source code, make changes to it, use pieces of it in new free programs, and that you know you can do these things. </li>\n",
    "    <li>FLOSS is based on the concept of a community which shares knowledge</li>\n",
    "    <li>This is one of the reasons why Python is so good - it has been created and is constantly improved by a community who just want to see a better Python. </li>\n",
    "</ul>"
   ]
  },
  {
   "cell_type": "markdown",
   "metadata": {},
   "source": [
    "<h1>High-level Language</h1>\n",
    "<p>When you write programs in Python, you never need to bother about the low-level details such as managing the memory used by your program, etc. <p>"
   ]
  },
  {
   "cell_type": "code",
   "execution_count": 3,
   "metadata": {},
   "outputs": [
    {
     "name": "stdout",
     "output_type": "stream",
     "text": [
      "[10, 20, 30, 40, 50, 60, 70, 80]\n"
     ]
    }
   ],
   "source": [
    "\"\"\"while working with python we need not worry about low-level details. Consider the following scenario.\n",
    "Increase the size of an array during runtime\"\"\"\n",
    "\"\"\"Typicall in languages like 'C' we use malloc kind of function to increase the size of an array\n",
    "during runtime and also use 'free' to deallocate. Hence, here allocation and deallocation of memory is managed\n",
    "by the programmer.\n",
    "whereas, in python we are free to increase the size of tan array without worrying about allocation and deallocation\"\"\"\n",
    "\"\"\"example here\"\"\"\n",
    "list1 = [10,20,30,40,50]\n",
    "list1.extend([60,70,80])\n",
    "print(list1)"
   ]
  },
  {
   "cell_type": "markdown",
   "metadata": {},
   "source": [
    "<h1>Portable</h1>\n",
    "<ul>\n",
    "    <li>Due to its open-source nature, Python has been ported (i.e. changed to make it work on) to many platforms. </li>\n",
    "    <li>All your Python programs can work on any of these platforms without requiring any changes at all if you are careful enough to avoid any system-dependent features.</li>\n",
    "    <li>You can use Python on Linux, Windows, FreeBSD, Macintosh, Solaris, OS/2, Amiga, AROS, AS/400, BeOS, OS/390, z/OS, Palm OS, QNX, VMS, Psion, Acorn RISC OS, VxWorks, PlayStation, Sharp Zaurus, Windows CE and even PocketP</li>\n",
    "</ul>"
   ]
  },
  {
   "cell_type": "markdown",
   "metadata": {},
   "source": [
    "<h1>Extendable</h1>\n",
    "<ul>\n",
    "    <li>If you need a critical piece of code to run very fast or want to have some piece of algorithm not to be open, you can code that part of your program in C or C++ and then use them from your Python program. </li>\n",
    "</ul>"
   ]
  },
  {
   "cell_type": "markdown",
   "metadata": {},
   "source": [
    "<h1>Embeddable</h1>\n",
    "<ul>\n",
    "    <li>Embed python code in C or C++ code giving the programmers the ability of scripting language</li>\n",
    "</ul>"
   ]
  }
 ],
 "metadata": {
  "kernelspec": {
   "display_name": "Python 3 (ipykernel)",
   "language": "python",
   "name": "python3"
  },
  "language_info": {
   "codemirror_mode": {
    "name": "ipython",
    "version": 3
   },
   "file_extension": ".py",
   "mimetype": "text/x-python",
   "name": "python",
   "nbconvert_exporter": "python",
   "pygments_lexer": "ipython3",
   "version": "3.7.3"
  }
 },
 "nbformat": 4,
 "nbformat_minor": 4
}
