{
 "cells": [
  {
   "cell_type": "markdown",
   "metadata": {},
   "source": [
    "<h1>Python Data Types</h1>\n",
    "<h2>Number</h2>\n",
    "<ul>\n",
    "    <li>Integer</li>\n",
    "    <li>Float</li>\n",
    "</ul>\n",
    "<h2>Sequence</h2>\n",
    "<ul>\n",
    "    <li>String</li>\n",
    "    <li>Tuple</li>\n",
    "    <li>List</li>\n",
    "    <li>Dictionary</li>\n",
    "    <li>Set</li>\n",
    "</ul>"
   ]
  },
  {
   "cell_type": "code",
   "execution_count": null,
   "metadata": {},
   "outputs": [],
   "source": [
    "\"\"\"python integer has unlimited size. They are positive or negative whole numbers without decimal point\"\"\"\n",
    "\n",
    "\"\"\"to print the data type of a variable built-in function named 'type' is used\"\"\"\n",
    "var1 = 150\n",
    "print(type(var1)) # the output will be <class 'int'>\n",
    "\n",
    "var1 = 24.81\n",
    "print(type(var1)) # the output will be <class 'float'>\n",
    "\n",
    "var1 = \"helloworld\"\n",
    "print(type(var1)) # the output will be <class 'str'>\n",
    "\n",
    "var1 = (\"hello\",\"world\",'a',25,50)\n",
    "print(type(var1)) # the output will be <class 'tuple'>\n",
    "\n",
    "var1 = [\"hello\",\"world\",'a',25,50]\n",
    "print(type(var1)) # the output will be <class 'list'>\n",
    "\n",
    "var1 = {'os':'linux','db':'postgres','language':'python'}\n",
    "print(type(var1)) # the output will be <class 'dict'>"
   ]
  },
  {
   "cell_type": "markdown",
   "metadata": {},
   "source": [
    "<h1>Python Operators</h1>\n",
    "<h2>Arithmetic</h2>\n",
    "<h2>Logical</h2>\n",
    "<h2>BitWise</h2>\n",
    "<h2>MemberShip</h2>\n",
    "<h2>Equality</h2>"
   ]
  },
  {
   "cell_type": "code",
   "execution_count": null,
   "metadata": {},
   "outputs": [],
   "source": [
    "\"\"\"some example for operators \"\"\"\n",
    "\n",
    "num1 = 30\n",
    "num2 = 15\n",
    "\n",
    "print(num1+num2)\n",
    "\n",
    "print(num1*num2)\n",
    "\n",
    "print(num1-num2)\n",
    "\n",
    "print(num1/num2)\n",
    "\n",
    "print(num1%num2)\n",
    "\n",
    "print(num1==num2)\n",
    "\n",
    "print(num1>num2)\n",
    "\n",
    "print(num1&num2) # binary addition\n",
    "\n",
    "\"\"\"some additional operators\"\"\"\n",
    "\n",
    "\"\"\"floor operator - returns the nearest lower integer\"\"\"\n",
    "\n",
    "num1=15\n",
    "num2=4\n",
    "\n",
    "print(num1//num2) # the output will be 3\n",
    "\n",
    "\"\"\"membership operator - returns true if the given element is present in the sequence\"\"\"\n",
    "\n",
    "list1=['a','b','c','d','e','f']\n",
    "\n",
    "if 'c' in list1:\n",
    "    print(\"found\")\n",
    "else:\n",
    "    print(\"not found\")\n",
    "    \n",
    "\"\"\"identity operator - returns true if operand on both sides are of same data type\"\"\"\n",
    "\n",
    "num = 20\n",
    "\n",
    "if type(num) is int:\n",
    "    print(\"num is integer\")\n",
    "else:\n",
    "    print(\"num is not an integer\")"
   ]
  }
 ],
 "metadata": {
  "kernelspec": {
   "display_name": "Python 3 (ipykernel)",
   "language": "python",
   "name": "python3"
  },
  "language_info": {
   "codemirror_mode": {
    "name": "ipython",
    "version": 3
   },
   "file_extension": ".py",
   "mimetype": "text/x-python",
   "name": "python",
   "nbconvert_exporter": "python",
   "pygments_lexer": "ipython3",
   "version": "3.7.3"
  }
 },
 "nbformat": 4,
 "nbformat_minor": 4
}
