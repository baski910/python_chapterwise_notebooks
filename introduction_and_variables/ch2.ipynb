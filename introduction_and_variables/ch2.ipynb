{
 "cells": [
  {
   "cell_type": "markdown",
   "metadata": {},
   "source": [
    "<h1>Distributed under Creative Common License (CC - BY SA 4.0)</h1>\n",
    "<h1>You are free to:</h1>\n",
    "<p><h2>Share</h2> — copy and redistribute the material in any medium or format</p>\n",
    "<p><h2>Adapt</h2> — remix, transform, and build upon the material\n",
    "for any purpose, even commercially.</p>\n",
    "<p>This license is acceptable for Free Cultural Works.</p>\n",
    "<p>The licensor cannot revoke these freedoms as long as you follow the license terms.</p>\n",
    "<h1>Under the following terms:</h1>\n",
    "<p valign=\"justify\"><h2>Attribution</h2> — You must give appropriate credit, provide a link to the license, and indicate if changes were made. You may do so in any reasonable manner, but not in any way that suggests the licensor endorses you or your use.</p>\n",
    "<p valign=\"justify\"><h2>ShareAlike</h2> — If you remix, transform, or build upon the material, you must distribute your contributions under the same license as the original.</p>\n",
    "<p><h2>No additional restrictions</h2> — You may not apply legal terms or technological measures that legally restrict others from doing anything the license permits.</p>\n",
    "<p><h1>Notices:</h1></p>\n",
    "<p>You do not have to comply with the license for elements of the material in the public domain or where your use is permitted by an applicable exception or limitation.</p>\n",
    "<p>No warranties are given. The license may not give you all of the permissions necessary for your intended use. For example, other rights such as publicity, privacy, or moral rights may limit how you use the material.</p>"
   ]
  },
  {
   "cell_type": "markdown",
   "metadata": {},
   "source": [
    "<h1>Different ways to work with Python</h1>\n",
    "<ul>\n",
    "    <li>Python interactive shell</li>\n",
    "    <li>Using IDLE</li>\n",
    "    <li>jupyter notebook</li>\n",
    "</ul>"
   ]
  },
  {
   "cell_type": "markdown",
   "metadata": {},
   "source": [
    "<h2>Invoke interactive shell</h2>\n",
    "<p>Simply typing python from command prompt invokes interactive shell. The prompt of interactive shell will be something similar to that given below.</p>\n",
    "<p>\n",
    ">>>\n",
    "</p>\n",
    "<p>To close the interactive shell type ctrl+d (or) exit()</p>"
   ]
  },
  {
   "cell_type": "markdown",
   "metadata": {},
   "source": [
    " <h2>Using IDLE</h2>\n",
    " <p>Invoke IDLE from windows</p>\n",
    " <p>Choose File->new from IDLE</p>\n",
    " <p>Type the python script</p>\n",
    " <p>Save the script</p>\n",
    " <p>Go to Run -> Run module to execute the script</p>"
   ]
  },
  {
   "cell_type": "markdown",
   "metadata": {},
   "source": [
    "<h2>Invoke jupyter notebook</h2>\n",
    "<p>From command prompt type</p>\n",
    "<p>jupyter notebook</p>\n",
    "<p>It will be opened in default browser</p>"
   ]
  },
  {
   "cell_type": "markdown",
   "metadata": {},
   "source": [
    "<h1>Installing Python</h1>\n",
    "<h2>For Windows</h2>\n",
    "<p>Download python from www.python.org</p>\n",
    "<p>You can download your required version either 32bit or 64bit</p>\n",
    "<p>By double clicking the downloaded msi (or executable) python gets installed</p>\n",
    "<h2>For Linux</h2>\n",
    "<p>Python is installed by default. You have the option to install using distribution package management system</p>"
   ]
  }
 ],
 "metadata": {
  "kernelspec": {
   "display_name": "Python 3 (ipykernel)",
   "language": "python",
   "name": "python3"
  },
  "language_info": {
   "codemirror_mode": {
    "name": "ipython",
    "version": 3
   },
   "file_extension": ".py",
   "mimetype": "text/x-python",
   "name": "python",
   "nbconvert_exporter": "python",
   "pygments_lexer": "ipython3",
   "version": "3.7.3"
  }
 },
 "nbformat": 4,
 "nbformat_minor": 4
}
