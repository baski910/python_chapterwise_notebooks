{
 "cells": [
  {
   "cell_type": "markdown",
   "metadata": {},
   "source": [
    "<h1>List Sorting</h1>\n",
    "<ul>\n",
    "    <li>sort - list function. sorts the list in line. Optionally takes key and reverse as arguments<br>\n",
    "        has no return value. The original list itself gets modified</li>\n",
    "    <li>sorted - Built-in function. takes list (to be sorted ) as argument. Optionally takes key and reverse as arguments. Returns the sorted list. Original list is not modified</li>\n",
    "</ul>\n",
    "<p>Both sort function expects all elements of list to be with same data type</p>"
   ]
  },
  {
   "cell_type": "code",
   "execution_count": null,
   "metadata": {},
   "outputs": [],
   "source": [
    "\"\"\"Example for sort\"\"\"\n",
    "\n",
    "list1 = [79,134,56,10,9,613,84,95,472,861,720,49,516,65]\n",
    "\n",
    "print(\"before sorting:\",list1)\n",
    "\n",
    "list1.sort()\n",
    "\n",
    "print(\"after sorting:\",list1)\n",
    "\n",
    "\"\"\"Example for sorted\"\"\"\n",
    "\n",
    "list1 = [79,134,56,10,9,613,84,95,472,861,720,49,516,65]\n",
    "\n",
    "print(\"before sorting:\",list1)\n",
    "\n",
    "list2 = sorted(list1)\n",
    "\n",
    "print(\"after sorting:\",list2)\n",
    "print(\"after sorting:\",list1)"
   ]
  },
  {
   "cell_type": "code",
   "execution_count": null,
   "metadata": {},
   "outputs": [],
   "source": [
    "\"\"\"sorting in reverse order\"\"\"\n",
    "\n",
    "list1 = [79,134,56,10,9,613,84,95,472,861,720,49,516,65] \n",
    "\n",
    "print(\"before sorting:\",list1)\n",
    "\n",
    "list1.sort(reverse=True) # sorts the list in reverse order\n",
    "\n",
    "print(\"after sorting:\",list1)\n",
    "\n",
    "\"\"\"Example for sorted\"\"\"\n",
    "\n",
    "list1 = [79,134,56,10,9,613,84,95,472,861,720,49,516,65]\n",
    "\n",
    "print(\"before sorting:\",list1)\n",
    "\n",
    "list2 = sorted(list1,reverse=True) # returns a sorted list in reverse order\n",
    "\n",
    "print(\"after sorting:\",list2)\n",
    "print(\"after sorting:\",list1)"
   ]
  },
  {
   "cell_type": "markdown",
   "metadata": {},
   "source": [
    "<h2>Sort list with elements of different type</h2>\n",
    "<ol>\n",
    "    <li>Convert all elements to string type then sort</li>\n",
    "    <li>Return elements of specific type then sort</li>\n",
    "</ol>\n",
    "<h2>Convert all elements to string type</h2>\n",
    "<p>By passing 'str' as value to the parameter 'key' in sort function</p>\n",
    "<p>sort(key=str)</p>\n",
    "<p>By providing 'str' as value to 'key', implicitly each element of the list is passed to the function<br>\n",
    "    and the return value is assigned back to the original list</p>\n",
    "<p>This can be thought of some thing like this<br>\n",
    "    for element in list1:<br>\n",
    "    &nbsp;&nbsp;&nbsp;&nbsp;element = str(element)</p>"
   ]
  },
  {
   "cell_type": "code",
   "execution_count": null,
   "metadata": {},
   "outputs": [],
   "source": [
    "\"\"\"Example for sort with elements of different data type\"\"\"\n",
    "\n",
    "list1 = [79,134,56,10,9,613,84,95,'hello',472,861,720,'world',49,516,65] # list elements with different data type\n",
    "\n",
    "print(\"before sorting:\",list1)\n",
    "\n",
    "list1.sort(key=str) \n",
    "\n",
    "print(\"after sorting:\",list1)\n",
    "\n",
    "\"\"\"Example for sorted\"\"\"\n",
    "\n",
    "list1 = [79,134,56,10,9,613,84,95,'hello',472,861,720,'world',49,516,65]\n",
    "\n",
    "print(\"before sorting:\",list1)\n",
    "\n",
    "list2 = sorted(list1,key=str)\n",
    "\n",
    "print(\"after sorting:\",list2)\n",
    "print(\"after sorting:\",list1)"
   ]
  },
  {
   "cell_type": "markdown",
   "metadata": {},
   "source": [
    "<h1>Sorting List of Lists</h1>\n",
    "<p>A List of list can be sorted by specifing the index of inner list, based on which the list has to be sorted<br>\n",
    "    A seperate function (or lambda function) can be defined for returning elements of specific index</p>\n",
    "<p>Reference of custom function is passed as a parameter to the key for sorting the list. A lambda function<br>\n",
    "can also be used if custom function is not defined</p>"
   ]
  },
  {
   "cell_type": "code",
   "execution_count": null,
   "metadata": {},
   "outputs": [],
   "source": [
    "\"\"\"Examples for sorting list of list \"\"\"\n",
    "\n",
    "list1 =[\n",
    "    ['joe',60,'maths'],\n",
    "    ['charles',62,'physics'],\n",
    "    ['alice',54,'chemistry'],\n",
    "    ['bob',58,'computer'],\n",
    "]\n",
    "\n",
    "def sort_fn(x):\n",
    "    return x[1]\n",
    "\n",
    "list1.sort(key=sort_fn)\n",
    "\n",
    "for obj in list1:\n",
    "    print(obj)\n"
   ]
  }
 ],
 "metadata": {
  "kernelspec": {
   "display_name": "Python 3 (ipykernel)",
   "language": "python",
   "name": "python3"
  },
  "language_info": {
   "codemirror_mode": {
    "name": "ipython",
    "version": 3
   },
   "file_extension": ".py",
   "mimetype": "text/x-python",
   "name": "python",
   "nbconvert_exporter": "python",
   "pygments_lexer": "ipython3",
   "version": "3.7.3"
  }
 },
 "nbformat": 4,
 "nbformat_minor": 4
}
