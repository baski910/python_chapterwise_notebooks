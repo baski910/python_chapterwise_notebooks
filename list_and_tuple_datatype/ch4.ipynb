{
 "cells": [
  {
   "cell_type": "markdown",
   "metadata": {},
   "source": [
    "<h1>List Functions</h1>\n",
    "<h2>Function to remove elements from list</h2>\n",
    "<ul>\n",
    "    <li>pop - By default (without any argument) removes the last element\n",
    "        with argument removes the element at index specified by the argument<br>\n",
    "        reduces the size of the list by 1. Returns the element removed</li>\n",
    "    <li>remove - takes 1 argument. remove the element specified by the argument, has no return value.<br>\n",
    "        Throws error if the element specified is not present in the list</li>\n",
    "</ul>    "
   ]
  },
  {
   "cell_type": "markdown",
   "metadata": {},
   "source": [
    "<h2>pop</h2>\n",
    "<p><img src=\"pop_element_list1.jpg\" width=\"200\" height=\"200\"></p>\n",
    "<h2>remove</h2>\n",
    "<p><img src=\"remove_list1.jpg\" width=\"200\" height=\"200\"></p>\n",
    "<p><img src=\"remove_1st_occurance_list1.jpg\" width=\"200\" height=\"200\"></p> \n"
   ]
  },
  {
   "cell_type": "code",
   "execution_count": null,
   "metadata": {},
   "outputs": [],
   "source": [
    "\"\"\"Examples for pop\"\"\"\n",
    "\n",
    "list1 = [10,20,30,40,50]\n",
    "\n",
    "print(\"elements of list1:\",list1)\n",
    "print(\"size of list1:\", len(list1))\n",
    "\n",
    "#element = list1.pop()\n",
    "element = list1.pop(2)\n",
    "\n",
    "print(\"element removed:\", element)\n",
    "print(\"#\"*20+\" after pop \"+\"#\"*20)\n",
    "\n",
    "print(\"elements of list1:\",list1)\n",
    "print(\"size of list1:\", len(list1))\n",
    "\n",
    "\n",
    "list1 = [10,20,30,40,50]\n",
    "\n",
    "print(\"elements of list1:\",list1)\n",
    "print(\"size of list1:\", len(list1))\n",
    "\n",
    "list1.pop(2)\n",
    "\n",
    "print(\"#\"*20+\" after pop \"+\"#\"*20)\n",
    "\n",
    "print(\"elements of list1:\",list1)\n",
    "print(\"size of list1:\", len(list1))"
   ]
  },
  {
   "cell_type": "code",
   "execution_count": null,
   "metadata": {},
   "outputs": [],
   "source": [
    "\"\"\"Examples for remove\"\"\"\n",
    "\n",
    "list1 = [10,20,30,40,50]\n",
    "\n",
    "print(\"elements of list1:\",list1)\n",
    "print(\"size of list1:\", len(list1))\n",
    "\n",
    "list1.remove(20)\n",
    "\n",
    "print(\"#\"*20+\" after remove \"+\"#\"*20)\n",
    "\n",
    "print(\"elements of list1:\",list1)\n",
    "print(\"size of list1:\", len(list1))\n",
    "\n",
    "# remove functions removes only the first occurance\n",
    "list1 = [10,20,30,40,20,50,20]\n",
    "\n",
    "print(\"elements of list1:\",list1)\n",
    "print(\"size of list1:\", len(list1))\n",
    "\n",
    "list1.remove(20)\n",
    "\n",
    "print(\"#\"*20+\" after pop \"+\"#\"*20)\n",
    "\n",
    "print(\"elements of list1:\",list1)\n",
    "print(\"size of list1:\", len(list1))"
   ]
  }
 ],
 "metadata": {
  "kernelspec": {
   "display_name": "Python 3 (ipykernel)",
   "language": "python",
   "name": "python3"
  },
  "language_info": {
   "codemirror_mode": {
    "name": "ipython",
    "version": 3
   },
   "file_extension": ".py",
   "mimetype": "text/x-python",
   "name": "python",
   "nbconvert_exporter": "python",
   "pygments_lexer": "ipython3",
   "version": "3.7.3"
  }
 },
 "nbformat": 4,
 "nbformat_minor": 4
}
