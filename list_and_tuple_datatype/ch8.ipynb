{
 "cells": [
  {
   "cell_type": "code",
   "execution_count": 1,
   "id": "14eb449a",
   "metadata": {},
   "outputs": [],
   "source": [
    "# tuple is a constant array\n",
    "# tuple is created using parenthesis\n",
    "# tuple element can not be modified\n",
    "# tuple can be overwritten with different set of elements\n",
    "# A single element tuple needs a trailing comma\n",
    "# functions like sum, max, min, index, count can be used on tuple"
   ]
  },
  {
   "cell_type": "code",
   "execution_count": null,
   "id": "cd88085f",
   "metadata": {},
   "outputs": [],
   "source": [
    "\"\"\"Example for tuples\"\"\"\n",
    "\n",
    "# creating a tuple\n",
    "t1 = (10,20,'python',30.5) # tuple elements can be of different data type\n",
    "\n",
    "# modifying tuple element leads to error \n",
    "t1[1]=30\n",
    "\n",
    "print(t1)\n",
    "\n",
    "# overwrite a tuple with different set of values\n",
    "t1 = (40,50,'ruby',21.5,60)\n",
    "\n",
    "print(t1)"
   ]
  },
  {
   "cell_type": "code",
   "execution_count": null,
   "id": "2975cb6f",
   "metadata": {},
   "outputs": [],
   "source": [
    "# apply built-in functions on tuple\n",
    "t2 = (10,20,30,40)\n",
    "\n",
    "print(sum(t2))\n",
    "\n",
    "print(max(t2))\n",
    "\n",
    "print(min(t2))\n",
    "\n",
    "print(t2.index(30))\n",
    "\n",
    "print(t2.count(30))"
   ]
  },
  {
   "cell_type": "code",
   "execution_count": null,
   "id": "49b4bf6a",
   "metadata": {},
   "outputs": [],
   "source": [
    "# example for single element tuple\n",
    "\n",
    "t3 = (10)\n",
    "\n",
    "print(type(t3)) # output will be '<class int>'\n",
    "\n",
    "t3 = (10,)\n",
    "\n",
    "print(type(t3)) # output will be '<class tuple>'"
   ]
  }
 ],
 "metadata": {
  "kernelspec": {
   "display_name": "Python 3 (ipykernel)",
   "language": "python",
   "name": "python3"
  },
  "language_info": {
   "codemirror_mode": {
    "name": "ipython",
    "version": 3
   },
   "file_extension": ".py",
   "mimetype": "text/x-python",
   "name": "python",
   "nbconvert_exporter": "python",
   "pygments_lexer": "ipython3",
   "version": "3.7.3"
  }
 },
 "nbformat": 4,
 "nbformat_minor": 5
}
