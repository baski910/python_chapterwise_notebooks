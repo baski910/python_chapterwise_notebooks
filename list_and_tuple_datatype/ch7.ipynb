{
 "cells": [
  {
   "cell_type": "markdown",
   "id": "406567d0",
   "metadata": {},
   "source": [
    "<p>Often, when dealing with iterators, we also get need to keep a count of iterations.</p>\n",
    "<p>Python eases the programmers’ task by providing a built-in function enumerate() for this task. Enumerate() method adds a counter to an iterable and returns it in a form of enumerating object. </p>\n",
    "<p>This enumerated object can then be used directly for loops or converted into a list of tuples using the list() function.</p>\n",
    "<p>enumerate optionally takes 2nd argument to specify the start index. Default start index is zero<p>"
   ]
  },
  {
   "cell_type": "code",
   "execution_count": null,
   "id": "5fa0dc59",
   "metadata": {},
   "outputs": [],
   "source": [
    "# Python program to illustrate\n",
    "# enumerate function in loops\n",
    "list1 = [\"eat\", \"sleep\", \"repeat\"]\n",
    "  \n",
    "# printing the tuple elements directly\n",
    "for idx,ele in enumerate(list1):\n",
    "    print (idx,ele)\n",
    "    \n",
    "# Python program to illustrate\n",
    "# enumerate function in loops\n",
    "list1 = [\"eat\", \"sleep\", \"repeat\"]\n",
    "  \n",
    "# printing the tuples in object directly\n",
    "for ele in enumerate(list1):\n",
    "    print (ele)\n",
    "\n",
    "    \n",
    "# changing index and printing separately\n",
    "for count, ele in enumerate(l1, 100):\n",
    "    print (count, ele)\n"
   ]
  }
 ],
 "metadata": {
  "kernelspec": {
   "display_name": "Python 3 (ipykernel)",
   "language": "python",
   "name": "python3"
  },
  "language_info": {
   "codemirror_mode": {
    "name": "ipython",
    "version": 3
   },
   "file_extension": ".py",
   "mimetype": "text/x-python",
   "name": "python",
   "nbconvert_exporter": "python",
   "pygments_lexer": "ipython3",
   "version": "3.7.3"
  }
 },
 "nbformat": 4,
 "nbformat_minor": 5
}
