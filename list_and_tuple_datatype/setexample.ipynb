{
 "cells": [
  {
   "cell_type": "markdown",
   "id": "622c03f7-4ba5-4d9c-97b7-d7a2f35be16e",
   "metadata": {},
   "source": [
    "<p>Set is same as list but has no duplicates</p>\n",
    "<p>A set is created using pair of curly brackets {}</p>"
   ]
  },
  {
   "cell_type": "code",
   "execution_count": 1,
   "id": "4dc8f891-2b86-4eb5-bc94-322bf563f284",
   "metadata": {},
   "outputs": [
    {
     "name": "stdout",
     "output_type": "stream",
     "text": [
      "{40, 10, 50, 20, 60, 30}\n"
     ]
    }
   ],
   "source": [
    "# creating a set from list\n",
    "s1 = set([10,20,30,40,30,50,20,60,10])\n",
    "\n",
    "print(s1)"
   ]
  },
  {
   "cell_type": "code",
   "execution_count": null,
   "id": "429c028d-a4fb-4150-8e59-62c6ac63ecca",
   "metadata": {},
   "outputs": [],
   "source": []
  }
 ],
 "metadata": {
  "kernelspec": {
   "display_name": "Python 3 (ipykernel)",
   "language": "python",
   "name": "python3"
  },
  "language_info": {
   "codemirror_mode": {
    "name": "ipython",
    "version": 3
   },
   "file_extension": ".py",
   "mimetype": "text/x-python",
   "name": "python",
   "nbconvert_exporter": "python",
   "pygments_lexer": "ipython3",
   "version": "3.10.12"
  }
 },
 "nbformat": 4,
 "nbformat_minor": 5
}
