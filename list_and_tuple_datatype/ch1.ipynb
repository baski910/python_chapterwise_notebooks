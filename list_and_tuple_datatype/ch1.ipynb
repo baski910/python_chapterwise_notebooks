{
 "cells": [
  {
   "cell_type": "markdown",
   "metadata": {},
   "source": [
    "<h1>List</h1>\n",
    "<p>Lists are the most versatile of Python's compound data types.</p>\n",
    "<p>A list contains items separated by commas and enclosed within square brackets ([]).</p>\n",
    "<p>To some extent, lists are similar to arrays in C. One difference between them is that all the items belonging to a list can be of different data type.</p>\n",
    "<p>The values stored in a list can be accessed using the slice operator ( [ ] and [ : ] ) with indexes starting at 0 in the beginning of the list and working their way to end -1.</p>\n",
    "<p>The plus ( + ) sign is the list concatenation operator, and the asterisk ( * ) is the repetition operator.</p>\n"
   ]
  },
  {
   "cell_type": "code",
   "execution_count": null,
   "metadata": {},
   "outputs": [],
   "source": [
    "\"\"\"Examples for creating, printing and slicing lists\"\"\"\n",
    "\n",
    "list1 = [48,\"hello\",13.25,91,37,\"world\",True,\"flowers\",51,78] # the elements can be of different data type\n",
    "#         0     1     2     3  4   5       6     7       8  9\n",
    "# iterate over the list using a for loop\n",
    "\n",
    "for element in list1:\n",
    "    print(element)\n",
    "    \n",
    "# print/return a list element using index\n",
    "print(list1[1]) # print the element at index 1\n",
    "\n",
    "# print/return a list element using negative index\n",
    "print(list1[-1]) # print the last element\n",
    "\n",
    "# print/return list elements using slicing operator. \n",
    "print(list1[1:5]) # print all elements \n",
    "\n",
    "print(list1[:5]) # print all elements from index 0 upto index 5(not including index 5)\n",
    "\n",
    "print(list1[5:]) # print all elements from index 5 upto end of the list\n",
    "\n",
    "print(list1[:]) # returns/prints a new list with same set of elements\n",
    "\n",
    "# extended slicing list[start:stop:step]\n",
    "\n",
    "print(list1[1:8:2]) # prints elements at index 1,3,5 and 7\n",
    "\n",
    "# reverse a list using extended slicing\n",
    "print(list1[::-1])\n",
    "\n",
    "\n",
    "list2 = [10,20,30]\n",
    "\n",
    "list3= ['a','b','c']\n",
    "\n",
    "# merge 2 lists using '+' operator\n",
    "\n",
    "print(list2 + list3)\n",
    "\n",
    "\n",
    "# multiplying list using '*' operator\n",
    "\n",
    "list4 = ['a','b','c']\n",
    "\n",
    "print(list4 * 3) # a list with 9 elements is formed by repeating 'a','b','c' for 3 times"
   ]
  }
 ],
 "metadata": {
  "kernelspec": {
   "display_name": "Python 3 (ipykernel)",
   "language": "python",
   "name": "python3"
  },
  "language_info": {
   "codemirror_mode": {
    "name": "ipython",
    "version": 3
   },
   "file_extension": ".py",
   "mimetype": "text/x-python",
   "name": "python",
   "nbconvert_exporter": "python",
   "pygments_lexer": "ipython3",
   "version": "3.7.3"
  }
 },
 "nbformat": 4,
 "nbformat_minor": 4
}
