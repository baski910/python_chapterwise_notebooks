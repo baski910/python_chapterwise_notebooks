{
 "cells": [
  {
   "cell_type": "markdown",
   "id": "5200b941",
   "metadata": {},
   "source": [
    "<p>List comprehension offers a shorter syntax when you want to create a new list based on the values of an existing list.</p>\n",
    "<p>Based on a list of fruits, you want a new list, containing only the fruits with the letter \"a\" in the name.\n",
    "\n",
    "Without list comprehension you will have to write a for statement with a conditional test inside:</p>"
   ]
  },
  {
   "cell_type": "code",
   "execution_count": null,
   "id": "1cf53b3e",
   "metadata": {},
   "outputs": [],
   "source": [
    "\"\"\"Example for list comprehension\"\"\"\n",
    "fruits = [\"apple\", \"banana\", \"cherry\", \"kiwi\", \"mango\"]\n",
    "newlist = []\n",
    "\n",
    "for x in fruits:\n",
    "  if \"a\" in x:\n",
    "    newlist.append(x)\n",
    "\n",
    "print(newlist)"
   ]
  },
  {
   "cell_type": "markdown",
   "id": "74ecab39",
   "metadata": {},
   "source": [
    "<p>With list comprehension you can do all that with only one line of code:</p>"
   ]
  },
  {
   "cell_type": "code",
   "execution_count": null,
   "id": "9eef52fd",
   "metadata": {},
   "outputs": [],
   "source": [
    "fruits = [\"apple\", \"banana\", \"cherry\", \"kiwi\", \"mango\"]\n",
    "\n",
    "newlist = [x for x in fruits if \"a\" in x]\n",
    "\n",
    "print(newlist)"
   ]
  },
  {
   "cell_type": "markdown",
   "id": "1968b7ca",
   "metadata": {},
   "source": [
    "<p><h1>The Syntax</h1></p>\n",
    "<p>newlist = [expression for item in iterable if condition == True]</p>\n",
    "<p>The return value is a new list, leaving the old list unchanged.</p>"
   ]
  },
  {
   "cell_type": "code",
   "execution_count": null,
   "id": "f74325e6",
   "metadata": {},
   "outputs": [],
   "source": [
    "\"\"\"Example for list comprehension\"\"\"\n",
    "newlist = [x for x in fruits if x != \"apple\"]"
   ]
  },
  {
   "cell_type": "markdown",
   "id": "3cbb253e",
   "metadata": {},
   "source": [
    "<p>The condition if x != \"apple\"  will return True for all elements other than \"apple\", making the new list contain all fruits except \"apple\"</p>\n",
    "\n",
    "<p>The condition is optional and can be omitted:</p>"
   ]
  },
  {
   "cell_type": "code",
   "execution_count": null,
   "id": "24009a7a",
   "metadata": {},
   "outputs": [],
   "source": [
    "\"\"\"some more examples\"\"\"\n",
    "# Generate sequence of numbers upto n - here n is 50\n",
    "numbers = [x for x in range(50)]\n",
    "\n",
    "print(numbers)\n",
    "# Generate square of numbers upto n number - here n is 50\n",
    "square_of_numbers = [x**2 for x in range(50)]\n",
    "\n",
    "print(square_of_numbers)\n",
    "# take out vowels from given string\n",
    "s1 =  \"helloworld\"\n",
    "\n",
    "vowels  = [x for x in s1 if x in ['a','e','i','o','u']]\n",
    "\n",
    "print(vowels)"
   ]
  }
 ],
 "metadata": {
  "kernelspec": {
   "display_name": "Python 3 (ipykernel)",
   "language": "python",
   "name": "python3"
  },
  "language_info": {
   "codemirror_mode": {
    "name": "ipython",
    "version": 3
   },
   "file_extension": ".py",
   "mimetype": "text/x-python",
   "name": "python",
   "nbconvert_exporter": "python",
   "pygments_lexer": "ipython3",
   "version": "3.7.3"
  }
 },
 "nbformat": 4,
 "nbformat_minor": 5
}
