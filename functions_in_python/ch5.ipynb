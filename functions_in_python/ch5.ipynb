{
 "cells": [
  {
   "cell_type": "markdown",
   "metadata": {},
   "source": [
    "<h1>Scope of Variables</h1>\n",
    "<ul>\n",
    "    <li>global - all variables defined have global scope</li>\n",
    "    <li>local - variables defined inside a function have local scope</li>\n",
    "</ul>\n",
    "<p>'global' keyword is used to define/access a global variable from wtihin a function</p>"
   ]
  },
  {
   "cell_type": "code",
   "execution_count": null,
   "metadata": {},
   "outputs": [],
   "source": [
    "\"\"\"Examples for variable with global scope\"\"\"\n",
    "\n",
    "x=20 # has a global scope\n",
    "\n",
    "def f():\n",
    "    print(\"inside function:\",x) # accessing the global variable, as 'x' not redefined inside the function\n",
    "    \n",
    "print(\"outside function:\",x)\n",
    "    \n",
    "    \n",
    "\"\"\"Example for variable with local scope\"\"\"\n",
    "\n",
    "x=20 # has a global scope\n",
    "\n",
    "def f():\n",
    "    x=15\n",
    "    print(\"inside function:\",x) # accessing the local variable, as 'x' got redefined inside the function\n",
    "    \n",
    "print(\"outside function:\",x) \n",
    "\n",
    "\"\"\"Example for creating a global variable inside a function\"\"\"\n",
    "\n",
    "\n",
    "def f():\n",
    "    global x\n",
    "    x=15\n",
    "    print(\"inside function:\",x) \n",
    "\n",
    "f()    \n",
    "\n",
    "print(\"outside function:\",x) # accessing the global variable defined inside the function"
   ]
  }
 ],
 "metadata": {
  "kernelspec": {
   "display_name": "Python 3 (ipykernel)",
   "language": "python",
   "name": "python3"
  },
  "language_info": {
   "codemirror_mode": {
    "name": "ipython",
    "version": 3
   },
   "file_extension": ".py",
   "mimetype": "text/x-python",
   "name": "python",
   "nbconvert_exporter": "python",
   "pygments_lexer": "ipython3",
   "version": "3.7.3"
  }
 },
 "nbformat": 4,
 "nbformat_minor": 4
}
