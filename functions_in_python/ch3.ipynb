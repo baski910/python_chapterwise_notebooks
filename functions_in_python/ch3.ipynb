{
 "cells": [
  {
   "cell_type": "markdown",
   "metadata": {},
   "source": [
    "<h2>Function as First class functions</h2>\n",
    "<p>In python function name returns the function reference</p>\n",
    "<p>Function Reference can be assigned to a variable,<br>\n",
    "    the function can be called using the variable</p>\n",
    "<h2>Lambda Function</h2>\n",
    "<p>lambda is a keyword for creating anonymous functions</p>\n",
    "<p>lambda returns function reference</p>\n",
    "\n",
    "<p>syntax for lambda:<br>\n",
    "   lambda p1,p2,p3,....: body of lambda</p>\n",
    "<p>The last evaluated expression is returned in lambda function</p>"
   ]
  },
  {
   "cell_type": "code",
   "execution_count": null,
   "metadata": {},
   "outputs": [],
   "source": [
    "\"\"\"Example for first class function\"\"\"\n",
    "\n",
    "def square(x):\n",
    "    return x*x\n",
    "\n",
    "print(square(8)) # output will be 64\n",
    "\n",
    "# print the function reference using function name\n",
    "print(square) # function reference in hexadecimal form\n",
    "\n",
    "# assign the function reference to a variable\n",
    "ref1 = square\n",
    "\n",
    "print(ref1) # function reference in hexadecimal form\n",
    "\n",
    "# call the using the reference variable\n",
    "print(ref1(8)) # output will be 64"
   ]
  },
  {
   "cell_type": "code",
   "execution_count": null,
   "metadata": {},
   "outputs": [],
   "source": [
    "\"\"\"Examples for lambda function\"\"\"\n",
    "\n",
    "# defining a lambda function\n",
    "ref2 = lambda x: x*x\n",
    "\n",
    "# now ref2 has the reference of lambda\n",
    "print(ref2) # lambda function reference in hexadecimal form\n",
    "\n",
    "# calling the lambda function\n",
    "print(ref2(8)) # output will be 64\n"
   ]
  }
 ],
 "metadata": {
  "kernelspec": {
   "display_name": "Python 3 (ipykernel)",
   "language": "python",
   "name": "python3"
  },
  "language_info": {
   "codemirror_mode": {
    "name": "ipython",
    "version": 3
   },
   "file_extension": ".py",
   "mimetype": "text/x-python",
   "name": "python",
   "nbconvert_exporter": "python",
   "pygments_lexer": "ipython3",
   "version": "3.7.3"
  }
 },
 "nbformat": 4,
 "nbformat_minor": 4
}
