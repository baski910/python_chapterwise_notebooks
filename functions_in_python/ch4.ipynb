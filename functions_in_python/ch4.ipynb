{
 "cells": [
  {
   "cell_type": "markdown",
   "metadata": {},
   "source": [
    "<h1>Functional Programming</h1>\n",
    "<p>filter is used for extracting elements from a sequence using a criterion/criteria</p>\n",
    "<p>map is used for transforming a sequence from one form to another</p>\n",
    "<ul>\n",
    "    <li>filter - Takes 2 arguments. Returns a filter object which can be type casted to a list<br>\n",
    "                 1st param is a function reference. The function returns either True of False<br>\n",
    "                 2nd param is a sequence (or) sequences<br>\n",
    "                 Passes the element(s) from the sequence to the function referred by 1st param<br>\n",
    "        the element is added to filter object if the function returns True</li>\n",
    "    <li>map -    Takes 2 arguments. Returns a filter object which can be type casted to a list<br>\n",
    "                 1st param is a function reference. <br>\n",
    "                 2nd param is a sequence (or) sequences<br>\n",
    "                 Passes the element(s) from the sequence to the function referred by 1st param<br>\n",
    "        the return value of the function is added to map object</li>\n",
    "</ul>"
   ]
  },
  {
   "cell_type": "code",
   "execution_count": null,
   "metadata": {},
   "outputs": [],
   "source": [
    "\"\"\"Example for filter\"\"\"\n",
    "\n",
    "numbers = [x for x in range(50)]\n",
    "\n",
    "def sort_fn(x):\n",
    "    return x%2==0\n",
    "\n",
    "# filter using custom function\n",
    "even_numbers = list(filter(sort_fn.numbers))\n",
    "\n",
    "print(even_numbers)\n",
    "\n",
    "# filter using lambda function\n",
    "even_numbers = list(filter(lambda x: x%2==0.numbers))\n",
    "\n",
    "print(even_numbers)"
   ]
  },
  {
   "cell_type": "code",
   "execution_count": null,
   "metadata": {},
   "outputs": [],
   "source": [
    "\"\"\"Example for map\"\"\"\n",
    "\n",
    "numbers = [x for x in range(50)]\n",
    "\n",
    "def square(x):\n",
    "    return x*x\n",
    "\n",
    "# map using custom function\n",
    "square_numbers = list(map(square,numbers))\n",
    "\n",
    "print(square_numbers)\n",
    "\n",
    "# map using lambda function\n",
    "square_numbers = list(map(lambda x: x*x,numbers))\n",
    "\n",
    "print(square_numbers)"
   ]
  }
 ],
 "metadata": {
  "kernelspec": {
   "display_name": "Python 3 (ipykernel)",
   "language": "python",
   "name": "python3"
  },
  "language_info": {
   "codemirror_mode": {
    "name": "ipython",
    "version": 3
   },
   "file_extension": ".py",
   "mimetype": "text/x-python",
   "name": "python",
   "nbconvert_exporter": "python",
   "pygments_lexer": "ipython3",
   "version": "3.7.3"
  }
 },
 "nbformat": 4,
 "nbformat_minor": 4
}
