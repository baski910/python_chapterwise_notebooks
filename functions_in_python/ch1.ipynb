{
 "cells": [
  {
   "cell_type": "markdown",
   "metadata": {},
   "source": [
    "<h1>Functions</h1>\n",
    "<p>You can define functions to provide the required functionality. Here are simple rules to define a function in Python.</p>\n",
    "\n",
    "<p>Function blocks begin with the keyword def followed by the function name and parentheses ( ( ) ).</p>\n",
    "\n",
    "<p>Any input parameters or arguments should be placed within these parentheses. You can also define parameters inside these parentheses.</p>\n",
    "\n",
    "<p>The first statement of a function can be an optional statement - the documentation string of the function or docstring.</p>\n",
    "\n",
    "<p>The code block within every function starts with a colon (:) and is indented.</p>\n",
    "\n",
    "<p>The statement return [expression] exits a function, optionally passing back an expression to the caller. A return statement with no arguments is the same as return None.</p>"
   ]
  },
  {
   "cell_type": "code",
   "execution_count": null,
   "metadata": {},
   "outputs": [],
   "source": [
    "\"\"\"Examples for functions\"\"\"\n",
    "# function definition\n",
    "def sayHello():\n",
    "    \"\"\"this is an example function\"\"\"\n",
    "    print(\"helloworld\")\n",
    "    print(\"this line is part of the function\")\n",
    "print(\"a line outside the function\")\n",
    "\n",
    "sayHello() # function call\n",
    "sayHello()"
   ]
  },
  {
   "cell_type": "markdown",
   "metadata": {},
   "source": [
    "<h2>Function Parameters</h2>\n",
    "<ol>\n",
    "    <li>Required - The parameter must be passed in the function call. Omiting the parameter leads to error</li>\n",
    "    <li>Keyword - The parameters are considered as keywords and can be passed in different order</li>\n",
    "    <li>Default - The parameter is assigned value in the function definition. Can be omitted during function call</li>\n",
    "    <li>Variable length - Unknown number of arguments</li>\n",
    "</ol>"
   ]
  },
  {
   "cell_type": "code",
   "execution_count": null,
   "metadata": {},
   "outputs": [],
   "source": [
    "def echo(n):\n",
    "    print(n)\n",
    "    \n",
    "# function call without parameter leads to error.\n",
    "# the parameter is required and can not be omitted\n",
    "echo()\n",
    "\n",
    "\n",
    "def display(name,age):\n",
    "    print(\"Name: {}\".format(name)) # From v 3.8 print(\"Name:{name}\")\n",
    "    print(\"Age: {}\".format(age))\n",
    "\n",
    "# The parameters can be treated as keyword in function call\n",
    "# and passing order can be modified\n",
    "\n",
    "display(age=7,name='krish')\n",
    "\n",
    "\n",
    "# in the below function parameter 'r' is assgined value in the function definition and is\n",
    "# called as default argument.\n",
    "def calculateinterest(p,n,r=12):\n",
    "    return p*n*r\n",
    "\n",
    "# no need of including default argument in the function call\n",
    "total = calculateinterest(1000,3) # the value for 'r' is 12\n",
    "print(total)\n",
    "\n",
    "# The value provided for default argument is considered in function call (or) default value is overwritten\n",
    "total = calculateinterest(1000,3,8) # the value for 'r' is 8\n",
    "print(total)\n",
    "\n",
    "\n",
    "# passing unknown number of parameters to a function (or) variable number of arguments\n",
    "# find the maximum out of the numbers passed. (we could even use 'max' to achieve the same).\n",
    "# this is an example for passing variable number of arguments\n",
    "def find_max(*args):\n",
    "    # args inside the function is treated as tuple\n",
    "    m = args[0]\n",
    "    \n",
    "    for v in args:\n",
    "        if m<v: m=v\n",
    "    return m"
   ]
  }
 ],
 "metadata": {
  "kernelspec": {
   "display_name": "Python 3 (ipykernel)",
   "language": "python",
   "name": "python3"
  },
  "language_info": {
   "codemirror_mode": {
    "name": "ipython",
    "version": 3
   },
   "file_extension": ".py",
   "mimetype": "text/x-python",
   "name": "python",
   "nbconvert_exporter": "python",
   "pygments_lexer": "ipython3",
   "version": "3.7.3"
  }
 },
 "nbformat": 4,
 "nbformat_minor": 4
}
