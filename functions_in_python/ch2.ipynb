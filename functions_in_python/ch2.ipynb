{
 "cells": [
  {
   "cell_type": "markdown",
   "metadata": {},
   "source": [
    "<h1>Retaining changes to parameters inside function</h1>\n",
    "<p> The parameter passed to a function can either be immutable or mutable object</p>\n",
    "\n",
    "<ul>\n",
    "        <li>Mutable object - changes can be retained, if the reference of the object is not modified inside the function<br>changes can not be retained, if the reference of the object is modified inside the function</li>\n",
    "    <li>Immutable object - changes can not be retained</li>\n",
    "</ul>\n",
    "\n",
    "    "
   ]
  },
  {
   "cell_type": "code",
   "execution_count": null,
   "metadata": {},
   "outputs": [],
   "source": [
    "\"\"\"Examples for mutable object - reference is not modified\"\"\"\n",
    "def changeval(thelist):\n",
    "    thelist.append([21,56,70])\n",
    "    print(\"Value inside function: \", thelist) \n",
    "    \n",
    "mylist = [10,20,30 ]\n",
    "\n",
    "changeval(mylist)\n",
    "\n",
    "print(\"Value outside function: \", mylist)\n",
    "\n",
    "\n",
    "\"\"\"Examples for mutable object - reference modified\"\"\"\n",
    "def changeval(thelist):\n",
    "    thelist = [21,56,70]\n",
    "    print(\"Value outside function: \", thelist) \n",
    "\n",
    "mylist = [10,20,30 ]\n",
    "\n",
    "changeval(mylist)\n",
    "\n",
    "print(\"Value outside function: \", mylist)\n",
    "\n"
   ]
  },
  {
   "cell_type": "code",
   "execution_count": null,
   "metadata": {},
   "outputs": [],
   "source": [
    "\"\"\"Examples for immutable object\"\"\"\n",
    "def changeval(somestring):\n",
    "    somestring = \"welcome to python\"\n",
    "    print(\"Value inside function: \", somestring)\n",
    "\n",
    "s1 = \"hello python\"\n",
    "\n",
    "changeval(s1)\n",
    "\n",
    "print(\"Value outside function: \", s1)\n",
    "\n"
   ]
  }
 ],
 "metadata": {
  "kernelspec": {
   "display_name": "Python 3 (ipykernel)",
   "language": "python",
   "name": "python3"
  },
  "language_info": {
   "codemirror_mode": {
    "name": "ipython",
    "version": 3
   },
   "file_extension": ".py",
   "mimetype": "text/x-python",
   "name": "python",
   "nbconvert_exporter": "python",
   "pygments_lexer": "ipython3",
   "version": "3.7.3"
  }
 },
 "nbformat": 4,
 "nbformat_minor": 4
}
