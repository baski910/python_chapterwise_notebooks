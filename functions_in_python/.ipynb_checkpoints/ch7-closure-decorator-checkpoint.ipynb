{
 "cells": [
  {
   "cell_type": "markdown",
   "id": "261d7efb",
   "metadata": {},
   "source": [
    "<h2>Nested Functions</h2>\n",
    "<p> Function inside a Function </p>\n",
    "<h2> Closure </h2>\n",
    "<p> Closure is  nested function that returns the reference of inner function</p>"
   ]
  },
  {
   "cell_type": "code",
   "execution_count": null,
   "id": "cfc4bbf2",
   "metadata": {},
   "outputs": [],
   "source": [
    "\"\"\"Example for nested function\"\"\"\n",
    "def f(x):\n",
    "    def g(y):\n",
    "        return y*y\n",
    "    return x+g(x)\n",
    "\n",
    "# calling the nested function\n",
    "retval = f(10) \n",
    "print(retval) # output will be 110"
   ]
  },
  {
   "cell_type": "code",
   "execution_count": null,
   "id": "4bf90470",
   "metadata": {},
   "outputs": [],
   "source": [
    "\"\"\"Example for closure\"\"\"\n",
    "def f(x):\n",
    "    def g():\n",
    "        return y*y\n",
    "    return g\n",
    "\n",
    "# The return value of f is reference of inner function 'g'\n",
    "retval = f(10)\n",
    "\n",
    "# retval has the reference of inner function of 'f' i.e., 'g'\n",
    "print(retval) # output will be <function f.<locals>.g at 0x7f3fe0171e60>"
   ]
  },
  {
   "cell_type": "markdown",
   "id": "3307b8b2",
   "metadata": {},
   "source": [
    "<h2>Decorator is technique to improve the capability of a function without modifying the function code</h2>\n",
    "<p>Decorator uses closure for enhancing feature of a function</p>"
   ]
  },
  {
   "cell_type": "code",
   "execution_count": null,
   "id": "af7e7d24",
   "metadata": {},
   "outputs": [],
   "source": [
    "\"\"\"Example for decorator\"\"\"\n",
    "def display(name):\n",
    "    return \"welcome {} to python\".format(name)\n",
    "\n",
    "# display('bob') produces an output - welcome bob to python\n",
    "# to improve the output of the above function something like below\n",
    "# <s>welcome bob to python</s>\n",
    "# a decorator is used\n",
    "\n",
    "# code for decorator\n",
    "def s_decorator(d):\n",
    "    def inner_wrapper(name):\n",
    "        return \"<s>{}</s>\".format(d(name))\n",
    "    return inner_wrapper\n",
    "\n",
    "# in the function s_decorator the argument 'd' is considered as reference of function to be improved\n",
    "# and the argument passed to inner_wrapper should be same as that of argument passed to function to be improved\n",
    "\n",
    "# call s_decorator to get improved output\n",
    "mydisplay = s_decorator(display)\n",
    "\n",
    "print(mydisplay('bob')) # output will be <s>welcome bob to python</s>\n",
    "\n",
    "# now decorate display\n",
    "display = s_decorator(display)\n",
    "\n",
    "print(display('bob')) # output will be <s>welcome bob to python</s>\n",
    "\n",
    "# The output of display function before passing to s_decorator and after passing to\n",
    "# s_decorator makes us understand that s_decorator improves the output of display\n",
    "# without modifying the code inside it"
   ]
  },
  {
   "cell_type": "code",
   "execution_count": 7,
   "id": "9bb6fcfa",
   "metadata": {},
   "outputs": [],
   "source": [
    "\"\"\"Usage of decorator\"\"\"\n",
    "# function can be decorated by placing the decorator function\n",
    "# just above the function to be improved as shown below\n",
    "\n",
    "# decorator function\n",
    "def s_decorator(d):\n",
    "    def inner_wrapper(name):\n",
    "        return \"<s>{}</s>\".format(d(name))\n",
    "    return inner_wrapper\n",
    "\n",
    "# function to be improved\n",
    "@s_decorator\n",
    "def display(name):\n",
    "    return \"welcome {} to python\".format(name)\n",
    "\n",
    "# calling display\n",
    "print(display('bob')) # output will be <s>welcome bob to python</s>"
   ]
  },
  {
   "cell_type": "code",
   "execution_count": null,
   "id": "e8a7ff39",
   "metadata": {},
   "outputs": [],
   "source": [
    "\"\"\"Using multiple decorators\"\"\"\n",
    "# function can be decorated by multiple decorators function\n",
    "# decorator function\n",
    "def d_decorator(d):\n",
    "    def inner_wrapper(name):\n",
    "        return \"<div>{}</div>\".format(d(name))\n",
    "    return inner_wrapper\n",
    "\n",
    "# decorator function\n",
    "def s_decorator(d):\n",
    "    def inner_wrapper(name):\n",
    "        return \"<s>{}</s>\".format(d(name))\n",
    "    return inner_wrapper\n",
    "\n",
    "# function to be improved\n",
    "@div_decorator\n",
    "@s_decorator\n",
    "def display(name):\n",
    "    return \"welcome {} to python\".format(name)\n",
    "\n",
    "# calling display\n",
    "print(display('bob')) # output will be <div><s>welcome bob to python</s></div>"
   ]
  }
 ],
 "metadata": {
  "kernelspec": {
   "display_name": "Python 3",
   "language": "python",
   "name": "python3"
  },
  "language_info": {
   "codemirror_mode": {
    "name": "ipython",
    "version": 3
   },
   "file_extension": ".py",
   "mimetype": "text/x-python",
   "name": "python",
   "nbconvert_exporter": "python",
   "pygments_lexer": "ipython3",
   "version": "3.7.9"
  }
 },
 "nbformat": 4,
 "nbformat_minor": 5
}
