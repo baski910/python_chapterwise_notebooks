{
 "cells": [
  {
   "cell_type": "markdown",
   "id": "a4c7261b",
   "metadata": {},
   "source": [
    "<h2>Three Entities in python</h2>\n",
    "<p><h2>Iterable</h2></p>\n",
    "<p><h2>Iterator</h2></p>\n",
    "<p><h2>Generator</h2></p>\n",
    "<p>Iterable - iterate over elements in the entity</p>\n",
    "<p>Iterator - Has next function. Fetches one element to memory</p>\n",
    "<p>           at a given point of time</p>\n",
    "<p>Raises StopIteration error after accessing all elements</p>\n",
    "<p>Generator - Function working as iterable. 'yield' is the keyword used for</p>\n",
    "<p>            converting a function as iterable</p>"
   ]
  },
  {
   "cell_type": "code",
   "execution_count": null,
   "id": "987a836d",
   "metadata": {},
   "outputs": [],
   "source": [
    "\"\"\"Example for iterable and iterator\"\"\"\n",
    "list1 = [10,20,30,40,50]\n",
    "\n",
    "# iterate over list\n",
    "for num in list1:\n",
    "    print(num)\n",
    "\n",
    "# create an iterator using iter method\n",
    "ia = iter(list1)\n",
    "\n",
    "# fetch one element\n",
    "print(next(ia)) # or print(ia.__next__())\n",
    "\n",
    "# fetch some more element\n",
    "print(next(ia)) # or print(ia.__next__())\n",
    "print(next(ia)) # or print(ia.__next__())\n",
    "print(next(ia)) # or print(ia.__next__())\n",
    "print(next(ia)) # or print(ia.__next__())\n",
    "\n",
    "# simulate StopIteration by accessing element in ia\n",
    "print(next(ia)) # or print(ia.__next__())\n"
   ]
  },
  {
   "cell_type": "code",
   "execution_count": null,
   "id": "54a2ed83",
   "metadata": {},
   "outputs": [],
   "source": [
    "\"\"\"Example for Generator\"\"\"\n",
    "\n",
    "# function becomes iterable as 'yield' keyword has been used inside\n",
    "def genseq():\n",
    "    yield 1\n",
    "    yield 2\n",
    "    yield 3\n",
    "\n",
    "# iterate over the function\n",
    "for num in genseq():\n",
    "    print(num)\n",
    "    \n",
    "# generate series of numbers using a function\n",
    "\n",
    "def findsum(n):\n",
    "    nums = 0\n",
    "    while nums < n:\n",
    "        nums += 1\n",
    "        yield nums\n",
    "        \n",
    "# obtain the sum 'n' numbers\n",
    "# sum is a built-in function accepts an iterable as argument and returns\n",
    "# sum of elements in sequence\n",
    "# since findsum is also a iterable, it is passed to sum to get sum elements generated\n",
    "sum_of_numbers = sum(findsum(20))\n",
    "print(sum_of_numbers)"
   ]
  }
 ],
 "metadata": {
  "kernelspec": {
   "display_name": "Python 3 (ipykernel)",
   "language": "python",
   "name": "python3"
  },
  "language_info": {
   "codemirror_mode": {
    "name": "ipython",
    "version": 3
   },
   "file_extension": ".py",
   "mimetype": "text/x-python",
   "name": "python",
   "nbconvert_exporter": "python",
   "pygments_lexer": "ipython3",
   "version": "3.7.3"
  }
 },
 "nbformat": 4,
 "nbformat_minor": 5
}
