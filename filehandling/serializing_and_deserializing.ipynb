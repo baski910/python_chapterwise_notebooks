{
 "cells": [
  {
   "cell_type": "markdown",
   "id": "ad8491e9",
   "metadata": {},
   "source": [
    "<h2>Serialization and Deserialization</h2>\n",
    "<p>Python provides three different modules which allow us to serialize and deserialize objects :</p>  \n",
    "<ol>\n",
    "    <li>Marshal Module</li>\n",
    "    <li>Pickle Module</li>\n",
    "    <li>JSON Module</li>\n",
    "</ol>\n",
    "<p><b>Marshal Module:</b> It is the oldest module among these three. It is mainly used to read and write the compiled byte code of Python modules. Even we can use marshal to serialize Python objects, but it is not recommended to use. </p>"
   ]
  },
  {
   "cell_type": "code",
   "execution_count": 1,
   "id": "d9cdd2de",
   "metadata": {},
   "outputs": [
    {
     "name": "stdout",
     "output_type": "stream",
     "text": [
      "After serialization :  b'\\xfb\\xda\\x04name\\xda\\x05sunny\\xda\\x03age\\xe9\"\\x00\\x00\\x00\\xda\\x07address\\xda\\x05nasik0'\n",
      "After deserialization :  {'name': 'sunny', 'age': 34, 'address': 'nasik'}\n"
     ]
    }
   ],
   "source": [
    "# importing the module\n",
    "import marshal \n",
    " \n",
    "data = {'name': 'sunny','age': 34,'address': 'nasik'}\n",
    " \n",
    "# dumps() return byte object stored in variable 'bytes'\n",
    "bytes = marshal.dumps(data)   \n",
    "print('After serialization : ', bytes)\n",
    " \n",
    "# loads() convert byte object to value\n",
    "new_data = marshal.loads(bytes)   \n",
    "print('After deserialization : ', new_data)"
   ]
  },
  {
   "cell_type": "markdown",
   "id": "475af55a",
   "metadata": {},
   "source": [
    "<p><b>Pickle Module:</b> It is another way to serialize and deserialize Python objects. It serializes the Python object in a binary format, due to which it is not human-readable. It is faster and it also works with custom-defined objects. The Python pickle module is a better choice for serialization and deserialization of python objects.</p>"
   ]
  },
  {
   "cell_type": "code",
   "execution_count": 2,
   "id": "c4441507",
   "metadata": {},
   "outputs": [
    {
     "name": "stdout",
     "output_type": "stream",
     "text": [
      "Pickling Completed...\n",
      "Unpickling the data : \n",
      "{'st_name': 'Sunny', 'st_id': '9607', 'st_add': 'Nasik'}\n"
     ]
    }
   ],
   "source": [
    "# importinig the module\n",
    "import pickle\n",
    " \n",
    "data = {'st_name': 'Sunny', 'st_id': '9607', 'st_add': 'Nasik'}\n",
    "with open('data.pickle', 'wb') as f1 :        \n",
    "   \n",
    "    # converts object to byte stream(list, dict, etc.)\n",
    "    pickle.dump(data, f1)      \n",
    "    print('Pickling Completed...')\n",
    " \n",
    "with open('data.pickle', 'rb') as f2 :\n",
    "    print('Unpickling the data : ')\n",
    "     \n",
    "    # converts byte stream(generated through pickling)back into object\n",
    "    data = pickle.load(f2)\n",
    "    print(data)"
   ]
  },
  {
   "cell_type": "markdown",
   "id": "8ae6daad",
   "metadata": {},
   "source": [
    "<p><b>JSON Module:</b> It is a newly created module. It allows us to work with standard JSON files. JSON is a widely used format for data exchange and it is very convenient. It is human-readable and language-independent, and it’s lighter than XML. Using the JSON module we can serialize and deserialize several standard Python types like bool, dict, int, float, list, string, tuple, none etc. The JSON module and XML are a good choice if we want to interoperability among different languages. </p>"
   ]
  },
  {
   "cell_type": "code",
   "execution_count": null,
   "id": "c4eed02c",
   "metadata": {},
   "outputs": [],
   "source": [
    "# importing the module\n",
    "import json  \n",
    "# json.dump - dumps a python object as object to a file descriptor\n",
    "# json.load - returns a python from file descriptor with json object\n",
    "# json.dumps - converts a python object to json string\n",
    "# json.loads - converts a json string to python object\n",
    " \n",
    "data = {\n",
    "  \"id\": \"877\",\n",
    "  \"name\": \"Mayur\",\n",
    "  \"department\": \"Comp\"\n",
    "}\n",
    "    \n",
    "# Serializing json \n",
    "json_object = json.dumps(data)\n",
    "print(json_object)\n",
    "print('Serialization Completed.')"
   ]
  }
 ],
 "metadata": {
  "kernelspec": {
   "display_name": "Python 3 (ipykernel)",
   "language": "python",
   "name": "python3"
  },
  "language_info": {
   "codemirror_mode": {
    "name": "ipython",
    "version": 3
   },
   "file_extension": ".py",
   "mimetype": "text/x-python",
   "name": "python",
   "nbconvert_exporter": "python",
   "pygments_lexer": "ipython3",
   "version": "3.7.3"
  }
 },
 "nbformat": 4,
 "nbformat_minor": 5
}
