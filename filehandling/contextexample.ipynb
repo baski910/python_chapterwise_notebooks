{
 "cells": [
  {
   "cell_type": "code",
   "execution_count": 1,
   "id": "f510425a",
   "metadata": {},
   "outputs": [
    {
     "ename": "OSError",
     "evalue": "[Errno 24] Too many open files: 'test4022.txt'",
     "output_type": "error",
     "traceback": [
      "\u001b[0;31m---------------------------------------------------------------------------\u001b[0m",
      "\u001b[0;31mOSError\u001b[0m                                   Traceback (most recent call last)",
      "\u001b[0;32m/tmp/ipykernel_23951/1767922697.py\u001b[0m in \u001b[0;36m<module>\u001b[0;34m\u001b[0m\n\u001b[1;32m      5\u001b[0m \u001b[0mfile_descriptors\u001b[0m \u001b[0;34m=\u001b[0m \u001b[0;34m[\u001b[0m\u001b[0;34m]\u001b[0m\u001b[0;34m\u001b[0m\u001b[0;34m\u001b[0m\u001b[0m\n\u001b[1;32m      6\u001b[0m \u001b[0;32mfor\u001b[0m \u001b[0mx\u001b[0m \u001b[0;32min\u001b[0m \u001b[0mrange\u001b[0m\u001b[0;34m(\u001b[0m\u001b[0;36m10000\u001b[0m\u001b[0;34m)\u001b[0m\u001b[0;34m:\u001b[0m\u001b[0;34m\u001b[0m\u001b[0;34m\u001b[0m\u001b[0m\n\u001b[0;32m----> 7\u001b[0;31m     \u001b[0mfile_descriptors\u001b[0m\u001b[0;34m.\u001b[0m\u001b[0mappend\u001b[0m\u001b[0;34m(\u001b[0m\u001b[0mopen\u001b[0m\u001b[0;34m(\u001b[0m\u001b[0;34mf'test{x}.txt'\u001b[0m\u001b[0;34m,\u001b[0m \u001b[0;34m'w'\u001b[0m\u001b[0;34m)\u001b[0m\u001b[0;34m)\u001b[0m\u001b[0;34m\u001b[0m\u001b[0;34m\u001b[0m\u001b[0m\n\u001b[0m",
      "\u001b[0;31mOSError\u001b[0m: [Errno 24] Too many open files: 'test4022.txt'"
     ]
    }
   ],
   "source": [
    "# context manager will have magic functions __exit__ and __enter__\n",
    "\n",
    "# number of file descriptor that opened per process may have limit\n",
    "\n",
    "file_descriptors = []\n",
    "for x in range(10000):\n",
    "    file_descriptors.append(open(f'test{x}.txt', 'w'))"
   ]
  },
  {
   "cell_type": "code",
   "execution_count": 2,
   "id": "90d4f069",
   "metadata": {},
   "outputs": [],
   "source": [
    "class FileManager():\n",
    "    def __init__(self, filename, mode):\n",
    "        self.filename = filename\n",
    "        self.mode = mode\n",
    "        self.file = None\n",
    "         \n",
    "    def __enter__(self):\n",
    "        self.file = open(self.filename, self.mode)\n",
    "        return self.file\n",
    "     \n",
    "    def __exit__(self, exc_type, exc_value, exc_traceback):\n",
    "        self.file.close()\n",
    " \n",
    "# loading a file\n",
    "file_descriptors = []\n",
    "for x in range(10000):\n",
    "    with FileManager(f'test{x}.txt', 'w') as f:\n",
    "        file_descriptors.append(f)"
   ]
  },
  {
   "cell_type": "code",
   "execution_count": null,
   "id": "f5baf807",
   "metadata": {},
   "outputs": [],
   "source": []
  }
 ],
 "metadata": {
  "kernelspec": {
   "display_name": "Python 3 (ipykernel)",
   "language": "python",
   "name": "python3"
  },
  "language_info": {
   "codemirror_mode": {
    "name": "ipython",
    "version": 3
   },
   "file_extension": ".py",
   "mimetype": "text/x-python",
   "name": "python",
   "nbconvert_exporter": "python",
   "pygments_lexer": "ipython3",
   "version": "3.7.3"
  }
 },
 "nbformat": 4,
 "nbformat_minor": 5
}
