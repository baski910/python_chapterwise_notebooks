{
 "cells": [
  {
   "cell_type": "markdown",
   "metadata": {},
   "source": [
    "<h1>Control Flow Statements</h1>\n",
    "<ul>\n",
    "    <li>if..elif..else</li>\n",
    "    <li>for..else</li>\n",
    "    <li>while..else</li>\n",
    "    <li>break</li>\n",
    "    <li>continue</li>\n",
    "    <li>pass</li>\n",
    "</ul>"
   ]
  },
  {
   "cell_type": "code",
   "execution_count": null,
   "metadata": {},
   "outputs": [],
   "source": [
    "\"\"\"if..elif..else\"\"\"\n",
    "\"\"\"input is a built-in function, for reading from keyboard. string is the default datatype when reading from keyboard\"\"\"\n",
    "num = int(input(\"Enter a number\"))\n",
    "# assume the input is a proper number\n",
    "# using if..else\n",
    "if num<0:\n",
    "    print(\"negative\")\n",
    "else:\n",
    "    print(\"positive\")\n",
    "    \n",
    "# using if..elif..else\n",
    "if num<0:\n",
    "    print(\"negative\")\n",
    "elif num==0:\n",
    "    print(\"zero\")\n",
    "else:\n",
    "    print(\"positive\")\n",
    "    \n",
    "# there can be multiple elif conditions between if and else\n",
    "if num<0:\n",
    "    print(\"negative\")\n",
    "elif num==0:\n",
    "    print(\"zero\")\n",
    "elif num>0 and num<10:\n",
    "    print(\"small\")\n",
    "else:\n",
    "    print(\"positive\")\n",
    "    \n",
    "\n"
   ]
  },
  {
   "cell_type": "code",
   "execution_count": null,
   "metadata": {},
   "outputs": [],
   "source": [
    "\"\"\"for..else\"\"\"\n",
    "\"\"\"else is optional. else will be executed only when all iterations are completed. else \n",
    "will not be executed when for breaks in between\"\"\"\n",
    "\n",
    "for num in range(10):\n",
    "    print(num)\n",
    "else:\n",
    "    print(\"all iterations completed\") # this statement will executed only when for completes all iterations\n",
    "    \n",
    "\"\"\"for..else with break\"\"\"\n",
    "for num in range(10):\n",
    "    if num==5:\n",
    "        break\n",
    "    print(num)\n",
    "else:\n",
    "    print(\"all iterations completed\") # this statement will executed only when for completes all iterations\n",
    "    \n",
    "\"\"\"check for prime number\"\"\"\n",
    "\n",
    "num = int(input())\n",
    "\n",
    "for n in range(2,(num//2+1)):\n",
    "    if num%n==0:\n",
    "        print(\"{} is not a prime number\".format(num))\n",
    "        break\n",
    "else:\n",
    "    print(\"{} is a prime number\".format(num))-"
   ]
  },
  {
   "cell_type": "code",
   "execution_count": null,
   "metadata": {},
   "outputs": [],
   "source": [
    "\"\"\"while..else\"\"\"\n",
    "count=0\n",
    "\n",
    "while count<10:\n",
    "    count +=1\n",
    "    print(count)\n",
    "else:\n",
    "    print(\"all iterations completed\")\n",
    "    \n",
    "\"\"\"example for continue\"\"\"\n",
    "count=0\n",
    "while count<10:\n",
    "    count += 1\n",
    "    if count==5:\n",
    "        continue\n",
    "    print(count)\n",
    "else:\n",
    "   print(\"all iterations completed\") "
   ]
  },
  {
   "cell_type": "code",
   "execution_count": null,
   "metadata": {},
   "outputs": [],
   "source": [
    "\"\"\"pass is a valid statement.\"\"\"\n",
    "\"\"\"when no action is needed pass is used\"\"\"\n",
    "\n",
    "\"\"\"try..except block without any message\"\"\"\n",
    "\n",
    "try:\n",
    "    num = int(input(\"Enter a number\")) # this will throw error, if number is not entered\n",
    "except:\n",
    "    pass # continue the program without giving any output. (may be think of logging in a file)"
   ]
  }
 ],
 "metadata": {
  "kernelspec": {
   "display_name": "Python 3 (ipykernel)",
   "language": "python",
   "name": "python3"
  },
  "language_info": {
   "codemirror_mode": {
    "name": "ipython",
    "version": 3
   },
   "file_extension": ".py",
   "mimetype": "text/x-python",
   "name": "python",
   "nbconvert_exporter": "python",
   "pygments_lexer": "ipython3",
   "version": "3.7.3"
  }
 },
 "nbformat": 4,
 "nbformat_minor": 4
}
