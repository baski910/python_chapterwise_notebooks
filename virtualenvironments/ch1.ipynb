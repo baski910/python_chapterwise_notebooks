{
 "cells": [
  {
   "cell_type": "markdown",
   "id": "80f2949b",
   "metadata": {},
   "source": [
    "<h1>Virtual Environments</h1>\n",
    "\n",
    "<ol>\n",
    "    <li>Introduction</li>\n",
    "    <li>Need for virtual environments</li>\n",
    "    <li>Under the hood</li>\n",
    "    <li>Create and activate virutal environments</li>\n",
    "    <li>Deactivate virtual environments</li>\n",
    "</ol>"
   ]
  },
  {
   "cell_type": "markdown",
   "id": "e59a20c7",
   "metadata": {},
   "source": [
    "<h2>Introduction</h2>\n",
    "<p>Virtual environments are a common and effective technique used in Python development.</p>"
   ]
  },
  {
   "cell_type": "markdown",
   "id": "386822a4",
   "metadata": {},
   "source": [
    "<h2>Need for virtual environments</h2>\n",
    "<p>A virtual environment is a tool that helps to keep dependencies required by different projects separate by creating isolated python virtual environments for them.</p> "
   ]
  },
  {
   "cell_type": "markdown",
   "id": "c25748a5",
   "metadata": {},
   "source": [
    "<h2>Under the hood</h2>\n",
    "<p>Python virtual environment is a folder structure that gives you everything you need to run a lightweight yet isolated Python environment.</p>\n",
    "<p>When we create a new virtual environment using the venv module, Python creates a self-contained folder structure and copies or symlinks the Python executable files into that folder structure.</p>\n",
    "<p>A typical folder structure created in Linux environment is shown below</p>\n",
    "<img src=\"folder-structure.png\" width=\"50%\" height=\"50%\" />\n",
    "<p><b>bin/</b> contains the executable files of your virtual environment. Most notable are the Python interpreter (python) and the pip executable (pip), as well as their respective symlinks (python3, python3.10, pip3, pip3.10). The folder also contains activation scripts for your virtual environment. Your specific activation script depends on what shell you use</p>\n",
    "<p><b>lib/</b> contains the site-packages/ directory nested in a folder that designates the Python version (python3.10/). site-packages/ is one of the main reasons for creating your virtual environment. This folder is where you’ll install external packages that you want to use within your virtual environment. By default, your virtual environment comes preinstalled with two dependencies, pip and setuptools.</p>\n",
    "<p><b>pyvenv.cfg</b> is a crucial file for your virtual environment. It contains only a couple of key-value pairs that Python uses to set variables in the sys module that determine which Python interpreter and which site-packages directory the current Python session will use.</p>\n",
    "<p>there are three essential parts of a Python virtual environment:</p>\n",
    "<br>\n",
    "<p>A copy or a symlink of the Python binary</p>\n",
    "<p>A pyvenv.cfg file</p>\n",
    "<p>A site-packages directory</p>\n",
    "<p>With the default settings, venv will install both pip and setuptools. Using pip is the recommended way to install packages in Python, and setuptools is a dependency for pip.</p>\n"
   ]
  },
  {
   "cell_type": "markdown",
   "id": "f3e1d1cd",
   "metadata": {},
   "source": [
    "<h2>Create A Virtual Environment</h2>\n",
    "<p><b>Windows</b></p>\n",
    "<p>mkdir venv-1</p>\n",
    "<p>cd venv-1</p>\n",
    "<p>python -m venv . </p>\n",
    "<p>Scripts\\activate</p>\n",
    "<p>''' now we are inside virtual environment in Windows'''</p>\n",
    "<p><b>Linux</b></p>\n",
    "<p>mkdir venv-1</p>\n",
    "<p>cd venv-1</p>\n",
    "<p>python -m venv . </p>\n",
    "<p>source bin/activate</p>\n",
    "<p>''' now we are inside virtual environment in Linux '''</p>\n",
    "<p><b>Install Packages</b></p>\n",
    "<p>pip install package</p>"
   ]
  },
  {
   "cell_type": "markdown",
   "id": "ef9c060c",
   "metadata": {},
   "source": []
  }
 ],
 "metadata": {
  "kernelspec": {
   "display_name": "Python 3 (ipykernel)",
   "language": "python",
   "name": "python3"
  },
  "language_info": {
   "codemirror_mode": {
    "name": "ipython",
    "version": 3
   },
   "file_extension": ".py",
   "mimetype": "text/x-python",
   "name": "python",
   "nbconvert_exporter": "python",
   "pygments_lexer": "ipython3",
   "version": "3.7.3"
  }
 },
 "nbformat": 4,
 "nbformat_minor": 5
}
