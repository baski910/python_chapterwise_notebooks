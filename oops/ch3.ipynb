{
 "cells": [
  {
   "cell_type": "code",
   "execution_count": 5,
   "id": "2bf5c4bc",
   "metadata": {},
   "outputs": [
    {
     "name": "stdout",
     "output_type": "stream",
     "text": [
      "(<class '__main__.B'>, <class '__main__.C'>, <class '__main__.E'>, <class '__main__.A'>, <class 'object'>)\n",
      "from E\n"
     ]
    }
   ],
   "source": [
    "# MRO - Method Resolution Order to resolve the version to be invoked in case same function being implemented in multiple parent classes\n",
    "class E:\n",
    "     def printString(self):\n",
    "        print(\"from E\")\n",
    "\n",
    "class A:\n",
    "    def printString(self):\n",
    "        print(\"from A\")\n",
    "        \n",
    "class C(E):\n",
    "    pass\n",
    "    #def printString(self):\n",
    "    #    print(\"from C\")\n",
    "        \n",
    "        \n",
    "class B(C,A):\n",
    "    def showString(self):\n",
    "        print(\"from B\")\n",
    "\n",
    "if __name__ == '__main__':\n",
    "    obj = B()\n",
    "    print(B.__mro__) # class attribute of Child. Returns method resolution order\n",
    "    obj.printString()"
   ]
  },
  {
   "cell_type": "code",
   "execution_count": null,
   "id": "9dd85eab",
   "metadata": {},
   "outputs": [],
   "source": []
  }
 ],
 "metadata": {
  "kernelspec": {
   "display_name": "Python 3 (ipykernel)",
   "language": "python",
   "name": "python3"
  },
  "language_info": {
   "codemirror_mode": {
    "name": "ipython",
    "version": 3
   },
   "file_extension": ".py",
   "mimetype": "text/x-python",
   "name": "python",
   "nbconvert_exporter": "python",
   "pygments_lexer": "ipython3",
   "version": "3.7.3"
  }
 },
 "nbformat": 4,
 "nbformat_minor": 5
}
