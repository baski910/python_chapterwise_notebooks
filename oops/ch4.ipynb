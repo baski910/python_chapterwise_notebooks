{
 "cells": [
  {
   "cell_type": "code",
   "execution_count": 6,
   "id": "a9210e01",
   "metadata": {},
   "outputs": [
    {
     "name": "stdout",
     "output_type": "stream",
     "text": [
      "x-val:15,y-val:37\n",
      "x-val:38,y-val:43\n",
      "x-val:53,y-val:80\n"
     ]
    }
   ],
   "source": [
    "# overloading operators\n",
    "# __add__ to overload '+'\n",
    "# __sub__ to overload '-'\n",
    "# __eq__ to overload '=='\n",
    "\n",
    "\"\"\"Example for operator overloading\"\"\"\n",
    "\n",
    "class Point:\n",
    "    \"\"\"this is an example class\"\"\"\n",
    "    def __init__(self,xval,yval):\n",
    "        self.x = xval\n",
    "        self.y = yval\n",
    "        \n",
    "    def __add__(self,other):\n",
    "        x = self.x + other.x\n",
    "        y = self.y + other.y\n",
    "        return Point(x,y)\n",
    "        \n",
    "    def __repr__(self): # need to return a string. invoked implicitly when the object is printed\n",
    "        return \"x-val:{},y-val:{}\".format(self.x,self.y)\n",
    "    \n",
    "if __name__ == '__main__':\n",
    "    p1 = Point(15,37)\n",
    "    print(p1)\n",
    "    p2 = Point(38,43)\n",
    "    print(p2)\n",
    "    #print(p1+p2) # results in error without __add__ function in class definition\n",
    "    #print(p1+p2) # p1+p2 == p1.__add__(p2)\n",
    "    \n",
    "    print(p1.__add__(p2))"
   ]
  },
  {
   "cell_type": "code",
   "execution_count": 9,
   "id": "bf212637",
   "metadata": {},
   "outputs": [
    {
     "name": "stdout",
     "output_type": "stream",
     "text": [
      "before sorting:\n",
      "x-val:15,y-val:43\n",
      "x-val:38,y-val:31\n",
      "x-val:25,y-val:39\n",
      "after sorting:\n",
      "x-val:38,y-val:31\n",
      "x-val:25,y-val:39\n",
      "x-val:15,y-val:43\n"
     ]
    }
   ],
   "source": [
    "class Point:\n",
    "    \"\"\"this is an example class\"\"\"\n",
    "    def __init__(self,xval,yval):\n",
    "        self.x = xval\n",
    "        self.y = yval\n",
    "        \n",
    "    def __add__(self,other):\n",
    "        x = self.x + other.x\n",
    "        y = self.y + other.y\n",
    "        return Point(x,y)\n",
    "    \n",
    "    def __eq__(self,other):\n",
    "        return ((self.x==other.x) and (self.y==other.y))\n",
    "    \n",
    "    def __lt__(self,other):\n",
    "        if self.y < other.y:\n",
    "            return True\n",
    "        elif self.y > other.y:\n",
    "            return False\n",
    "        elif self.x < other.x:\n",
    "            return True\n",
    "        else:\n",
    "            return False\n",
    "        \n",
    "    def __repr__(self): # need to return a string. invoked implicitly when the object is printed\n",
    "        return \"x-val:{},y-val:{}\".format(self.x,self.y)\n",
    "    \n",
    "if __name__ == '__main__':\n",
    "    p1 = Point(15,43)\n",
    "    p2 = Point(38,31)\n",
    "    p3 = Point(25,39)\n",
    "    \n",
    "    list_of_objects = [p1,p2,p3]\n",
    "    \n",
    "    print(\"before sorting:\")\n",
    "    for obj in list_of_objects:\n",
    "        print(obj)\n",
    "    \n",
    "    list_of_objects.sort()\n",
    "    \n",
    "    print(\"after sorting:\")\n",
    "    for obj in list_of_objects:\n",
    "        print(obj)"
   ]
  },
  {
   "cell_type": "code",
   "execution_count": null,
   "id": "38c01cf7",
   "metadata": {},
   "outputs": [],
   "source": []
  }
 ],
 "metadata": {
  "kernelspec": {
   "display_name": "Python 3 (ipykernel)",
   "language": "python",
   "name": "python3"
  },
  "language_info": {
   "codemirror_mode": {
    "name": "ipython",
    "version": 3
   },
   "file_extension": ".py",
   "mimetype": "text/x-python",
   "name": "python",
   "nbconvert_exporter": "python",
   "pygments_lexer": "ipython3",
   "version": "3.7.3"
  }
 },
 "nbformat": 4,
 "nbformat_minor": 5
}
