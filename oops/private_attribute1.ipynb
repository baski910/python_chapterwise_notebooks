{
 "cells": [
  {
   "cell_type": "markdown",
   "id": "0f9ab266-07e1-4eac-bacb-499054dda0f2",
   "metadata": {},
   "source": [
    "<p>\n",
    "    A method which is used for getting a value is decorated with \"@property\", i.e. we put this line directly in front of the header.<br> The method which has to function as the setter is decorated with \"@x.setter\".<br> If the function had been called \"f\", we would have to decorate it with \"@f.setter\". <br>Two things are noteworthy: We just put the code line \"self.x = x\" in the __init__ method and the property method x is used to check the limits of the values. <br>The second interesting thing is that we wrote \"two\" methods with the same name and a different number of parameters \"def x(self)\" and \"def x(self,x)\".<br> We have learned in a previous chapter of our course that this is not possible. It works here due to the decorating:\n",
    "</p>"
   ]
  },
  {
   "cell_type": "code",
   "execution_count": 11,
   "id": "a9d25b6b-eeca-4274-aa91-1e1cd3f5a4c8",
   "metadata": {},
   "outputs": [],
   "source": [
    "# creating a private attribute using property\n",
    "\n",
    "class A:\n",
    "    def __init__(self, name, age):\n",
    "        self.name = name\n",
    "        self.age = age\n",
    "\n",
    "    @property\n",
    "    def name(self):\n",
    "        return self.__name\n",
    "\n",
    "    @name.setter\n",
    "    def name(self, new_name):\n",
    "        if not isinstance(new_name, str):\n",
    "            raise ValueError(\"The name is not a string\")\n",
    "        self.__name = new_name"
   ]
  },
  {
   "cell_type": "code",
   "execution_count": 12,
   "id": "6b873c07-dc0d-4c60-9fde-2151e609752a",
   "metadata": {},
   "outputs": [
    {
     "ename": "ValueError",
     "evalue": "The name is not a string",
     "output_type": "error",
     "traceback": [
      "\u001b[0;31m---------------------------------------------------------------------------\u001b[0m",
      "\u001b[0;31mValueError\u001b[0m                                Traceback (most recent call last)",
      "Cell \u001b[0;32mIn[12], line 1\u001b[0m\n\u001b[0;32m----> 1\u001b[0m obj \u001b[38;5;241m=\u001b[39m \u001b[43mA\u001b[49m\u001b[43m(\u001b[49m\u001b[38;5;241;43m10\u001b[39;49m\u001b[43m,\u001b[49m\u001b[38;5;241;43m13\u001b[39;49m\u001b[43m)\u001b[49m\n",
      "Cell \u001b[0;32mIn[11], line 5\u001b[0m, in \u001b[0;36mA.__init__\u001b[0;34m(self, name, age)\u001b[0m\n\u001b[1;32m      4\u001b[0m \u001b[38;5;28;01mdef\u001b[39;00m \u001b[38;5;21m__init__\u001b[39m(\u001b[38;5;28mself\u001b[39m, name, age):\n\u001b[0;32m----> 5\u001b[0m     \u001b[38;5;28;43mself\u001b[39;49m\u001b[38;5;241;43m.\u001b[39;49m\u001b[43mname\u001b[49m \u001b[38;5;241m=\u001b[39m name\n\u001b[1;32m      6\u001b[0m     \u001b[38;5;28mself\u001b[39m\u001b[38;5;241m.\u001b[39mage \u001b[38;5;241m=\u001b[39m age\n",
      "Cell \u001b[0;32mIn[11], line 15\u001b[0m, in \u001b[0;36mA.name\u001b[0;34m(self, new_name)\u001b[0m\n\u001b[1;32m     12\u001b[0m \u001b[38;5;129m@name\u001b[39m\u001b[38;5;241m.\u001b[39msetter\n\u001b[1;32m     13\u001b[0m \u001b[38;5;28;01mdef\u001b[39;00m \u001b[38;5;21mname\u001b[39m(\u001b[38;5;28mself\u001b[39m, new_name):\n\u001b[1;32m     14\u001b[0m     \u001b[38;5;28;01mif\u001b[39;00m \u001b[38;5;129;01mnot\u001b[39;00m \u001b[38;5;28misinstance\u001b[39m(new_name, \u001b[38;5;28mstr\u001b[39m):\n\u001b[0;32m---> 15\u001b[0m         \u001b[38;5;28;01mraise\u001b[39;00m \u001b[38;5;167;01mValueError\u001b[39;00m(\u001b[38;5;124m\"\u001b[39m\u001b[38;5;124mThe name is not a string\u001b[39m\u001b[38;5;124m\"\u001b[39m)\n\u001b[1;32m     16\u001b[0m     \u001b[38;5;28mself\u001b[39m\u001b[38;5;241m.\u001b[39m__name \u001b[38;5;241m=\u001b[39m new_name\n",
      "\u001b[0;31mValueError\u001b[0m: The name is not a string"
     ]
    }
   ],
   "source": [
    "obj = A(10,13)"
   ]
  },
  {
   "cell_type": "code",
   "execution_count": 4,
   "id": "74a25f04-47d6-4479-b461-837325e874a7",
   "metadata": {},
   "outputs": [
    {
     "name": "stdout",
     "output_type": "stream",
     "text": [
      "10\n"
     ]
    }
   ],
   "source": [
    "print(obj.name)"
   ]
  },
  {
   "cell_type": "code",
   "execution_count": 8,
   "id": "df5d50f0-c6ed-4c59-b360-b4d17bb75d54",
   "metadata": {},
   "outputs": [
    {
     "ename": "ValueError",
     "evalue": "The name is not a string",
     "output_type": "error",
     "traceback": [
      "\u001b[0;31m---------------------------------------------------------------------------\u001b[0m",
      "\u001b[0;31mValueError\u001b[0m                                Traceback (most recent call last)",
      "Cell \u001b[0;32mIn[8], line 1\u001b[0m\n\u001b[0;32m----> 1\u001b[0m \u001b[43mobj\u001b[49m\u001b[38;5;241;43m.\u001b[39;49m\u001b[43mname\u001b[49m \u001b[38;5;241m=\u001b[39m \u001b[38;5;241m20\u001b[39m\n",
      "Cell \u001b[0;32mIn[6], line 15\u001b[0m, in \u001b[0;36mA.name\u001b[0;34m(self, new_name)\u001b[0m\n\u001b[1;32m     12\u001b[0m \u001b[38;5;129m@name\u001b[39m\u001b[38;5;241m.\u001b[39msetter\n\u001b[1;32m     13\u001b[0m \u001b[38;5;28;01mdef\u001b[39;00m \u001b[38;5;21mname\u001b[39m(\u001b[38;5;28mself\u001b[39m, new_name):\n\u001b[1;32m     14\u001b[0m     \u001b[38;5;28;01mif\u001b[39;00m \u001b[38;5;129;01mnot\u001b[39;00m \u001b[38;5;28misinstance\u001b[39m(new_name, \u001b[38;5;28mstr\u001b[39m):\n\u001b[0;32m---> 15\u001b[0m         \u001b[38;5;28;01mraise\u001b[39;00m \u001b[38;5;167;01mValueError\u001b[39;00m(\u001b[38;5;124m\"\u001b[39m\u001b[38;5;124mThe name is not a string\u001b[39m\u001b[38;5;124m\"\u001b[39m)\n\u001b[1;32m     16\u001b[0m     \u001b[38;5;28mself\u001b[39m\u001b[38;5;241m.\u001b[39m__name \u001b[38;5;241m=\u001b[39m new_name\n",
      "\u001b[0;31mValueError\u001b[0m: The name is not a string"
     ]
    }
   ],
   "source": [
    "obj.name = 20"
   ]
  },
  {
   "cell_type": "code",
   "execution_count": 9,
   "id": "46d386bf-6acb-409d-94ea-9a425d817584",
   "metadata": {},
   "outputs": [],
   "source": [
    "class P:\n",
    "\n",
    "    def __init__(self, x):\n",
    "        self.x = x\n",
    "\n",
    "    @property\n",
    "    def x(self):\n",
    "        return self.__x\n",
    "\n",
    "    @x.setter\n",
    "    def x(self, x):\n",
    "        if x < 0:\n",
    "            self.__x = 0\n",
    "        elif x > 1000:\n",
    "            self.__x = 1000\n",
    "        else:\n",
    "            self.__x = x"
   ]
  },
  {
   "cell_type": "code",
   "execution_count": 10,
   "id": "45e75851-6b76-4389-9915-10ba0e7466b5",
   "metadata": {},
   "outputs": [
    {
     "name": "stdout",
     "output_type": "stream",
     "text": [
      "0\n"
     ]
    }
   ],
   "source": [
    "obj = P(-12)\n",
    "print(obj.x)"
   ]
  },
  {
   "cell_type": "code",
   "execution_count": 13,
   "id": "2ba48124-7dc0-4ad4-a96c-cc6469fa4cba",
   "metadata": {},
   "outputs": [
    {
     "name": "stdout",
     "output_type": "stream",
     "text": [
      "1000\n"
     ]
    }
   ],
   "source": [
    "obj = P(1100)\n",
    "print(obj.x)"
   ]
  },
  {
   "cell_type": "code",
   "execution_count": null,
   "id": "b0323d4e-8944-47b9-92ba-f0c9ec9e1e54",
   "metadata": {},
   "outputs": [],
   "source": []
  }
 ],
 "metadata": {
  "kernelspec": {
   "display_name": "Python 3 (ipykernel)",
   "language": "python",
   "name": "python3"
  },
  "language_info": {
   "codemirror_mode": {
    "name": "ipython",
    "version": 3
   },
   "file_extension": ".py",
   "mimetype": "text/x-python",
   "name": "python",
   "nbconvert_exporter": "python",
   "pygments_lexer": "ipython3",
   "version": "3.10.12"
  }
 },
 "nbformat": 4,
 "nbformat_minor": 5
}
