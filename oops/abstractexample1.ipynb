{
 "cells": [
  {
   "cell_type": "code",
   "execution_count": 1,
   "id": "fe4b8141-333d-4904-8ff5-e7594cd66a53",
   "metadata": {},
   "outputs": [],
   "source": [
    "#Abstraction is the concept in object-oriented programming that is used to hide the \n",
    "#internal functionality of the classes from the users. Abstraction is implemented using \n",
    "#the abstract classes. An abstract class in Python is typically created to declare a set \n",
    "#of methods that must be created in any child class built on top of this abstract class. \n",
    "#Similarly, an abstract method is one that doesn't have any implementation.\n",
    "\n",
    "#We can use the following syntax to create an abstract method in Python:\n",
    "\n",
    "#from abc import ABC, abstractmethod\n",
    "#class <Abstract_Class_Name>(ABC):\n",
    "#    @abstractmethod\n",
    "#    def <abstract_method_name>(self,other_parameters):\n",
    "#        pass\n",
    "\n",
    "from abc import ABC, abstractmethod\n",
    " \n",
    "class Shape(ABC):\n",
    "    def __init__(self, shape_name):\n",
    "        self.shape_name = shape_name\n",
    "    \n",
    "    @abstractmethod\n",
    "    def draw(self):\n",
    "        pass\n",
    "\n",
    "    def area(self):\n",
    "        print(\"non abstract method\")"
   ]
  },
  {
   "cell_type": "code",
   "execution_count": 4,
   "id": "9903d8eb-f67e-41aa-9166-2817355d5283",
   "metadata": {},
   "outputs": [],
   "source": [
    "class Circle(Shape):\n",
    "    def __init__(self):\n",
    "        super().__init__(\"circle\")\n",
    " \n",
    "    def draw(self):\n",
    "        print(\"Drawing a Circle\")"
   ]
  },
  {
   "cell_type": "code",
   "execution_count": 5,
   "id": "5cc67f22-d4e9-450e-ade9-b1743a88b805",
   "metadata": {},
   "outputs": [
    {
     "name": "stdout",
     "output_type": "stream",
     "text": [
      "Drawing a Circle\n"
     ]
    }
   ],
   "source": [
    "c = Circle()\n",
    "\n",
    "c.draw()\n",
    "#c.area()"
   ]
  },
  {
   "cell_type": "code",
   "execution_count": null,
   "id": "3b24d9d9-f1f5-4ee2-a3f8-908ab77021bf",
   "metadata": {},
   "outputs": [],
   "source": []
  }
 ],
 "metadata": {
  "kernelspec": {
   "display_name": "Python 3 (ipykernel)",
   "language": "python",
   "name": "python3"
  },
  "language_info": {
   "codemirror_mode": {
    "name": "ipython",
    "version": 3
   },
   "file_extension": ".py",
   "mimetype": "text/x-python",
   "name": "python",
   "nbconvert_exporter": "python",
   "pygments_lexer": "ipython3",
   "version": "3.10.12"
  }
 },
 "nbformat": 4,
 "nbformat_minor": 5
}
