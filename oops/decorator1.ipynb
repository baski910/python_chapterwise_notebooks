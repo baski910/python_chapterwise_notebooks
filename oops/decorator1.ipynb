{
 "cells": [
  {
   "cell_type": "code",
   "execution_count": 1,
   "id": "23d9cbb7-22da-43da-9aef-a6d9c49849c3",
   "metadata": {},
   "outputs": [],
   "source": [
    "# function decorator example\n",
    "def star(n):\n",
    "    def decorate(fn):\n",
    "        def wrapper(*args,**kwargs):\n",
    "            print(n*'*')\n",
    "            result = fn(*args,**kwargs)\n",
    "            print(result)\n",
    "            print(n*'*')\n",
    "            return result\n",
    "        return wrapper\n",
    "    return decorate"
   ]
  },
  {
   "cell_type": "code",
   "execution_count": 5,
   "id": "3eccb88c-8905-47e1-b75e-25b344eb3e23",
   "metadata": {},
   "outputs": [],
   "source": [
    "@star(5)\n",
    "def add(a,b):\n",
    "    return a+b"
   ]
  },
  {
   "cell_type": "code",
   "execution_count": 7,
   "id": "985e155d-e429-4b68-82ab-a272560170dc",
   "metadata": {},
   "outputs": [
    {
     "name": "stdout",
     "output_type": "stream",
     "text": [
      "*****\n",
      "25\n",
      "*****\n"
     ]
    },
    {
     "data": {
      "text/plain": [
       "25"
      ]
     },
     "execution_count": 7,
     "metadata": {},
     "output_type": "execute_result"
    }
   ],
   "source": [
    "add(10,15)"
   ]
  },
  {
   "cell_type": "markdown",
   "id": "520f516f-73d9-405f-88bb-03dfbd9c1f31",
   "metadata": {},
   "source": [
    "<p>\n",
    "    The star() decorator factory takes an argument and returns a callable. <br />\n",
    "    The callable takes an argument (fn) which is a function that will be decorated.<br />\n",
    "    Also, the callable can access the argument (n) passed to the decorator factory.\n",
    "</p>"
   ]
  },
  {
   "cell_type": "code",
   "execution_count": 13,
   "id": "13489550-197f-4133-b082-e2a97a9a7ef2",
   "metadata": {},
   "outputs": [],
   "source": [
    "class Star:\n",
    "    def __init__(self,n):\n",
    "        self.n = n\n",
    "\n",
    "    def __call__(self,fn):\n",
    "        def wrapper(*args,**kwargs):\n",
    "            print(self.n*'*')\n",
    "            result = fn(*args,**kwargs)\n",
    "            print(result)\n",
    "            print(self.n * '*')\n",
    "            #return result\n",
    "        return wrapper"
   ]
  },
  {
   "cell_type": "code",
   "execution_count": 14,
   "id": "78eb60ac-7142-495b-a2df-e9e03482e2d0",
   "metadata": {},
   "outputs": [],
   "source": [
    "@Star(5)\n",
    "def add(a,b):\n",
    "    return a+b"
   ]
  },
  {
   "cell_type": "code",
   "execution_count": 15,
   "id": "7c2ca189-0849-4206-acb5-4b7273f145a6",
   "metadata": {},
   "outputs": [
    {
     "name": "stdout",
     "output_type": "stream",
     "text": [
      "*****\n",
      "30\n",
      "*****\n"
     ]
    }
   ],
   "source": [
    "add(10,20)"
   ]
  },
  {
   "cell_type": "markdown",
   "id": "381ce5bf-ad5c-47a7-b54a-c7c07b1aac3f",
   "metadata": {},
   "source": [
    "<p>\n",
    "    <p>The @Star(5) returns an instance of the Star class.</p>\n",
    "    <p>That instance is a callable, so you can do something like:</p>\n",
    "<br />\n",
    "<p>add = Star(5)(add)</p>\n",
    "<p>So you can use callable classes to decorate functions.</p>\n",
    "</p>"
   ]
  },
  {
   "cell_type": "code",
   "execution_count": null,
   "id": "d0130e38-fcf2-4d99-ad6a-09457e0e652c",
   "metadata": {},
   "outputs": [],
   "source": []
  }
 ],
 "metadata": {
  "kernelspec": {
   "display_name": "Python 3 (ipykernel)",
   "language": "python",
   "name": "python3"
  },
  "language_info": {
   "codemirror_mode": {
    "name": "ipython",
    "version": 3
   },
   "file_extension": ".py",
   "mimetype": "text/x-python",
   "name": "python",
   "nbconvert_exporter": "python",
   "pygments_lexer": "ipython3",
   "version": "3.10.12"
  }
 },
 "nbformat": 4,
 "nbformat_minor": 5
}
