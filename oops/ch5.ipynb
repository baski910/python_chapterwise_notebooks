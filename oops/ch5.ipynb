{
 "cells": [
  {
   "cell_type": "markdown",
   "id": "6e098be3",
   "metadata": {},
   "source": [
    "\n",
    "<p>Python program showing</p>\n",
    "<p>abstract base class work</p>\n",
    " \n",
    "<p>from abc import ABC, abstractmethod</p>\n",
    " \n",
    "<p>class Polygon(ABC):</p>\n",
    "<br> \n",
    "<p>&nbsp&nbsp&nbsp&nbsp @abstractmethod<p>\n",
    "<p>&nbsp&nbsp&nbsp&nbsp def noofsides(self):</p>\n",
    "<p>&nbsp&nbsp&nbsp&nbsp&nbsp&nbsp&nbsp&nbsp pass\n",
    " \n",
    "<p>class Triangle(Polygon):</p>\n",
    "<br> \n",
    "<p>&nbsp&nbsp&nbsp&nbsp # overriding abstract method</p>\n",
    "<p>&nbsp&nbsp&nbsp&nbsp def noofsides(self):</p>\n",
    "<p>&nbsp&nbsp&nbsp&nbsp&nbsp&nbsp&nbsp&nbsp print(\"I have 3 sides\")</p>\n",
    " \n",
    "<p>class Pentagon(Polygon):</p>\n",
    "<br> \n",
    "<p>&nbsp&nbsp&nbsp&nbsp # overriding abstract method</p>\n",
    "<p>&nbsp&nbsp&nbsp&nbsp def noofsides(self):</p>\n",
    "<p>&nbsp&nbsp&nbsp&nbsp&nbsp&nbsp&nbsp&nbsp print(\"I have 5 sides\")</p>\n",
    " \n",
    "<p>class Hexagon(Polygon):</p>\n",
    "<br>\n",
    "<p>&nbsp&nbsp&nbsp&nbsp # overriding abstract method</p>\n",
    "<p>&nbsp&nbsp&nbsp&nbsp def noofsides(self):</p>\n",
    "<p>&nbsp&nbsp&nbsp&nbsp&nbsp&nbsp&nbsp&nbsp print(\"I have 6 sides\")</p>"
   ]
  }
 ],
 "metadata": {
  "kernelspec": {
   "display_name": "Python 3 (ipykernel)",
   "language": "python",
   "name": "python3"
  },
  "language_info": {
   "codemirror_mode": {
    "name": "ipython",
    "version": 3
   },
   "file_extension": ".py",
   "mimetype": "text/x-python",
   "name": "python",
   "nbconvert_exporter": "python",
   "pygments_lexer": "ipython3",
   "version": "3.7.3"
  }
 },
 "nbformat": 4,
 "nbformat_minor": 5
}
