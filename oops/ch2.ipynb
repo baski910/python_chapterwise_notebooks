{
 "cells": [
  {
   "cell_type": "markdown",
   "id": "dedc8661",
   "metadata": {},
   "source": [
    "Inheritance\n",
    "Supported inheritance\n",
    "Single\n",
    "Multiple\n",
    "Multilevel\n",
    "\n",
    "Example for single inheritance\n",
    "class A:\n",
    "   some definition\n",
    "   \n",
    "class B(A):  \n",
    "   pass \n",
    "   \n",
    "Example for multilevel inheritance\n",
    "class A:\n",
    "   some definition\n",
    "   \n",
    "class B(A):  \n",
    "   some definition\n",
    "   \n",
    "class C(B):\n",
    "   some definition\n",
    "   \n",
    "Example for multiple inheritance\n",
    "class A:\n",
    "   some definition\n",
    "   \n",
    "class C:\n",
    "   some definition\n",
    "   \n",
    "class B(A,C):\n",
    "   some defintion\n",
    "  "
   ]
  },
  {
   "cell_type": "markdown",
   "id": "37498ec9",
   "metadata": {},
   "source": [
    "Method Overriding\n",
    "When child implements the parent class method it is called method overriding\n",
    "In method overriding calling overridden method through child class instance\n",
    "will invoke the child class version only\n",
    "\n",
    "class A:\n",
    "   def printString(self):\n",
    "       print(\"from A\")\n",
    "       \n",
    "class B(A):\n",
    "   def printString(self):\n",
    "       print(\"from B\")\n",
    "       \n",
    "if __name__ == '__main__':\n",
    "   obj = B()\n",
    "   obj.printString() # invokes the child class method\n",
    "   \n",
    "   \n",
    "Using 'super' keyword to invoke parent class method in method overriding\n",
    "class A:\n",
    "   def printString(self):\n",
    "       print(\"from A\")\n",
    "       \n",
    "class B(A):\n",
    "   def printString(self):\n",
    "       super().printString() # calling parent class method from within child class\n",
    "       print(\"from B\")\n",
    "       \n",
    "if __name__ == '__main__':\n",
    "   obj = B()\n",
    "   obj.printString() # invokes the child class method\n"
   ]
  }
 ],
 "metadata": {
  "kernelspec": {
   "display_name": "Python 3 (ipykernel)",
   "language": "python",
   "name": "python3"
  },
  "language_info": {
   "codemirror_mode": {
    "name": "ipython",
    "version": 3
   },
   "file_extension": ".py",
   "mimetype": "text/x-python",
   "name": "python",
   "nbconvert_exporter": "python",
   "pygments_lexer": "ipython3",
   "version": "3.7.3"
  }
 },
 "nbformat": 4,
 "nbformat_minor": 5
}
