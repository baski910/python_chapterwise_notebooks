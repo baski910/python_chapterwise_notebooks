{
 "cells": [
  {
   "cell_type": "markdown",
   "id": "dedc8661",
   "metadata": {},
   "source": [
    "<p>Inheritance</p>\n",
    "<p>Supported inheritance</p>\n",
    "<p>Single</p>\n",
    "<p>Multiple</p>\n",
    "<p>Multilevel</p>\n",
    "\n",
    "<p>Example for single inheritance</p>\n",
    "<p>class A:</p>\n",
    "<p>&nbsp&nbsp&nbsp&nbsp some definition</p>\n",
    "   \n",
    "<p>class B(A):</p>\n",
    "<p>&nbsp&nbsp&nbsp&nbsp pass \n",
    "   \n",
    "<p>Example for multilevel inheritance</p>\n",
    "<p>class A:</p>\n",
    "<p>&nbsp&nbsp&nbsp&nbsp some definition</p>\n",
    "   \n",
    "<p>class B(A):</p>\n",
    "<p>&nbsp&nbsp&nbsp&nbsp some definition</p>\n",
    "   \n",
    "<p>class C(B):</p>\n",
    "<p>&nbsp&nbsp&nbsp&nbsp some definition</p>\n",
    "   \n",
    "<p>Example for multiple inheritance</p>\n",
    "<p>class A:</p>\n",
    "<p>&nbsp&nbsp&nbsp&nbsp some definition</p>\n",
    "   \n",
    "<p>class C:</p>\n",
    "<p>&nbsp&nbsp&nbsp&nbsp some definition</p>\n",
    "   \n",
    "<p>class B(A,C):</p>\n",
    "<p>&nbsp&nbsp&nbsp&nbsp some defintion</p>"
   ]
  },
  {
   "cell_type": "markdown",
   "id": "37498ec9",
   "metadata": {},
   "source": [
    "Method Overriding\n",
    "When child implements the parent class method it is called method overriding\n",
    "In method overriding calling overridden method through child class instance\n",
    "will invoke the child class version only\n",
    "\n",
    "<p>class A:<p>\n",
    "<p>&nbsp&nbsp&nbsp&nbsp def printString(self):</p>\n",
    "<p>&nbsp&nbsp&nbsp&nbsp&nbsp&nbsp&nbsp&nbsp print(\"from A\")</p>\n",
    "       \n",
    "<p>class B(A):</p>\n",
    "<p>&nbsp&nbsp&nbsp&nbsp   def printString(self):</p>\n",
    "<p>&nbsp&nbsp&nbsp&nbsp&nbsp&nbsp&nbsp&nbsp print(\"from B\")</p>\n",
    "       \n",
    "<p>if __name__ == '__main__':</p>\n",
    "<p>&nbsp&nbsp&nbsp&nbsp obj = B()</p>\n",
    "<p>&nbsp&nbsp&nbsp&nbsp&nbsp&nbsp&nbsp&nbsp obj.printString() # invokes the child class method</p>\n",
    "   \n",
    "   \n",
    "<p>Using 'super' keyword to invoke parent class method in method overriding</p>\n",
    "<p>class A:<p>\n",
    "<p>&nbsp&nbsp&nbsp&nbsp def printString(self):</p>\n",
    "<p>&nbsp&nbsp&nbsp&nbsp&nbsp&nbsp&nbsp&nbsp print(\"from A\")</p>\n",
    "  \n",
    "<p>class B(A):</p>\n",
    "<p>&nbsp&nbsp&nbsp&nbsp def printString(self):</p>\n",
    "<p>&nbsp&nbsp&nbsp&nbsp&nbsp&nbsp&nbsp&nbsp super().printString() # calling parent class method from within child class\n",
    "<p>&nbsp&nbsp&nbsp&nbsp&nbsp&nbsp&nbsp&nbsp print(\"from B\")</p>\n",
    "       \n",
    "     \n",
    "<p>if __name__ == '__main__':</p>\n",
    "<p>&nbsp&nbsp&nbsp&nbsp obj = B()</p>\n",
    "<p>&nbsp&nbsp&nbsp&nbsp obj.printString() # invokes the child class method</p>"
   ]
  },
  {
   "cell_type": "code",
   "execution_count": null,
   "id": "4d4e49f8",
   "metadata": {},
   "outputs": [],
   "source": []
  }
 ],
 "metadata": {
  "kernelspec": {
   "display_name": "Python 3 (ipykernel)",
   "language": "python",
   "name": "python3"
  },
  "language_info": {
   "codemirror_mode": {
    "name": "ipython",
    "version": 3
   },
   "file_extension": ".py",
   "mimetype": "text/x-python",
   "name": "python",
   "nbconvert_exporter": "python",
   "pygments_lexer": "ipython3",
   "version": "3.7.3"
  }
 },
 "nbformat": 4,
 "nbformat_minor": 5
}
