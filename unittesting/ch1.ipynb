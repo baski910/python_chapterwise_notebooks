{
 "cells": [
  {
   "cell_type": "markdown",
   "id": "b388a033",
   "metadata": {},
   "source": [
    "<h1>Unit Testing</h1>"
   ]
  },
  {
   "cell_type": "markdown",
   "id": "dad7757d",
   "metadata": {},
   "source": [
    "<p valign=\"justify\"><b>Unit testing</b> is a method for testing software that looks at the smallest testable pieces of code, called units, which are tested for correct operation.<p>\n",
    "<p valign=\"justify\">By doing unit testing, we can verify that each part of the code, including helper functions that may not be exposed to the user, works correctly and as intended</p>\n"
   ]
  },
  {
   "cell_type": "markdown",
   "id": "7ff922c3",
   "metadata": {},
   "source": [
    "<h2>What is unit testing</h2>\n",
    "<p>A unit test is a test that checks a single component of code, usually modularized as a function, and ensures that it performs as expected.</p>\n",
    "<p>key benefit of unit tests is that they help easily isolate errors</p>\n",
    "<p>We can analyze the outputs of our unit tests to see if any component of our code has been throwing errors and start debugging from there.</p> \n",
    "<p>That’s not to say that unit testing can always help us find the bug, but it allows for a much more convenient starting point before we start looking at the integration of components</p>"
   ]
  },
  {
   "cell_type": "markdown",
   "id": "f78e4cc9",
   "metadata": {},
   "source": [
    "<p>Unit testing frameworks help automate the testing process and allow us to run multiple tests on the same function with different parameters, check for expected exceptions, and many others.</p>\n",
    "<p><b>PyUnit</b> is Python’s built-in unit testing framework and Python’s version of the corresponding JUnit testing framework for Java.</p>\n",
    "<p>To get started building a test file, we need to import the unittest library to use PyUnit:</p>\n",
    "<p>Then, we can get started writing out first unit test. Unit tests in PyUnit are structured as subclasses of the unittest.TestCase class, and we can override the runTest() method to perform our own unit tests which check conditions using different assert functions in unittest.TestCase</p>"
   ]
  },
  {
   "cell_type": "code",
   "execution_count": null,
   "id": "39f20389",
   "metadata": {},
   "outputs": [],
   "source": [
    "# Write a rectangle class \n",
    "class Rectangle:\n",
    "    def __init__(self, width, height):\n",
    "        self.width = width\n",
    "        self.height = height\n",
    " \n",
    "    def get_area(self):\n",
    "        return self.width * self.height\n",
    " \n",
    "    def set_width(self, width):\n",
    "        self.width = width\n",
    " \n",
    "    def set_height(self, height):\n",
    "        self.height = height"
   ]
  },
  {
   "cell_type": "code",
   "execution_count": null,
   "id": "b0c6a307",
   "metadata": {},
   "outputs": [],
   "source": [
    "# write unit test code\n",
    "import unittest\n",
    "\n",
    "class TestGetAreaRectangle(unittest.TestCase):\n",
    "    def runTest(self):\n",
    "        rectangle = Rectangle(2, 3)\n",
    "        self.assertEqual(rectangle.get_area(), 6, \"incorrect area\")\n",
    "if __name__ == '__main__':\n",
    "    unittest.main()"
   ]
  },
  {
   "cell_type": "markdown",
   "id": "c741db18",
   "metadata": {},
   "source": [
    "<p>That’s our first unit test! It checks if the rectangle.get_area() method returns the correct area for a rectangle with width = 2 and length = 3.</p>\n",
    "<p>We use self.assertEqual instead of simply using assert to allow the unittest library to allow the runner to accumulate all test cases and produce a report.</p>\n",
    "<p>To run the unit test, we make a call to unittest.main() in our program</p>"
   ]
  },
  {
   "cell_type": "markdown",
   "id": "1808e5d6",
   "metadata": {},
   "source": [
    "<p>We can also nest multiple unit tests together in one subclass of unittest.TestCase, by naming methods in the new subclass with the “test” prefix, for example:</p>"
   ]
  },
  {
   "cell_type": "code",
   "execution_count": null,
   "id": "a972bc96",
   "metadata": {},
   "outputs": [],
   "source": [
    "class TestGetAreaRectangle(unittest.TestCase):\n",
    "    def test_normal_case(self):\n",
    "        rectangle = Rectangle(2, 3)\n",
    "        self.assertEqual(rectangle.get_area(), 6, \"incorrect area\")\n",
    " \n",
    "    def test_negative_case(self): \n",
    "        \"\"\"expect -1 as output to denote error when looking at negative area\"\"\"\n",
    "        rectangle = Rectangle(-1, 2)\n",
    "        self.assertEqual(rectangle.get_area(), -1, \"incorrect negative output\")"
   ]
  },
  {
   "cell_type": "markdown",
   "id": "7629b679",
   "metadata": {},
   "source": [
    "<p>if we had some code that we needed to run to set up before running each test, we can override the setUp method in unittest.TestCase</p>"
   ]
  },
  {
   "cell_type": "code",
   "execution_count": null,
   "id": "6f9a089d",
   "metadata": {},
   "outputs": [],
   "source": [
    "class TestGetAreaRectangle(unittest.TestCase):\n",
    "    def setUp(self):\n",
    "        self.rectangle = Rectangle(0, 0)\n",
    " \n",
    "    def test_normal_case(self):\n",
    "        self.rectangle.set_width(2)\n",
    "        self.rectangle.set_height(3)\n",
    "        self.assertEqual(self.rectangle.get_area(), 6, \"incorrect area\")\n",
    " \n",
    "    def test_negative_case(self): \n",
    "        \"\"\"expect -1 as output to denote error when looking at negative area\"\"\"\n",
    "        self.rectangle.set_width(-1)\n",
    "        self.rectangle.set_height(2)\n",
    "        self.assertEqual(self.rectangle.get_area(), -1, \"incorrect negative output\")"
   ]
  },
  {
   "cell_type": "markdown",
   "id": "29a26e74",
   "metadata": {},
   "source": [
    "<p>In the above code example, we have overridden the setUp() method from unittest.TestCase, with our own setUp() method that initializes a Rectangle object.</p> \n",
    "<p>This setUp() method is run prior to each unit test and is helpful in avoiding code duplication when multiple tests rely on the same piece of code to set up the test</p>\n",
    "<p>Likewise, there is a tearDown() method that we can override as well for code to be executed after each test.</p>"
   ]
  },
  {
   "cell_type": "markdown",
   "id": "bce1ae95",
   "metadata": {},
   "source": [
    "<h2>Using PyTest</h2>\n",
    "<p>PyTest is an alternative to the built-in unittest module. To get started with PyTest, you will first need to install it, which you can do using:</p>\n",
    "<p>pip install pytest</p>"
   ]
  },
  {
   "cell_type": "code",
   "execution_count": null,
   "id": "bb397d8d",
   "metadata": {},
   "outputs": [],
   "source": [
    "class Rectangle:\n",
    "    def __init__(self, width, height):\n",
    "        self.width = width\n",
    "        self.height = height\n",
    " \n",
    "    def get_area(self):\n",
    "        return self.width * self.height\n",
    " \n",
    "    def set_width(self, width):\n",
    "        self.width = width\n",
    " \n",
    "    def set_height(self, height):\n",
    "        self.height = height\n",
    " \n",
    "# The test function to be executed by PyTest\n",
    "def test_normal_case():\n",
    "    rectangle = Rectangle(2, 3)\n",
    "    assert rectangle.get_area() == 6, \"incorrect area\""
   ]
  },
  {
   "cell_type": "markdown",
   "id": "17356dda",
   "metadata": {},
   "source": [
    "<p>pytest example with multiple test cases</p>"
   ]
  },
  {
   "cell_type": "code",
   "execution_count": null,
   "id": "7d70bf49",
   "metadata": {},
   "outputs": [],
   "source": [
    "import pytest\n",
    "class Rectangle:\n",
    "    def __init__(self, width, height):\n",
    "        self.width = width\n",
    "        self.height = height\n",
    " \n",
    "    def get_area(self):\n",
    "        return self.width * self.height\n",
    " \n",
    "    def set_width(self, width):\n",
    "        self.width = width\n",
    " \n",
    "    def set_height(self, height):\n",
    "        self.height = height\n",
    " \n",
    "# The test functions to be executed by PyTest\n",
    "class TestGetAreaRectangle:\n",
    "    def test_normal_case(self):\n",
    "        rectangle = Rectangle(2, 3)\n",
    "        assert rectangle.get_area() == 6, \"incorrect area\"\n",
    "    def test_negative_case(self):\n",
    "        \"\"\"expect -1 as output to denote error when looking at negative area\"\"\"\n",
    "        rectangle = Rectangle(-1, 2)\n",
    "        assert rectangle.get_area() == -1, \"incorrect negative output\""
   ]
  },
  {
   "cell_type": "markdown",
   "id": "784d5283",
   "metadata": {},
   "source": [
    "<p>fixtures are used in pytest to execute set of function/code before each test</p>\n"
   ]
  },
  {
   "cell_type": "code",
   "execution_count": null,
   "id": "532e2c9c",
   "metadata": {},
   "outputs": [],
   "source": [
    "# Our code to be tested\n",
    "class Rectangle:\n",
    "    def __init__(self, width, height):\n",
    "        self.width = width\n",
    "        self.height = height\n",
    " \n",
    "    def get_area(self):\n",
    "        return self.width * self.height\n",
    " \n",
    "    def set_width(self, width):\n",
    "        self.width = width\n",
    " \n",
    "    def set_height(self, height):\n",
    "        self.height = height\n",
    " \n",
    "@pytest.fixture\n",
    "def rectangle():\n",
    "    return Rectangle(0, 0)\n",
    " \n",
    "def test_negative_case(rectangle):\n",
    "    print (rectangle.width)\n",
    "    rectangle.set_width(-1)\n",
    "    rectangle.set_height(2)\n",
    "    assert rectangle.get_area() == -1, \"incorrect negative output\""
   ]
  }
 ],
 "metadata": {
  "kernelspec": {
   "display_name": "Python 3 (ipykernel)",
   "language": "python",
   "name": "python3"
  },
  "language_info": {
   "codemirror_mode": {
    "name": "ipython",
    "version": 3
   },
   "file_extension": ".py",
   "mimetype": "text/x-python",
   "name": "python",
   "nbconvert_exporter": "python",
   "pygments_lexer": "ipython3",
   "version": "3.7.3"
  }
 },
 "nbformat": 4,
 "nbformat_minor": 5
}
